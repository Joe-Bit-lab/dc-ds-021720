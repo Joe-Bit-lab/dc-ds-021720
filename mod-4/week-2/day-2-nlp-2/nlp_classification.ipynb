{
 "cells": [
  {
   "cell_type": "code",
<<<<<<< HEAD
   "execution_count": 5,
   "metadata": {},
   "outputs": [
    {
     "name": "stderr",
     "output_type": "stream",
     "text": [
      "/opt/anaconda3/lib/python3.7/importlib/_bootstrap.py:219: RuntimeWarning: numpy.ufunc size changed, may indicate binary incompatibility. Expected 192 from C header, got 216 from PyObject\n",
      "  return f(*args, **kwds)\n"
     ]
    }
   ],
=======
   "execution_count": 1,
   "metadata": {},
   "outputs": [],
>>>>>>> 629f0a07f2e448814334d0143074ff63853f7727
   "source": [
    "import re\n",
    "import time\n",
    "\n",
    "import numpy as np\n",
    "import pandas as pd\n",
    "import requests"
   ]
  },
  {
   "cell_type": "code",
<<<<<<< HEAD
   "execution_count": 6,
=======
   "execution_count": 3,
>>>>>>> 629f0a07f2e448814334d0143074ff63853f7727
   "metadata": {},
   "outputs": [
    {
     "name": "stdout",
     "output_type": "stream",
     "text": [
      "Requirement already satisfied: progressbar2 in /anaconda3/lib/python3.7/site-packages (3.51.0)\r\n",
      "Requirement already satisfied: python-utils>=2.3.0 in /anaconda3/lib/python3.7/site-packages (from progressbar2) (2.4.0)\r\n",
      "Requirement already satisfied: six in /anaconda3/lib/python3.7/site-packages (from progressbar2) (1.14.0)\r\n"
     ]
    }
   ],
   "source": [
    "!pip3 install progressbar2\n",
    "from progressbar import progressbar"
   ]
  },
  {
   "cell_type": "markdown",
   "metadata": {},
   "source": [
    "## Scraping"
   ]
  },
  {
   "cell_type": "markdown",
   "metadata": {},
   "source": [
    "### Scraping Functions"
   ]
  },
  {
   "cell_type": "code",
<<<<<<< HEAD
   "execution_count": 7,
=======
   "execution_count": 4,
>>>>>>> 629f0a07f2e448814334d0143074ff63853f7727
   "metadata": {},
   "outputs": [],
   "source": [
    "# function to scrape reddit page (takes a reddit .json url)\n",
    "# returns posts \n",
    "\n",
    "def scraper_bike(url):\n",
    "    headers = {'User-Agent' : 'override this bad boy!'}\n",
    "    posts = []\n",
    "    after = {}\n",
    "\n",
    "    for page in progressbar(range(40)):\n",
    "        params = {'after': after}\n",
    "        pagepull = requests.get(url=url, params=params, headers=headers)\n",
    "        page_dict = pagepull.json()\n",
    "        posts.extend(page_dict['data']['children'])\n",
    "        after = page_dict['data']['after']\n",
    "        time.sleep(.2)\n",
    "        \n",
    "    return posts"
   ]
  },
  {
   "cell_type": "code",
<<<<<<< HEAD
   "execution_count": 8,
=======
   "execution_count": 5,
>>>>>>> 629f0a07f2e448814334d0143074ff63853f7727
   "metadata": {},
   "outputs": [],
   "source": [
    "# function to convert posts to DataFrame - won't allow duplicate posts since unique id 'name' is set as index\n",
    "# Extract: name (as index) and subreddit, selftext, title (as columns)\n",
    "\n",
    "def posts_to_df(post_list):\n",
    "    i = 0\n",
    "    post_dict = {}\n",
    "    \n",
    "    for post in post_list:\n",
    "        ind = post_list[i]['data']\n",
    "        post_dict[ind['name']] = [ind['subreddit'], ind['title'], ind['selftext']]\n",
    "        i += 1\n",
    "\n",
    "    df_name = pd.DataFrame(post_dict)\n",
    "    df_name = df_name.T\n",
    "    df_name.columns = ['subreddit', 'title', 'selftext']\n",
    "    \n",
    "    return df_name"
   ]
  },
  {
   "cell_type": "code",
<<<<<<< HEAD
   "execution_count": 9,
=======
   "execution_count": 6,
>>>>>>> 629f0a07f2e448814334d0143074ff63853f7727
   "metadata": {},
   "outputs": [],
   "source": [
    "# takes scraper function and url - outputs dataframe\n",
    "\n",
    "def scrape_to_df(scrape_func, url):\n",
    "    \n",
    "    return posts_to_df(scrape_func(url))"
   ]
  },
  {
   "cell_type": "code",
<<<<<<< HEAD
   "execution_count": 10,
=======
   "execution_count": 7,
>>>>>>> 629f0a07f2e448814334d0143074ff63853f7727
   "metadata": {},
   "outputs": [],
   "source": [
    "#### If you want to scrape repeatedly over time and add to a csv\n",
    "# scrape, import csv, concat, drop duplicate, and output to csv\n",
    "# takes in scraper function, url, csv filename to import, csv filename to output\n",
    "# Outputs - Concatenated DataFrame as csv\n",
    "\n",
    "def scrape_add(scrape_func, url, import_file, export_file):\n",
    "    scrape_df = posts_to_df(scrape_func(url))\n",
    "    imported_df = pd.read_csv(import_file, index_col = 'Unnamed: 0')\n",
    "    concat_df = pd.concat([imported_df, scrape_df])\n",
    "    concat_df = concat_df[~concat_df.index.duplicated(keep='first')]\n",
    "    concat_df.to_csv(export_file)"
   ]
  },
  {
   "cell_type": "markdown",
   "metadata": {},
   "source": [
    "## Run Scrape"
   ]
  },
  {
   "cell_type": "code",
<<<<<<< HEAD
   "execution_count": 11,
=======
   "execution_count": 8,
>>>>>>> 629f0a07f2e448814334d0143074ff63853f7727
   "metadata": {},
   "outputs": [
    {
     "name": "stderr",
     "output_type": "stream",
     "text": [
      "100% (40 of 40) |########################| Elapsed Time: 0:00:22 Time:  0:00:22\n",
<<<<<<< HEAD
      "100% (40 of 40) |########################| Elapsed Time: 0:00:23 Time:  0:00:23\n"
=======
      "100% (40 of 40) |########################| Elapsed Time: 0:00:21 Time:  0:00:21\n"
>>>>>>> 629f0a07f2e448814334d0143074ff63853f7727
     ]
    }
   ],
   "source": [
    "# You can also put in any 2 subreddits in as the URL and get results for those\n",
    "\n",
    "nfltest = scrape_to_df(scraper_bike, 'https://www.reddit.com/r/nfl.json')\n",
    "nbatest = scrape_to_df(scraper_bike, 'https://www.reddit.com/r/nba.json')"
   ]
  },
  {
   "cell_type": "code",
<<<<<<< HEAD
   "execution_count": 12,
=======
   "execution_count": 9,
>>>>>>> 629f0a07f2e448814334d0143074ff63853f7727
   "metadata": {},
   "outputs": [
    {
     "name": "stderr",
     "output_type": "stream",
     "text": [
<<<<<<< HEAD
      "100% (40 of 40) |########################| Elapsed Time: 0:00:28 Time:  0:00:28\n",
      "100% (40 of 40) |########################| Elapsed Time: 0:00:22 Time:  0:00:22\n"
=======
      "100% (40 of 40) |########################| Elapsed Time: 0:00:26 Time:  0:00:26\n",
      "100% (40 of 40) |########################| Elapsed Time: 0:00:21 Time:  0:00:21\n"
>>>>>>> 629f0a07f2e448814334d0143074ff63853f7727
     ]
    }
   ],
   "source": [
    "politics_test = scrape_to_df(scraper_bike, 'https://www.reddit.com/r/politics.json')\n",
    "conservative_test = scrape_to_df(scraper_bike, 'https://www.reddit.com/r/conservative.json')"
   ]
  },
  {
   "cell_type": "code",
<<<<<<< HEAD
   "execution_count": 13,
=======
   "execution_count": 10,
>>>>>>> 629f0a07f2e448814334d0143074ff63853f7727
   "metadata": {},
   "outputs": [
    {
     "data": {
      "text/plain": [
<<<<<<< HEAD
       "(792, 3)"
      ]
     },
     "execution_count": 13,
=======
       "(788, 3)"
      ]
     },
     "execution_count": 10,
>>>>>>> 629f0a07f2e448814334d0143074ff63853f7727
     "metadata": {},
     "output_type": "execute_result"
    }
   ],
   "source": [
    "nbatest.shape"
   ]
  },
  {
   "cell_type": "code",
   "execution_count": 14,
   "metadata": {},
   "outputs": [
    {
     "data": {
<<<<<<< HEAD
      "text/plain": [
       "(909, 3)"
=======
      "text/html": [
       "<div>\n",
       "<style scoped>\n",
       "    .dataframe tbody tr th:only-of-type {\n",
       "        vertical-align: middle;\n",
       "    }\n",
       "\n",
       "    .dataframe tbody tr th {\n",
       "        vertical-align: top;\n",
       "    }\n",
       "\n",
       "    .dataframe thead th {\n",
       "        text-align: right;\n",
       "    }\n",
       "</style>\n",
       "<table border=\"1\" class=\"dataframe\">\n",
       "  <thead>\n",
       "    <tr style=\"text-align: right;\">\n",
       "      <th></th>\n",
       "      <th>subreddit</th>\n",
       "      <th>title</th>\n",
       "      <th>selftext</th>\n",
       "    </tr>\n",
       "  </thead>\n",
       "  <tbody>\n",
       "    <tr>\n",
       "      <th>t3_g93fjj</th>\n",
       "      <td>nfl</td>\n",
       "      <td>Weekend Wrapup</td>\n",
       "      <td>Welcome to today's open thread, where /r/nfl u...</td>\n",
       "    </tr>\n",
       "    <tr>\n",
       "      <th>t3_g838yy</th>\n",
       "      <td>nfl</td>\n",
       "      <td>2020 NFL Draft Day 3 Post-draft Discussion</td>\n",
       "      <td>Day 3 of the 2020 draft is over.\\n\\nWho won? W...</td>\n",
       "    </tr>\n",
       "    <tr>\n",
       "      <th>t3_g9mv77</th>\n",
       "      <td>nfl</td>\n",
       "      <td>A Baltimore doctor was almost too busy to talk...</td>\n",
       "      <td></td>\n",
       "    </tr>\n",
       "    <tr>\n",
       "      <th>t3_g9n0ef</th>\n",
       "      <td>nfl</td>\n",
       "      <td>[Feldman] Joe Burrow became the 6th QB from th...</td>\n",
       "      <td></td>\n",
       "    </tr>\n",
       "    <tr>\n",
       "      <th>t3_g9a1hs</th>\n",
       "      <td>nfl</td>\n",
       "      <td>8 years ago, the Seattle Seahawks drafted Bruc...</td>\n",
       "      <td></td>\n",
       "    </tr>\n",
       "  </tbody>\n",
       "</table>\n",
       "</div>"
      ],
      "text/plain": [
       "          subreddit                                              title  \\\n",
       "t3_g93fjj       nfl                                     Weekend Wrapup   \n",
       "t3_g838yy       nfl         2020 NFL Draft Day 3 Post-draft Discussion   \n",
       "t3_g9mv77       nfl  A Baltimore doctor was almost too busy to talk...   \n",
       "t3_g9n0ef       nfl  [Feldman] Joe Burrow became the 6th QB from th...   \n",
       "t3_g9a1hs       nfl  8 years ago, the Seattle Seahawks drafted Bruc...   \n",
       "\n",
       "                                                    selftext  \n",
       "t3_g93fjj  Welcome to today's open thread, where /r/nfl u...  \n",
       "t3_g838yy  Day 3 of the 2020 draft is over.\\n\\nWho won? W...  \n",
       "t3_g9mv77                                                     \n",
       "t3_g9n0ef                                                     \n",
       "t3_g9a1hs                                                     "
>>>>>>> 629f0a07f2e448814334d0143074ff63853f7727
      ]
     },
     "execution_count": 14,
     "metadata": {},
     "output_type": "execute_result"
    }
   ],
<<<<<<< HEAD
=======
   "source": [
    "nfltest.head()"
   ]
  },
  {
   "cell_type": "code",
   "execution_count": 11,
   "metadata": {},
   "outputs": [
    {
     "data": {
      "text/plain": [
       "(905, 3)"
      ]
     },
     "execution_count": 11,
     "metadata": {},
     "output_type": "execute_result"
    }
   ],
>>>>>>> 629f0a07f2e448814334d0143074ff63853f7727
   "source": [
    "nfltest.shape"
   ]
  },
  {
   "cell_type": "code",
   "execution_count": 15,
   "metadata": {},
   "outputs": [
    {
     "data": {
      "text/html": [
       "<div>\n",
       "<style scoped>\n",
       "    .dataframe tbody tr th:only-of-type {\n",
       "        vertical-align: middle;\n",
       "    }\n",
       "\n",
       "    .dataframe tbody tr th {\n",
       "        vertical-align: top;\n",
       "    }\n",
       "\n",
       "    .dataframe thead th {\n",
       "        text-align: right;\n",
       "    }\n",
       "</style>\n",
       "<table border=\"1\" class=\"dataframe\">\n",
       "  <thead>\n",
       "    <tr style=\"text-align: right;\">\n",
       "      <th></th>\n",
       "      <th>subreddit</th>\n",
       "      <th>title</th>\n",
       "      <th>selftext</th>\n",
       "    </tr>\n",
       "  </thead>\n",
       "  <tbody>\n",
       "    <tr>\n",
       "      <td>t3_g3h9mj</td>\n",
       "      <td>nba</td>\n",
       "      <td>The Last Dance - Episode Discussion Hub</td>\n",
       "      <td>This thread contains links to all of the episo...</td>\n",
       "    </tr>\n",
       "    <tr>\n",
       "      <td>t3_g9epdg</td>\n",
       "      <td>nba</td>\n",
       "      <td>Daily Discussion Thread | Free-Talk and Other ...</td>\n",
       "      <td>Talk about whatever is on your mind, basketbal...</td>\n",
       "    </tr>\n",
       "    <tr>\n",
       "      <td>t3_g9op3p</td>\n",
       "      <td>nba</td>\n",
       "      <td>It's truly insane that Russell Westbrook avera...</td>\n",
       "      <td>2016-17: \\n\\n- 31.6 ppg\\n- 10.4 apg\\n- 10.7 rp...</td>\n",
       "    </tr>\n",
       "    <tr>\n",
       "      <td>t3_g9cczq</td>\n",
       "      <td>nba</td>\n",
       "      <td>[Rovell] Confirmed that the Los Angeles Lakers...</td>\n",
       "      <td></td>\n",
       "    </tr>\n",
       "    <tr>\n",
       "      <td>t3_g9kgoc</td>\n",
       "      <td>nba</td>\n",
       "      <td>If a Timerwolves vs Cleveland game was on toni...</td>\n",
       "      <td>I would watch the whole damn thing. Every excr...</td>\n",
       "    </tr>\n",
       "  </tbody>\n",
       "</table>\n",
       "</div>"
      ],
      "text/plain": [
       "          subreddit                                              title  \\\n",
       "t3_g3h9mj       nba            The Last Dance - Episode Discussion Hub   \n",
       "t3_g9epdg       nba  Daily Discussion Thread | Free-Talk and Other ...   \n",
       "t3_g9op3p       nba  It's truly insane that Russell Westbrook avera...   \n",
       "t3_g9cczq       nba  [Rovell] Confirmed that the Los Angeles Lakers...   \n",
       "t3_g9kgoc       nba  If a Timerwolves vs Cleveland game was on toni...   \n",
       "\n",
       "                                                    selftext  \n",
       "t3_g3h9mj  This thread contains links to all of the episo...  \n",
       "t3_g9epdg  Talk about whatever is on your mind, basketbal...  \n",
       "t3_g9op3p  2016-17: \\n\\n- 31.6 ppg\\n- 10.4 apg\\n- 10.7 rp...  \n",
       "t3_g9cczq                                                     \n",
       "t3_g9kgoc  I would watch the whole damn thing. Every excr...  "
      ]
     },
     "execution_count": 15,
     "metadata": {},
     "output_type": "execute_result"
    }
   ],
   "source": [
    "nbatest.head()"
   ]
  },
  {
   "cell_type": "markdown",
   "metadata": {},
   "source": [
    "##### These scrape_add functions add to already built csvs"
   ]
  },
  {
   "cell_type": "code",
<<<<<<< HEAD
   "execution_count": 16,
=======
   "execution_count": 15,
>>>>>>> 629f0a07f2e448814334d0143074ff63853f7727
   "metadata": {},
   "outputs": [],
   "source": [
    "# scrape_add(scraper_bike, 'https://www.reddit.com/r/CollegeBasketball/new.json', 'NCAA_Posts_Update2.csv', 'NCAA_Posts_Update3.csv')\n",
    "# scrape_add(scraper_bike, 'https://www.reddit.com/r/AskScience/new.json', 'AskSci_Posts_Update2.csv', 'AskSci_Posts_Update3.csv')\n",
    "# scrape_add(scraper_bike, 'https://www.reddit.com/r/nba/new.json', 'NBA_Posts_Update2.csv', 'NBA_Posts_Update3.csv')\n",
    "# scrape_add(scraper_bike, 'https://www.reddit.com/r/nfl/new.json', 'NFL_Posts_Update2.csv', 'NFL_Posts_Update3.csv')"
   ]
  },
  {
   "cell_type": "markdown",
   "metadata": {},
   "source": [
    "### Data Cleaning / Preprocessing"
   ]
  },
  {
   "cell_type": "code",
<<<<<<< HEAD
   "execution_count": 17,
=======
   "execution_count": 82,
>>>>>>> 629f0a07f2e448814334d0143074ff63853f7727
   "metadata": {},
   "outputs": [
    {
     "name": "stderr",
     "output_type": "stream",
     "text": [
      "/opt/anaconda3/lib/python3.7/importlib/_bootstrap.py:219: RuntimeWarning: numpy.ufunc size changed, may indicate binary incompatibility. Expected 192 from C header, got 216 from PyObject\n",
      "  return f(*args, **kwds)\n"
     ]
    }
   ],
   "source": [
    "import nltk\n",
    "from nltk.stem import WordNetLemmatizer\n",
    "from nltk.tokenize import RegexpTokenizer, sent_tokenize, word_tokenize, TweetTokenizer\n",
    "from nltk.corpus import stopwords\n",
    "from sklearn.feature_extraction.text import CountVectorizer, TfidfVectorizer\n",
    "\n",
    "pd.set_option('max_colwidth', 300)"
   ]
  },
  {
   "cell_type": "code",
<<<<<<< HEAD
   "execution_count": 18,
=======
   "execution_count": 53,
>>>>>>> 629f0a07f2e448814334d0143074ff63853f7727
   "metadata": {},
   "outputs": [
    {
     "ename": "KeyError",
     "evalue": "\"['selftext'] not found in axis\"",
     "output_type": "error",
     "traceback": [
      "\u001b[0;31m---------------------------------------------------------------------------\u001b[0m",
      "\u001b[0;31mKeyError\u001b[0m                                  Traceback (most recent call last)",
      "\u001b[0;32m<ipython-input-53-e8d5be5c771e>\u001b[0m in \u001b[0;36m<module>\u001b[0;34m\u001b[0m\n\u001b[1;32m      1\u001b[0m \u001b[0;31m# drop column\u001b[0m\u001b[0;34m\u001b[0m\u001b[0;34m\u001b[0m\u001b[0;34m\u001b[0m\u001b[0m\n\u001b[1;32m      2\u001b[0m \u001b[0;34m\u001b[0m\u001b[0m\n\u001b[0;32m----> 3\u001b[0;31m \u001b[0mnfltest\u001b[0m \u001b[0;34m=\u001b[0m \u001b[0mnfltest\u001b[0m\u001b[0;34m.\u001b[0m\u001b[0mdrop\u001b[0m\u001b[0;34m(\u001b[0m\u001b[0mcolumns\u001b[0m \u001b[0;34m=\u001b[0m \u001b[0;34m'selftext'\u001b[0m\u001b[0;34m)\u001b[0m\u001b[0;34m\u001b[0m\u001b[0;34m\u001b[0m\u001b[0m\n\u001b[0m\u001b[1;32m      4\u001b[0m \u001b[0mnbatest\u001b[0m \u001b[0;34m=\u001b[0m \u001b[0mnbatest\u001b[0m\u001b[0;34m.\u001b[0m\u001b[0mdrop\u001b[0m\u001b[0;34m(\u001b[0m\u001b[0mcolumns\u001b[0m \u001b[0;34m=\u001b[0m \u001b[0;34m'selftext'\u001b[0m\u001b[0;34m)\u001b[0m\u001b[0;34m\u001b[0m\u001b[0;34m\u001b[0m\u001b[0m\n",
      "\u001b[0;32m//anaconda3/lib/python3.7/site-packages/pandas/core/frame.py\u001b[0m in \u001b[0;36mdrop\u001b[0;34m(self, labels, axis, index, columns, level, inplace, errors)\u001b[0m\n\u001b[1;32m   3995\u001b[0m             \u001b[0mlevel\u001b[0m\u001b[0;34m=\u001b[0m\u001b[0mlevel\u001b[0m\u001b[0;34m,\u001b[0m\u001b[0;34m\u001b[0m\u001b[0;34m\u001b[0m\u001b[0m\n\u001b[1;32m   3996\u001b[0m             \u001b[0minplace\u001b[0m\u001b[0;34m=\u001b[0m\u001b[0minplace\u001b[0m\u001b[0;34m,\u001b[0m\u001b[0;34m\u001b[0m\u001b[0;34m\u001b[0m\u001b[0m\n\u001b[0;32m-> 3997\u001b[0;31m             \u001b[0merrors\u001b[0m\u001b[0;34m=\u001b[0m\u001b[0merrors\u001b[0m\u001b[0;34m,\u001b[0m\u001b[0;34m\u001b[0m\u001b[0;34m\u001b[0m\u001b[0m\n\u001b[0m\u001b[1;32m   3998\u001b[0m         )\n\u001b[1;32m   3999\u001b[0m \u001b[0;34m\u001b[0m\u001b[0m\n",
      "\u001b[0;32m//anaconda3/lib/python3.7/site-packages/pandas/core/generic.py\u001b[0m in \u001b[0;36mdrop\u001b[0;34m(self, labels, axis, index, columns, level, inplace, errors)\u001b[0m\n\u001b[1;32m   3934\u001b[0m         \u001b[0;32mfor\u001b[0m \u001b[0maxis\u001b[0m\u001b[0;34m,\u001b[0m \u001b[0mlabels\u001b[0m \u001b[0;32min\u001b[0m \u001b[0maxes\u001b[0m\u001b[0;34m.\u001b[0m\u001b[0mitems\u001b[0m\u001b[0;34m(\u001b[0m\u001b[0;34m)\u001b[0m\u001b[0;34m:\u001b[0m\u001b[0;34m\u001b[0m\u001b[0;34m\u001b[0m\u001b[0m\n\u001b[1;32m   3935\u001b[0m             \u001b[0;32mif\u001b[0m \u001b[0mlabels\u001b[0m \u001b[0;32mis\u001b[0m \u001b[0;32mnot\u001b[0m \u001b[0;32mNone\u001b[0m\u001b[0;34m:\u001b[0m\u001b[0;34m\u001b[0m\u001b[0;34m\u001b[0m\u001b[0m\n\u001b[0;32m-> 3936\u001b[0;31m                 \u001b[0mobj\u001b[0m \u001b[0;34m=\u001b[0m \u001b[0mobj\u001b[0m\u001b[0;34m.\u001b[0m\u001b[0m_drop_axis\u001b[0m\u001b[0;34m(\u001b[0m\u001b[0mlabels\u001b[0m\u001b[0;34m,\u001b[0m \u001b[0maxis\u001b[0m\u001b[0;34m,\u001b[0m \u001b[0mlevel\u001b[0m\u001b[0;34m=\u001b[0m\u001b[0mlevel\u001b[0m\u001b[0;34m,\u001b[0m \u001b[0merrors\u001b[0m\u001b[0;34m=\u001b[0m\u001b[0merrors\u001b[0m\u001b[0;34m)\u001b[0m\u001b[0;34m\u001b[0m\u001b[0;34m\u001b[0m\u001b[0m\n\u001b[0m\u001b[1;32m   3937\u001b[0m \u001b[0;34m\u001b[0m\u001b[0m\n\u001b[1;32m   3938\u001b[0m         \u001b[0;32mif\u001b[0m \u001b[0minplace\u001b[0m\u001b[0;34m:\u001b[0m\u001b[0;34m\u001b[0m\u001b[0;34m\u001b[0m\u001b[0m\n",
      "\u001b[0;32m//anaconda3/lib/python3.7/site-packages/pandas/core/generic.py\u001b[0m in \u001b[0;36m_drop_axis\u001b[0;34m(self, labels, axis, level, errors)\u001b[0m\n\u001b[1;32m   3968\u001b[0m                 \u001b[0mnew_axis\u001b[0m \u001b[0;34m=\u001b[0m \u001b[0maxis\u001b[0m\u001b[0;34m.\u001b[0m\u001b[0mdrop\u001b[0m\u001b[0;34m(\u001b[0m\u001b[0mlabels\u001b[0m\u001b[0;34m,\u001b[0m \u001b[0mlevel\u001b[0m\u001b[0;34m=\u001b[0m\u001b[0mlevel\u001b[0m\u001b[0;34m,\u001b[0m \u001b[0merrors\u001b[0m\u001b[0;34m=\u001b[0m\u001b[0merrors\u001b[0m\u001b[0;34m)\u001b[0m\u001b[0;34m\u001b[0m\u001b[0;34m\u001b[0m\u001b[0m\n\u001b[1;32m   3969\u001b[0m             \u001b[0;32melse\u001b[0m\u001b[0;34m:\u001b[0m\u001b[0;34m\u001b[0m\u001b[0;34m\u001b[0m\u001b[0m\n\u001b[0;32m-> 3970\u001b[0;31m                 \u001b[0mnew_axis\u001b[0m \u001b[0;34m=\u001b[0m \u001b[0maxis\u001b[0m\u001b[0;34m.\u001b[0m\u001b[0mdrop\u001b[0m\u001b[0;34m(\u001b[0m\u001b[0mlabels\u001b[0m\u001b[0;34m,\u001b[0m \u001b[0merrors\u001b[0m\u001b[0;34m=\u001b[0m\u001b[0merrors\u001b[0m\u001b[0;34m)\u001b[0m\u001b[0;34m\u001b[0m\u001b[0;34m\u001b[0m\u001b[0m\n\u001b[0m\u001b[1;32m   3971\u001b[0m             \u001b[0mresult\u001b[0m \u001b[0;34m=\u001b[0m \u001b[0mself\u001b[0m\u001b[0;34m.\u001b[0m\u001b[0mreindex\u001b[0m\u001b[0;34m(\u001b[0m\u001b[0;34m**\u001b[0m\u001b[0;34m{\u001b[0m\u001b[0maxis_name\u001b[0m\u001b[0;34m:\u001b[0m \u001b[0mnew_axis\u001b[0m\u001b[0;34m}\u001b[0m\u001b[0;34m)\u001b[0m\u001b[0;34m\u001b[0m\u001b[0;34m\u001b[0m\u001b[0m\n\u001b[1;32m   3972\u001b[0m \u001b[0;34m\u001b[0m\u001b[0m\n",
      "\u001b[0;32m//anaconda3/lib/python3.7/site-packages/pandas/core/indexes/base.py\u001b[0m in \u001b[0;36mdrop\u001b[0;34m(self, labels, errors)\u001b[0m\n\u001b[1;32m   5015\u001b[0m         \u001b[0;32mif\u001b[0m \u001b[0mmask\u001b[0m\u001b[0;34m.\u001b[0m\u001b[0many\u001b[0m\u001b[0;34m(\u001b[0m\u001b[0;34m)\u001b[0m\u001b[0;34m:\u001b[0m\u001b[0;34m\u001b[0m\u001b[0;34m\u001b[0m\u001b[0m\n\u001b[1;32m   5016\u001b[0m             \u001b[0;32mif\u001b[0m \u001b[0merrors\u001b[0m \u001b[0;34m!=\u001b[0m \u001b[0;34m\"ignore\"\u001b[0m\u001b[0;34m:\u001b[0m\u001b[0;34m\u001b[0m\u001b[0;34m\u001b[0m\u001b[0m\n\u001b[0;32m-> 5017\u001b[0;31m                 \u001b[0;32mraise\u001b[0m \u001b[0mKeyError\u001b[0m\u001b[0;34m(\u001b[0m\u001b[0;34mf\"{labels[mask]} not found in axis\"\u001b[0m\u001b[0;34m)\u001b[0m\u001b[0;34m\u001b[0m\u001b[0;34m\u001b[0m\u001b[0m\n\u001b[0m\u001b[1;32m   5018\u001b[0m             \u001b[0mindexer\u001b[0m \u001b[0;34m=\u001b[0m \u001b[0mindexer\u001b[0m\u001b[0;34m[\u001b[0m\u001b[0;34m~\u001b[0m\u001b[0mmask\u001b[0m\u001b[0;34m]\u001b[0m\u001b[0;34m\u001b[0m\u001b[0;34m\u001b[0m\u001b[0m\n\u001b[1;32m   5019\u001b[0m         \u001b[0;32mreturn\u001b[0m \u001b[0mself\u001b[0m\u001b[0;34m.\u001b[0m\u001b[0mdelete\u001b[0m\u001b[0;34m(\u001b[0m\u001b[0mindexer\u001b[0m\u001b[0;34m)\u001b[0m\u001b[0;34m\u001b[0m\u001b[0;34m\u001b[0m\u001b[0m\n",
      "\u001b[0;31mKeyError\u001b[0m: \"['selftext'] not found in axis\""
     ]
    }
   ],
   "source": [
    "# drop column\n",
    "\n",
    "nfltest = nfltest.drop(columns = 'selftext')\n",
    "nbatest = nbatest.drop(columns = 'selftext')"
   ]
  },
  {
   "cell_type": "code",
<<<<<<< HEAD
   "execution_count": 19,
=======
   "execution_count": 83,
>>>>>>> 629f0a07f2e448814334d0143074ff63853f7727
   "metadata": {},
   "outputs": [],
   "source": [
    "# merge subreddit data\n",
    "\n",
    "train = pd.concat([nfltest, nbatest])"
   ]
  },
  {
   "cell_type": "code",
<<<<<<< HEAD
   "execution_count": 20,
=======
   "execution_count": 84,
>>>>>>> 629f0a07f2e448814334d0143074ff63853f7727
   "metadata": {},
   "outputs": [
    {
     "data": {
      "text/html": [
       "<div>\n",
       "<style scoped>\n",
       "    .dataframe tbody tr th:only-of-type {\n",
       "        vertical-align: middle;\n",
       "    }\n",
       "\n",
       "    .dataframe tbody tr th {\n",
       "        vertical-align: top;\n",
       "    }\n",
       "\n",
       "    .dataframe thead th {\n",
       "        text-align: right;\n",
       "    }\n",
       "</style>\n",
       "<table border=\"1\" class=\"dataframe\">\n",
       "  <thead>\n",
       "    <tr style=\"text-align: right;\">\n",
       "      <th></th>\n",
       "      <th>subreddit</th>\n",
       "      <th>title</th>\n",
       "    </tr>\n",
       "  </thead>\n",
       "  <tbody>\n",
       "    <tr>\n",
<<<<<<< HEAD
       "      <td>t3_g9puf3</td>\n",
       "      <td>nfl</td>\n",
       "      <td>Talko Tuesday</td>\n",
       "    </tr>\n",
       "    <tr>\n",
       "      <td>t3_g838yy</td>\n",
=======
       "      <th>t3_g93fjj</th>\n",
       "      <td>nfl</td>\n",
       "      <td>Weekend Wrapup</td>\n",
       "    </tr>\n",
       "    <tr>\n",
       "      <th>t3_g838yy</th>\n",
>>>>>>> 629f0a07f2e448814334d0143074ff63853f7727
       "      <td>nfl</td>\n",
       "      <td>2020 NFL Draft Day 3 Post-draft Discussion</td>\n",
       "    </tr>\n",
       "    <tr>\n",
<<<<<<< HEAD
       "      <td>t3_g9mv77</td>\n",
=======
       "      <th>t3_g9mv77</th>\n",
>>>>>>> 629f0a07f2e448814334d0143074ff63853f7727
       "      <td>nfl</td>\n",
       "      <td>A Baltimore doctor was almost too busy to talk on the phone. It was Roger Goodell, calling with Super Bowl tickets.</td>\n",
       "    </tr>\n",
       "    <tr>\n",
<<<<<<< HEAD
       "      <td>t3_g9n0ef</td>\n",
=======
       "      <th>t3_g9n0ef</th>\n",
>>>>>>> 629f0a07f2e448814334d0143074ff63853f7727
       "      <td>nfl</td>\n",
       "      <td>[Feldman] Joe Burrow became the 6th QB from the 2015 QB recruiting class to become a first rounder and the fifth to go Top 10 (Burrow, Kyler, Daniel Jones, Sam Darnold, Josh Rosen).. Lamar was the sixth first-rounder. That’s a ridiculously deep group.</td>\n",
       "    </tr>\n",
       "    <tr>\n",
<<<<<<< HEAD
       "      <td>t3_g9o85f</td>\n",
       "      <td>nfl</td>\n",
       "      <td>[Rapoport] The #Ravens beefed up their O-line with some veteran experience, agreeing to terms with former #Seahawks OL DJ Fluker, source said. The deal is pending the physical for the one-time first-round pick.</td>\n",
       "    </tr>\n",
       "    <tr>\n",
       "      <td>...</td>\n",
=======
       "      <th>t3_g9a1hs</th>\n",
       "      <td>nfl</td>\n",
       "      <td>8 years ago, the Seattle Seahawks drafted Bruce Irvin, Bobby Wagner, and Russell Wilson. And received a D from Bleacher Report</td>\n",
       "    </tr>\n",
       "    <tr>\n",
       "      <th>...</th>\n",
>>>>>>> 629f0a07f2e448814334d0143074ff63853f7727
       "      <td>...</td>\n",
       "      <td>...</td>\n",
       "    </tr>\n",
       "    <tr>\n",
<<<<<<< HEAD
       "      <td>t3_g82kix</td>\n",
       "      <td>nba</td>\n",
       "      <td>Warriors KD-Steph situation in a nutshell</td>\n",
       "    </tr>\n",
       "    <tr>\n",
       "      <td>t3_g7q5hs</td>\n",
       "      <td>nba</td>\n",
       "      <td>Warriors or Heat big 3...</td>\n",
       "    </tr>\n",
       "    <tr>\n",
       "      <td>t3_g85lfp</td>\n",
       "      <td>nba</td>\n",
       "      <td>The 2016 Warriors and illegal screens.</td>\n",
       "    </tr>\n",
       "    <tr>\n",
       "      <td>t3_g76bwg</td>\n",
       "      <td>nba</td>\n",
       "      <td>\"UnforgettaBulls\" - Before \"The Last Dance\", there already was a documentary going behind-the-scenes of the 1998 Bulls final run</td>\n",
       "    </tr>\n",
       "    <tr>\n",
       "      <td>t3_g7g46l</td>\n",
       "      <td>nba</td>\n",
       "      <td>Why did the Cavs trade 2 first round picks and 5 second round picks in order to get Timofey Mozgov?</td>\n",
       "    </tr>\n",
       "  </tbody>\n",
       "</table>\n",
       "<p>1701 rows × 2 columns</p>\n",
=======
       "      <th>t3_g85k8o</th>\n",
       "      <td>nba</td>\n",
       "      <td>Who’s career is better, Charles Barkley or Draymond Green?</td>\n",
       "    </tr>\n",
       "    <tr>\n",
       "      <th>t3_g7m8bq</th>\n",
       "      <td>nba</td>\n",
       "      <td>AK47 is no match for a cannonball</td>\n",
       "    </tr>\n",
       "    <tr>\n",
       "      <th>t3_g6wjl5</th>\n",
       "      <td>nba</td>\n",
       "      <td>[Game Thread] Denver Nuggets (31-26) @ Milwaukee Bucks (32-24), Feb 15, 2018</td>\n",
       "    </tr>\n",
       "    <tr>\n",
       "      <th>t3_g7ivxs</th>\n",
       "      <td>nba</td>\n",
       "      <td>Best Team of Each Franchise to Never Win it All</td>\n",
       "    </tr>\n",
       "    <tr>\n",
       "      <th>t3_g760iv</th>\n",
       "      <td>nba</td>\n",
       "      <td>International Fans: Which team do you support and why?</td>\n",
       "    </tr>\n",
       "  </tbody>\n",
       "</table>\n",
       "<p>1693 rows × 2 columns</p>\n",
>>>>>>> 629f0a07f2e448814334d0143074ff63853f7727
       "</div>"
      ],
      "text/plain": [
       "          subreddit  \\\n",
<<<<<<< HEAD
       "t3_g9puf3       nfl   \n",
       "t3_g838yy       nfl   \n",
       "t3_g9mv77       nfl   \n",
       "t3_g9n0ef       nfl   \n",
       "t3_g9o85f       nfl   \n",
       "...             ...   \n",
       "t3_g82kix       nba   \n",
       "t3_g7q5hs       nba   \n",
       "t3_g85lfp       nba   \n",
       "t3_g76bwg       nba   \n",
       "t3_g7g46l       nba   \n",
       "\n",
       "                                                                                                                                                                                                                                                                 title  \n",
       "t3_g9puf3                                                                                                                                                                                                                                                Talko Tuesday  \n",
       "t3_g838yy                                                                                                                                                                                                                   2020 NFL Draft Day 3 Post-draft Discussion  \n",
       "t3_g9mv77                                                                                                                                          A Baltimore doctor was almost too busy to talk on the phone. It was Roger Goodell, calling with Super Bowl tickets.  \n",
       "t3_g9n0ef  [Feldman] Joe Burrow became the 6th QB from the 2015 QB recruiting class to become a first rounder and the fifth to go Top 10 (Burrow, Kyler, Daniel Jones, Sam Darnold, Josh Rosen).. Lamar was the sixth first-rounder. That’s a ridiculously deep group.  \n",
       "t3_g9o85f                                           [Rapoport] The #Ravens beefed up their O-line with some veteran experience, agreeing to terms with former #Seahawks OL DJ Fluker, source said. The deal is pending the physical for the one-time first-round pick.  \n",
       "...                                                                                                                                                                                                                                                                ...  \n",
       "t3_g82kix                                                                                                                                                                                                                    Warriors KD-Steph situation in a nutshell  \n",
       "t3_g7q5hs                                                                                                                                                                                                                                    Warriors or Heat big 3...  \n",
       "t3_g85lfp                                                                                                                                                                                                                       The 2016 Warriors and illegal screens.  \n",
       "t3_g76bwg                                                                                                                             \"UnforgettaBulls\" - Before \"The Last Dance\", there already was a documentary going behind-the-scenes of the 1998 Bulls final run  \n",
       "t3_g7g46l                                                                                                                                                          Why did the Cavs trade 2 first round picks and 5 second round picks in order to get Timofey Mozgov?  \n",
       "\n",
       "[1701 rows x 2 columns]"
      ]
     },
     "execution_count": 20,
=======
       "t3_g93fjj       nfl   \n",
       "t3_g838yy       nfl   \n",
       "t3_g9mv77       nfl   \n",
       "t3_g9n0ef       nfl   \n",
       "t3_g9a1hs       nfl   \n",
       "...             ...   \n",
       "t3_g85k8o       nba   \n",
       "t3_g7m8bq       nba   \n",
       "t3_g6wjl5       nba   \n",
       "t3_g7ivxs       nba   \n",
       "t3_g760iv       nba   \n",
       "\n",
       "                                                                                                                                                                                                                                                                 title  \n",
       "t3_g93fjj                                                                                                                                                                                                                                               Weekend Wrapup  \n",
       "t3_g838yy                                                                                                                                                                                                                   2020 NFL Draft Day 3 Post-draft Discussion  \n",
       "t3_g9mv77                                                                                                                                          A Baltimore doctor was almost too busy to talk on the phone. It was Roger Goodell, calling with Super Bowl tickets.  \n",
       "t3_g9n0ef  [Feldman] Joe Burrow became the 6th QB from the 2015 QB recruiting class to become a first rounder and the fifth to go Top 10 (Burrow, Kyler, Daniel Jones, Sam Darnold, Josh Rosen).. Lamar was the sixth first-rounder. That’s a ridiculously deep group.  \n",
       "t3_g9a1hs                                                                                                                               8 years ago, the Seattle Seahawks drafted Bruce Irvin, Bobby Wagner, and Russell Wilson. And received a D from Bleacher Report  \n",
       "...                                                                                                                                                                                                                                                                ...  \n",
       "t3_g85k8o                                                                                                                                                                                                   Who’s career is better, Charles Barkley or Draymond Green?  \n",
       "t3_g7m8bq                                                                                                                                                                                                                            AK47 is no match for a cannonball  \n",
       "t3_g6wjl5                                                                                                                                                                                 [Game Thread] Denver Nuggets (31-26) @ Milwaukee Bucks (32-24), Feb 15, 2018  \n",
       "t3_g7ivxs                                                                                                                                                                                                              Best Team of Each Franchise to Never Win it All  \n",
       "t3_g760iv                                                                                                                                                                                                       International Fans: Which team do you support and why?  \n",
       "\n",
       "[1693 rows x 2 columns]"
      ]
     },
     "execution_count": 84,
>>>>>>> 629f0a07f2e448814334d0143074ff63853f7727
     "metadata": {},
     "output_type": "execute_result"
    }
   ],
   "source": [
    "train"
   ]
  },
  {
   "cell_type": "markdown",
   "metadata": {},
   "source": [
    "##### Tokenize (grab only word characters)"
   ]
  },
  {
   "cell_type": "code",
<<<<<<< HEAD
   "execution_count": 21,
=======
   "execution_count": 89,
>>>>>>> 629f0a07f2e448814334d0143074ff63853f7727
   "metadata": {},
   "outputs": [],
   "source": [
    "from nltk import RegexpTokenizer"
   ]
  },
  {
   "cell_type": "code",
<<<<<<< HEAD
   "execution_count": 22,
   "metadata": {},
   "outputs": [],
   "source": [
    "word_tokenizer = RegexpTokenizer(r'\\w+')"
=======
   "execution_count": 68,
   "metadata": {},
   "outputs": [
    {
     "name": "stdout",
     "output_type": "stream",
     "text": [
      "Hello\\nWorld\n",
      "Hello\n",
      "World\n"
     ]
    }
   ],
   "source": [
    "print(r'Hello\\nWorld')\n",
    "print('Hello\\nWorld')"
   ]
  },
  {
   "cell_type": "markdown",
   "metadata": {},
   "source": [
    "Word tokenize"
   ]
  },
  {
   "cell_type": "code",
   "execution_count": 90,
   "metadata": {},
   "outputs": [],
   "source": [
    "train = pd.concat([nfltest, nbatest])\n",
    "train['title'] = train['title'].map(lambda x: word_tokenizer.tokenize(x.lower()))"
>>>>>>> 629f0a07f2e448814334d0143074ff63853f7727
   ]
  },
  {
   "cell_type": "code",
<<<<<<< HEAD
   "execution_count": 23,
   "metadata": {},
   "outputs": [],
   "source": [
    "train['title'] = train['title'].map(lambda x: word_tokenizer.tokenize(x))"
=======
   "execution_count": 91,
   "metadata": {},
   "outputs": [
    {
     "data": {
      "text/plain": [
       "t3_g93fjj                                                                                                                                                                                                                                                                                [weekend, wrapup]\n",
       "t3_g838yy                                                                                                                                                                                                                                              [2020, nfl, draft, day, 3, post, draft, discussion]\n",
       "t3_g9mv77                                                                                                                                                           [a, baltimore, doctor, was, almost, too, busy, to, talk, on, the, phone, it, was, roger, goodell, calling, with, super, bowl, tickets]\n",
       "t3_g9n0ef    [feldman, joe, burrow, became, the, 6th, qb, from, the, 2015, qb, recruiting, class, to, become, a, first, rounder, and, the, fifth, to, go, top, 10, burrow, kyler, daniel, jones, sam, darnold, josh, rosen, lamar, was, the, sixth, first, rounder, that, s, a, ridiculously, deep, group]\n",
       "t3_g9a1hs                                                                                                                                                 [8, years, ago, the, seattle, seahawks, drafted, bruce, irvin, bobby, wagner, and, russell, wilson, and, received, a, d, from, bleacher, report]\n",
       "Name: title, dtype: object"
      ]
     },
     "execution_count": 91,
     "metadata": {},
     "output_type": "execute_result"
    }
   ],
   "source": [
    "train['title'][0:5]"
   ]
  },
  {
   "cell_type": "markdown",
   "metadata": {},
   "source": [
    "With TweetTokenizer"
   ]
  },
  {
   "cell_type": "code",
   "execution_count": 78,
   "metadata": {},
   "outputs": [],
   "source": [
    "tknzr = TweetTokenizer()"
>>>>>>> 629f0a07f2e448814334d0143074ff63853f7727
   ]
  },
  {
   "cell_type": "code",
<<<<<<< HEAD
   "execution_count": 24,
   "metadata": {},
   "outputs": [],
   "source": [
    "# rejoin list of tokenized words into single string for each row\n",
    "\n",
    "train['title'] = train['title'].map(lambda x: ' '.join(x))"
=======
   "execution_count": 79,
   "metadata": {},
   "outputs": [],
   "source": [
    "train['title'] = train['title'].map(lambda x: tknzr.tokenize(x.lower()))"
>>>>>>> 629f0a07f2e448814334d0143074ff63853f7727
   ]
  },
  {
   "cell_type": "code",
<<<<<<< HEAD
   "execution_count": 25,
=======
   "execution_count": 80,
   "metadata": {},
   "outputs": [
    {
     "data": {
      "text/plain": [
       "t3_g93fjj                                                                                                                                                                                                                                                                                              [weekend, wrapup]\n",
       "t3_g838yy                                                                                                                                                                                                                                                             [2020, nfl, draft, day, 3, post-draft, discussion]\n",
       "t3_g9mv77                                                                                                                                                                [a, baltimore, doctor, was, almost, too, busy, to, talk, on, the, phone, ., it, was, roger, goodell, ,, calling, with, super, bowl, tickets, .]\n",
       "t3_g9n0ef    [[, feldman, ], joe, burrow, became, the, 6th, qb, from, the, 2015, qb, recruiting, class, to, become, a, first, rounder, and, the, fifth, to, go, top, 10, (, burrow, ,, kyler, ,, daniel, jones, ,, sam, darnold, ,, josh, rosen, ), .., lamar, was, the, sixth, first-rounder, ., that, ’, s, a, ridi...\n",
       "t3_g9a1hs                                                                                                                                                   [8, years, ago, ,, the, seattle, seahawks, drafted, bruce, irvin, ,, bobby, wagner, ,, and, russell, wilson, ., and, received, a, d, from, bleacher, report]\n",
       "                                                                                                                                                                ...                                                                                                                                                     \n",
       "t3_g85k8o                                                                                                                                                                                                                                   [who, ’, s, career, is, better, ,, charles, barkley, or, draymond, green, ?]\n",
       "t3_g7m8bq                                                                                                                                                                                                                                                                      [ak47, is, no, match, for, a, cannonball]\n",
       "t3_g6wjl5                                                                                                                                                                                                      [[, game, thread, ], denver, nuggets, (, 31-26, ), @, milwaukee, bucks, (, 32-24, ), ,, feb, 15, ,, 2018]\n",
       "t3_g7ivxs                                                                                                                                                                                                                                                     [best, team, of, each, franchise, to, never, win, it, all]\n",
       "t3_g760iv                                                                                                                                                                                                                                           [international, fans, :, which, team, do, you, support, and, why, ?]\n",
       "Name: title, Length: 1693, dtype: object"
      ]
     },
     "execution_count": 80,
     "metadata": {},
     "output_type": "execute_result"
    }
   ],
   "source": [
    "train['title']"
   ]
  },
  {
   "cell_type": "code",
   "execution_count": 94,
>>>>>>> 629f0a07f2e448814334d0143074ff63853f7727
   "metadata": {},
   "outputs": [
    {
     "data": {
      "text/plain": [
       "t3_g9puf3                                                                                                                                                                                                                                      Talko Tuesday\n",
       "t3_g838yy                                                                                                                                                                                                         2020 NFL Draft Day 3 Post draft Discussion\n",
       "t3_g9mv77                                                                                                                                   A Baltimore doctor was almost too busy to talk on the phone It was Roger Goodell calling with Super Bowl tickets\n",
       "t3_g9n0ef    Feldman Joe Burrow became the 6th QB from the 2015 QB recruiting class to become a first rounder and the fifth to go Top 10 Burrow Kyler Daniel Jones Sam Darnold Josh Rosen Lamar was the sixth first rounder That s a ridiculously deep group\n",
       "t3_g9o85f                                         Rapoport The Ravens beefed up their O line with some veteran experience agreeing to terms with former Seahawks OL DJ Fluker source said The deal is pending the physical for the one time first round pick\n",
       "Name: title, dtype: object"
      ]
     },
     "execution_count": 25,
     "metadata": {},
     "output_type": "execute_result"
    }
   ],
   "source": [
    "# rejoin list of tokenized words into single string for each row\n",
    "\n",
    "train['title'] = train['title'].map(lambda x: ' '.join(x))"
   ]
  },
  {
   "cell_type": "code",
   "execution_count": 95,
   "metadata": {},
   "outputs": [
    {
     "data": {
      "text/plain": [
       "t3_g93fjj                                                                                                                                                                                                                                     weekend wrapup\n",
       "t3_g838yy                                                                                                                                                                                                         2020 nfl draft day 3 post draft discussion\n",
       "t3_g9mv77                                                                                                                                   a baltimore doctor was almost too busy to talk on the phone it was roger goodell calling with super bowl tickets\n",
       "t3_g9n0ef    feldman joe burrow became the 6th qb from the 2015 qb recruiting class to become a first rounder and the fifth to go top 10 burrow kyler daniel jones sam darnold josh rosen lamar was the sixth first rounder that s a ridiculously deep group\n",
       "t3_g9a1hs                                                                                                                         8 years ago the seattle seahawks drafted bruce irvin bobby wagner and russell wilson and received a d from bleacher report\n",
       "Name: title, dtype: object"
      ]
     },
     "execution_count": 95,
     "metadata": {},
     "output_type": "execute_result"
    }
   ],
   "source": [
    "train['title'][0:5]"
   ]
  },
  {
   "cell_type": "markdown",
   "metadata": {},
   "source": [
    "### Train test split and converting series to list of strings then to array"
   ]
  },
  {
   "cell_type": "code",
<<<<<<< HEAD
   "execution_count": 27,
=======
   "execution_count": 96,
>>>>>>> 629f0a07f2e448814334d0143074ff63853f7727
   "metadata": {},
   "outputs": [],
   "source": [
    "X = train[['title']]\n",
    "y = train['subreddit']"
   ]
  },
  {
   "cell_type": "code",
<<<<<<< HEAD
   "execution_count": 28,
=======
   "execution_count": 97,
   "metadata": {},
   "outputs": [
    {
     "data": {
      "text/html": [
       "<div>\n",
       "<style scoped>\n",
       "    .dataframe tbody tr th:only-of-type {\n",
       "        vertical-align: middle;\n",
       "    }\n",
       "\n",
       "    .dataframe tbody tr th {\n",
       "        vertical-align: top;\n",
       "    }\n",
       "\n",
       "    .dataframe thead th {\n",
       "        text-align: right;\n",
       "    }\n",
       "</style>\n",
       "<table border=\"1\" class=\"dataframe\">\n",
       "  <thead>\n",
       "    <tr style=\"text-align: right;\">\n",
       "      <th></th>\n",
       "      <th>title</th>\n",
       "    </tr>\n",
       "  </thead>\n",
       "  <tbody>\n",
       "    <tr>\n",
       "      <th>t3_g93fjj</th>\n",
       "      <td>weekend wrapup</td>\n",
       "    </tr>\n",
       "    <tr>\n",
       "      <th>t3_g838yy</th>\n",
       "      <td>2020 nfl draft day 3 post draft discussion</td>\n",
       "    </tr>\n",
       "    <tr>\n",
       "      <th>t3_g9mv77</th>\n",
       "      <td>a baltimore doctor was almost too busy to talk on the phone it was roger goodell calling with super bowl tickets</td>\n",
       "    </tr>\n",
       "    <tr>\n",
       "      <th>t3_g9n0ef</th>\n",
       "      <td>feldman joe burrow became the 6th qb from the 2015 qb recruiting class to become a first rounder and the fifth to go top 10 burrow kyler daniel jones sam darnold josh rosen lamar was the sixth first rounder that s a ridiculously deep group</td>\n",
       "    </tr>\n",
       "    <tr>\n",
       "      <th>t3_g9a1hs</th>\n",
       "      <td>8 years ago the seattle seahawks drafted bruce irvin bobby wagner and russell wilson and received a d from bleacher report</td>\n",
       "    </tr>\n",
       "    <tr>\n",
       "      <th>...</th>\n",
       "      <td>...</td>\n",
       "    </tr>\n",
       "    <tr>\n",
       "      <th>t3_g85k8o</th>\n",
       "      <td>who s career is better charles barkley or draymond green</td>\n",
       "    </tr>\n",
       "    <tr>\n",
       "      <th>t3_g7m8bq</th>\n",
       "      <td>ak47 is no match for a cannonball</td>\n",
       "    </tr>\n",
       "    <tr>\n",
       "      <th>t3_g6wjl5</th>\n",
       "      <td>game thread denver nuggets 31 26 milwaukee bucks 32 24 feb 15 2018</td>\n",
       "    </tr>\n",
       "    <tr>\n",
       "      <th>t3_g7ivxs</th>\n",
       "      <td>best team of each franchise to never win it all</td>\n",
       "    </tr>\n",
       "    <tr>\n",
       "      <th>t3_g760iv</th>\n",
       "      <td>international fans which team do you support and why</td>\n",
       "    </tr>\n",
       "  </tbody>\n",
       "</table>\n",
       "<p>1693 rows × 1 columns</p>\n",
       "</div>"
      ],
      "text/plain": [
       "                                                                                                                                                                                                                                                     title\n",
       "t3_g93fjj                                                                                                                                                                                                                                   weekend wrapup\n",
       "t3_g838yy                                                                                                                                                                                                       2020 nfl draft day 3 post draft discussion\n",
       "t3_g9mv77                                                                                                                                 a baltimore doctor was almost too busy to talk on the phone it was roger goodell calling with super bowl tickets\n",
       "t3_g9n0ef  feldman joe burrow became the 6th qb from the 2015 qb recruiting class to become a first rounder and the fifth to go top 10 burrow kyler daniel jones sam darnold josh rosen lamar was the sixth first rounder that s a ridiculously deep group\n",
       "t3_g9a1hs                                                                                                                       8 years ago the seattle seahawks drafted bruce irvin bobby wagner and russell wilson and received a d from bleacher report\n",
       "...                                                                                                                                                                                                                                                    ...\n",
       "t3_g85k8o                                                                                                                                                                                         who s career is better charles barkley or draymond green\n",
       "t3_g7m8bq                                                                                                                                                                                                                ak47 is no match for a cannonball\n",
       "t3_g6wjl5                                                                                                                                                                               game thread denver nuggets 31 26 milwaukee bucks 32 24 feb 15 2018\n",
       "t3_g7ivxs                                                                                                                                                                                                  best team of each franchise to never win it all\n",
       "t3_g760iv                                                                                                                                                                                             international fans which team do you support and why\n",
       "\n",
       "[1693 rows x 1 columns]"
      ]
     },
     "execution_count": 97,
     "metadata": {},
     "output_type": "execute_result"
    }
   ],
   "source": [
    "X"
   ]
  },
  {
   "cell_type": "code",
   "execution_count": 111,
>>>>>>> 629f0a07f2e448814334d0143074ff63853f7727
   "metadata": {},
   "outputs": [],
   "source": [
    "from sklearn.model_selection import train_test_split\n",
    "\n",
    "X_train, X_test, y_train, y_test = train_test_split(X,\n",
    "                                                    y,\n",
    "                                                    test_size=.25,\n",
    "                                                    random_state=42,\n",
    "                                                    stratify=y)"
   ]
  },
  {
   "cell_type": "code",
<<<<<<< HEAD
   "execution_count": 29,
=======
   "execution_count": 112,
>>>>>>> 629f0a07f2e448814334d0143074ff63853f7727
   "metadata": {},
   "outputs": [
    {
     "data": {
      "text/plain": [
<<<<<<< HEAD
       "nfl    0.534392\n",
       "nba    0.465608\n",
       "Name: subreddit, dtype: float64"
      ]
     },
     "execution_count": 29,
=======
       "nfl    0.534554\n",
       "nba    0.465446\n",
       "Name: subreddit, dtype: float64"
      ]
     },
     "execution_count": 112,
>>>>>>> 629f0a07f2e448814334d0143074ff63853f7727
     "metadata": {},
     "output_type": "execute_result"
    }
   ],
   "source": [
    "# baseline is\n",
    "\n",
    "y.value_counts(normalize=True)"
   ]
  },
  {
   "cell_type": "code",
<<<<<<< HEAD
   "execution_count": 30,
=======
   "execution_count": 114,
>>>>>>> 629f0a07f2e448814334d0143074ff63853f7727
   "metadata": {},
   "outputs": [],
   "source": [
    "# create our training data list - this is a list of strings, with each string being a post title\n",
    "\n",
    "clean_train_data = []\n",
    "\n",
    "for traindata in X_train['title']:\n",
    "    clean_train_data.append(traindata)"
   ]
  },
  {
   "cell_type": "code",
<<<<<<< HEAD
   "execution_count": 31,
=======
   "execution_count": 116,
   "metadata": {},
   "outputs": [
    {
     "data": {
      "text/plain": [
       "1269"
      ]
     },
     "execution_count": 116,
     "metadata": {},
     "output_type": "execute_result"
    }
   ],
   "source": [
    "len(clean_train_data)"
   ]
  },
  {
   "cell_type": "code",
   "execution_count": 117,
>>>>>>> 629f0a07f2e448814334d0143074ff63853f7727
   "metadata": {},
   "outputs": [],
   "source": [
    "# create test data list\n",
    "\n",
    "clean_test_data = []\n",
    "\n",
    "for testdata in X_test['title']:\n",
    "    clean_test_data.append(testdata)"
   ]
  },
  {
   "cell_type": "code",
<<<<<<< HEAD
   "execution_count": 32,
=======
   "execution_count": 118,
>>>>>>> 629f0a07f2e448814334d0143074ff63853f7727
   "metadata": {},
   "outputs": [
    {
     "data": {
      "text/plain": [
<<<<<<< HEAD
       "426"
      ]
     },
     "execution_count": 32,
=======
       "424"
      ]
     },
     "execution_count": 118,
>>>>>>> 629f0a07f2e448814334d0143074ff63853f7727
     "metadata": {},
     "output_type": "execute_result"
    }
   ],
   "source": [
    "len(clean_test_data)"
   ]
  },
  {
   "cell_type": "code",
   "execution_count": 119,
   "metadata": {},
   "outputs": [
    {
     "data": {
      "text/plain": [
       "['round 6 pick 20 jordan fuller fs ohio state los angeles rams',\n",
       " 'what s the biggest what if scenario in the nfl if a team went for a 2pt for the win instead of an extra point for the tie',\n",
       " 'who is a player who has really grown on you',\n",
       " 'young kobe vs four 76ers defenders',\n",
       " '2020 nfl draft day 3 discussion thread no spoilers',\n",
       " 'when kobe visited melbourne australia march 2019',\n",
       " 'what are some common takes on r nba that you hate or think are wrong inaccurate',\n",
       " 'who s a better scorer at their peak james harden or michael jordan',\n",
       " 'what series games were the most dominant lebron',\n",
       " 'why wasn t stat padding as frowned upon in the late 80s as it is today',\n",
       " 'round 4 pick 27 colby parkinson te stanford seattle seahawks',\n",
       " 'with five picks tonight patriots have most remaining draft capital',\n",
       " 'kleiman bucs signed jacksonville state wr josh pearson 6 3 205 pounds 4 49 40 time',\n",
       " 'round 6 pick 14 robert windsor dt penn state indianapolis colts',\n",
       " 'pelissero udfa anthony gordon will sign with the seattle seahawks',\n",
       " 'draft picks vs value after day 2',\n",
       " 'pelissero the vikings begin the virtual period of their voluntary offseason program today and star rb dalvin cook plans to participate while awaiting a new contract per sources cook is entering the last year of his rookie deal',\n",
       " 'broussard knicks send ewing to sonics as 4 team deal ends an era',\n",
       " 'derrick rose vs john wall highlights 1st ever matchup 11 13 10 hd',\n",
       " 'why i love the chiefs picking clyde edwards helaire the hook can film analysis',\n",
       " 'kleiman the highlight of joe staley s career',\n",
       " 'wojnarowski beginning on may 1 the nba is allowing teams to open their practice facilities to players in cities and states where local governments have eased stay at home orders sources tell espn',\n",
       " 'round 3 pick 22 zack moss rb utah buffalo bills',\n",
       " 'oc pageviews on the internet s free encyclopedia for the main characters in the last dance',\n",
       " 'amick for the kings crowd an update on their situation that was so sensitive a couple months ago sources tell theathletic that luke walton and vlade divac are very likely to remain in this piece walton talks openly about the buddy hield subplot',\n",
       " 'pat mcafee you don t see people waiting 3 years to play anymore aaron rodgers moments before his franchise drafted another quarterback',\n",
       " 'who was better kevin garnett or david robinson',\n",
       " 'requesting help nba business books articles data etc',\n",
       " 'bottom 10 list',\n",
       " 'warriors kd steph situation in a nutshell',\n",
       " 'nfl happy birthday to one of the leagues nastiest route runners keenan allen',\n",
       " 'pelissero the bengals are now listening to offers for the no 33 pick per sources so the top two spots in round 2 up for grabs if someone is willing to pay the price to go all the way to the top',\n",
       " 'richard sherman jstaley74 we started off as adversaries and ended up teammates watching you lead men and go to work everyday has been inspiring and motivating your leadership and presence will forever be legendary thank you brother proud to share the sideline with you',\n",
       " 'round 5 pick 33 justin strnad olb wake forest denver broncos',\n",
       " 'nba playoffs start today but the top guy from each team didn t adhere to the quarantine rules now they have corona and can t play how does this all shake out',\n",
       " 'prime gobert or prime kawhi purely on a defensive scale',\n",
       " 'what is the most iconic nba game of all time',\n",
       " 'can someone explain to me how teddy bridgewater got all this hype',\n",
       " 'will zion still be a rookie',\n",
       " 'in the nba 2k12 intro does anyone know which game shaq did this',\n",
       " 'how would you rank jason terry michael finley jason richardson joe johnson and monta ellis between high scoring two guards that should have but haven t achieved enough',\n",
       " 'renner finished up the pff draft grades the 4 teams that earned a drafts cowboys broncos browns amp cardinals',\n",
       " 'game 2 2013 ecf paul george splits the miami defense and throws down the hammer on birdman one of pg s best dunks of his career',\n",
       " 'pff draft houston ot josh jones in 2019 325 pass block snaps 2 pressures',\n",
       " 'if the nfl restarted and forced every team release every player and then held a draft to fill all the rosters who would be the top ten picks',\n",
       " 'selfish request for a red jeremy lin raptors shirt',\n",
       " 'tim hardaway yells in yo face at barkley after the and 1',\n",
       " 'ourand nfl draft tv numbers top three markets for the draft are all ohio columbus 16 7 rating 32 share cleveland 15 9 29 cincinnati 15 6 28',\n",
       " 'how would these teams fare against each other who wins in a 7 game series if they faced',\n",
       " 'victor oladipo dunks on lebron james in game 6 of 2018 playoffs',\n",
       " 'what are some similar situations to pg almost leading the pacers past peak lebron to the finals',\n",
       " 'how would you rank the past 3 decades',\n",
       " 'dickman jacksonville finished as the 7th highest market with an 8 1 rating for the nfl draft',\n",
       " 'schlabach attorney hightower shooting was self defense',\n",
       " 'what surprised you most about the first 3 rounds of the nfl draft',\n",
       " 'penny hardaway 21points wearing nike air prevail vs chicago bulls 1994',\n",
       " 'call your shot now which 2020 4th round pick or later do you think will eventually develop into a pro bowler',\n",
       " 'la canfora nfl teams are miffed about tom brady s interactions with staff members in tampa despite restrictions they are anticipating some stern discipline from the nfl office many have conveyed their dismay to league officials',\n",
       " 'kerr telling kd to trust his teammates',\n",
       " 'round 4 pick 30 brycen hopkins te purdue los angeles rams',\n",
       " 'cj anderson yessir',\n",
       " 'what package do you think the bulls could have gotten for pippen grant armstrong and a draft pick',\n",
       " 'what role players benefited most from being on championship teams',\n",
       " 'bbv gettleman we feel real good about the offensive line after this draft',\n",
       " 'antoine walker a career 34 3p shooter at this point had 7 points in the 2003 three point contest',\n",
       " 'tim duncan never won dpoy he never even finished top 2 in dpoy voting',\n",
       " 'on this date in 1966 in the great red auerbach s last game as coach the boston celtics beat the la lakers in game 7 to win their 8th straight championship',\n",
       " 'danny green mostly but also ginobli and to a much lesser extent duncan blew game 7 of the 2013 finals',\n",
       " 'field yates a look at the final personnel in the khalil mack trade with all of draft picks exchanged now made bears receive olb khalil mack te cole kmet g arlington hambright raiders receive rb josh jacobs cb damon arnette wr bryan edwards a 6th rounder used in kelechi osemele deal',\n",
       " 'schefter eagles and 49ers flipped 6th round picks with philadelphia also getting wr marquise goodwin',\n",
       " 'schefter my apooigies to anyone who was offended was caught up in the moment of the nfl draft and forgot about the wnba draft from last friday night sorry',\n",
       " 'what s joel embiids ceiling',\n",
       " 'who do you take prime draymond green or prime dennis rodman',\n",
       " 'larry bird and tim duncan are the only players in nba history to win multiple titles as their team s only all nba player bird did it twice in 1984 and 1986 duncan did it four times in 1999 2003 2005 and 2007',\n",
       " 'round 3 pick 36 tanner muse olb clemson las vegas raiders',\n",
       " 'entering the 2018 season qb shea patterson was projected by some as the 1 overall pick in the draft two years later and not only did he go undrafted but no team has even picked him up as an udfa',\n",
       " 'field yates jets trade pick 101 patriots trade pick 125 pick 129 a 2021 sixth round pick',\n",
       " '12 28 2000 down 2 with 1 8 seconds left milt palacio steals the inbound pass and tosses in the one footed 3 to beat the buzzer and steal the win with his first bucket of the game',\n",
       " 'round 3 pick 25 cameron dantzler cb mississippi state minnesota vikings',\n",
       " 'last dance episodes',\n",
       " 'why did kukoc start in 98 against utah',\n",
       " 'round 2 pick 25 van jefferson wr florida los angeles rams',\n",
       " 'round 6 pick 15 khalil davis dt nebraska tampa bay buccaneers',\n",
       " 'isaiah thomas not zeke y all be tweeting me mad at me like i was tryna hurt jordan lol',\n",
       " 'cronin the vikings are off the board but trent williams remains adamant that he never said he did not want to play in minnesota https t co b0ha7jkrvf',\n",
       " 'who s career is better charles barkley or draymond green',\n",
       " 'gutekunst packers have added a lot to our offense over the last two days',\n",
       " 'best of nikola jokic from the last 5 seasons nba com',\n",
       " 'who are the top 5 players in football',\n",
       " 'what s really going to happen to your team s draft class',\n",
       " 'in the nfl there is the on going brady or belichick debate of who has been more important to winning in the nba i ve never heard a popovich or duncan argument i wonder why',\n",
       " 'round 5 pick 29 larrell murchison dt north carolina state tennessee titans',\n",
       " 'if burrow and lawrence were in the same draft class who would you pick 1st overall',\n",
       " 'where does the belief that aaron rodgers continually has one of the worst defenses come from',\n",
       " 'trags i got that tattoo when i was teenager i thought it supported military support obviously it supports something i do not want to represent it will be covered justin rohrwasser patriots',\n",
       " 'jadeveon clowney s top landing spots after 2020 nfl draft',\n",
       " 'dwyane wade responds to aaron gordon s diss track he should trademark 9 10 make some money off of it that s free advice that i won t charge him for it you know since i costed him a mill that dwadecellars looked',\n",
       " 'why do people ignore player progression when discussing all time greats',\n",
       " 'how many 2nd rounders for 1 overall',\n",
       " 'paul george has been really good for a really long time now and has still got quite a few good years left at the top',\n",
       " 'michael phillips if thaddeus moss makes the redskins roster adrian peterson will have played alongside both him and his dad',\n",
       " 'draymond i remember sorry ass teams always saying to us yo y all get calls like a m er and i m like yo we really don t get no calls but now being on a sorry ass team this year i saw exactly what they were talking about',\n",
       " 'charania sources when nba s facilities open as soon as may 8 players must wear facemasks at all times except when in physical activity staffers working with players must wear gloves physical distancing of at least 12 feet',\n",
       " 'michael jordan on picking up dennis rodman in vegas in the middle of the 97 98 season',\n",
       " 'round 7 pick 25 dane jackson cb pittsburgh buffalo bills',\n",
       " 'pff could aaron rodgers use te oj howard',\n",
       " 'wojnarowski new story soon espn but to be clear the nba was already working to push back its initial may 1 date to re open facilities independent of atlanta s decision to delay its own re opening the league was getting feedback from all corners on the issue',\n",
       " 'round 4 pick 9 harrison bryant te florida atlantic cleveland browns',\n",
       " 'bored critique my top 10 all time players',\n",
       " 'round 6 pick 33 dezmon patmon wr washington state indianapolis colts',\n",
       " 'how would you rank mike bibby stephon marbury deron williams baron davis and steve francis between the great floor generals that weren t great enough',\n",
       " 'the all portsmouth team',\n",
       " 'profootballtalk dustin colquitt says goodbye to the chiefs',\n",
       " 'round 6 pick 5 bravvion roy dt baylor carolina panthers',\n",
       " 'odegard cardinals hadn t drafted an arizona state player since pat tillman in 1998',\n",
       " 'when are sewn jerseys released',\n",
       " 'round 7 pick 15 james smith williams de north carolina state washington redskins',\n",
       " 'isiah thomas dream team snub was deeper than not shaking hands with bulls jay williams get up',\n",
       " 'debunking the false narrative on how michael jordan couldn t beat detriot pistons until thy got old',\n",
       " 'last time each team selected the position they selected in the 2020 draft',\n",
       " 'round 5 pick 6 kenny robinson jr fs west virginia carolina panthers',\n",
       " 'how good would hall of fame forward ed macauley be in today s nba',\n",
       " 'michael jordan talking cigars and cuba',\n",
       " 'round 7 pick 27 chapelle russell olb temple tampa bay buccaneers',\n",
       " 'joe ingles vs serge ibaka',\n",
       " 'lakers return 4 6m loan intended for small businesses amid covid 19',\n",
       " 'international fans which team do you support and why',\n",
       " 'ranking michael jordan s bulls and the greatest nba dynasties ever',\n",
       " 'round 1 pick 8 isaiah simmons olb clemson arizona cardinals',\n",
       " 'in fitting fashion kawhi gets his raptors teammates jumping out of their seats again at the parade',\n",
       " 'mike garafolo on twitter eagles traded out again bears on clock',\n",
       " 'cavanaugh he s got a problem with his foot but there s a bigger problem here it s his knee basically bone on bone bryanbroaddus on why akeem davis gaither is still available',\n",
       " 'round 4 pick 15 logan stenberg og kentucky detroit lions',\n",
       " 'dwade says the moment he realized he was a star was when kobe picked him up 94 feet',\n",
       " 'yates here s how the wr draft class shook out 36 wr taken in total tied with 2003 for most ever through 7 rounds 13 taken in first two rounds most ever 23 teams took at least 1 10 teams took at least 2 broncos eagles raiders took 3 9 wr were from the sec',\n",
       " 'kyrie irving goes off for the most efficient 50 point game in nba history',\n",
       " 'mcmanaman turns out kliff kingsbury texas tech wasn t the only cardinals coach to recruit ot josh jones per cardinals draft notes o line coach sean kugler also recruited jones when he was the head coach at utep',\n",
       " 'morstead psa punting in the street can be a bad idea',\n",
       " '2010 nfl all decade standings',\n",
       " 'round 6 pick 8 donovan peoples jones wr michigan cleveland browns',\n",
       " 'garafolo eagles traded the 146th pick to the cowboys',\n",
       " 'nba highlights mix back up hype legendary highlights',\n",
       " 'intentional off the board post entry pass to larry legend results in an easy 2',\n",
       " 'laine winston is going to new orleans i just spoke to sources close to the situation the compensatory pick cutoff is tomorrow at 4 p m 3 p m in new orleans so any player signed after won t count against the comp pick formula saints could get a third for losing bridgewater',\n",
       " 'bonsignore per raiders source there was full player attendance for raiders first day virtual offseason program',\n",
       " 'round 2 pick 32 jeremy chinn olb southern illinois carolina panthers',\n",
       " 'lebron double cheeked up on a thursday afternoon hella ass',\n",
       " 'lady confuses kyrie irving for chris paul',\n",
       " 'shaq monster putback dunk 2001 finals',\n",
       " 'what s the nicest thing that you can say about a team player that you don t like',\n",
       " 'kobe vs jordan 4k duel of icons',\n",
       " 'how many rings does a westbrook dipo kd horford adams sabonis team win starting from 2016 what about a westbrook pg kd horford adams starting 5 starting from 2017',\n",
       " 'vernon ty lue has that prior relationship with kyrie kd has fancied mark jackson for some time i would think that it would be between those two guys in terms of who kyrie and kd will respect play for and not roll their eyes at',\n",
       " '5 5 kawhi special',\n",
       " 'shots fired blake griffin calls out tmz alternate headline grown man hides in bushes to secretly record a dad and his kids at the park',\n",
       " 'saints taysom hill hard working alpha male jackhammer',\n",
       " 'emma the bears have waived te day raymond',\n",
       " 'klis jeudy on tiktok dance w commish goodell he reached out to my people and he wanted to make a tiktok video with me so i decided why not jeudy showed rhythm of 1st rd wr goodell was not drafted he s got a couple things he s got to work on but he didn t do too bad',\n",
       " 'cyclone football iowa state ol josh knipfel agrees to free agent contract with the bengals',\n",
       " 'round 7 pick 21 jashon cornell dt ohio state detroit lions',\n",
       " 'my ongoing series are these players coaches worthy of the hall of fame',\n",
       " 'round 2 pick 28 josh uche olb michigan new england patriots',\n",
       " 'in auguest 2019 forbes released their annual list of highest earners of the top 8 highest annual earners in shoe deals 4 were either retired or yet to play a game',\n",
       " 'goodbread seahawks sign udfa and rb dalvin cook s uncle fiu rb anthony jones',\n",
       " 'nesn nfl odds cam newton to patriots line skyrockets following 2020 draft',\n",
       " 'wilson texans trade seventh round pick to the new orleans saints',\n",
       " 'if these supervillains and superheroes were the team owner gm of nba teams who would you want for your team and why',\n",
       " 'replace michael jordan with lebron in the 2011 finals',\n",
       " 'round 3 pick 29 darrynton evans rb appalachian state tennessee titans',\n",
       " 'mosqueda new england s fifth round selection kicker justin rohrwasser has a far right militia movement tattoo',\n",
       " 'nba teams playing in baseball stadiums',\n",
       " 'peter king fmia virtually spent the first round of the draft with tampa bay s gm jason licht details tampa s trade talks with every team starting with carolina at 7 and finally ending with san francisco at 13',\n",
       " 'zion williamson is technically obese',\n",
       " 'round 3 pick 31 mctelvin agim dt arkansas denver broncos',\n",
       " 'wade hits game winner off one leg for the win',\n",
       " 'one of the most forgotten clutch blocks in playoff history',\n",
       " 'dennis rodman breaks down the chicago bulls triangle offense detail on espn',\n",
       " 'mcclain texans had a deal with detroit for the 90th pick but lions backed out at last instant and bill o brien was furious you could tell by his reaction on tv they selected olb jonathan greenard with their pick',\n",
       " 'in the 2013 season the lakers barely held onto a playoff seed as kobe averaged 45 5 mpg over a 7 game stretch leading the lakers to a 6 1 record before tearing his achilles in those games he averaged 29 7 3 8 4 2 1 1 at 34 years old',\n",
       " 'chris paul drops a filthy dime to blake griffin',\n",
       " 'debate the 2008 team is better than the dream team',\n",
       " 'the nfl draft couldn t come at a better time for sports fans brands and media',\n",
       " 'how would you rank ron artest peja stojakovic antoine walker latrell sprewell and jalen rose among the wings that could have been franchise players but there were better options',\n",
       " 'which players play ed great football primarily because of their athletic ability or size',\n",
       " 'zhao jordan love said he has talked with aaron rodgers said rodgers congratulated him on getting drafted',\n",
       " 'if a player missed every shot on their end of the court but hit 1 shot on their opponent s side of the court would their fg be negative',\n",
       " 'kawhi when asked if he wanted to break his career high in the playoffs',\n",
       " 'standig redskins also signing colorado qb steven montez as pfa per source',\n",
       " 'mays the five most revealing strategies of the 2020 nfl draft',\n",
       " 'is kevin love overrated',\n",
       " 'nania joe douglas invested more capital in qb supporting positions with his first 2 picks 1 560 points on the trade value chart than mike maccagnan did with all 34 of his 1 141 jets',\n",
       " 'if lebron had 4 peated with the heatles would he be the goat',\n",
       " 'who were the best players players in their prime not in the hof',\n",
       " 'what player on your team do you think will have a breakout season',\n",
       " 'fowler oklahoma state corner a j green is signing with the cleveland browns per source',\n",
       " 'jeff howe bill belichick has essentially declared jarrett stidham is better than any qb they could have realistically drafted this weekend',\n",
       " 'la lakers valued at 3 7bn pay back covid 19 small business relief loan',\n",
       " 'who is it easier to build a team around ben simmons or joel embiid',\n",
       " '2020 nfl draft biggest post draft questions for all 32 teams',\n",
       " 'oc statistical similarity and performance rating between the top two players of each draft class in 2019 2020',\n",
       " 'dunking from the 3 point line',\n",
       " 'my daughter asked me this and it made me think so i will ask you who is your favorite nfl coach and why no current coaches please',\n",
       " 'round 4 pick 17 reggie robinson ii cb tulsa dallas cowboys',\n",
       " 'draymond green superstar or role player',\n",
       " 'garafolo texans releasing s tashaun gipson source says',\n",
       " 'field yates ravens trade pick 60 pick 129 patriots trade pick 71 pick 98',\n",
       " 'rockets starters head into the dressing room without shaking hands after the 1986 finals',\n",
       " 'kobe bryant the first point and the last point',\n",
       " 'pelissero the ravens are signing utah qb tyler huntley source said',\n",
       " 'raptors fans sing o canada ahead of game 5 of nba finals',\n",
       " 'round 5 pick 19 curtis weaver de boise state miami dolphins',\n",
       " 'mj grabbed rodman by his nose ring and took him out when getting dennis back from his vacation',\n",
       " 'draymond green asked bob myers and steve kerr for help in repairing his relationship with kevin durant nobody helped him',\n",
       " 'dipaola chiefs sign pitt wr maurice ffrench',\n",
       " 'would you rather have an elite qb or elite head coach to win a playoff game',\n",
       " 'wade is taken off the court on a wheelchair in tears after dislocating his shoulder',\n",
       " 'packers pick runyan accidentally declines gb call',\n",
       " 'knicks finally bury the hatchet linsanity gets another run on msg network next week',\n",
       " 'i did this last year and people liked it so let s do it again how was your favorite team s draft from 3 years ago',\n",
       " 'greatest hybrid of all time ghoat',\n",
       " 'san antonio food bank gets halftime coaching from spurs gregg popovich',\n",
       " 'garafolo bears get 173 and 227 eagles get 196 200 and 233',\n",
       " 'did patrick ewing get away with basket interference on his game 7 winning putback dunk against indiana in 1994',\n",
       " 'ranking the teams jordan and lebron faced in the ecf',\n",
       " 'round 7 pick 13 lachavious simmons ot tennessee state chicago bears',\n",
       " '25 years after draft night curtis martin reflects on almost becoming a dallas cowboy',\n",
       " '2009 saints in gruden s qb camp drew brees sean payton',\n",
       " 'hughes the jets are not on the clock they traded their pick to the colts',\n",
       " 'george iceman gervin with his signature finger roll mix',\n",
       " 'is marc gasol more valuable of a rim protector than gobert',\n",
       " 'round 2 pick 31 willie gay jr olb mississippi state kansas city chiefs',\n",
       " 'jaygee the child of the family introduced before one of the raiders picks said raiders suck live on air',\n",
       " 'cyclone football iowa state lb marcel spears jr signs free agent contract with the bengals',\n",
       " 'brendenertle this is the first time in nfl history two qbs on the same roster have thrown for 5 000 yards drew brees has done it 5 times jameis winston threw for 5 109 yards',\n",
       " 'did isiah thomas really beat jordan bird and magic in their prime a deeper look',\n",
       " 'without revealing your age what s your first nba memory',\n",
       " 'chef curry shimmies past mr triple single s high five attempt',\n",
       " 'how would these teams fare against each other who wins in a 7 game series',\n",
       " 'round 4 pick 23 cameron clark ot charlotte new york jets',\n",
       " '2020 nfl draft grades and analysis for every pick in third round',\n",
       " 'round 2 pick 12 grant delpit ss lsu cleveland browns',\n",
       " 'lebron incredible block against china 2008 olympics',\n",
       " 'matt chiefs lineman laurent duvernay tardif who s also a licensed medical doctor has been quietly working at a nursing home in quebec during the pandemic going from winning the super bowl a couple months ago to emptying bedpans article in french',\n",
       " 'best players this season without a beard',\n",
       " 'since we re in quarantine amazon has made available lots of movies and tv shows to watch for free one of which is the documentary iverson',\n",
       " 'if lebron doesn t exist would kevin durant be considered the second greatest player of all time today',\n",
       " 'what shocks are we expecting today',\n",
       " 'where do you think the teams in your division will place by the end of next season and why',\n",
       " 'after 36 holes of golf earlier mj told coach daley he d take puerto rico s pg daley well he s the point guard michael mj i said i got him i read something he said about me in the newspaper mj wouldn t even let him dribble don t you ever talk about me publicly again i m michael jordan',\n",
       " 'round 3 pick 7 justin madubuike dt texas a amp m baltimore ravens',\n",
       " 'minnesota timberwolves legend darko milicic tells a christmas story',\n",
       " 'round 7 pick 37 stephen sullivan te lsu seattle seahawks',\n",
       " 'if there is a season what team s will be the new 49ers and titans and rise out of nowhere what team s will be the new rams and bears and unexpectedly fall off a cliff',\n",
       " 'derrick the tennessee titans have agreed to a udfa deal with missouri lb cale garrett per source kearney mo product headed to mike vrabel s defense',\n",
       " 'espn kobe bryant s final season was captured by an all access camera crew sources told baxter the original plan was for a potential documentary to be released years from now but in the wake of his death what will happen to the footage remains unclear',\n",
       " 'if detroit had beaten miami in the 2006 ecf who do you think would have won the finals between detroit and dallas',\n",
       " 'who has a better season raiders or broncos',\n",
       " 'do you think winning rings with 1 all star level teammate is a must to surpass michael jordan',\n",
       " 'i present to you the lebron rules',\n",
       " 'frustrating debate around old players',\n",
       " 'you thought the qb market this year was rough wait ll you see what it looks like next year',\n",
       " 'round 2 pick 17 chase claypool wr notre dame pittsburgh steelers',\n",
       " 'playoff prediction',\n",
       " 'bill simmons keeps saying that under 35s believe that lebron is the goat what do under 35s really think',\n",
       " 'rapoport this was unanimous so many coaches wondered do we really need to work the sheer hours we do when their work was really done literally every person mentioned the extra time with his family a legit eye opening experience',\n",
       " 'in the 4q of game 6 warriors vs rockets 2019 the warriors ran the same high pnr play set 10 times they went 8 10 and scored 20 of the 36 4q points here are all the different looks that they generated',\n",
       " 'round 7 pick 12 arlington hambright og colorado chicago bears',\n",
       " 'westbrook with the shammgod to deliver his 22nd assist',\n",
       " 'dauster tulane guard teshaun hightower who declared for the draft earlier this month charged with april murder',\n",
       " 'an all time classic lebron commercial',\n",
       " 'nfl draft steals',\n",
       " 'you can steal 1 player besides qb from each divisional rival who are you stealing and adding to your team',\n",
       " 'field yates highest paid ol in the nfl based on new money per year average 1 laremy tunsil 22m 2 lane johnson 18m t 3 anthony castonzo 16 5m t 3 trent brown 16 5m 5 taylor lewan 16m 6 nate solder 15 5m',\n",
       " 'schefter restructuring jared goff s contract freed up 7 million per source',\n",
       " 'round 3 pick 32 lucas niang ot texas christian kansas city chiefs',\n",
       " 'russell westbrook career high 58 points against the blazers',\n",
       " 'gersson rosas we re big fans of malik beasley we paid a very very strong premium to get him here in minnesota but we re excited i think the small sample size we saw with him with the minnesota timberwolves showed his potential',\n",
       " 'twitter would explode if dennis rodman s vacation happened today sportscenter with svp',\n",
       " 'lucas nogeuira drops his shorts while favors shoots free throws',\n",
       " 'round 1 pick 6 justin herbert qb oregon los angeles chargers',\n",
       " 'round 6 pick 21 quez watkins wr southern miss philadelphia eagles',\n",
       " 'underhill if they saints decide to free up 8 million i d immediately begin to wonder if it is to sign jameis winston',\n",
       " 'brinson nfl auctioning off a chance to watch mnf from roger goodell s house while sitting in his super comfy looking leather chair money goes to covid 19 relief',\n",
       " 'jackson there were other parts of tunsil trade stills davenport etc but fins after last night essentially got pick 30 noah i was pick 26 before trade down 136 tomorrow amp houston s 1st and 2nd next year those 4 picks will have total cap hits of less than 8 m over next 2 yrs',\n",
       " 'the atlanta falcons are the only team in the league that will field an offense where every skill player was a first round pick',\n",
       " 'nick maraldo thinking about becton and d andre swift s dads dominating a d line',\n",
       " 'who do you think will be the best rb from this class',\n",
       " 'espn lakers in touch with l a mayor s office about potential workouts',\n",
       " 'iguodala monster cuff dunk in traffic',\n",
       " 'alternate reality moments',\n",
       " 'dennis rodman famously skipped practice before game 4 of the 1998 nba final in order to appear with hulk hogan and the nwo on nitro he was criticized by jackson and his teammates for his antics after the bulls won game 4 rodman was praised by jackson and jordan for his performance',\n",
       " 'gary payton and karl malone had talked for years about teaming up',\n",
       " 'yates the jaguars and g andrew norwell agreed to a renegotiated deal in which he earns a 9m fully guaranteed base salary with the solid chance to earn 2 5m back in realistic incentives previously norwell was due 11 5m non guaranteed now he gets security',\n",
       " 'pat mcafee breaking tua would have been a member of the chargers if the dolphins took herbert at 5 gm tom telesco confirms patmcafeeshowlive',\n",
       " 'more than a quarter of the top 100 picks were from just 3 schools',\n",
       " 'how good was larry hughes',\n",
       " 'cyclone football iowa state dl ray lima signs free agent contract with the dolphins',\n",
       " 'kevin mchale encouraging isiah thomas to not be satisfied before shaking his bill laimbeer s and vinnie johnson s hands after losing in the 1988 89 nba playoffs',\n",
       " 'schefter through the first 3 rounds there have been 40 players from the sec selected 23 more than any other conference 17 the 40 sec selections are not only most through the first 3 rounds in draft history but already tied for the most through the first four rounds per eliassports',\n",
       " '30 for 30s and documentaries that add context to the last dance reason',\n",
       " 'espn apologizes for nfl draft graphic about tee higgins mother says it should not have aired',\n",
       " 'websites to watch nba games for free',\n",
       " 'the chiefs currently have 3 d williams on their roster',\n",
       " 'magic johnson after the intense scrimmage won by michael s team in 1992 olympic larry and i were talking michael walked in and he said there is a new sheriff in town and we both hit each other like well he is not lying',\n",
       " 'round 4 pick 1 akeem davis gaither olb appalachian state cincinnati bengals',\n",
       " 'when michael jordan was fouled shooting a 3 at the buzzer to beat the celtics in game 2 he only shot 2 free throws because that was the rule back then he made both the game went into ot amp the bulls eventually lost in double ot mj finished with 63 points a playoff record',\n",
       " 'update proof that everyone can get along during this year s draft the cowboys traded with the eagles the jets traded with the patriots dan snyder traded with kyle shanahan',\n",
       " 'nfl update if the nfl season can t start on time the league has discussed several alternatives including the possibility of starting in october having no bye weeks no pro bowl and playing the super bowl on february 28 instead of february 7',\n",
       " 'ourand actual tv ratings for the nfl draft will come out tonight but the early numbers suggest blockbuster viewership compared to last year ny was up 13 chicago up 38 philadelphia up 52 and boston up 52',\n",
       " '4 2 40 cb javelin guidry signs undrafted free agent deal with new york jets',\n",
       " 'cole cubelic career td passes to 1st round picks',\n",
       " 'wilson texans expected to exercise fifth year 2021 club option for pro bowl quarterback deshaun watson before may 4 nfl deadline per sources it s a procedural formality because team intends to negotiate a long term deal with him fifth year option projected to cost 17 3 million',\n",
       " 'convention is to have your best tackler on the right to attach the quarterback s blindside if it is a left handed quarterback do the defensive players ever change sides to continue attacking the blindside',\n",
       " 'the top 20 career scorers every year since 1946',\n",
       " 'highlight packers dolphins 1991 one of the worst endzone turnovers of all time leads to don shula s 300th career win',\n",
       " 'where will kevin durant be placed in the all time rankings',\n",
       " 'nba com classic games full game jordan hits the shot bulls win game 5 of 1989 first round',\n",
       " 'update one of my favorite football quotes rounds 1 3 are the easy picks to make rounds 4 7 are the picks that make super bowl champions bill polian',\n",
       " 'klis elway on going forward w draft i think the credit goes to commissioner goodell he s taken a lot of heat a lot of people that wanted to push it back he pushed everybody out of their comfort zone and i think it came off great people needed to see a live event',\n",
       " 'serious how good was paul pierce',\n",
       " 'how differently would jordan be viewed today if he had blown a 3 1 lead in the 1998 finals',\n",
       " 'chris webber ft kurupt gangsta gangsta',\n",
       " 'round 4 pick 5 solomon kindley og georgia miami dolphins',\n",
       " 'round 4 pick 18 anthony mcfarland jr rb maryland pittsburgh steelers',\n",
       " 'colin cowherd calls colts first two picks april 17th a week early adds they are the underrated picks in this draft',\n",
       " 'if wizards mj 2001 2003 played for contenders except the lakers and spurs do they win a ring or at least reach the nba finals',\n",
       " 'chiefs draft over',\n",
       " 'ravens instagram when your gm and head coach are neighbors',\n",
       " 'jed york jed york trentw71 i know the feeling well but you will love rsherman_25 as a teammate welcome to the niners big fella',\n",
       " 'when the last dance director jason hehir got to phil jackson s door for the interview he said hey coach nice to meet you i m jason hehir phil said and jason explained to phil what this was and phil closed the door on him saying alright let me check on this',\n",
       " 'round 2 pick 24 raekwon davis dt alabama miami dolphins',\n",
       " 'round 5 pick 21 quintez cephus wr wisconsin detroit lions',\n",
       " 'who is the most overrated player in your favorite teams history',\n",
       " 'the chicago bears composed of players who grew up closest to chicago',\n",
       " 'klay thompson defensive highlights vs your favorite nba players',\n",
       " 'best team of each franchise to never win it all',\n",
       " 'how can i watch the last dance on demand',\n",
       " 'round 6 pick 25 cassh maluia ilb wyoming new england patriots',\n",
       " 'evaluating the trent williams trade',\n",
       " 'read tristan wirfs mom sarah is a single mother of two she s worked at target for nearly 30 years by going no 13 overall in the nfl draft wirfs is looking at a 16 2 million contract with a 9 4 million signing bonus great moment for the family and very well deserved',\n",
       " 'possible to wire seat speakers',\n",
       " 'malcolm brogdon went from being in the 50 40 90 club to having his fg drop to a career low 43 9 this season',\n",
       " 'why was it bad for pippen to accept the deal he was given',\n",
       " 'ak47 is no match for a cannonball',\n",
       " 'crazy what shaq was doing to his body especially early in his career',\n",
       " 'fazende the saints are out of draft picks',\n",
       " 'the minnesota vikings will go into day 3 with 13 draft picks',\n",
       " 'i wasn t as plugged in to the nfl back when rodgers was drafted by green bay and then sat for 3 years so i m genuinely curious what the perception of him was over those years where people wondering if he was potentially a bust and a wasted pick because he couldn t get on the field',\n",
       " 'what is the biggest reason why seattle can t have an nba team and why were they sold to okc',\n",
       " 'daily discussion thread free talk and other updates april 26 2020',\n",
       " 'round 7 pick 8 eno benjamin rb arizona state arizona cardinals',\n",
       " 'mj getting jiggy to some kool moe dee with scottie oak horace etc 1988',\n",
       " 'zach kruse espn s adam schefter just said packers coach matt lafleur really really wanted jordan love',\n",
       " 'rapoport draft notes post rd 1 packers were adamant about trading up for jordan love amid rumors the colts would call indy never did several teams cowboys vikings browns had players fall to them they almost never mocked ol cesar ruiz to saints was most surprising',\n",
       " 'what was isiah thomas s style of play and strengths',\n",
       " 'field yates seattle trades pick 64 carolina trades pick 69 pick 148',\n",
       " 'kobe was never the best player on his team during the nba finals',\n",
       " 'round 6 pick 24 blake brandel ot oregon state minnesota vikings',\n",
       " 'bassinger jameis winston won t be competing with taysom hill for the saints backup quarterback job has it locked up since 2017 he has thrown more complete passes to saints players eight in five games than hill seven in 42 games including the playoffs',\n",
       " 'round 3 pick 9 davon hamilton dt ohio state jacksonville jaguars',\n",
       " 'your favorite throw from the 2019 season',\n",
       " 'andrewsiciliano andy reid has a picture of a sheep over his fireplace because of course',\n",
       " 'stats comparing a season statistic from teams in different years',\n",
       " 'top 15 championship teams that faced the toughest playoff competition calculated with winning of all opponents',\n",
       " 'wolfson oklahoma cb parnell motley signing with tampa',\n",
       " 'bengals bengals twitter game has been stepping it up since the draft',\n",
       " 'nba opening up facilities where permitted',\n",
       " 'the 1950 rams had one of the greatest offenses ever averaging 38 8 points a game featuring a dual qb offense who would switch at halftime',\n",
       " 'what is your top 10 best nba players if all time',\n",
       " 'what s a topic that divides your fanbase',\n",
       " 'round 3 pick 40 terrell burgess ss utah los angeles rams',\n",
       " 'highlight on a monday night in 2016 dez bryant became an elite passer',\n",
       " 'round 5 pick 4 shane lemieux og oregon new york giants',\n",
       " 'oc highlight 3 minutes in 1976 lions owner william clay ford for some reason publicly put starting qb greg landry on the trading block somehow in 1977 landry was still the starter for the lions this is the story behind one of the most botched trades ever',\n",
       " 'tim duncan realises he has arms',\n",
       " 'oladipo s crafty through the legs pass to sabonis',\n",
       " 'round 6 pick 9 tyler bass k georgia southern buffalo bills',\n",
       " 'oc jordan v lebron has lebron actually played tougher competition in the playoffs pt 2',\n",
       " 'zach lowe on sga i think he s good enough now to ask will he make an all nba team i think that s now a reasonable discussion',\n",
       " 'round 7 pick 32 malcolm perry rb navy miami dolphins',\n",
       " 'round 6 pick 35 freddie swain wr florida seattle seahawks',\n",
       " 'if lebron never gets injured in the 2018 2019 season how many games would they win and how deep would they go in the playoffs',\n",
       " 'jason kidd gets a free timeout by getting his player to bump into him and spill a drink',\n",
       " 'round 7 pick 17 ben dinucci qb james madison dallas cowboys',\n",
       " 'round 5 pick 28 darnell mooney wr tulane chicago bears',\n",
       " 'in g7 of the 1990 ecf jordan shot 13 27 the rest of the bulls starters shot 10 49 bj armstrong was also 1 8 off the bench',\n",
       " 'which team had the single worst draft class of all time',\n",
       " 'tell me who s your favourite',\n",
       " 'barrows 49ers said wr brandon aiyuk became a hot name late in the draft the team they were most concerned about miami at 26 after sf took aiyuk miami traded out of their spot',\n",
       " 'where do you rank stockton in all time pgs',\n",
       " 'perkins we all know that kd is the best player in my opinion to wear a warriors jersey we all know that kd was the best thunder to wear a thunder jersey',\n",
       " 'sports illustrated carmen electra says she and dennis rodman had sex on the bulls practice court',\n",
       " 'anyone know why the jersey supply is so dry on the nba online store',\n",
       " 'this is one of the underrated steph curry games in my opinion',\n",
       " 'pelissero the redskins are slated to play the 49ers this season in santa clara trent williams vs chase young',\n",
       " 'round 2 pick 10 laviska shenault jr wr colorado jacksonville jaguars',\n",
       " '1993 ecf game 4 knicks bulls',\n",
       " 'harden slaps klay s butt after the shot goes in',\n",
       " 'round 5 pick 11 keith ismael c san diego state washington redskins',\n",
       " 'sportsnet 2000 slam dunk contest watch party re live vince carter s epic win',\n",
       " 'kevin garnett 31pts 16rebs 5asts vs tim duncan 26pts 12rebs 2001',\n",
       " 'player s tribune the legend of michael jordan',\n",
       " 'from december 24th 1995 september 17th 2000 the jacksonville jaguars had a w l record at home of 32 5 including playoffs',\n",
       " 'serious what was the most disappointing performance by a player or a team in a superbowl relative to their expectations',\n",
       " 'mike garafolo lane johnson was the highest paid offensive tackle at 18 million per year tunsil takes that title at 22 million per yowza',\n",
       " 'a recount of chris paul s chess game vs the timberwolves',\n",
       " 'kyle lowry receives a special package',\n",
       " 'rapoport we have reached the portion of the draft where long snappers are taken the dolphins at no 185 grab lsu s blake ferguson the first long snapper off the board',\n",
       " 'john ourand a super bowl on feb 28 a regular season that starts in mid oct no bye weeks no pro bowl these are all contingencies the nfl has considered as it moves forward with plans to hold a full regular season',\n",
       " 'did anyone on here really think kd would join the warriors',\n",
       " 'as other teams open up their practice facilities franchises in ny and la under stricter stay at home orders are at a disadvantage',\n",
       " 'toni kukoc talks about michael jordan scottie pippen the last dance and the chicago bulls',\n",
       " 'round 2 pick 9 jonathan taylor rb wisconsin indianapolis colts',\n",
       " 'the real reason the celtics walked off they were trying to avoid a storming of the court',\n",
       " 'john mara we better be a better team this year i do believe that we re on the right path but i m sure our fans are saying i ve heard you say that before so until we start winning games i understand there s gonna be some doubt but i do feel good about where we are right now',\n",
       " 'marvin gaye s rendition of the the star spangled banner at the 1983 nba all star game',\n",
       " 'how will aqib talib s legacy be viewed after he retires',\n",
       " '144 hof were drafted in the first and second round vs 78 hof drafted third round and beyond',\n",
       " 'oc the 10 worst collapses based on the collapse metric post 2010',\n",
       " 'nflfilmreview little josh jones thread sneak peak he is so good one of the biggest steals of this draft',\n",
       " 'modified late 2010s okc hou cle in their primes who wins in a 7 game series',\n",
       " 'commercial kd is not nice',\n",
       " 'people calling the last dance the jordan documentary in conversation',\n",
       " 'la times where s dennis carmen electra recalls wild times with the last dance s rodman',\n",
       " 'who is the greatest gm of all time',\n",
       " 'hanson 15 6 million viewers watched last night s nfl draft making it the most watched draft ever',\n",
       " 'this sequence by shaq shows why he was unstoppable',\n",
       " 'steph curry 1 on 1 defense',\n",
       " 'vince carter alley oop windmill dunk at rucker park',\n",
       " 'round 7 pick 36 tremayne anchrum og clemson los angeles rams',\n",
       " 'yates browns trade pick 41 colts trade pick 44 pick 160',\n",
       " 'unpopular opinion draft edition',\n",
       " 'why isn t orlando more of a bigger free agent destination',\n",
       " 'why does kareem get slept on as being the goat or even the greatest laker of all time',\n",
       " 'without games on we really need this last dance series',\n",
       " 'pelissero former miami receiver jeff thomas is signing with the patriots source said',\n",
       " 'round 3 pick 13 michael ojemudia cb iowa denver broncos',\n",
       " 'tracy mcgrady sucks the gravity right out of the building with this monster poster',\n",
       " 'underhill the jameis winston signing was not completed today i m told therefore when it is executed it will not count against the comp pick formula',\n",
       " 'james harden didn t get the calls in 2018 wcf game 7 the same calls he got all of the regular season why was it considered bad that the rockets confronted the league about the officiating',\n",
       " 'pat mcafee show andrew brandt recounts aaron rodgers draft in 2005 speculates about his future',\n",
       " 'round 6 pick 10 jake luton qb oregon state jacksonville jaguars',\n",
       " 'round 3 pick 10 zack baun olb wisconsin new orleans saints',\n",
       " 'kawhi leonard pump fake avoid and finish',\n",
       " 'ranking the cutest head coaches in the nba 1 30',\n",
       " 'does lebrons legacy hold up once he retires',\n",
       " 'at what year did kobe pass the torch to lbj as the best player in the league',\n",
       " 'thoughts on walt frazier',\n",
       " 'if you were to replace rudy gobert with prime dwight howard would the jazz be substantially better worse or the same',\n",
       " 'bbiq vs physical attributes athleticism',\n",
       " 'in terms of lesser discussed good players from a different era marques johnson',\n",
       " 'round 5 pick 7 colton mckivitz ot west virginia san francisco 49ers',\n",
       " 'rapoport along with rams qb jared goff los angeles also restructured the contract of rt rob havenstein to create more cap space he s still due about 7m but it gave them room for fa signings and other business',\n",
       " 'bell absolute hard moment to watch on first take as max kellerman makes fun of giants general manager gettleman for wearing a surgical mask during the draft last night without knowing he is a cancer survivor with multiple people from giants organization in basement with him',\n",
       " 'schefter saints did sign a qb today taysom hill saints are signing hill to a two year deal that really is a one year extension of the first round 4 6 million contract tender they gave him in march per source but hill is tied to saints through 2021 season',\n",
       " 'round 6 pick 19 antoine brooks jr ss maryland pittsburgh steelers',\n",
       " 'round 3 pick 24 jordan elliott dt missouri cleveland browns',\n",
       " 'beacham rams wr josh reynolds on maybe playing games without fans i played in junior college fans in the stands there s probably 100 on both sides total i don t think it ll be too different from that',\n",
       " 'round 7 pick 19 casey toohill olb stanford philadelphia eagles',\n",
       " 'your opinion on nba global games',\n",
       " 'the uncoachable savant of lebron r james phil jackson or popovich would not survive a lebron team',\n",
       " 'round 7 pick 38 tyrie cleveland wr florida denver broncos',\n",
       " 'fiba epic semifinal game from eurobasket 15 between serbia and lithuania including among others jonas valanciunas bogdan bogdanovic nemanja bjelica milos teodosic and mindaugas kuzminskas competetive from start to finish there is also young domantas sabonis on the bench',\n",
       " 'the last dance in 4k michael jordan',\n",
       " 'all time 3p leader james harden',\n",
       " 'have you ever realized that the nfl draft is communism because every team has a salary cap roster limit and the best pick goes to the worst team while the nba is chance with the lottery and mlb is capitalism by throwing money at the best players and no salary cap',\n",
       " 'who is your franchise s all time greatest player',\n",
       " 'round 6 pick 11 charlie woerner te georgia san francisco 49ers',\n",
       " 'interesting tidbit from the 1983 1984 drafts',\n",
       " 'most and least attractive gm jobs',\n",
       " 'round 6 pick 23 evan weaver ilb california arizona cardinals',\n",
       " '2020 was considered the deepest wr draft since 2014 let s compare them side by side by strictly the order they were drafted',\n",
       " 'demovsky so in a nutshell here s why brian gutekunst didn t take a receiver he said early in the draft they couldn t get high enough to take one of the top guys and then in the middle he didn t think there was anybody who could make an impact on our roster this year',\n",
       " 'who is the best will linebacker in the league',\n",
       " 'which current point guard plays most similar to magic johnson',\n",
       " 'pffdraft new giants ot andrew thomas hasn t allowed more than 2 pressures in a single game since 2017',\n",
       " 'dwyane wade 31 pts 6 reb 5 ast vs pistons 2006 ecf game 4',\n",
       " 'whitman the saints started the offseason with 2 million in cap space they have since signed brees 2yr 50 peat 5yr 57 mil sanders 2yr 24 mil j jenkins 2yr 16 7 mil m jenkins 4yr 32 mil t hill 2yr 21 mil and will pay their rookies and we re all just ok with this',\n",
       " 'chase young thinks he may still be growing',\n",
       " 'michael jordan sinks the difficult fadeaway over kendall gill amp kerry kittles',\n",
       " 'trapasso one philosophical takeaway from the draft having two great wrs is a thing of the past you aren t at a major advantage if that s the case it s now very reasonable to expect your team to have three great wrs',\n",
       " 'nba facilities reportedly will begin to reopen friday',\n",
       " 'the last dance intro outro song',\n",
       " 'what is your franchise s worst team ever',\n",
       " 'round 2 pick 4 xavier mckinney fs alabama new york giants',\n",
       " 'round 6 pick 28 isaiah hodgins wr oregon state buffalo bills',\n",
       " 'the 2016 warriors and illegal screens',\n",
       " 'if it goes larry magic michael lebron who do you honestly think is the next nba face is it giannis or zion',\n",
       " 'does luka still have the greatest age 20 season ever',\n",
       " 'oc jordan v lebron has lebron actually played tougher competition in the playoffs',\n",
       " 'eric edholm on twitter i believe you can close the book on the khalil mack trade now bears got mack te cole kmet og arlington hambright raiders got rb josh jacobs db blessuan austin now on jets cb damon arnette wr bryan edwards',\n",
       " 'new nba fan here which key things should i know in your opinion',\n",
       " 'does the value of ol versatility go down a lot with the new cba',\n",
       " 'if your team had drafted well in 2013 14 and picked up both gobert and jokic what would you choose to do',\n",
       " 'questions for nba quiz',\n",
       " 'where will albert okwuegbunam go',\n",
       " 'espn nba reopening team practice facilities friday where local restrictions eased sources say',\n",
       " 'when did lebron surpass magic or kareem',\n",
       " 'pff they re in the trevor lawrence justin fields mix pff_mike on washington redskins 2020 draft',\n",
       " 'who is the best player in nba history without an mvp award or a championship ring',\n",
       " 'looking for inside the nba clip',\n",
       " 'slater how cool is this right as i m interviewing new saints ol cesar ruiz a goat crashes our interview hi drewbrees ruiz watched this twice i expect there will be several more times',\n",
       " 'vikings the family the minnesota vikings announce their draft class with a full house style introduction',\n",
       " '1985 nfc championship game bears rams madden summerall',\n",
       " 'what are your most and least favorite draft picks for your team',\n",
       " 'tracy mcgrady the most effortless scorer in nba history',\n",
       " 'round 5 pick 20 collin johnson wr texas jacksonville jaguars',\n",
       " 'round 2 pick 22 a j epenesa de iowa buffalo bills',\n",
       " 'meyers leonard has dyed his hair pink and blue',\n",
       " 'robotics as a method of circumventing the salary cap',\n",
       " 'can you guys think of any other athletes besides lebron james that get the his opponents were better than him pass as much as lebron does',\n",
       " 'round 3 pick 35 matt peart ot connecticut new york giants',\n",
       " 'round 1 pick 12 henry ruggs iii wr alabama las vegas raiders',\n",
       " 'the pistons are undeserving champions words michael jordan said in 1991 before game 4 of pistons bulls creating the walkoff',\n",
       " 'highlights ray allen sets a career high in scoring drops 54 10 5 vs utah',\n",
       " 'cowboys add international ol prospect from mexico s football powerhouse monterrey tech',\n",
       " 'florio taysom hill s contract has performance incentives based on percentage of playing time as quarterback per source',\n",
       " 'i am glad that kd doesn t feel validated',\n",
       " 'highlight mike vrabel s amazing draft camp',\n",
       " 'garafolo bengals will be picking at 33 no trade',\n",
       " 'what nba players have you interacted with in person share your story',\n",
       " 'michael jordan on isiah thomas whatever he says now you know it wasn t his true actions then he s had time to think about it or the reaction of the public that s kind of changed his perspective of it you can show me anything you want there s no way you can convince me he wasn t an asshole',\n",
       " 'round 3 pick 19 lloyd cushenberry iii c lsu denver broncos',\n",
       " 'so josh rosen',\n",
       " 'highlight nfl primetime chris berman s narrates a buccaneers packers bay of pigs game from the early 90s',\n",
       " 'mt rushmore of most influential nba players',\n",
       " 'penny hardaway vs grant hill face off 1999',\n",
       " 'this series is another proof we need an uncensored version of the nba',\n",
       " 'rapoport the browns and the colts have traded behind the dolphins and texans at no 41 the colts are now on the clock',\n",
       " 'raanan the streak continues it s now 8 drafts as a gm and 54 picks no trades back asked dave gettleman what he makes of that a lot less than you guys do he said with a laugh unbelievable he adds there were some opportunities this year but players they wanted were there',\n",
       " 'round 7 pick 11 kenny willekes de michigan state minnesota vikings',\n",
       " 'dennis rodman s father philander rodman jr had 29 kids with 16 different women',\n",
       " 'besides lawerence and fields whose a qb that has a chance being a first round draft pick',\n",
       " 'rapoport the long awaited trade of redskins lt trent williams to the vikings didn t happen and is now off the table the selection of boise state ot ezra cleveland solidified that',\n",
       " 'round 5 pick 30 kamal martin olb minnesota green bay packers',\n",
       " 'lakers got money from loan program returned it',\n",
       " 'the top 20 career scorers in the nba every year since 1946',\n",
       " 'espn s tim bontemps with a key takeaway from last dance',\n",
       " 'did barkley play for strong teams if not winning rings because of mj could he make more finals playing in wc',\n",
       " 'walterfootball draft grades vikings amp ravens a packers f eagles jalen hurts 2nd rd worst pick i can remember in 20 years of the website s existence',\n",
       " 'inside the nba crew plays nba live 2002 aired november 7th 2001',\n",
       " 'who was the better player kevin durant or larry bird who had the better career',\n",
       " 'round 1 pick 15 jerry jeudy wr alabama denver broncos',\n",
       " 'round 4 pick 40 tyler biadasz c wisconsin dallas cowboys',\n",
       " 'ellison eric decosta joked about alabama alum ozzie newsome s reaction to finally taking an lsu player he kept saying something but we muted him he kept waving his hands and the video went out that s the thing with technology it can be manipulated sometimes it was the russians',\n",
       " 'replace gregg popovich with nate macmillan from 1999 2014 how many rings do they get and how successful would they have been',\n",
       " 'who s a better defender at their peak dennis rodman or kawhi',\n",
       " 'worst moment of oh it s not the same anymore for you',\n",
       " 'isiah thomas i paid a heavy price for not shaking hands with the bulls i was left off the dream team that hurts and it cut deep',\n",
       " 'ourand the last dance episode 3 9 10 p m averaged 6 1 million viewers episode 4 10 11 p m averaged 5 7 million viewers',\n",
       " 'tonge helaire very touching video of clyde edwards helaire holding back tears as he gets drafted',\n",
       " 'pelissero the nfl made an inquiry into tom brady s recent visit to bucs oc byron leftwich s house and determined there was no violation of offseason work rules per league spokesman nflprguy it was a brief personal visit and tom picked up the playbook',\n",
       " 'sitro jameis winston was offered a more lucrative deal by the pittsburgh steelers per source in the end he decided to learn under drew brees and sean payton',\n",
       " 'machota jerry jones on draft call with neville gallimore are you at a new year s party or something back there gallimore i m sorry jones don t you be sorry about anything tear the roof off you re now a dallas cowboy',\n",
       " 'some context who those who try to brand wilt chamberlain as not a winner',\n",
       " 'ysk you can like more than one basketball player',\n",
       " 'player a or b',\n",
       " 'battista i talked to roger goodell after the first night of the draft and he was already so happy with how it was going that he talked about wanting to keep some of the virtual elements for future drafts',\n",
       " '2020 nfl draft day 3 post draft discussion',\n",
       " 'what grade would you give your teams draft',\n",
       " 'king fmia 2020 nfl draft stripped of glitz and replaced by humanity is a successful diversion amid pandemic',\n",
       " 'dennis rodman never averaged over one steal or block during a season in his career',\n",
       " 'since apparently we are comparing quarterbacks tonight who is better josh allen or sam darnold',\n",
       " 'reed ubfootball ledarius mack to chicago bears joins brother khalil',\n",
       " 'round 7 pick 9 chris claybrooks cb memphis jacksonville jaguars',\n",
       " 'dwight howard gets double pumped by victor oladipo',\n",
       " 'all the smoke draymond green on how comparing 90s bulls to 10s wariors or any other dynasty is bullshit',\n",
       " 'waszak jets traded pick no 211 to the colts for cb quincy wilson',\n",
       " 'who are the best players that you ve had the chance to see play',\n",
       " 'with them being brought up a lot in the last dance i think it s time to revisit the bad boys 30 for 30',\n",
       " 'round 5 pick 23 john hightower wr boise state philadelphia eagles',\n",
       " 'no one asked for it but here are the ugliest most underrated jersey ever for each nba team',\n",
       " 'round 6 pick 4 cam brown olb penn state new york giants',\n",
       " 'cousins with the huge dunk over antetokounmpo',\n",
       " 'pff most turnover worthy plays in a single season since 2006 jameis winston 2019 40 carson palmer 2013 40 andrew luck 2012 40 all in their first season with bruce arians',\n",
       " 'round 1 pick 32 clyde edwards helaire rb lsu kansas city chiefs',\n",
       " 'atlanta falcons atlanta enjoy some late night henny on the rocks',\n",
       " 'hypotheticals all these players during their rookie seasons who wins in a 7 game series',\n",
       " 'jeff teague murders marcus morris but gets called for the charge',\n",
       " 'schultz former uw_football ol trey adams is signing with the bills per source adams was a potential day 2 pick prior to injury issues earlier in his collegiate career',\n",
       " 'round 3 pick 42 tyre phillips og mississippi state baltimore ravens',\n",
       " 'round 3 pick 21 julian blackmon fs utah indianapolis colts',\n",
       " 'your favourite player replaces dwight on the 2009 magic',\n",
       " 'lebron imitates kobe s hand signal all that means is get the hell out the way',\n",
       " 'nfl update numbers are in the three day 2020 nfl draft was the most watched ever with over 55 million viewers that s up 35 percent from last year s draft',\n",
       " 'is there any publicly available information on how much revenue each team makes losses per year',\n",
       " 'fifth year option predictions for 2017 first rounders who will get picked up',\n",
       " 'dennis rodman s emotional basketball hall of fame speech',\n",
       " 'eagles twitter account likes a fans tweet calling carson wentz overrated after drafting qb jalen hurts in the 2nd round',\n",
       " 'rodman attempts to save the ball does amazing full dive extension',\n",
       " 'football is hyped in germany whole europe actually',\n",
       " 'sherman on one fateful august afternoon in 2013 a 14 year old jerry jeudy asked a series of tough questions about big bird',\n",
       " 'does the nfl have any rules on how teams can interact with unsigned players during the season',\n",
       " 'paul pierce killing the raptors as a brooklyn net',\n",
       " 'was mark henry the heaviest man to ever dunk a basketball',\n",
       " 'king the craziest rumor that by the way i found out over the weekend was absolutely true that if henry ruggs had been there at 20 or 21 the chiefs were gonna try to go up and get him how nutty is that',\n",
       " 'is larry bird the indisputable goat white player',\n",
       " 'espn toni kukoc i wish jerry were here to say his part of the story it s easy to like michael and scottie and dennis and phil and i like them all he faced lingering bitterness when he joined the bulls mj and pippen referred to him as jerry s guy',\n",
       " 'mysportsupdate for the players who will not get drafted there are more undrafted free agents in the hall of fame 17 with 3 more going in later this year than no 1 overall picks 14',\n",
       " 'lebron misses 3 pointer then sprints the full length of the court to block jason richardson s 360 dunk',\n",
       " 'way too early 2020 nfl mock drafts how well they fared',\n",
       " 'round 4 pick 36 antonio gandy golden wr liberty washington redskins',\n",
       " 'kobe and mj with that similar mentality',\n",
       " 'schefter bears have officially agreed to terms with 11 undrafted free agents including lb ledarius mack the younger brother of khalil',\n",
       " 'rookie kerry kittles dropped 17 on the bulls in the first quarter mj stared at coach calapari and held up a 0 sign with his hand kittles didn t get a bucket for the next 3 quarters',\n",
       " 'after multiple trades back in the 2020 draft the minnesota vikings have 13 day 3 picks 17 total picks in the 2020 draft the record for players chosen in a single draft was the miami dolphins in 1998 with 14',\n",
       " 'my top 10 players of all time',\n",
       " 'california paying sacramento kings 500 000 a month to rent arco arena for field hospital',\n",
       " 'kobe bryant dunks on lebron james',\n",
       " 'among all players who are assisted on less than 25 of their attempts at the rim luka doncic is the only one who shoots at or above 70',\n",
       " 'check out this cool video about george gervin and the history of the finger roll great stuff from the ringer',\n",
       " 'cabot the browns have exercised the 5th year options of 2017 first round picks myles garrett and david njoku per league source',\n",
       " 'game thread indiana pacers 0 1 miami heat 1 0 2013 eastern conference finals game 2',\n",
       " 'round 4 pick 10 ben bartch ot saint johns mn jacksonville jaguars',\n",
       " 'turning the dream into reality my nfl draft experience',\n",
       " 'what hole hasn t your team filled in the draft that you hope will be filled by an udfa',\n",
       " 'what is your nfl unpopular opinion',\n",
       " 'nba contracts',\n",
       " 'mike klis central florida rb adrian killins is signing with eagles per source 9sports',\n",
       " 'round 7 pick 40 derrek tuszka de north dakota state denver broncos',\n",
       " 'graff including projected compensatory picks rick spielman estimated that the vikings have 12 picks in the 2021 draft after picking 15 players today',\n",
       " 'mcbride patriots director of player personnel nick caserio said of the remaining qbs there s still some players that have the possibility of being on our team we ll have a third qb on the roster',\n",
       " 'kobe daggers his very last game ever rip mamba amp mambacita',\n",
       " 'those of you who watched the nba from 2011 now how do you feel about this take',\n",
       " 'round 7 pick 26 tommy stevens qb mississippi state new orleans saints',\n",
       " 'isiah thomas eliminates mj and the bulls with 16 points in the fourth 1989',\n",
       " 'pffdraft xavier mckinney career at alabama 984 coverage snaps 3 td allowed',\n",
       " 'rodthekicker3 blessed to have the chance to make my dreams come true with the colts thank you for this opportunity walkonmentality respectthespecs',\n",
       " 'overshadowed young players',\n",
       " 'joe burrow surprises lowe s associates in ohio',\n",
       " 'should i watch the last dance',\n",
       " 'oc highlight today is rb natrone means 48th birthday means played in the nfl from 1993 2000 and made it to the pro bowl in 1994 with the san diego chargers here are the 9 longest td runs of his career including his incredible 24 yard run against the dolphins in the 1994 divisional round',\n",
       " 'bald jimmy butler',\n",
       " 'dustin colquitt on instagram i have enjoyed my time in chiefs kingdom all things come to an end sometimes sooner than you hoped prayed amp pleaded for them to',\n",
       " 'what is your unpopular nba opinion',\n",
       " 'pff_natejahnke the packers have now picked a player at every offensive position except for wide receiver',\n",
       " 'vrabel family offers amusing backdrop for titans pick',\n",
       " 'young lebron james 25 year old not shaking after losing to orlando magic hands during 2009 ecf will this come back and haunt him in his future espn doc the same way isiah thomas is being treated now',\n",
       " 'allen adam gase on sam darnold his brain is working so much faster he knows all the little details of the offense and that should allow him to operate faster sam will have to be an extension of the coaching staff he has to make sure he s on point',\n",
       " 'what if okc had traded russ for a pass first point guard to pair with kd in the summer of 2016',\n",
       " 'oc why concerns over jordyn brooks pass coverage are overblown video breakdown looking at his fit in seahawks defense looking at his 2018 and 2019 film 11 50',\n",
       " 'one thing i don t like about the mj doc',\n",
       " 'brandon mcmanus no chance on no bye weeks zero chance',\n",
       " 'bismack biyombo s monster block on lebron james during the 2016 eastern conference finals',\n",
       " 'the 2014 15 warriors were the only team in modern nba history to be 1 in defense amp 1 in pace',\n",
       " 'fans should be allowed to criticize players',\n",
       " 'unpopular discussion why fans need to state a g o a t',\n",
       " 'lebron casually spinning the ball in ibaka s face before calmly draining the 3',\n",
       " 'tired of people just hating on players',\n",
       " 'the decision 2010 espys',\n",
       " 'bradley chubb i understand everybody has a story amp motivation but espn doesn t have to highlight the worst moment that happens in some of these folks lives am i tripping',\n",
       " 'paige this is what i think about left tackle position on broncos they will get unsigned veteran free agent kelvin beachum was with mike munchak in pittsburgh will be 31 jason peters is 38 this year but could do one year deal cordy glenn 31 was a lout in cincinnati but can play',\n",
       " 'round 1 pick 5 tua tagovailoa qb alabama miami dolphins',\n",
       " 'draft list with those specific heights',\n",
       " 'lamelo ball 2020 draft scouting report espn',\n",
       " 'the tennessean vanderbilt tight end jared pinkney gets undrafted free agent deal with atlanta falcons',\n",
       " 'schefter first the dolphins had trade conversations with the rams about todd gurley then they had discussions with the jaguars about leonard fournette and today they finally sent a fifth round pick to the 49ers for rb matt breida',\n",
       " 'nfl post draft power rankings',\n",
       " 'a look at the 2017 draft grades',\n",
       " 'round 4 pick 25 rashard lawrence dt lsu arizona cardinals',\n",
       " 'penny hardaway 33points vs miami heat g5 1997 playoffs',\n",
       " 'why do so many nba players have low net worths relative to their salaries',\n",
       " 'bradley beal was the 2 leading scorer this season',\n",
       " 'rich eisen reacts to the 3red and 4th episode of the last dance',\n",
       " 'the last dance scott burrell warned family about his partying being exposed by michael jordan',\n",
       " 'schefter by doing a 1 year deal with the saints jameis winston would get to learn and be around sean payton drew brees and others he would fill the role that teddy bridgewater did in last season before he left for carolina with no other staring jobs it would be an ideal landing spot',\n",
       " 'what s the coolest way to do the playoffs in a bubble',\n",
       " 'round 1 pick 3 jeffrey okudah cb ohio state detroit lions',\n",
       " 'can someone provide some context to kobe becoming an all star his sophomore year',\n",
       " 'tannebaum colts gm chris ballard reiterates they didn t even try to trade up into the first round i was eating popcorn and hanging from pick 19 32',\n",
       " 'nfl draft diamonds michigan state wr darrell stewart signed with green bay packers',\n",
       " 'a fasting hakeem olajuwon helped the rockets defeat mj and the bulls 102 86 on 1 19 97 dropping 32 16 4 4 5 in 39 minutes without food or water during ramadan hakeem as for fasting it is a spiritual mindset through allah s mercy i always felt stronger and more energetic during ramadan',\n",
       " 'nba 95 96 mvp voting',\n",
       " 'rovell kawhi leonard has lost his case against nike in which he claims they stole his klaw logo judge rules two designs are substantively different leonard wanted to take design to his new shoe partner new balance',\n",
       " 'what was the earliest a team with the 1 overall pick began contract negotiations with the player they were going to pick',\n",
       " 'jeff okudah top looks like he yells at receivers before the play not the first time either',\n",
       " 'kleiman the 49ers will not pick up the 5th year option for dl solomon thomas',\n",
       " 'peyton manning says he does not plan to pursue nfl coaching job',\n",
       " '2019 2020 nba bloopers amp funny moments',\n",
       " 'who is a player you can t decide if they are good or not',\n",
       " 'where does draymond rank all time as a power forward and as a player',\n",
       " 'marcus smart hits a half court shot in practice celebrates with a tight gymnastics routine',\n",
       " 'round 7 pick 14 sterling hofrichter k syracuse atlanta falcons',\n",
       " 'oc i charted rb selections by year from 2000 2020 the number of rbs selected in the top 100 this year tell a different story than the round 1 trend',\n",
       " 'nba ref phoenix native bill kennedy delivers 100 meals to banner hospital frontline workers amid covid 19',\n",
       " 'charles barkley eats churros inside the nba',\n",
       " 'lou williams gets the rookie treatment from iverson and c webb 2005',\n",
       " 'round 6 pick 16 justin herron ot wake forest new england patriots',\n",
       " 'rapoport dolphins sign ole miss dt benito jones',\n",
       " 'round 2 pick 5 kyle dugger ss lenoir rhyne new england patriots',\n",
       " 'so where do you guys predict cam newton will go',\n",
       " 'wojnarowski sixers assistant gm marc eversley has agreed to a deal to become the chicago bulls new general manager league sources tell espn eversley will join evp of basketball operations arturas karnisovas to lead a reshaped front office',\n",
       " 'packers lafleur clock not ticking on rodgers',\n",
       " 'round 1 pick 1 joe burrow qb lsu cincinnati bengals',\n",
       " 'stephen curry did not revolutionize the nba',\n",
       " 'do you think the key guys from the ringer got a windfall from the spotify too guys like koc or russillo are they millionaires now',\n",
       " 'chris simms joe burrow is the closest thing i have seen to peyton manning way to go bengals',\n",
       " 'kruse matt lafleur said the packers will try to use josiah deguara in the kyle juszczyk role',\n",
       " 'can i start a debate',\n",
       " 'no 1 ranked player for 2021 nba draft 18 year old evan mobley a 7 footer drawn comparison to chris bosh lma',\n",
       " 'how many 6th and 7th rounders drafted by your team have been proper contributors in recent years',\n",
       " 'oc chase young vs nick bosa film breakdown both use the same three moves and specialize with what ohio state calls side scissors',\n",
       " 'the mj doc is decent but doesn t fully highlight what accurately happened during mj s career',\n",
       " 'the philadelphia eagles composed of players who grew up closest to philadelphia',\n",
       " 'when does trash talk cross the line',\n",
       " 'breer redskins didn t have a post trent williams answer at left tackle lsu s saahdiq charles gives them one some scouts i talk to believe talent wise he s a top 5 tackle in the 20 class the problem he failed drug tests at lsu had enough issues to incur a 6 game suspension',\n",
       " 'nbcsports jerry krause s wife thelma has received interview requests from everyone since the last dance began she has chosen not to talk for now deferring to jerry s words instead 2007 his unpublished memoir titled to set the record straight',\n",
       " 'round 7 pick 39 kyle hinton c washburn minnesota vikings',\n",
       " 'ruggs iii 1 1 remains',\n",
       " 'what would happen if jerry krause tore down a bulls dynasty today',\n",
       " 'round 3 pick 18 neville gallimore dt oklahoma dallas cowboys',\n",
       " 'which players from today would be able to survive and still be the elite players they are to the physicality of the 80s 90s',\n",
       " 'round 4 pick 14 lamical perine rb florida new york jets',\n",
       " 'offseason content trevor ariza scores 1 7 moreypoints in game 7 of the 2018 western conference finals',\n",
       " 'john salley when we played jordan rules the referees never looked at mj and see if he was injured after a hard foul none of that protecting the savior superstar like they do today they didn t do that',\n",
       " 'round 3 pick 20 terrell lewis olb alabama los angeles rams',\n",
       " 'out of the 34 wide receivers drafted in 2009 only 1 is currently on an active roster',\n",
       " 'adam schefter players left for saturday s draft rounds four through seven include jake fromm jacob eason anthony gordon nate stanley deejay dallas k j hill collin johnson donovan peoples jones harrison bryant prince tega wanogho troy dye amik robertson bryce hall lavert hill',\n",
       " 'harden slaps kawhi s butt before the shot goes in',\n",
       " 'round 4 pick 34 shaquille quarterman ilb miami fl jacksonville jaguars',\n",
       " 'round 6 pick 31 prince tega wanogho ot auburn philadelphia eagles',\n",
       " 'michael jordan commercial',\n",
       " 'round 1 pick 28 patrick queen olb lsu baltimore ravens',\n",
       " 'round 4 pick 19 james morgan qb florida international new york jets',\n",
       " 'has there ever been a player who won a title without a hof teammate',\n",
       " 'rapoport his trent s agent statement is false what i reported trent refused to play for minnesotta is true',\n",
       " 'lsu had a player from every position drafted',\n",
       " 'rap it seems odd that packers fans aren t pumped about the jordan love pick considering they may have seen this movie before',\n",
       " 'standig university of washington te hunter byant a surprise udfa is signing with the lions per source',\n",
       " 'alper chiefs agree to terms with 18 undrafted free agents',\n",
       " 'official trailer for showtime documentary basketball county in the water',\n",
       " 'why the bulls only won two fewer games in 1993 94',\n",
       " 'you have 12 roster spots to build the greatest basketball team ever',\n",
       " 'the time eminem nearly blew up a shoe deal with michael jordan with trash talk',\n",
       " 'cbs sports bills draft pick tyler bass hits wild 50 yard field goal without taking any steps 60 yard with one step',\n",
       " 'alex english i wish people knew the real dennis rodman one of the nicest guys and would give anyone the shirt off of his back a true introvert i m glad these yougins who didn t know get to see him work first hand theworm thelastdance',\n",
       " 'first round qbs don t hold clipboards for long an analysis oc',\n",
       " 'gma interview with scott dennis rodman jr burrell',\n",
       " 'raja bell clotheslines kobe bryant in game 5',\n",
       " 'the creators of game of zones are doing a livestream commentary of old episodes on youtube tonight',\n",
       " 'does aj dillion remind enyone else of toby gerheart',\n",
       " 'sabo adam gase is discussing the virtual offseason program right now i feel pretty good at where we re at adam gase on how his guys are already working out jets',\n",
       " 'rapoport how the eagles wanted to draft dangerusswilson and nickfoles in 2012 and why they didn t',\n",
       " 'davante adams this quarantine sucks i planned on doing some workouts with fans this offseason',\n",
       " 'taurasi where are the rich women investors',\n",
       " 'what would happen in today s nba if a player took a 48 hour vacation to vegas to party and get away from his team with his coache s knowledge',\n",
       " '7 seconds or less ranking teams by shot clock management oc basketball analytics',\n",
       " 'round 4 pick 24 james lynch dt baylor minnesota vikings',\n",
       " 'inside the mindset of michael jordan answering the biggest questions based on his past interviews',\n",
       " 'my top 10 at point guard wings bigs',\n",
       " 'round 7 pick 5 geno stone ss iowa baltimore ravens',\n",
       " 'john salley on mj he was the greatest basketball player in the nba history and i don t know if anybody is going to even come close kobe very close lebron very close magic johnson larry bird still my two guys that i have nightmares about but there s nothing like mj nothing',\n",
       " 'best of street ball legend rafer skip to my lou alston',\n",
       " 'round 3 pick 1 logan wilson ilb wyoming cincinnati bengals',\n",
       " 'kliff kingsbury flexes on everybody with his cardinals draft war room',\n",
       " 'marshawn lynch owns a bar which is run by his family and friends they were featured on tonight s episode of bar rescue',\n",
       " 'round 7 pick 3 jauan jennings wr tennessee san francisco 49ers',\n",
       " 'espn s nfl draft coverage went extremely heavy on tragedy and everyone noticed',\n",
       " 'nfl update interesting stat since 2016 only 3 qbs have been selected in the 2nd round christian hackenberg in 2016 deshone kizer in 2017 and drew lock in 2019 that s it',\n",
       " 'pelissero jaguars sign former arizona state cb kobe williams',\n",
       " 'charania the nba also informed franchises that players must conduct a resting ecg and troponin test before they resume engaging in activities at facility',\n",
       " 'who would be the best street fighter in nba history',\n",
       " 'which play do you think is not given as much recognition as some others',\n",
       " 'nfl canada congrats to vancouver native rysen john the wr out of simon fraser university in british columbia has signed as a free agent with the giants the 6 7 237lb receiver had 53 receptions for 861 yards and 10 tds in his senior season',\n",
       " 'random oc correlation of a players perfomance and their scrabble score',\n",
       " 'round 6 pick 7 alohi gilman fs notre dame los angeles chargers',\n",
       " 'round 6 pick 34 jordan glasgow olb michigan indianapolis colts',\n",
       " 'the athletic we want to know players in the nfl draft but when is it too much information alternate title author s tweet there is a line between humanizing someone and capitalizing on their grief the nfl draft crossed that line',\n",
       " 'oc a ranking of nfl gms and why howie roseman isn t bad at his job',\n",
       " 'who do you want to see your team draft tomorrow',\n",
       " 'shanafelt gene upshaw award winner given to top lineman in d2football de austin edwards of ferris state is heading to the atlanta falcons per chris_primetime and not the lions',\n",
       " 'machota jerry jones on drafting this year from his yacht this situation might bring out the best of me',\n",
       " 'rob demovsky three packers draft picks jordan love aj dillon and kamal martin all spent the past several months working out together in santa ana ca per dillon all three are represented by athletes first',\n",
       " 'odegard steve keim on trading for deandre hopkins and then drafting isaiah simmons and josh jones 2020 is our year i guess',\n",
       " 'round 2 pick 27 denzel mims wr baylor new york jets',\n",
       " 'i think that this documentary is going to convince a lot of younger people that mj is the goat',\n",
       " 'mike mayock on selecting henry ruggs as the first wr all three wide receivers we felt were diverse and would bring different things to the raiders however the distinguishing factor really was his speed his explosion and his work ethic',\n",
       " 'round 3 pick 41 adam trautman te dayton new orleans saints',\n",
       " 'dennis rodman defense and rebounding mixtape',\n",
       " 'schefter patriots hc bill belichick says not drafting qb wasn t by design',\n",
       " '6 years ago today donald sterling s infamous audio recording was released to the media',\n",
       " 'veach to ceh we texted pat mahomes and i said give me a name and don t think about it and he said clyde edwards helaire and i said we re good',\n",
       " 'round 7 pick 34 sam sloman k miami oh los angeles rams',\n",
       " 'round 7 pick 7 stantley thomas oliver iii cb florida international carolina panthers',\n",
       " 'quick the saints had their eye on two former nfc south qbs jameis winston amp cam newton',\n",
       " '36 years ago today the classic shootout between bernard king vs isiah thomas game five of the east first round 1984 including thomas 16 points in the final 16 seconds of regulation',\n",
       " 'which playoffs of the 2010s do you think were the best and which playoffs do you think were the worst',\n",
       " 'azcardinals there s nothing quite like getting 𝘵𝘩𝘢𝘵 call welcome to the family isaiahsimmons25',\n",
       " 'what would happen if a field goal kicker lined up the opposite way and kicked it through their own upright',\n",
       " 'round 1 pick 2 chase young de ohio state washington redskins',\n",
       " 'in 1988 playoffs against cleveland cavaliers scottie pippen avg 10 6 pts 5 2 reb amp 2 4 ast on 49 4 ts',\n",
       " 'yates something to keep an eye on any free agent signed after 4 pm est today will not count towards the 2021 compensatory draft pick calculation that could help create a market for the remaining unsigned players',\n",
       " 'there is a song that i have been trying to find for the past 7 8 years but still can t find anywhere it was the alphabet song about the nba and it went like this',\n",
       " 'what were you doing',\n",
       " 'joel embiid shakes lebron and hits a clutch jumper at the end of the all star game',\n",
       " 'will derrick rose be the only mvp not inducted into the hall of fame',\n",
       " 'what is the most demoralizing game you watched of your favorite player team on the flip side what was the most fun',\n",
       " 'minnesota vikings the family',\n",
       " 'unforgettabulls before the last dance there already was a documentary going behind the scenes of the 1998 bulls final run',\n",
       " 'washington post nba reporter ben golliver discusses the billion dollar impact of covid 19 on the league',\n",
       " 'live watch day 3 of draft a thon live with co hosts brandon marshall calais campbell and mark ingram',\n",
       " 'roy hibbert rejects carmelo amp knicks from trip to the ecf against lebron amp heat',\n",
       " 'holder if you re trade charting at home the saints acquired 84 points with pick no 105 trautman and gave away 74 6 points in trading all four day 3 picks',\n",
       " 'being great during the social media era is underrated for lebron s goatness',\n",
       " 'brinson controversial opinion but quarantine draft is better than regular draft',\n",
       " 'is de simeon rice az 1996 2000 tb 2001 2006 den ind 2007 worthy of the hall of fame',\n",
       " 'for everyone calling players taken in late rounds steals here is reddit s opinion on players who were steals in the 2016 nfl draft',\n",
       " 'round 6 pick 1 hakeem adeniji og kansas cincinnati bengals',\n",
       " 'highlights kobe drops 40 8 8 along with 2 steals and 2 blocks in game 1 of the 2009 finals',\n",
       " 'round 4 pick 20 charlie heck ot north carolina houston texans',\n",
       " 'starting from the beginning',\n",
       " 'funny fact luke ridnour was traded to 5 different teams in six days',\n",
       " 'who is the greatest number one overall pick not named peyton manning',\n",
       " 'charania teams were also informed today that players are not allowed to use any practice training facility for workouts other than his nba team',\n",
       " 'pelissero former ut chattanooga qb nick tiano has agreed to terms with the texans source said',\n",
       " 'is james harden the karl malone of this era',\n",
       " 'zangaro doug pederson said they did talk to marty mornhinweg about his experience with the ravens when they drafted lamar jackson doug said it s a fair comp for how they might use jalen hurts as a rookie eagles',\n",
       " 'how is it fair for the women to be using a female basketball in a game of horse against men playing with a bigger ball',\n",
       " 'draymond green on his beef with charles barkley it s jealousy that somebody the same size as him could come in the league and have the success i ve had make the money i ve made win the championships i ve won these were all things that he wasn t able to do',\n",
       " 'the 1981 houston rockets made it to the nba finals despite having a losing record in the regular season',\n",
       " 'luka doncic freeze frames',\n",
       " 'alper vikings sign 12 rookie free agents',\n",
       " 'is it a technical foul if you curse out or fight your own teammate',\n",
       " 'round 4 pick 38 deejay dallas rb miami fl seattle seahawks',\n",
       " 'a 1986 game between the 76ers and celtics had 6 current or future league mvps play',\n",
       " 'in game 6 of the 97 finals karl malone went 7 15 at the freethrow line in a 4 point loss',\n",
       " 'matt lafleur believes aaron rodgers will be a great mentor i can t say enough about his leadership his value his importance to this football team i know he s going to be a great mentor',\n",
       " 'lynn bowden you know what time it is',\n",
       " 'kyrie irving full game 5 highlights at warriors 2016 finals 41 pts 6 ast',\n",
       " 'who do you think won the draft',\n",
       " 'are the patriots aiming to land trevor lawrence in the 2021 nfl draft',\n",
       " 'kubena seahawks trade up and take stephen sullivan at pick no 251 that s the 14th lsu player taken ties ohio state for most since draft shrunk in early 90s',\n",
       " 'cimini seahawks get 48 the jets get 59 and 101',\n",
       " 'jeff okudah a letter to my mom player s tribune',\n",
       " 'with the selection of henry ruggs the raiders have drafted 33 of all players who have run a sub 4 30 40yd since 2000',\n",
       " 'rapoport a couple more teams to keep an eye on the bears and giants have made calls about a potential trade up quickly on tonight we ll see what transpires but a good opportunity for action early',\n",
       " 'what point differential counts as a close game and what counts as one sided game',\n",
       " 'according to my amatuer research clyde edwards helaire is the first player to he drafted from the defending national champions to the defending super bowl champions in the first round since 1999',\n",
       " 'round 3 pick 15 jabari zuniga de florida new york jets',\n",
       " 'tim duncan only wants to talk about boris diaw',\n",
       " 'round 6 pick 18 john penisini dt utah detroit lions',\n",
       " 'what is the longest hiatus a player had from the nfl and got back to playing in games',\n",
       " 'matt barnes ran into someone claiming to be the air traffic control guy for kobe s helicopter ride about a week ago they talked for a half hour and he wants to have him on the podcast sooner or later couldn t find a thread on here about this surpringly',\n",
       " 'kyle lowry hof resume yes or no',\n",
       " '2020 nfl draft day 2 post draft discussion',\n",
       " 'meyers leonard has raised over 125k in covid 19 funds',\n",
       " 'the last dance episode discussion hub',\n",
       " 'globejimmcbride bill belichick said communication was normal during the virtual draft it went off smoothly also offered a scouting report on draft star nike he s fast not as fast as the rabbits he s chasing but he s fast patriots',\n",
       " 'nba s 50 greatest 1997',\n",
       " 'the next steps in ben simmons development beyond the obvious for the 76ers all star',\n",
       " 'how to watch full classic nba games specifically the 1985 1998 bulls',\n",
       " 'round 4 pick 32 l jarius sneed fs louisiana tech kansas city chiefs',\n",
       " 'wagoner seeing some of this so just gonna say this you can disagree with kyle shanahan s evaluation of the wrs and many of you do which is fine but if you think he s lying about brandon aiyuk being his favorite wr in the draft you don t know anything about kyle shanahan',\n",
       " 'top mma heavyweight francis ngannou lifts shaq into the air with ease leaving the giant suprised',\n",
       " 'kaye source eagles and marquise goodwin agreed to terms on a one year 1 35 million dollar deal plus one million in upside',\n",
       " 'what was the closest mj s bulls came to losing the nba finals',\n",
       " 'it s truly insane that russell westbrook averaged a triple double for three straight seasons and no one really gives a shit',\n",
       " 'round 4 pick 16 jacob eason qb washington indianapolis colts',\n",
       " 'the last dance episodes 3 4 post episode discussion thread',\n",
       " 'if boxing has muhammad ali baseball has babe ruth and basketball has michael jordan who does football have',\n",
       " 'will bill simmons leave spotify after a couple of years once he cashed out his 250m package to start another media company',\n",
       " 'pelissero the bucs are signing university of san diego qb reid sinnett source said',\n",
       " 'recent player you whiffed on haven t given up on',\n",
       " 'rank these players scottie pippen dwyane wade kyrie irving and anthony davis',\n",
       " '2010 2019 chris paul vs dirk nowitzki',\n",
       " 'mj is not the goat kareem is',\n",
       " 'dennis rodman describes his mentality while rebounding the ball',\n",
       " 'rapoport falcons wanted to trade up for florida cb cj henderson why didn t they dolphins amp chargers took qbs amp wouldn t move not trading with panthers same division cardinals wouldn t move wanted to take simmons atl knew jax was taking henderson and they did',\n",
       " 'zion williamson talks roy race duke days and more with ernie johnson interview on nbatogether',\n",
       " 'howe bill belichick released one hell of a statement on james develin s retirement incredibly high praise',\n",
       " 'thoughts on the chiefs taking a rb in the first round poor value or a smart move',\n",
       " 'tampa bay buccaneers may face punishment for tom brady violating league wide ban on player coach face to face meetings',\n",
       " 'oc historical timeline afl teams',\n",
       " 'round 2 pick 11 cole kmet te notre dame chicago bears',\n",
       " 'rap the focus for free agent qb jameis winston was never the money this year it was always about the next 10 years the saints set him up for that believes he can become the next teddy bridgewater after learning under brees and payton',\n",
       " 'round 7 pick 28 jonathan garvin de miami fl green bay packers',\n",
       " 'reiss patriots fb james develin announces his retirement',\n",
       " 'your new favorite nfl name sandro platzgummer the giants rb is one of four international player pathways additions for 2020',\n",
       " 'would y all watch the wnba more if they lowered the rims to 9 0',\n",
       " 'round 7 pick 16 dustin woodard c memphis new england patriots',\n",
       " 'salguero dolphins waive ls taybor pepper one day after team drafted ls blake ferguson who now seems to have the job',\n",
       " 'nfl draft diamonds hearing aj green is a huge commodity right now several teams fighting for him offering big money',\n",
       " 'round 2 pick 30 aj dillon rb boston college green bay packers',\n",
       " 'chavez report nfl considering starting season in mid october no bye weeks in contingency plan',\n",
       " 'if you were to lean one way would you say the heatles overachieved or underachieved in their 4 years together',\n",
       " 'gm hasn t connected with aaron rodgers post love',\n",
       " 'karl malone career high performance 61 points 1990',\n",
       " 'how good would shaq be in the nba today',\n",
       " 'rap here it is mr irrelevant the giants take georgia lb tae crowder in the 7th round 255th overall and we re done the draft has finished we all made it against all odds',\n",
       " 'pft eagles likely to play jalen hurts carson wentz on the field together',\n",
       " 'pelissero the jaguars are signing georgia s j r reed source said son of former nfl receiver jake reed',\n",
       " 'dirk nowitzki gets punk d 2005',\n",
       " 'rovell confirmed that the los angeles lakers were the only nba team to ask for a paycheck protection plan loan from the small business administration they received 4 6m and as first reported by kevinarnovitz they have now returned it',\n",
       " 'which player would benefit the most from a single rule change',\n",
       " 'round 5 pick 10 trevis gipson de tulsa chicago bears',\n",
       " 'murry so the chiefs now have a charvarius a thakarius and a l jarius in their secondary next year',\n",
       " 'is anyone actually on draymond s side of his feud with barkley',\n",
       " 'round 4 pick 22 gabriel davis wr central florida buffalo bills',\n",
       " 'jfergusonau auburn hc gus malzahn said he doesn t remember noah igbinoghene missing a practice rep there was one time where he practiced and thought he was just constipated but after practice he had to get his appendix taken out and i don t believe he was out for a long time with that',\n",
       " 'yates news the texans have exercised the fifth year option for 2021 on qb deshaun watson easy choice for their franchise player',\n",
       " 'wojnarowski as georgia moves toward opening certain businesses including gymasiums some players were asking their teams if they should consider traveling there to find a way to play organizations wants players in safe clean team environments not a fitness center in suburban atlanta',\n",
       " 'what are your favorite basketball videos on youtube no games highlights',\n",
       " 'dan hope former ohio state wide recievers austin mack and binjimen victor are both signing with the new york giants',\n",
       " 'how many teams have the gm truly lead the draft or have the player essentially picked by committee and the gm is just the guy to sign off on it',\n",
       " 'zach lowe toni kukoc talks about michael jordan scottie pippen the last dance and the chicago bulls',\n",
       " 'strack toledo te fb reggie gilliam tells me he is signing as a free agent with the buffalo bills',\n",
       " 'lebron game 7 2018 45 pts 7 ast 9 reb vs the pacers was this still prime lebron',\n",
       " 'sunday brunch',\n",
       " 'finlay the redskins will pick up the 5th year option on dl jonathan allen s contract per source',\n",
       " 'tyron smith is 29 and is under contract for the next 4 years at 13 apy',\n",
       " 'why wasn t gucci mane ever signed to the nba',\n",
       " 'i m always impressed with this stat about jerry west',\n",
       " 'marshawn lynch delivers 110 gallons of hand sanitizer to ucsf he instigates action',\n",
       " 'true or false 80s 90s basketball was much rougher than the current day nba',\n",
       " 'from 1999 to 2018 all but one nba finals included either tim duncan kobe bryant or lebron james',\n",
       " 'highlights prime melo vs lebron s first prime in 2010 lebron with a 43 point triple double and melo with 40 points and the game winner over lebron',\n",
       " 'round 3 pick 26 jonathan greenard de florida houston texans',\n",
       " 'round 1 pick 17 ceedee lamb wr oklahoma dallas cowboys',\n",
       " 'charania sources the nba has informed each team to assign one senior executive to this position facility hygiene officer',\n",
       " 'charchian the vikings are only five picks away from being able to draft an entire offense and defense',\n",
       " 'round 2 pick 16 darrell taylor de tennessee seattle seahawks',\n",
       " 'round 4 pick 4 darnay holmes cb ucla new york giants',\n",
       " 'out of the loop what s with mj and isiah thomas',\n",
       " 'what unpopular opinion do you have regarding your team',\n",
       " 'dennis rodman interview with eric andre',\n",
       " 'if game of thrones characters were part of the nba front office who would be the best and worst',\n",
       " 'round 3 pick 30 josiah deguara te cincinnati green bay packers',\n",
       " 'nfl peyton manning talks about the time he tried a fake kneel down',\n",
       " 'round 6 pick 29 jake hanson c oregon green bay packers',\n",
       " 'are the raptors re signing both ibaka and gasol what is the market for them',\n",
       " 'round 1 pick 26 jordan love qb utah state green bay packers',\n",
       " 'the time shaq gripped up with the world s greatest armwrestler',\n",
       " 'round 7 pick 30 nate stanley qb iowa minnesota vikings',\n",
       " 'zion williamson only played 19 games this season but certainly gave us a taste of what s to come in the future zion williamson mix',\n",
       " 'is dennis rodman a max player in today s league',\n",
       " 'kleiman we re past 4pm est which means signing free agents no longer counts towards compensatory picks even more available free agents prince amukamara mike daniels eric reid kelvin beachum demaryius thomas reshad jones tavon wilson jabaal sheard vinny curry brandon carr',\n",
       " 'round 7 pick 35 brian cole ii olb mississippi state minnesota vikings',\n",
       " 'schefter fiu rb anthony jones who has recovered from being shot in the face last year and is a relative of vikings rb dalvin cook will be signing with the seattle seahawks per source',\n",
       " 'gregbeacham jordan fuller is the brother of former ucla star devin fuller his uncle is sinbad and his mom used to sing backup for luther vandross and the rolling stones',\n",
       " 'alvin robertson played 10 seasons in the nba from 1984 1996 and finished his career with 2 112 steals over 779 games the league leaders in steals from the last 10 full nba seasons have combined for 1 794 steals over 790 games 318 fewer steals in 11 more games',\n",
       " 'fred taylor underrated rb duuuuuvallllllllllll',\n",
       " 'with the draft over and team rosters filling up which gm and hc do you believe are on the head seat heading into 2020',\n",
       " 'lebron s pursuit of mj s legacy was stopped cold in its tracks by his two biggest competitors teaming up to take him down',\n",
       " '8 years ago today derrick rose tore his acl',\n",
       " '2020 nfl draft prediction contest results',\n",
       " 'who are were some meme level qb s that switched teams and turned out to have stellar careers',\n",
       " 'if every team was made up of players who grew up no more than 100 miles from their homecourt who would win the championship',\n",
       " 'michael jordan and scottie pippen are the only players in nba history to average at least 2 steals and 8 blocks per game for their careers',\n",
       " 'what were some draft choices that were widely criticized at the time but ended up being good moves',\n",
       " 'bugner 2020 nfl draft grades compiled and ranked vikings ranked best and packers ranked worst',\n",
       " 'very casual nfl fan here from europe love the game and watch as much as i can but i really don t understand the draft',\n",
       " 'wilson laremy tunsil negotiated his own 22m per year deal directly with texans coach general manager bill o brien without an agent tunsil got advice from advisors he did extremely well in his negotiations one year after being traded from dolphins for two first round picks',\n",
       " 'in 1986 the bucs used sodium pentothal on running back joe mccall in order to get him to admit that he was faking his knee injury which would allow them to get rid of his contract when that didn t work they placed hidden cameras in his hotel rooms and hired people to follow him',\n",
       " 'tomasson mike zimmer on packers drafting jordan love i think rodgers should retire',\n",
       " 'top 15 nba players of the 2000s',\n",
       " 'one thing the last dance misses is the times rodman would get upset with the bulls during a game and start launching 3 pointers',\n",
       " 'round 3 pick 17 bryan edwards wr south carolina las vegas raiders',\n",
       " 'round 2 pick 14 kj hamler wr penn state denver broncos',\n",
       " 'schefter lsu te thaddeus moss randy moss son and an undrafted free agent plans to sign with the washington redskins per source',\n",
       " 'how nfl is set if needed to shake up its schedule',\n",
       " 'eaglespmc please stop comparing this to the saints taysom hill hill was an undrafted free agent that the saints signed when brees was 37 years old the eagles just used a 2nd round pick on hurts when wentz is 27 years old and he had the worst wr unit in the nfl last year just stop',\n",
       " 'how many wins would the paul george team get in the west',\n",
       " 'this week s top r nfl highlight s',\n",
       " 'if both deciced to retire today who would rank higher on your all time list curry or durant',\n",
       " 'request hd lebron mask photo',\n",
       " 'schefter eagles are trading for 49ers wr marquise goodwin per source',\n",
       " 'where do we see carmelo anthony ending up next season',\n",
       " 'where do you rank joe dumars all time',\n",
       " 'ringer how bill o brien s many screw ups led to the precedent setting laremy tunsil deal',\n",
       " 'raptors jordan loyd shares a lowry story after game 4 of the finals',\n",
       " 'kyrie s game 7 shot is overrated',\n",
       " 'coach nick is derrick rose back to mvp form rose was doing some serious work in detroit this season coming off the bench and producing per minute numbers we hadn t seen since his mvp season compares and contrasts his transcendent year in chicago with this season in detroit',\n",
       " 'round 6 pick 32 isaiah rodgers cb massachusetts indianapolis colts',\n",
       " 'oc highlight 3 minutes in light of the buccaneers moving up one spot in the draft for wirfs and the bears moving up one spot in 2017 for trubisky let s take a look at a one spot trade up that didn t make sense this is the story of the 1993 cardinals trading up one spot for a running back',\n",
       " 'nba players who can t guard themselves',\n",
       " 'dixon clyde edwards helaire had an adjusted broken tackle rate of 86 in 2019 how good was that nfl draft rb s like cam akers d andre swift and j k dobbins all sit at or below 33',\n",
       " 'round 4 pick 2 saahdiq charles ot lsu washington redskins',\n",
       " 'who would you rather have gardner minshew or justin herbert',\n",
       " 'is kd still a villain in your eyes',\n",
       " 'round 2 pick 7 robert hunt og louisiana miami dolphins',\n",
       " 'reporter says masturbation on live tv',\n",
       " 'round 5 pick 18 kindle vildor cb georgia southern chicago bears',\n",
       " 'round 7 pick 2 kamren curl ss arkansas washington redskins',\n",
       " 'jay morrison congrats to dayton s adam trautman third round to saints he is the first ud player to be drafted since 1977 and the highest ud player drafted since 1972',\n",
       " 'stapleton gettleman says giants like mckinney s play speed and they re not worried about his relatively slow 40 time at the combine because it s not about a guy running in his underwear on a track',\n",
       " 'round 7 pick 6 k j hill wr ohio state los angeles chargers',\n",
       " 'anderson vikings gm rick spielman to me on the phone we re trying to be as aggressive as we can tonight because of the amount of capital we have if there are players still there in the upper echelon of the 2nd 3rd round once we finalize our game plan that s a definite possibility',\n",
       " 'from 1979 1985 the bird led celtics won less than 60 games only once',\n",
       " 'yates the patriots have informed veteran s obi melifonwu of his release per source with the draft over teams are reshuffling their roster to accommodate the new players added',\n",
       " 'did zion live up to the hype so far',\n",
       " 'besides chemba walker why did the hornets draft so terribly over the years',\n",
       " 'rodman ben wallace and draymond',\n",
       " 'vikings so about last night',\n",
       " 'odegard isaiah simmons has gained about 30 pounds since he arrived at clemson in 2016 but hasn t lost any speed he s now 6 4 238 and runs a 4 39 40 i ve seen a lot of guys get bigger and get a lot slower nothing has changed at all',\n",
       " 'bukowski packers targeted 2 wrs in the early and middle parts of the second round and tried to move up for them stopped trying to move up when they got picked meaning they believe the board fell off after that',\n",
       " 'best fanbases',\n",
       " 'lsu s joe burrow clyde edwards helaire odds on favorites to win offensive rookie of the year',\n",
       " 'watson man keep yo ass in the house bruh lol',\n",
       " 'paul pierce amp tracy mcgrady react to dennis rodman s vegas story from the last dance the jump',\n",
       " 'how a british prog rocker gave the chicago bulls their theme song',\n",
       " ...]"
      ]
     },
     "execution_count": 119,
     "metadata": {},
     "output_type": "execute_result"
    }
   ],
   "source": [
    "clean_train_data"
   ]
  },
  {
   "cell_type": "markdown",
   "metadata": {},
   "source": [
    "### Count Vectorizer"
   ]
  },
  {
   "cell_type": "code",
<<<<<<< HEAD
   "execution_count": 33,
   "metadata": {},
   "outputs": [],
   "source": [
    "from sklearn.feature_extraction.text import CountVectorizer"
   ]
  },
  {
   "cell_type": "code",
   "execution_count": 42,
=======
   "execution_count": 136,
>>>>>>> 629f0a07f2e448814334d0143074ff63853f7727
   "metadata": {},
   "outputs": [],
   "source": [
    "# instantiate our CountVectorizer. This counts the number of appearances of all the words in our training data and\n",
    "# eliminates common english stop words. 5000 max features works well for our purposes (tested various numbers). Our\n",
    "# data is already preprocessed and tokenized manually earlier. ngram_range is 1,3, although all or nearly all our\n",
    "# features are single words\n",
    "vectorizer = CountVectorizer(analyzer=\"word\",\n",
    "                             tokenizer=None,\n",
    "                             preprocessor=None,\n",
    "                             stop_words='english',\n",
    "                             max_features=5000,\n",
<<<<<<< HEAD
    "                             ngram_range=(1, 3),\n",
    "                             max_df=0.9,\n",
    "                             min_df=0.001)"
=======
    "                             max_df= 0.7,\n",
    "                             min_df= 0.001,\n",
    "                             ngram_range=(1, 3))"
>>>>>>> 629f0a07f2e448814334d0143074ff63853f7727
   ]
  },
  {
   "cell_type": "code",
<<<<<<< HEAD
   "execution_count": 43,
=======
   "execution_count": 152,
>>>>>>> 629f0a07f2e448814334d0143074ff63853f7727
   "metadata": {},
   "outputs": [],
   "source": [
    "# fit our training data and test data lists to our count_vectorizer\n",
    "\n",
    "train_data_features = vectorizer.fit_transform(clean_train_data)\n",
    "\n",
    "test_data_features = vectorizer.transform(clean_test_data)"
   ]
  },
  {
   "cell_type": "code",
<<<<<<< HEAD
   "execution_count": 44,
=======
   "execution_count": 153,
   "metadata": {},
   "outputs": [
    {
     "data": {
      "text/plain": [
       "<1269x2520 sparse matrix of type '<class 'numpy.int64'>'\n",
       "\twith 13056 stored elements in Compressed Sparse Row format>"
      ]
     },
     "execution_count": 153,
     "metadata": {},
     "output_type": "execute_result"
    }
   ],
   "source": [
    "train_data_features"
   ]
  },
  {
   "cell_type": "code",
   "execution_count": 160,
>>>>>>> 629f0a07f2e448814334d0143074ff63853f7727
   "metadata": {},
   "outputs": [],
   "source": [
    "# convert to array\n",
    "\n",
    "train_data_features = train_data_features.toarray()"
   ]
  },
  {
   "cell_type": "code",
<<<<<<< HEAD
   "execution_count": 45,
=======
   "execution_count": 161,
>>>>>>> 629f0a07f2e448814334d0143074ff63853f7727
   "metadata": {},
   "outputs": [
    {
     "data": {
      "text/plain": [
<<<<<<< HEAD
       "((1275, 2537), (426, 2537))"
      ]
     },
     "execution_count": 45,
=======
       "array([[0, 0, 0, ..., 0, 0, 0],\n",
       "       [0, 0, 0, ..., 0, 0, 0],\n",
       "       [0, 0, 0, ..., 0, 0, 0],\n",
       "       ...,\n",
       "       [0, 0, 0, ..., 0, 0, 0],\n",
       "       [0, 0, 0, ..., 0, 0, 0],\n",
       "       [0, 0, 0, ..., 0, 0, 0]])"
      ]
     },
     "execution_count": 161,
     "metadata": {},
     "output_type": "execute_result"
    }
   ],
   "source": [
    "train_data_features"
   ]
  },
  {
   "cell_type": "code",
   "execution_count": 140,
   "metadata": {},
   "outputs": [
    {
     "data": {
      "text/plain": [
       "(1269, 2520)"
      ]
     },
     "execution_count": 140,
     "metadata": {},
     "output_type": "execute_result"
    }
   ],
   "source": [
    "train_data_features.shape"
   ]
  },
  {
   "cell_type": "code",
   "execution_count": 141,
   "metadata": {},
   "outputs": [
    {
     "data": {
      "text/plain": [
       "((1269, 2520), (424, 2520))"
      ]
     },
     "execution_count": 141,
>>>>>>> 629f0a07f2e448814334d0143074ff63853f7727
     "metadata": {},
     "output_type": "execute_result"
    }
   ],
   "source": [
    "# check shapes\n",
    "\n",
    "train_data_features.shape, test_data_features.shape"
   ]
  },
  {
   "cell_type": "code",
<<<<<<< HEAD
   "execution_count": 46,
=======
   "execution_count": 142,
>>>>>>> 629f0a07f2e448814334d0143074ff63853f7727
   "metadata": {
    "scrolled": true
   },
   "outputs": [],
   "source": [
    "# I wanted check that the features corpus was as expected - removed print statement for readability\n",
    "\n",
    "vocab = vectorizer.get_feature_names()"
   ]
  },
  {
   "cell_type": "code",
<<<<<<< HEAD
   "execution_count": 47,
=======
   "execution_count": 145,
>>>>>>> 629f0a07f2e448814334d0143074ff63853f7727
   "metadata": {
    "scrolled": true
   },
   "outputs": [
    {
     "data": {
      "text/plain": [
<<<<<<< HEAD
       "2537"
      ]
     },
     "execution_count": 47,
=======
       "2520"
      ]
     },
     "execution_count": 145,
>>>>>>> 629f0a07f2e448814334d0143074ff63853f7727
     "metadata": {},
     "output_type": "execute_result"
    }
   ],
   "source": [
    "len(vocab)"
   ]
  },
  {
   "cell_type": "code",
   "execution_count": null,
   "metadata": {},
   "outputs": [],
   "source": []
  },
  {
   "cell_type": "markdown",
   "metadata": {},
   "source": [
    "## MODELING"
   ]
  },
  {
   "cell_type": "markdown",
   "metadata": {},
   "source": [
    "### Logistic Regression"
   ]
  },
  {
   "cell_type": "code",
   "execution_count": 154,
   "metadata": {},
   "outputs": [],
   "source": [
    "from sklearn.linear_model import LogisticRegression"
   ]
  },
  {
   "cell_type": "code",
   "execution_count": 155,
   "metadata": {},
   "outputs": [],
   "source": [
    "# fit logistic regression model\n",
    "\n",
    "lr = LogisticRegression(penalty='l2')"
   ]
  },
  {
   "cell_type": "code",
   "execution_count": 156,
   "metadata": {},
   "outputs": [
    {
     "data": {
      "text/plain": [
       "((1269, 2520), (1269,))"
      ]
     },
     "execution_count": 156,
     "metadata": {},
     "output_type": "execute_result"
    }
   ],
   "source": [
    "# shape check\n",
    "\n",
    "train_data_features.shape, y_train.shape"
   ]
  },
  {
   "cell_type": "code",
   "execution_count": 157,
   "metadata": {},
   "outputs": [
    {
     "data": {
      "text/plain": [
       "LogisticRegression(C=1.0, class_weight=None, dual=False, fit_intercept=True,\n",
       "                   intercept_scaling=1, l1_ratio=None, max_iter=100,\n",
       "                   multi_class='auto', n_jobs=None, penalty='l2',\n",
       "                   random_state=None, solver='lbfgs', tol=0.0001, verbose=0,\n",
       "                   warm_start=False)"
      ]
     },
     "execution_count": 157,
     "metadata": {},
     "output_type": "execute_result"
    }
   ],
   "source": [
    "lr.fit(train_data_features, y_train)"
   ]
  },
  {
   "cell_type": "code",
   "execution_count": 159,
   "metadata": {},
   "outputs": [
    {
     "data": {
      "text/plain": [
       "<1269x2520 sparse matrix of type '<class 'numpy.int64'>'\n",
       "\twith 13056 stored elements in Compressed Sparse Row format>"
      ]
     },
     "execution_count": 159,
     "metadata": {},
     "output_type": "execute_result"
    }
   ],
   "source": [
    "train_data_features"
   ]
  },
  {
   "cell_type": "code",
   "execution_count": 158,
   "metadata": {},
   "outputs": [
    {
     "data": {
      "text/plain": [
       "0.9866036249014972"
      ]
     },
     "execution_count": 158,
     "metadata": {},
     "output_type": "execute_result"
    }
   ],
   "source": [
    "lr.score(train_data_features, y_train)"
   ]
  },
  {
   "cell_type": "code",
   "execution_count": 151,
   "metadata": {},
   "outputs": [
    {
     "data": {
      "text/plain": [
       "0.9127358490566038"
      ]
     },
     "execution_count": 151,
     "metadata": {},
     "output_type": "execute_result"
    }
   ],
   "source": [
    "lr.score(test_data_features, y_test)"
   ]
  },
  {
   "cell_type": "markdown",
   "metadata": {},
   "source": [
    "### Feature comparison"
   ]
  },
  {
   "cell_type": "markdown",
   "metadata": {},
   "source": [
    "Creates a dataframe that matches features to coefficients"
   ]
  },
  {
   "cell_type": "code",
   "execution_count": null,
   "metadata": {},
   "outputs": [],
   "source": [
    "coef_list = lr.coef_.tolist()"
   ]
  },
  {
   "cell_type": "code",
   "execution_count": null,
   "metadata": {},
   "outputs": [],
   "source": [
    "coef_list = coef_list[0]"
   ]
  },
  {
   "cell_type": "code",
   "execution_count": null,
   "metadata": {},
   "outputs": [],
   "source": [
    "coef_df = pd.DataFrame({'features': vectorizer.get_feature_names(),\n",
    "                        'coefs': coef_list})"
   ]
  },
  {
   "cell_type": "code",
   "execution_count": null,
   "metadata": {
    "scrolled": true
   },
   "outputs": [],
   "source": [
    "coef_df.sort_values(by = ['coefs'])"
   ]
  },
  {
   "cell_type": "markdown",
   "metadata": {},
   "source": [
    "### Let's throw out these unfair words and rerun"
   ]
  },
  {
   "cell_type": "code",
   "execution_count": null,
   "metadata": {},
   "outputs": [],
   "source": [
    "stopwords = set(stopwords.words('english'))\n",
    "\n",
    "extra_stopwords = ['nba', 'basketball', 'football', 'nfl']\n",
    "\n",
    "stopwords.update(extra_stopwords)"
   ]
  },
  {
   "cell_type": "code",
   "execution_count": null,
   "metadata": {},
   "outputs": [],
   "source": [
    "vectorizer = CountVectorizer(analyzer = \"word\",\n",
    "                             tokenizer = None,\n",
    "                             preprocessor = None,\n",
    "                             stop_words = stopwords,\n",
    "                             max_features = 5000,\n",
    "                             ngram_range = (1, 3))\n",
    "\n",
    "train_data_features = vectorizer.fit_transform(clean_train_data)\n",
    "\n",
    "test_data_features = vectorizer.transform(clean_test_data)\n",
    "\n",
    "train_data_features = train_data_features.toarray()\n",
    "\n",
    "train_data_features.shape, test_data_features.shape"
   ]
  },
  {
   "cell_type": "code",
   "execution_count": null,
   "metadata": {},
   "outputs": [],
   "source": [
    "lr.fit(train_data_features, y_train)"
   ]
  },
  {
   "cell_type": "code",
   "execution_count": null,
   "metadata": {},
   "outputs": [],
   "source": [
    "lr.score(train_data_features, y_train)"
   ]
  },
  {
   "cell_type": "code",
   "execution_count": null,
   "metadata": {},
   "outputs": [],
   "source": [
    "lr.score(test_data_features, y_test)"
   ]
  },
  {
   "cell_type": "code",
   "execution_count": null,
   "metadata": {
    "scrolled": true
   },
   "outputs": [],
   "source": [
    "coef_list = lr.coef_.tolist()\n",
    "coef_list = coef_list[0]\n",
    "\n",
    "coef_df = pd.DataFrame({'features' : vectorizer.get_feature_names(),\n",
    "                       'coefs' : coef_list})\n",
    "\n",
    "coef_df.sort_values(by = ['coefs'])"
   ]
  },
  {
   "cell_type": "markdown",
   "metadata": {},
   "source": [
    "### Decision Tree"
   ]
  },
  {
   "cell_type": "code",
   "execution_count": null,
   "metadata": {},
   "outputs": [],
   "source": [
    "from sklearn.tree import DecisionTreeClassifier"
   ]
  },
  {
   "cell_type": "code",
   "execution_count": null,
   "metadata": {},
   "outputs": [],
   "source": [
    "tree = DecisionTreeClassifier()"
   ]
  },
  {
   "cell_type": "code",
   "execution_count": null,
   "metadata": {},
   "outputs": [],
   "source": [
    "tree.fit(train_data_features, y_train)"
   ]
  },
  {
   "cell_type": "code",
   "execution_count": null,
   "metadata": {},
   "outputs": [],
   "source": [
    "tree.score(train_data_features, y_train)"
   ]
  },
  {
   "cell_type": "code",
   "execution_count": null,
   "metadata": {},
   "outputs": [],
   "source": [
    "tree.score(test_data_features, y_test)"
   ]
  },
  {
   "cell_type": "markdown",
   "metadata": {},
   "source": [
    "### Random Forest"
   ]
  },
  {
   "cell_type": "code",
   "execution_count": null,
   "metadata": {},
   "outputs": [],
   "source": [
    "from sklearn.ensemble import RandomForestClassifier"
   ]
  },
  {
   "cell_type": "code",
   "execution_count": null,
   "metadata": {},
   "outputs": [],
   "source": [
    "forest = RandomForestClassifier(n_estimators = 100)"
   ]
  },
  {
   "cell_type": "code",
   "execution_count": null,
   "metadata": {},
   "outputs": [],
   "source": [
    "forest.fit(train_data_features, y_train)"
   ]
  },
  {
   "cell_type": "code",
   "execution_count": null,
   "metadata": {},
   "outputs": [],
   "source": [
    "forest.score(train_data_features, y_train)"
   ]
  },
  {
   "cell_type": "code",
   "execution_count": null,
   "metadata": {},
   "outputs": [],
   "source": [
    "forest.score(test_data_features, y_test)"
   ]
  },
  {
   "cell_type": "markdown",
   "metadata": {},
   "source": [
    "###  Matrix on Logistic Regression"
   ]
  },
  {
   "cell_type": "code",
   "execution_count": null,
   "metadata": {},
   "outputs": [],
   "source": [
    "from sklearn.metrics import confusion_matrix"
   ]
  },
  {
   "cell_type": "code",
   "execution_count": null,
   "metadata": {},
   "outputs": [],
   "source": [
    "y_pred = lr.predict(test_data_features)"
   ]
  },
  {
   "cell_type": "code",
   "execution_count": null,
   "metadata": {},
   "outputs": [],
   "source": [
    "cm = confusion_matrix(y_test, y_pred)"
   ]
  },
  {
   "cell_type": "code",
   "execution_count": null,
   "metadata": {},
   "outputs": [],
   "source": [
    "cm_df = pd.DataFrame(cm,\n",
    "                    columns=['predict_neg', 'predict_pos'],\n",
    "                    index = ['actual_neg', 'actual_pos'])"
   ]
  },
  {
   "cell_type": "code",
   "execution_count": null,
   "metadata": {},
   "outputs": [],
   "source": [
    "cm_df"
   ]
  },
  {
   "cell_type": "markdown",
   "metadata": {},
   "source": [
    "## Checking where our model failed"
   ]
  },
  {
   "cell_type": "code",
   "execution_count": null,
   "metadata": {},
   "outputs": [],
   "source": [
    "comparison_df = pd.DataFrame({'y_actual' : y_test,\n",
    "             'y_predicted' : y_pred})"
   ]
  },
  {
   "cell_type": "code",
   "execution_count": null,
   "metadata": {},
   "outputs": [],
   "source": [
    "mismatch_df = comparison_df[comparison_df['y_actual'] != comparison_df['y_predicted']]"
   ]
  },
  {
   "cell_type": "code",
   "execution_count": null,
   "metadata": {},
   "outputs": [],
   "source": [
    "mismatch2_df = pd.concat([mismatch_df, X_test], axis = 1)"
   ]
  },
  {
   "cell_type": "code",
   "execution_count": null,
   "metadata": {},
   "outputs": [],
   "source": [
    "# All incorrect predictions with titles\n",
    "\n",
    "mismatches = mismatch2_df.dropna()"
   ]
  },
  {
   "cell_type": "code",
   "execution_count": null,
   "metadata": {
    "scrolled": true
   },
   "outputs": [],
   "source": [
    "mismatches"
   ]
  },
  {
   "cell_type": "markdown",
   "metadata": {},
   "source": [
    "### Let's try TF-IDF"
   ]
  },
  {
   "cell_type": "markdown",
   "metadata": {},
   "source": [
    "Term Frequency / Inverse Document Frequency\n",
    "\n",
    "TF(w) = (Number of times term w appears in a document) / (Total number of terms in the document)\n",
    "\n",
    "IDF(w) = log_e(Total number of documents / Number of documents with term w in it)"
   ]
  },
  {
   "cell_type": "code",
   "execution_count": null,
   "metadata": {},
   "outputs": [],
   "source": [
    "tfidf_vec = TfidfVectorizer(analyzer=\"word\",\n",
    "                            tokenizer=None,\n",
    "                            preprocessor=None,\n",
    "                            stop_words=['nba', 'nfl', 'football', 'basketball'],\n",
    "                            max_features=5000,\n",
    "                            ngram_range=(1, 3))"
   ]
  },
  {
   "cell_type": "code",
   "execution_count": null,
   "metadata": {},
   "outputs": [],
   "source": [
    "train_data_features = tfidf_vec.fit_transform(clean_train_data)\n",
    "\n",
    "test_data_features = tfidf_vec.transform(clean_test_data)\n",
    "\n",
    "train_data_features = train_data_features.toarray()\n",
    "\n",
    "train_data_features.shape, test_data_features.shape"
   ]
  },
  {
   "cell_type": "code",
   "execution_count": null,
   "metadata": {},
   "outputs": [],
   "source": [
    "lr.fit(train_data_features, y_train)"
   ]
  },
  {
   "cell_type": "code",
   "execution_count": null,
   "metadata": {},
   "outputs": [],
   "source": [
    "lr.score(train_data_features, y_train)"
   ]
  },
  {
   "cell_type": "code",
   "execution_count": null,
   "metadata": {},
   "outputs": [],
   "source": [
    "lr.score(test_data_features, y_test)"
   ]
  },
  {
   "cell_type": "markdown",
   "metadata": {},
   "source": [
    "### Let's try on some other subreddits"
   ]
  },
  {
   "cell_type": "code",
   "execution_count": null,
   "metadata": {},
   "outputs": [],
   "source": [
    "train = pd.concat([politics_test, conservative_test])"
   ]
  },
  {
   "cell_type": "code",
   "execution_count": null,
   "metadata": {},
   "outputs": [],
   "source": [
    "X = train[['title']]\n",
    "y = train['subreddit']"
   ]
  },
  {
   "cell_type": "code",
   "execution_count": null,
   "metadata": {},
   "outputs": [],
   "source": [
    "# politics_test = scrape_to_df(scraper_bike, 'https://www.reddit.com/r/politics.json')\n",
    "# conservative_test = scrape_to_df(scraper_bike, 'https://www.reddit.com/r/conservative.json')"
   ]
  },
  {
   "cell_type": "code",
   "execution_count": null,
   "metadata": {},
   "outputs": [],
   "source": [
    "X_train, X_test, y_train, y_test = train_test_split(X, y, random_state = 42, stratify = y)"
   ]
  },
  {
   "cell_type": "code",
   "execution_count": null,
   "metadata": {},
   "outputs": [],
   "source": [
    "politics_test = politics_test.drop(columns='selftext')\n",
    "conservative_test = conservative_test.drop(columns='selftext')\n",
    "\n",
    "train = pd.concat([politics_test, conservative_test])\n",
    "tokenizer = RegexpTokenizer(r'\\w+')\n",
    "\n",
    "train['title'] = train['title'].map(lambda x: tokenizer.tokenize(x.lower()))\n",
    "train['title'] = train['title'].map(lambda x: ' '.join(x))"
   ]
  },
  {
   "cell_type": "code",
   "execution_count": null,
   "metadata": {},
   "outputs": [],
   "source": [
    "# create our training data list - this is a list of strings, with each string being a post title\n",
    "\n",
    "clean_train_data = []\n",
    "\n",
    "for traindata in X_train['title']:\n",
    "    clean_train_data.append(traindata)\n",
    "    \n",
    "    \n",
    "# create test data list\n",
    "\n",
    "clean_test_data = []\n",
    "\n",
    "for testdata in X_test['title']:\n",
    "    clean_test_data.append(testdata)"
   ]
  },
  {
   "cell_type": "code",
   "execution_count": null,
   "metadata": {},
   "outputs": [],
   "source": [
    "vectorizer = CountVectorizer(analyzer=\"word\",\n",
    "                             tokenizer=None,\n",
    "                             preprocessor=None,\n",
    "                             stop_words='english',\n",
    "                             max_features=5000,\n",
    "                             ngram_range=(1, 3))\n",
    "\n",
    "train_data_features = vectorizer.fit_transform(clean_train_data)\n",
    "\n",
    "test_data_features = vectorizer.transform(clean_test_data)\n",
    "\n",
    "train_data_features = train_data_features.toarray()\n",
    "\n",
    "train_data_features.shape, test_data_features.shape\n",
    "\n",
    "vocab = vectorizer.get_feature_names()"
   ]
  },
  {
   "cell_type": "markdown",
   "metadata": {},
   "source": [
    "### Modeling"
   ]
  },
  {
   "cell_type": "code",
   "execution_count": null,
   "metadata": {},
   "outputs": [],
   "source": [
    "lr = LogisticRegression(penalty = 'l2')"
   ]
  },
  {
   "cell_type": "code",
   "execution_count": null,
   "metadata": {},
   "outputs": [],
   "source": [
    "train_data_features.shape, y_train.shape"
   ]
  },
  {
   "cell_type": "code",
   "execution_count": null,
   "metadata": {},
   "outputs": [],
   "source": [
    "lr.fit(train_data_features, y_train)\n",
    "\n",
    "lr.score(train_data_features, y_train)"
   ]
  },
  {
   "cell_type": "code",
   "execution_count": null,
   "metadata": {},
   "outputs": [],
   "source": [
    "lr.score(test_data_features, y_test)"
   ]
  },
  {
   "cell_type": "code",
   "execution_count": null,
   "metadata": {},
   "outputs": [],
   "source": [
    "coef_list = lr.coef_.tolist()\n",
    "\n",
    "coef_list = coef_list[0]"
   ]
  },
  {
   "cell_type": "code",
   "execution_count": null,
   "metadata": {
    "scrolled": true
   },
   "outputs": [],
   "source": [
    "coef_df = pd.DataFrame({'features' : vectorizer.get_feature_names(),\n",
    "                       'coefs' : coef_list})\n",
    "\n",
    "coef_df.sort_values(by = ['coefs'])"
   ]
  },
  {
   "cell_type": "markdown",
   "metadata": {},
   "source": [
    "# Understanding word vectors"
   ]
  },
  {
   "cell_type": "markdown",
   "metadata": {},
   "source": [
    "... for, like, actual poets. By [Allison Parrish](http://www.decontextualize.com/)\n",
    "\n",
    "\n",
    "## Why word vectors?\n",
    "\n",
    "Poetry is, at its core, the art of identifying and manipulating linguistic similarity. I have discovered a truly marvelous proof of this, which this notebook is too narrow to contain. (By which I mean: I will elaborate on this some other time)"
   ]
  },
  {
   "cell_type": "markdown",
   "metadata": {},
   "source": [
    "## Animal similarity and simple linear algebra\n",
    "\n",
    "We'll begin by considering a small subset of English: words for animals. Our task is to be able to write computer programs to find similarities among these words and the creatures they designate. To do this, we might start by making a spreadsheet of some animals and their characteristics. For example:\n",
    "\n",
    "![Animal spreadsheet](http://static.decontextualize.com/snaps/animal-spreadsheet.png)\n",
    "\n",
    "This spreadsheet associates a handful of animals with two numbers: their cuteness and their size, both in a range from zero to one hundred. (The values themselves are simply based on my own judgment. Your taste in cuteness and evaluation of size may differ significantly from mine. As with all data, these data are simply a mirror reflection of the person who collected them.)\n",
    "\n",
    "These values give us everything we need to make determinations about which animals are similar (at least, similar in the properties that we've included in the data). Try to answer the following question: Which animal is most similar to a capybara? You could go through the values one by one and do the math to make that evaluation, but visualizing the data as points in 2-dimensional space makes finding the answer very intuitive:\n",
    "\n",
    "![Animal space](http://static.decontextualize.com/snaps/animal-space.png)\n",
    "\n",
    "The plot shows us that the closest animal to the capybara is the panda bear (again, in terms of its subjective size and cuteness). One way of calculating how \"far apart\" two points are is to find their *Euclidean distance*. (This is simply the length of the line that connects the two points.) For points in two dimensions, Euclidean distance can be calculated with the following Python function:"
   ]
  },
  {
   "cell_type": "code",
   "execution_count": null,
   "metadata": {},
   "outputs": [],
   "source": [
    "import numpy as np\n",
    "def distance2d(x1, y1, x2, y2):\n",
    "    return np.linalg.norm(np.array([x1, y1])-np.array([x2, y2]))"
   ]
  },
  {
   "cell_type": "markdown",
   "metadata": {},
   "source": [
    "So, the distance between \"capybara\" (70, 30) and \"panda\" (74, 40):"
   ]
  },
  {
   "cell_type": "code",
   "execution_count": null,
   "metadata": {},
   "outputs": [],
   "source": [
    "distance2d(70, 30, 75, 40) # panda and capybara"
   ]
  },
  {
   "cell_type": "markdown",
   "metadata": {},
   "source": [
    "... is less than the distance between \"tarantula\" and \"elephant\":"
   ]
  },
  {
   "cell_type": "code",
   "execution_count": null,
   "metadata": {},
   "outputs": [],
   "source": [
    "distance2d(8, 3, 65, 90) # tarantula and elephant"
   ]
  },
  {
   "cell_type": "markdown",
   "metadata": {},
   "source": [
    "Modeling animals in this way has a few other interesting properties. For example, you can pick an arbitrary point in \"animal space\" and then find the animal closest to that point. If you imagine an animal of size 25 and cuteness 30, you can easily look at the space to find the animal that most closely fits that description: the chicken.\n",
    "\n",
    "Reasoning visually, you can also answer questions like: what's halfway between a chicken and an elephant? Simply draw a line from \"elephant\" to \"chicken,\" mark off the midpoint and find the closest animal. (According to our chart, halfway between an elephant and a chicken is a horse.)\n",
    "\n",
    "You can also ask: what's the *difference* between a hamster and a tarantula? According to our plot, it's about seventy five units of cute (and a few units of size).\n",
    "\n",
    "The relationship of \"difference\" is an interesting one, because it allows us to reason about *analogous* relationships. In the chart below, I've drawn an arrow from \"tarantula\" to \"hamster\" (in blue):\n",
    "\n",
    "![Animal analogy](http://static.decontextualize.com/snaps/animal-space-analogy.png)\n",
    "\n",
    "You can understand this arrow as being the *relationship* between a tarantula and a hamster, in terms of their size and cuteness (i.e., hamsters and tarantulas are about the same size, but hamsters are much cuter). In the same diagram, I've also transposed this same arrow (this time in red) so that its origin point is \"chicken.\" The arrow ends closest to \"kitten.\" What we've discovered is that the animal that is about the same size as a chicken but much cuter is... a kitten. To put it in terms of an analogy:\n",
    "\n",
    "    Tarantulas are to hamsters as chickens are to kittens.\n",
    "    \n",
    "A sequence of numbers used to identify a point is called a *vector*, and the kind of math we've been doing so far is called *linear algebra.* (Linear algebra is surprisingly useful across many domains: It's the same kind of math you might do to, e.g., simulate the velocity and acceleration of a sprite in a video game.)\n",
    "\n",
    "A set of vectors that are all part of the same data set is often called a *vector space*. The vector space of animals in this section has two *dimensions*, by which I mean that each vector in the space has two numbers associated with it (i.e., two columns in the spreadsheet). The fact that this space has two dimensions just happens to make it easy to *visualize* the space by drawing a 2D plot. But most vector spaces you'll work with will have more than two dimensions—sometimes many hundreds. In those cases, it's more difficult to visualize the \"space,\" but the math works pretty much the same."
   ]
  },
  {
   "cell_type": "markdown",
   "metadata": {},
   "source": [
    "## Language with vectors: colors\n",
    "\n",
    "So far, so good. We have a system in place—albeit highly subjective—for talking about animals and the words used to name them. I want to talk about another vector space that has to do with language: the vector space of colors.\n",
    "\n",
    "Colors are often represented in computers as vectors with three dimensions: red, green, and blue. Just as with the animals in the previous section, we can use these vectors to answer questions like: which colors are similar? What's the most likely color name for an arbitrarily chosen set of values for red, green and blue? Given the names of two colors, what's the name of those colors' \"average\"?\n",
    "\n",
    "We'll be working with this [color data](https://github.com/dariusk/corpora/blob/master/data/colors/xkcd.json) from the [xkcd color survey](https://blog.xkcd.com/2010/05/03/color-survey-results/). The data relates a color name to the RGB value associated with that color. [Here's a page that shows what the colors look like](https://xkcd.com/color/rgb/). Download the color data and put it in the same directory as this notebook.\n",
    "\n",
    "A few notes before we proceed:\n",
    "\n",
    "* The linear algebra functions implemented below (`addv`, `meanv`, etc.) are slow, potentially inaccurate, and shouldn't be used for \"real\" code—I wrote them so beginner programmers can understand how these kinds of functions work behind the scenes. Use [numpy](http://www.numpy.org/) for fast and accurate math in Python.\n",
    "* If you're interested in perceptually accurate color math in Python, consider using the [colormath library](http://python-colormath.readthedocs.io/en/latest/).\n",
    "\n",
    "Now, import the `json` library and load the color data:"
   ]
  },
  {
   "cell_type": "code",
   "execution_count": null,
   "metadata": {},
   "outputs": [],
   "source": [
    "import requests"
   ]
  },
  {
   "cell_type": "code",
   "execution_count": null,
   "metadata": {},
   "outputs": [],
   "source": [
    "resp = requests.get('https://raw.githubusercontent.com/dariusk/corpora/master/data/colors/xkcd.json')\n",
    "color_data = resp.json()"
   ]
  },
  {
   "cell_type": "markdown",
   "metadata": {},
   "source": [
    "The following function converts colors from hex format (`#1a2b3c`) to a tuple of integers:"
   ]
  },
  {
   "cell_type": "code",
   "execution_count": null,
   "metadata": {},
   "outputs": [],
   "source": [
    "def hex_to_int(s):\n",
    "    return int(s[1:3], 16), int(s[3:5], 16), int(s[5:6], 16)"
   ]
  },
  {
   "cell_type": "markdown",
   "metadata": {},
   "source": [
    "And the following cell creates a dictionary and populates it with mappings from color names to RGB vectors for each color in the data:"
   ]
  },
  {
   "cell_type": "code",
   "execution_count": null,
   "metadata": {},
   "outputs": [],
   "source": [
    "colors = dict()\n",
    "for item in color_data['colors']:\n",
    "    colors[item[\"color\"]] = hex_to_int(item[\"hex\"])"
   ]
  },
  {
   "cell_type": "markdown",
   "metadata": {},
   "source": [
    "Testing it out:"
   ]
  },
  {
   "cell_type": "code",
   "execution_count": null,
   "metadata": {},
   "outputs": [],
   "source": [
    "colors['olive']"
   ]
  },
  {
   "cell_type": "code",
   "execution_count": null,
   "metadata": {},
   "outputs": [],
   "source": [
    "colors['red']"
   ]
  },
  {
   "cell_type": "code",
   "execution_count": null,
   "metadata": {},
   "outputs": [],
   "source": [
    "colors['black']"
   ]
  },
  {
   "cell_type": "code",
   "execution_count": null,
   "metadata": {},
   "outputs": [],
   "source": [
    "colors.keys()"
   ]
  },
  {
   "cell_type": "markdown",
   "metadata": {},
   "source": [
    "### Vector math\n",
    "\n",
    "Before we keep going, we'll need some functions for performing basic vector arithmetic. These functions will work with vectors in spaces of any number of dimensions.\n",
    "\n",
    "The first function returns the Euclidean distance between two points:"
   ]
  },
  {
   "cell_type": "code",
   "execution_count": null,
   "metadata": {
    "scrolled": true
   },
   "outputs": [],
   "source": [
    "import math\n",
    "def distance(coord1, coord2):\n",
    "    return np.linalg.norm(np.array(coord1)-np.array(coord2))\n",
    "distance([10, 1], [5, 2])"
   ]
  },
  {
   "cell_type": "markdown",
   "metadata": {},
   "source": [
    "The `subtractv` function subtracts one vector from another:"
   ]
  },
  {
   "cell_type": "code",
   "execution_count": null,
   "metadata": {},
   "outputs": [],
   "source": [
    "def subtractv(coord1, coord2):\n",
    "    return list(np.array(coord1) - np.array(coord2))\n",
    "subtractv([10, 1], [5, 2])"
   ]
  },
  {
   "cell_type": "markdown",
   "metadata": {},
   "source": [
    "The `addv` vector adds two vectors together:"
   ]
  },
  {
   "cell_type": "code",
   "execution_count": null,
   "metadata": {},
   "outputs": [],
   "source": [
    "def addv(coord1, coord2):\n",
    "    return list(np.array(coord1) + np.array(coord2))\n",
    "addv([10, 1], [5, 2])"
   ]
  },
  {
   "cell_type": "markdown",
   "metadata": {},
   "source": [
    "And the `meanv` function takes a list of vectors and finds their mean or average:"
   ]
  },
  {
   "cell_type": "code",
   "execution_count": null,
   "metadata": {},
   "outputs": [],
   "source": [
    "def meanv(coords):\n",
    "    return list(np.mean(coords, axis=0))\n",
    "meanv([[0, 1], [2, 2], [4, 3]])"
   ]
  },
  {
   "cell_type": "markdown",
   "metadata": {},
   "source": [
    "Just as a test, the following cell shows that the distance from \"red\" to \"green\" is greater than the distance from \"red\" to \"pink\":"
   ]
  },
  {
   "cell_type": "code",
   "execution_count": null,
   "metadata": {},
   "outputs": [],
   "source": [
    "distance(colors['red'], colors['green']) > distance(colors['red'], colors['pink'])"
   ]
  },
  {
   "cell_type": "markdown",
   "metadata": {},
   "source": [
    "### Finding the closest item\n",
    "\n",
    "Just as we wanted to find the animal that most closely matched an arbitrary point in cuteness/size space, we'll want to find the closest color name to an arbitrary point in RGB space. The easiest way to find the closest item to an arbitrary vector is simply to find the distance between the target vector and each item in the space, in turn, then sort the list from closest to farthest. The `closest()` function below does just that. By default, it returns a list of the ten closest items to the given vector.\n",
    "\n",
    "> Note: Calculating \"closest neighbors\" like this is fine for the examples in this notebook, but unmanageably slow for vector spaces of any appreciable size. As your vector space grows, you'll want to move to a faster solution, like SciPy's [kdtree](https://docs.scipy.org/doc/scipy-0.14.0/reference/generated/scipy.spatial.KDTree.html) or [Annoy](https://pypi.python.org/pypi/annoy)."
   ]
  },
  {
   "cell_type": "code",
   "execution_count": null,
   "metadata": {},
   "outputs": [],
   "source": [
    "def closest(space, coord, n=10):\n",
    "    return sorted(space.keys(), key=lambda x: distance(coord, space[x]))[:n]"
   ]
  },
  {
   "cell_type": "markdown",
   "metadata": {},
   "source": [
    "Testing it out, we can find the ten colors closest to \"red\":"
   ]
  },
  {
   "cell_type": "code",
   "execution_count": null,
   "metadata": {},
   "outputs": [],
   "source": [
    "closest(colors, colors['white'])"
   ]
  },
  {
   "cell_type": "markdown",
   "metadata": {},
   "source": [
    "... or the ten colors closest to (150, 60, 150):"
   ]
  },
  {
   "cell_type": "code",
   "execution_count": null,
   "metadata": {},
   "outputs": [],
   "source": [
    "closest(colors, [255, 60, 150])"
   ]
  },
  {
   "cell_type": "markdown",
   "metadata": {},
   "source": [
    "### Color magic\n",
    "\n",
    "The magical part of representing words as vectors is that the vector operations we defined earlier appear to operate on language the same way they operate on numbers. For example, if we find the word closest to the vector resulting from subtracting \"red\" from \"purple,\" we get a series of \"blue\" colors:"
   ]
  },
  {
   "cell_type": "code",
   "execution_count": null,
   "metadata": {},
   "outputs": [],
   "source": [
    "closest(colors, subtractv(colors['green'], colors['purple']))"
   ]
  },
  {
   "cell_type": "markdown",
   "metadata": {},
   "source": [
    "This matches our intuition about RGB colors, which is that purple is a combination of red and blue. Take away the red, and blue is all you have left.\n",
    "\n",
    "You can do something similar with addition. What's blue plus green?"
   ]
  },
  {
   "cell_type": "code",
   "execution_count": null,
   "metadata": {},
   "outputs": [],
   "source": [
    "closest(colors, addv(colors['blue'], colors['green']))"
   ]
  },
  {
   "cell_type": "markdown",
   "metadata": {},
   "source": [
    "That's right, it's something like turquoise or cyan! What if we find the average of black and white? Predictably, we get gray:"
   ]
  },
  {
   "cell_type": "code",
   "execution_count": null,
   "metadata": {},
   "outputs": [],
   "source": [
    "# the average of black and white: medium grey\n",
    "closest(colors, meanv([colors['black'], colors['white']]))"
   ]
  },
  {
   "cell_type": "markdown",
   "metadata": {},
   "source": [
    "Just as with the tarantula/hamster example from the previous section, we can use color vectors to reason about relationships between colors. In the cell below, finding the difference between \"pink\" and \"red\" then adding it to \"blue\" seems to give us a list of colors that are to blue what pink is to red (i.e., a slightly lighter, less saturated shade):"
   ]
  },
  {
   "cell_type": "code",
   "execution_count": null,
   "metadata": {},
   "outputs": [],
   "source": [
    "# an analogy: pink is to red as X is to blue\n",
    "pink_to_red = subtractv(colors['orange'], colors['red'])\n",
    "closest(colors, addv(pink_to_red, colors['blue']))"
   ]
  },
  {
   "cell_type": "markdown",
   "metadata": {},
   "source": [
    "Another example of color analogies: Navy is to blue as true green/dark grass green is to green:"
   ]
  },
  {
   "cell_type": "code",
   "execution_count": null,
   "metadata": {},
   "outputs": [],
   "source": [
    "# another example: \n",
    "navy_to_blue = subtractv(colors['navy'], colors['blue'])\n",
    "closest(colors, addv(navy_to_blue, colors['green']))"
   ]
  },
  {
   "cell_type": "markdown",
   "metadata": {},
   "source": [
    "The examples above are fairly simple from a mathematical perspective but nevertheless *feel* magical: they're demonstrating that it's possible to use math to reason about how people use language."
   ]
  },
  {
   "cell_type": "markdown",
   "metadata": {},
   "source": [
    "### Interlude: A Love Poem That Loses Its Way"
   ]
  },
  {
   "cell_type": "code",
   "execution_count": null,
   "metadata": {},
   "outputs": [],
   "source": [
    "import random\n",
    "red = colors['red']\n",
    "blue = colors['blue']\n",
    "for i in range(14):\n",
    "    rednames = closest(colors, red)\n",
    "    bluenames = closest(colors, blue)\n",
    "    print(f\"Roses are {rednames[0]}, violets are {bluenames[0]}\")\n",
    "    red = colors[random.choice(rednames[1:])]\n",
    "    blue = colors[random.choice(bluenames[1:])]"
   ]
  },
  {
   "cell_type": "markdown",
   "metadata": {},
   "source": [
    "### Doing bad digital humanities with color vectors\n",
    "\n",
    "With the tools above in hand, we can start using our vectorized knowledge of language toward academic ends. In the following example, I'm going to calculate the average color of Bram Stoker's *Dracula*.\n",
    "\n",
    "First, we'll load [spaCy](https://spacy.io/):"
   ]
  },
  {
   "cell_type": "code",
   "execution_count": null,
   "metadata": {},
   "outputs": [],
   "source": [
    "import spacy\n",
    "nlp = spacy.load('en_core_web_sm')"
   ]
  },
  {
   "cell_type": "markdown",
   "metadata": {},
   "source": [
    "To calculate the average color, we'll follow these steps:\n",
    "\n",
    "1. Parse the text into words\n",
    "2. Check every word to see if it names a color in our vector space. If it does, add it to a list of vectors.\n",
    "3. Find the average of that list of vectors.\n",
    "4. Find the color(s) closest to that average vector.\n",
    "\n",
    "The following cell performs steps 1-3:"
   ]
  },
  {
   "cell_type": "code",
   "execution_count": null,
   "metadata": {},
   "outputs": [],
   "source": [
    "resp = requests.get('http://www.gutenberg.org/cache/epub/345/pg345.txt')\n",
    "dracula = nlp(resp.text)\n",
    "# use word.lower_ to normalize case\n",
    "drac_colors = [colors[word.lower_] for word in dracula if word.lower_ in colors]\n",
    "avg_color = meanv(drac_colors)\n",
    "print(avg_color)"
   ]
  },
  {
   "cell_type": "markdown",
   "metadata": {},
   "source": [
    "Now, we'll pass the averaged color vector to the `closest()` function, yielding... well, it's just a brown mush, which is kinda what you'd expect from adding a bunch of colors together willy-nilly."
   ]
  },
  {
   "cell_type": "code",
   "execution_count": null,
   "metadata": {},
   "outputs": [],
   "source": [
    "closest(colors, avg_color)"
   ]
  },
  {
   "cell_type": "markdown",
   "metadata": {},
   "source": [
    "On the other hand, here's what we get when we average the colors of Charlotte Perkins Gilman's classic *The Yellow Wallpaper*. The result definitely reflects the content of the story, so maybe we're on to something here."
   ]
  },
  {
   "cell_type": "code",
   "execution_count": null,
   "metadata": {},
   "outputs": [],
   "source": [
    "resp = requests.get('http://www.gutenberg.org/cache/epub/1952/pg1952.txt')\n",
    "yellow = nlp(resp.text)\n",
    "wallpaper_colors = [colors[word.lower_] for word in yellow if word.lower_ in colors]\n",
    "avg_color = meanv(wallpaper_colors)\n",
    "closest(colors, avg_color)"
   ]
  },
  {
   "cell_type": "markdown",
   "metadata": {},
   "source": [
    "Exercise for the reader: Use the vector arithmetic functions to rewrite a text, making it...\n",
    "\n",
    "* more blue (i.e., add `colors['blue']` to each occurrence of a color word); or\n",
    "* more light (i.e., add `colors['white']` to each occurrence of a color word); or\n",
    "* darker (i.e., attenuate each color. You might need to write a vector multiplication function to do this one right.)"
   ]
  },
  {
   "cell_type": "markdown",
   "metadata": {},
   "source": [
    "## Distributional semantics\n",
    "\n",
    "In the previous section, the examples are interesting because of a simple fact: colors that we think of as similar are \"closer\" to each other in RGB vector space. In our color vector space, or in our animal cuteness/size space, you can think of the words identified by vectors close to each other as being *synonyms*, in a sense: they sort of \"mean\" the same thing. They're also, for many purposes, *functionally identical*. Think of this in terms of writing, say, a search engine. If someone searches for \"mauve trousers,\" then it's probably also okay to show them results for, say,"
   ]
  },
  {
   "cell_type": "code",
   "execution_count": null,
   "metadata": {},
   "outputs": [],
   "source": [
    "for cname in closest(colors, colors['mauve']):\n",
    "    print(cname, \"trousers\")"
   ]
  },
  {
   "cell_type": "markdown",
   "metadata": {},
   "source": [
    "That's all well and good for color words, which intuitively seem to exist in a multidimensional continuum of perception, and for our animal space, where we've written out the vectors ahead of time. But what about... arbitrary words? Is it possible to create a vector space for all English words that has this same \"closer in space is closer in meaning\" property?\n",
    "\n",
    "To answer that, we have to back up a bit and ask the question: what does *meaning* mean? No one really knows, but one theory popular among computational linguists, computer scientists and other people who make search engines is the [Distributional Hypothesis](https://en.wikipedia.org/wiki/Distributional_semantics), which states that:\n",
    "\n",
    "    Linguistic items with similar distributions have similar meanings.\n",
    "    \n",
    "What's meant by \"similar distributions\" is *similar contexts*. Take for example the following sentences:\n",
    "\n",
    "    It was really cold yesterday.\n",
    "    It will be really warm today, though.\n",
    "    It'll be really hot tomorrow!\n",
    "    Will it be really cool Tuesday?\n",
    "    \n",
    "According to the Distributional Hypothesis, the words `cold`, `warm`, `hot` and `cool` must be related in some way (i.e., be close in meaning) because they occur in a similar context, i.e., between the word \"really\" and a word indicating a particular day. (Likewise, the words `yesterday`, `today`, `tomorrow` and `Tuesday` must be related, since they occur in the context of a word indicating a temperature.)\n",
    "\n",
    "In other words, according to the Distributional Hypothesis, a word's meaning is just a big list of all the contexts it occurs in. Two words are closer in meaning if they share contexts."
   ]
  },
  {
   "cell_type": "markdown",
   "metadata": {},
   "source": [
    "## Word vectors by counting contexts\n",
    "\n",
    "So how do we turn this insight from the Distributional Hypothesis into a system for creating general-purpose vectors that capture the meaning of words? Maybe you can see where I'm going with this. What if we made a *really big* spreadsheet that had one column for every context for every word in a given source text. Let's use a small source text to begin with, such as this excerpt from Dickens:\n",
    "\n",
    "    It was the best of times, it was the worst of times.\n",
    "\n",
    "Such a spreadsheet might look something like this:\n",
    "\n",
    "![dickens contexts](http://static.decontextualize.com/snaps/best-of-times.png)\n",
    "\n",
    "The spreadsheet has one column for every possible context, and one row for every word. The values in each cell correspond with how many times the word occurs in the given context. The numbers in the columns constitute that word's vector, i.e., the vector for the word `of` is\n",
    "\n",
    "    [0, 0, 0, 0, 1, 0, 0, 0, 1, 0]\n",
    "    \n",
    "Because there are ten possible contexts, this is a ten dimensional space! It might be strange to think of it, but you can do vector arithmetic on vectors with ten dimensions just as easily as you can on vectors with two or three dimensions, and you could use the same distance formula that we defined earlier to get useful information about which vectors in this space are similar to each other. In particular, the vectors for `best` and `worst` are actually the same (a distance of zero), since they occur only in the same context (`the ___ of`):\n",
    "\n",
    "    [0, 0, 0, 1, 0, 0, 0, 0, 0, 0]\n",
    "    \n",
    "Of course, the conventional way of thinking about \"best\" and \"worst\" is that they're *antonyms*, not *synonyms*. But they're also clearly two words of the same kind, with related meanings (through opposition), a fact that is captured by this distributional model.\n",
    "\n",
    "### Contexts and dimensionality\n",
    "\n",
    "Of course, in a corpus of any reasonable size, there will be many thousands if not many millions of possible contexts. It's difficult enough working with a vector space of ten dimensions, let alone a vector space of a million dimensions! It turns out, though, that many of the dimensions end up being superfluous and can either be eliminated or combined with other dimensions without significantly affecting the predictive power of the resulting vectors. The process of getting rid of superfluous dimensions in a vector space is called [dimensionality reduction](https://en.wikipedia.org/wiki/Dimensionality_reduction), and most implementations of count-based word vectors make use of dimensionality reduction so that the resulting vector space has a reasonable number of dimensions (say, 100—300, depending on the corpus and application).\n",
    "\n",
    "The question of how to identify a \"context\" is itself very difficult to answer. In the toy example above, we've said that a \"context\" is just the word that precedes and the word that follows. Depending on your implementation of this procedure, though, you might want a context with a bigger \"window\" (e.g., two words before and after), or a non-contiguous window (skip a word before and after the given word). You might exclude certain \"function\" words like \"the\" and \"of\" when determining a word's context, or you might [lemmatize](https://en.wikipedia.org/wiki/Lemmatisation) the words before you begin your analysis, so two occurrences with different \"forms\" of the same word count as the same context. These are all questions open to research and debate, and different implementations of procedures for creating count-based word vectors make different decisions on this issue.\n",
    "\n",
    "### GloVe vectors\n",
    "\n",
    "But you don't have to create your own word vectors from scratch! Many researchers have made downloadable databases of pre-trained vectors. One such project is Stanford's [Global Vectors for Word Representation (GloVe)](https://nlp.stanford.edu/projects/glove/). These 300-dimensional vectors are included with spaCy, and they're the vectors we'll be using for the rest of this tutorial."
   ]
  },
  {
   "cell_type": "markdown",
   "metadata": {},
   "source": [
    "## Word vectors in spaCy\n",
    "\n",
    "Okay, let's have some fun with real word vectors. We're going to use the GloVe vectors that come with spaCy to creatively analyze and manipulate the text of Bram Stoker's *Dracula*. First, make sure you've got `spacy` imported:"
   ]
  },
  {
   "cell_type": "code",
   "execution_count": null,
   "metadata": {},
   "outputs": [],
   "source": [
    "dracula[560]"
   ]
  },
  {
   "cell_type": "code",
   "execution_count": null,
   "metadata": {},
   "outputs": [],
   "source": [
    "_.vector"
   ]
  },
  {
   "cell_type": "code",
   "execution_count": null,
   "metadata": {},
   "outputs": [],
   "source": [
    "# previously we've used the _sm model, which doesn't include all vectors.\n",
    "# !pip3 install https://github.com/explosion/spacy-models/releases/download/en_core_web_lg-2.2.0/en_core_web_lg-2.2.0.tar.gz\n",
    "import en_core_web_lg\n",
    "nlp = en_core_web_lg.load()"
   ]
  },
  {
   "cell_type": "code",
   "execution_count": null,
   "metadata": {},
   "outputs": [],
   "source": [
    "resp = requests.get('http://www.gutenberg.org/cache/epub/345/pg345.txt')\n",
    "dracula = nlp(resp.text)\n"
   ]
  },
  {
   "cell_type": "markdown",
   "metadata": {},
   "source": [
    "And the cell below creates a list of unique words (or tokens) in the text, as a list of strings."
   ]
  },
  {
   "cell_type": "code",
   "execution_count": null,
   "metadata": {},
   "outputs": [],
   "source": [
    "# all of the words in the text file\n",
    "tokens = list(set([w.text for w in dracula if w.is_alpha]))"
   ]
  },
  {
   "cell_type": "markdown",
   "metadata": {},
   "source": [
    "You can see the vector of any word in spaCy's vocabulary using the `vocab` attribute, like so:"
   ]
  },
  {
   "cell_type": "code",
   "execution_count": null,
   "metadata": {
    "scrolled": true
   },
   "outputs": [],
   "source": [
    "nlp.vocab['alligator'].vector"
   ]
  },
  {
   "cell_type": "markdown",
   "metadata": {},
   "source": [
    "For the sake of convenience, the following function gets the vector of a given string from spaCy's vocabulary:"
   ]
  },
  {
   "cell_type": "code",
   "execution_count": null,
   "metadata": {},
   "outputs": [],
   "source": [
    "def vec(s):\n",
    "    return nlp.vocab[s].vector"
   ]
  },
  {
   "cell_type": "markdown",
   "metadata": {},
   "source": [
    "### Cosine similarity and finding closest neighbors"
   ]
  },
  {
   "cell_type": "code",
   "execution_count": null,
   "metadata": {},
   "outputs": [],
   "source": [
    "from sklearn.metrics.pairwise import cosine_similarity"
   ]
  },
  {
   "cell_type": "markdown",
   "metadata": {},
   "source": [
    "The following cell shows that the cosine similarity between `dog` and `puppy` is larger than the similarity between `trousers` and `octopus`, thereby demonstrating that the vectors are working how we expect them to:"
   ]
  },
  {
   "cell_type": "code",
   "execution_count": null,
   "metadata": {},
   "outputs": [],
   "source": [
    "(cosine_similarity(vec('dog').reshape(1, -1), vec('puppy').reshape(1, -1))[0][0] > \n",
    "    cosine_similarity(vec('trousers').reshape(1, -1), vec('octopus').reshape(1, -1))[0][0])"
   ]
  },
  {
   "cell_type": "markdown",
   "metadata": {},
   "source": [
    "The following cell defines a function that iterates through a list of tokens and returns the token whose vector is most similar to a given vector."
   ]
  },
  {
   "cell_type": "code",
   "execution_count": null,
   "metadata": {},
   "outputs": [],
   "source": [
    "def spacy_closest(token_list, vec_to_check, n=10):\n",
    "    return sorted(token_list,\n",
    "                  key=lambda x: cosine_similarity(vec_to_check.reshape(1, -1), \n",
    "                                                  vec(x).reshape(1, -1))[0][0],\n",
    "                  reverse=True)[:n]"
   ]
  },
  {
   "cell_type": "markdown",
   "metadata": {},
   "source": [
    "Using this function, we can get a list of synonyms, or words closest in meaning (or distribution, depending on how you look at it), to any arbitrary word in spaCy's vocabulary. In the following example, we're finding the words in *Dracula* closest to \"basketball\":"
   ]
  },
  {
   "cell_type": "code",
   "execution_count": null,
   "metadata": {
    "scrolled": true
   },
   "outputs": [],
   "source": [
    "# what's the closest equivalent of basketball?\n",
    "spacy_closest(tokens, vec(\"basketball\"))"
   ]
  },
  {
   "cell_type": "markdown",
   "metadata": {},
   "source": [
    "### Fun with spaCy, Dracula, and vector arithmetic\n",
    "\n",
    "Now we can start doing vector arithmetic and finding the closest words to the resulting vectors. For example, what word is closest to the halfway point between day and night?"
   ]
  },
  {
   "cell_type": "code",
   "execution_count": null,
   "metadata": {},
   "outputs": [],
   "source": [
    "# halfway between day and night\n",
    "spacy_closest(tokens, np.array(meanv([vec(\"day\"), vec(\"night\")])))"
   ]
  },
  {
   "cell_type": "markdown",
   "metadata": {},
   "source": [
    "Variations of `night` and `day` are still closest, but after that we get words like `evening` and `morning`, which are indeed halfway between day and night!"
   ]
  },
  {
   "cell_type": "markdown",
   "metadata": {},
   "source": [
    "Here are the closest words in _Dracula_ to \"wine\":"
   ]
  },
  {
   "cell_type": "code",
   "execution_count": null,
   "metadata": {},
   "outputs": [],
   "source": [
    "spacy_closest(tokens, vec(\"wine\"))"
   ]
  },
  {
   "cell_type": "markdown",
   "metadata": {},
   "source": [
    "If you subtract \"alcohol\" from \"wine\" and find the closest words to the resulting vector, you're left with simply a lovely dinner:"
   ]
  },
  {
   "cell_type": "code",
   "execution_count": null,
   "metadata": {},
   "outputs": [],
   "source": [
    "spacy_closest(tokens, np.array(subtractv(vec(\"wine\"), vec(\"alcohol\"))))"
   ]
  },
  {
   "cell_type": "markdown",
   "metadata": {},
   "source": [
    "The closest words to \"water\":"
   ]
  },
  {
   "cell_type": "code",
   "execution_count": null,
   "metadata": {},
   "outputs": [],
   "source": [
    "spacy_closest(tokens, vec(\"water\"))"
   ]
  },
  {
   "cell_type": "markdown",
   "metadata": {},
   "source": [
    "But if you add \"frozen\" to \"water,\" you get \"ice\":"
   ]
  },
  {
   "cell_type": "code",
   "execution_count": null,
   "metadata": {},
   "outputs": [],
   "source": [
    "spacy_closest(tokens, np.array(addv(vec(\"water\"), vec(\"frozen\"))))"
   ]
  },
  {
   "cell_type": "markdown",
   "metadata": {},
   "source": [
    "You can even do analogies! For example, the words most similar to \"grass\":"
   ]
  },
  {
   "cell_type": "code",
   "execution_count": null,
   "metadata": {
    "scrolled": true
   },
   "outputs": [],
   "source": [
    "spacy_closest(tokens, vec(\"grass\"))"
   ]
  },
  {
   "cell_type": "markdown",
   "metadata": {},
   "source": [
    "If you take the difference of \"blue\" and \"sky\" and add it to grass, you get the analogous word (\"green\"):"
   ]
  },
  {
   "cell_type": "code",
   "execution_count": null,
   "metadata": {
    "scrolled": true
   },
   "outputs": [],
   "source": [
    "# analogy: blue is to sky as X is to grass\n",
    "blue_to_sky = subtractv(vec(\"blue\"), vec(\"sky\"))\n",
    "spacy_closest(tokens, np.array(addv(blue_to_sky, vec(\"grass\"))))"
   ]
  },
  {
   "cell_type": "markdown",
   "metadata": {},
   "source": [
    "## Further resources\n",
    "\n",
    "* [Word2vec](https://en.wikipedia.org/wiki/Word2vec) is another procedure for producing word vectors which uses a predictive approach rather than a context-counting approach. [This paper](http://clic.cimec.unitn.it/marco/publications/acl2014/baroni-etal-countpredict-acl2014.pdf) compares and contrasts the two approaches. (Spoiler: it's kind of a wash.)\n",
    "* If you want to train your own word vectors on a particular corpus, the popular Python library [gensim](https://radimrehurek.com/gensim/) has an implementation of Word2Vec that is relatively easy to use. [There's a good tutorial here.](https://rare-technologies.com/word2vec-tutorial/)\n",
    "* When you're working with vector spaces with high dimensionality and millions of vectors, iterating through your entire space calculating cosine similarities can be a drag. I use [Annoy](https://pypi.python.org/pypi/annoy) to make these calculations faster, and you should consider using it too."
   ]
  }
 ],
 "metadata": {
  "kernelspec": {
   "display_name": "Python 3",
   "language": "python",
   "name": "python3"
  },
  "language_info": {
   "codemirror_mode": {
    "name": "ipython",
    "version": 3
   },
   "file_extension": ".py",
   "mimetype": "text/x-python",
   "name": "python",
   "nbconvert_exporter": "python",
   "pygments_lexer": "ipython3",
   "version": "3.7.4"
  },
  "toc": {
   "base_numbering": 1,
   "nav_menu": {},
   "number_sections": true,
   "sideBar": true,
   "skip_h1_title": false,
   "title_cell": "Table of Contents",
   "title_sidebar": "Contents",
   "toc_cell": false,
   "toc_position": {},
   "toc_section_display": true,
   "toc_window_display": false
  }
 },
 "nbformat": 4,
 "nbformat_minor": 4
}
