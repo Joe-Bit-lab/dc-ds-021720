{
 "cells": [
  {
   "cell_type": "markdown",
   "metadata": {},
   "source": [
    "# Overall "
   ]
  },
  {
   "cell_type": "markdown",
   "metadata": {},
   "source": [
    "- Overall this assessment is the most hands-on assessment\n",
    "\n",
    "- Make sure that in addition to understanding notions you know sklearn, python, pandas, statsmodel, nltk applications of them too."
   ]
  },
  {
   "cell_type": "markdown",
   "metadata": {},
   "source": [
    "# Unsupervised Learning"
   ]
  },
  {
   "cell_type": "markdown",
   "metadata": {},
   "source": [
    "\n",
    "## PCA \n",
    "\n",
    "- Curse Dimensionality.\n",
    "\n",
    "- PCA algorithm: How it reduces the dimensionality.\n",
    "\n",
    "- Scaling, preprocessing: When do you need to scale data? What kind of scaler is good?\n",
    "\n",
    "- Python PCA - Instantiation, how do you fit, transform, can you use them in pipelines, parameters of PCA object, attributes of PCA object?\n",
    "  "
   ]
  },
  {
   "cell_type": "markdown",
   "metadata": {},
   "source": [
    "## Clustering\n",
    "\n",
    "- What is clustering exactly. How clustering is different from classification? \n",
    "\n",
    "- K-means: \n",
    "\n",
    "    - Algorithm. Pseudo-code for the algorithm.\n",
    "\n",
    "    - Sklearn implementation of k-means: parameters-- n_clusters, n_init, init: etc.\n",
    "\n",
    "    - Metrics for assessing cluster fitness. Calinski-Harabaz, Silhouette metrics, using these metrics with sklearn and/or with yellowbrick."
   ]
  },
  {
   "cell_type": "markdown",
   "metadata": {},
   "source": [
    "## Recommendation Systems\n",
    "\n",
    "- ALS algorithm - factoring the original matrix into user-weights and movie-features. (Ranks?)\n",
    "\n",
    "- Cold start problem in recommendation systems. "
   ]
  },
  {
   "cell_type": "markdown",
   "metadata": {},
   "source": [
    "# Time Series \n",
    "\n",
    "Section 37\n",
    "\n",
    "(Manipulation of time series)\n",
    "\n",
    "- Introduction to time series\n",
    "\n",
    "    - Parsing and reading Dates with pandas from csv.\n",
    "    - Downsampling, Upsampling, Rolling window\n",
    "    \n",
    "    - Selecting and slicing time series data.\n",
    "\n",
    "    - Converting a string column to datetime column. \n",
    "    \n",
    "    - Visualizing time series: line plots, scatter plots and grouping.\n",
    "    \n",
    "- Removing Trends:\n",
    "\n",
    "    - What is trend and seasonality.\n",
    "    \n",
    "    - What are the techniques for eliminating the trend and applications of these to a dataset.\n",
    "    \n",
    "    - Finding and subtracting the rolling mean.\n",
    "    \n",
    "    - Differencing: What is it? Why do we use the differencing.\n",
    "    \n",
    "- Decomposing Time Series\n",
    "\n",
    "    - What is stationary data and how can we check whether a time series data is stationary.\n",
    "    \n",
    "    - Decomposing time series by using available tools in statsmodel.tsa\n",
    "    \n",
    "- Basic time series Models\n",
    "\n",
    "    - White Noise model, Random Walk model, AR and MA models.\n",
    "\n",
    "    - Autocorrelation, partial autocorrelation. "
   ]
  },
  {
   "cell_type": "markdown",
   "metadata": {},
   "source": [
    "# NLP"
   ]
  },
  {
   "cell_type": "markdown",
   "metadata": {},
   "source": [
    "- NLP preprocessing.\n",
    "\n",
    "    - Tokenization - regex\n",
    "   \n",
    "    - Stemming and Lemmatization\n",
    "    \n",
    "    - Use of nltk in preprocessing NLP data.\n",
    "    \n",
    "    - Use of sklearn -- CountVectorizer, TF-IDF\n",
    "    \n",
    "    - ML with NLP"
   ]
  }
 ],
 "metadata": {
  "kernelspec": {
   "display_name": "Python 3",
   "language": "python",
   "name": "python3"
  },
  "language_info": {
   "codemirror_mode": {
    "name": "ipython",
    "version": 3
   },
   "file_extension": ".py",
   "mimetype": "text/x-python",
   "name": "python",
   "nbconvert_exporter": "python",
   "pygments_lexer": "ipython3",
   "version": "3.7.3"
  },
  "toc": {
   "base_numbering": 1,
   "nav_menu": {},
   "number_sections": true,
   "sideBar": true,
   "skip_h1_title": false,
   "title_cell": "Table of Contents",
   "title_sidebar": "Contents",
   "toc_cell": false,
   "toc_position": {},
   "toc_section_display": true,
   "toc_window_display": false
  }
 },
 "nbformat": 4,
 "nbformat_minor": 4
}
