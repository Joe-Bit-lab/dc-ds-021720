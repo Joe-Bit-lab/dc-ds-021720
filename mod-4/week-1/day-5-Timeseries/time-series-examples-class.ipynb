{
 "cells": [
  {
   "cell_type": "markdown",
   "metadata": {},
   "source": [
    "# Time Series Intro"
   ]
  },
  {
   "cell_type": "markdown",
   "metadata": {},
   "source": [
    "The study of time series has arisen because certain sorts of data streams are heavily dependent on the flow of time. Of course, we have not totally ignored time as a feature up to this point. The selling price of a house probably *does* have some relation to the season or the year as real estate markets grow and decline with certain temporally-indexed economic changes etc. But surely time is not the most important predictor of house price. Square footage would likely be more strongly correlated with price than would date of sale.\n",
    "\n",
    "But there are other sorts of data that more readily lend themselves to a temporal analysis. One canonical example is numbers from a stock exchange: First, data from stock tickers often arrive as numbers anchored to consecutive units of time. I get the selling price for some stock on January 1, say, and the next bit of information I gain will be the selling price for that stock on January 2. (We'll explore this feature of time series below.) Second, and more important, if I'm interested in actually *predicting* the selling price of a stock for, say, tomorrow, then very likely one piece of very salient (i.e. *correlated*) information would be the selling price of that stock *today*.\n",
    "\n",
    "What other examples of this sort of time-dependent data can you think of?"
   ]
  },
  {
   "cell_type": "code",
   "execution_count": 2,
   "metadata": {},
   "outputs": [],
   "source": [
    "# Let's load some packages.\n",
    "\n",
    "import pandas as pd\n",
    "import numpy as np\n",
    "from matplotlib import pyplot as plt\n",
    "%matplotlib inline\n",
    "from sklearn.linear_model import LinearRegression\n",
    "from sklearn.preprocessing import OneHotEncoder"
   ]
  },
  {
   "cell_type": "code",
   "execution_count": 3,
   "metadata": {},
   "outputs": [
    {
     "data": {
      "text/html": [
       "<div>\n",
       "<style scoped>\n",
       "    .dataframe tbody tr th:only-of-type {\n",
       "        vertical-align: middle;\n",
       "    }\n",
       "\n",
       "    .dataframe tbody tr th {\n",
       "        vertical-align: top;\n",
       "    }\n",
       "\n",
       "    .dataframe thead th {\n",
       "        text-align: right;\n",
       "    }\n",
       "</style>\n",
       "<table border=\"1\" class=\"dataframe\">\n",
       "  <thead>\n",
       "    <tr style=\"text-align: right;\">\n",
       "      <th></th>\n",
       "      <th>Category: All categories</th>\n",
       "    </tr>\n",
       "  </thead>\n",
       "  <tbody>\n",
       "    <tr>\n",
       "      <th>Month</th>\n",
       "      <td>\"game of thrones\": (United States)</td>\n",
       "    </tr>\n",
       "    <tr>\n",
       "      <th>2004-01</th>\n",
       "      <td>&lt;1</td>\n",
       "    </tr>\n",
       "    <tr>\n",
       "      <th>2004-02</th>\n",
       "      <td>&lt;1</td>\n",
       "    </tr>\n",
       "    <tr>\n",
       "      <th>2004-03</th>\n",
       "      <td>&lt;1</td>\n",
       "    </tr>\n",
       "    <tr>\n",
       "      <th>2004-04</th>\n",
       "      <td>&lt;1</td>\n",
       "    </tr>\n",
       "  </tbody>\n",
       "</table>\n",
       "</div>"
      ],
      "text/plain": [
       "                   Category: All categories\n",
       "Month    \"game of thrones\": (United States)\n",
       "2004-01                                  <1\n",
       "2004-02                                  <1\n",
       "2004-03                                  <1\n",
       "2004-04                                  <1"
      ]
     },
     "execution_count": 3,
     "metadata": {},
     "output_type": "execute_result"
    }
   ],
   "source": [
    "pd.read_csv('data/google-trends_game-of-thrones_us.csv').head()"
   ]
  },
  {
   "cell_type": "code",
   "execution_count": 4,
   "metadata": {},
   "outputs": [],
   "source": [
    "# Define a function that will help us load and\n",
    "# clean up a dataset.\n",
    "\n",
    "def load_trend(trend_name='football', country_code='us'):\n",
    "    df = pd.read_csv('data/google-trends_'\n",
    "                     + trend_name + '_'\n",
    "                     + country_code\n",
    "                     + '.csv').iloc[1:, :]\n",
    "    df.columns = ['counts']\n",
    "    df['counts'] = df['counts'].str.replace('<1', '0').astype(int)\n",
    "    return df"
   ]
  },
  {
   "cell_type": "code",
   "execution_count": 5,
   "metadata": {},
   "outputs": [],
   "source": [
    "df = load_trend(**{'trend_name': 'data-science', 'country_code': 'us'})"
   ]
  },
  {
   "cell_type": "code",
   "execution_count": 6,
   "metadata": {},
   "outputs": [
    {
     "data": {
      "text/html": [
       "<div>\n",
       "<style scoped>\n",
       "    .dataframe tbody tr th:only-of-type {\n",
       "        vertical-align: middle;\n",
       "    }\n",
       "\n",
       "    .dataframe tbody tr th {\n",
       "        vertical-align: top;\n",
       "    }\n",
       "\n",
       "    .dataframe thead th {\n",
       "        text-align: right;\n",
       "    }\n",
       "</style>\n",
       "<table border=\"1\" class=\"dataframe\">\n",
       "  <thead>\n",
       "    <tr style=\"text-align: right;\">\n",
       "      <th></th>\n",
       "      <th>counts</th>\n",
       "    </tr>\n",
       "  </thead>\n",
       "  <tbody>\n",
       "    <tr>\n",
       "      <th>2004-01</th>\n",
       "      <td>2</td>\n",
       "    </tr>\n",
       "    <tr>\n",
       "      <th>2004-02</th>\n",
       "      <td>1</td>\n",
       "    </tr>\n",
       "    <tr>\n",
       "      <th>2004-03</th>\n",
       "      <td>0</td>\n",
       "    </tr>\n",
       "    <tr>\n",
       "      <th>2004-04</th>\n",
       "      <td>1</td>\n",
       "    </tr>\n",
       "    <tr>\n",
       "      <th>2004-05</th>\n",
       "      <td>0</td>\n",
       "    </tr>\n",
       "    <tr>\n",
       "      <th>...</th>\n",
       "      <td>...</td>\n",
       "    </tr>\n",
       "    <tr>\n",
       "      <th>2019-01</th>\n",
       "      <td>98</td>\n",
       "    </tr>\n",
       "    <tr>\n",
       "      <th>2019-02</th>\n",
       "      <td>96</td>\n",
       "    </tr>\n",
       "    <tr>\n",
       "      <th>2019-03</th>\n",
       "      <td>97</td>\n",
       "    </tr>\n",
       "    <tr>\n",
       "      <th>2019-04</th>\n",
       "      <td>100</td>\n",
       "    </tr>\n",
       "    <tr>\n",
       "      <th>2019-05</th>\n",
       "      <td>90</td>\n",
       "    </tr>\n",
       "  </tbody>\n",
       "</table>\n",
       "<p>185 rows × 1 columns</p>\n",
       "</div>"
      ],
      "text/plain": [
       "         counts\n",
       "2004-01       2\n",
       "2004-02       1\n",
       "2004-03       0\n",
       "2004-04       1\n",
       "2004-05       0\n",
       "...         ...\n",
       "2019-01      98\n",
       "2019-02      96\n",
       "2019-03      97\n",
       "2019-04     100\n",
       "2019-05      90\n",
       "\n",
       "[185 rows x 1 columns]"
      ]
     },
     "execution_count": 6,
     "metadata": {},
     "output_type": "execute_result"
    }
   ],
   "source": [
    "df"
   ]
  },
  {
   "cell_type": "markdown",
   "metadata": {},
   "source": [
    "The `**` syntax is used to pass keywords and values in dictionary form to a function. For more on `*` and `**` (`*args` and `**kwargs`), see [this page](https://www.geeksforgeeks.org/args-kwargs-python/)."
   ]
  },
  {
   "cell_type": "code",
   "execution_count": 7,
   "metadata": {},
   "outputs": [],
   "source": [
    "trends = [\n",
    "    {'trend_name': 'data-science', 'country_code': 'us'},\n",
    "    {'trend_name': 'football', 'country_code': 'us'},\n",
    "    {'trend_name': 'football', 'country_code': 'uk'},\n",
    "    {'trend_name': 'game-of-thrones', 'country_code': 'us'},\n",
    "    {'trend_name': 'pokemon', 'country_code': 'us'},\n",
    "    {'trend_name': 'taxes', 'country_code': 'us'},   \n",
    "]"
   ]
  },
  {
   "cell_type": "code",
   "execution_count": 8,
   "metadata": {},
   "outputs": [],
   "source": [
    "np.random.shuffle(trends)"
   ]
  },
  {
   "cell_type": "code",
   "execution_count": 9,
   "metadata": {},
   "outputs": [],
   "source": [
    "trend_dfs = [load_trend(**trend) for trend in trends]"
   ]
  },
  {
   "cell_type": "code",
   "execution_count": 11,
   "metadata": {},
   "outputs": [
    {
     "data": {
      "text/plain": [
       "6"
      ]
     },
     "execution_count": 11,
     "metadata": {},
     "output_type": "execute_result"
    }
   ],
   "source": [
    "len(trend_dfs)"
   ]
  },
  {
   "cell_type": "code",
   "execution_count": null,
   "metadata": {},
   "outputs": [],
   "source": [
    "#trend_df = trend_dfs[0]"
   ]
  },
  {
   "cell_type": "code",
   "execution_count": 12,
   "metadata": {},
   "outputs": [
    {
     "data": {
      "image/png": "[encoded data removed]",
      "text/plain": [
       "<Figure size 576x720 with 6 Axes>"
      ]
     },
     "metadata": {},
     "output_type": "display_data"
    }
   ],
   "source": [
    "# Let's see if we can guess which is which just by looking\n",
    "# at their graphs.\n",
    "\n",
    "import matplotlib; matplotlib.style.use('ggplot')\n",
    "\n",
    "fig, axs = plt.subplots(len(trend_dfs), 1, figsize=(8, 10))\n",
    "plt.tight_layout()\n",
    "for i, trend_df in enumerate(trend_dfs):\n",
    "    ax = axs[i]\n",
    "    #ax.set_title(str(trends[i]))\n",
    "    ax.plot(np.array(trend_df.index), trend_df['counts'])\n",
    "    ticks = ax.get_xticks()\n",
    "    ax.set_ylim((0, 100))\n",
    "    ax.set_xticks([tick for tick in ticks if tick%24 == 0])"
   ]
  },
  {
   "cell_type": "markdown",
   "metadata": {},
   "source": [
    "We could do a histogram of our data, say of the taxes counts:"
   ]
  },
  {
   "cell_type": "code",
   "execution_count": 13,
   "metadata": {},
   "outputs": [],
   "source": [
    "taxes_df = load_trend('taxes')"
   ]
  },
  {
   "cell_type": "code",
   "execution_count": 14,
   "metadata": {},
   "outputs": [
    {
     "data": {
      "image/png": "[encoded data removed]",
      "text/plain": [
       "<Figure size 432x288 with 1 Axes>"
      ]
     },
     "metadata": {},
     "output_type": "display_data"
    }
   ],
   "source": [
    "plt.hist(taxes_df['counts']);"
   ]
  },
  {
   "cell_type": "markdown",
   "metadata": {},
   "source": [
    "But clearly we would be missing something important about how the data is structured. Let's try to capture that. We'll stick with the taxes data."
   ]
  },
  {
   "cell_type": "code",
   "execution_count": 19,
   "metadata": {},
   "outputs": [],
   "source": [
    "# Adding a month column\n",
    "\n",
    "taxes_df['i'] = np.arange(len(taxes_df))\n",
    "taxes_df['month'] = taxes_df['i'] % 12"
   ]
  },
  {
   "cell_type": "code",
   "execution_count": 22,
   "metadata": {},
   "outputs": [],
   "source": [
    "taxes_df.drop(columns='no_obs', inplace = True)"
   ]
  },
  {
   "cell_type": "code",
   "execution_count": 23,
   "metadata": {},
   "outputs": [
    {
     "data": {
      "text/html": [
       "<div>\n",
       "<style scoped>\n",
       "    .dataframe tbody tr th:only-of-type {\n",
       "        vertical-align: middle;\n",
       "    }\n",
       "\n",
       "    .dataframe tbody tr th {\n",
       "        vertical-align: top;\n",
       "    }\n",
       "\n",
       "    .dataframe thead th {\n",
       "        text-align: right;\n",
       "    }\n",
       "</style>\n",
       "<table border=\"1\" class=\"dataframe\">\n",
       "  <thead>\n",
       "    <tr style=\"text-align: right;\">\n",
       "      <th></th>\n",
       "      <th>counts</th>\n",
       "      <th>i</th>\n",
       "      <th>month</th>\n",
       "    </tr>\n",
       "  </thead>\n",
       "  <tbody>\n",
       "    <tr>\n",
       "      <th>2004-01</th>\n",
       "      <td>45</td>\n",
       "      <td>0</td>\n",
       "      <td>0</td>\n",
       "    </tr>\n",
       "    <tr>\n",
       "      <th>2004-02</th>\n",
       "      <td>54</td>\n",
       "      <td>1</td>\n",
       "      <td>1</td>\n",
       "    </tr>\n",
       "    <tr>\n",
       "      <th>2004-03</th>\n",
       "      <td>48</td>\n",
       "      <td>2</td>\n",
       "      <td>2</td>\n",
       "    </tr>\n",
       "    <tr>\n",
       "      <th>2004-04</th>\n",
       "      <td>56</td>\n",
       "      <td>3</td>\n",
       "      <td>3</td>\n",
       "    </tr>\n",
       "    <tr>\n",
       "      <th>2004-05</th>\n",
       "      <td>24</td>\n",
       "      <td>4</td>\n",
       "      <td>4</td>\n",
       "    </tr>\n",
       "    <tr>\n",
       "      <th>...</th>\n",
       "      <td>...</td>\n",
       "      <td>...</td>\n",
       "      <td>...</td>\n",
       "    </tr>\n",
       "    <tr>\n",
       "      <th>2019-01</th>\n",
       "      <td>78</td>\n",
       "      <td>180</td>\n",
       "      <td>0</td>\n",
       "    </tr>\n",
       "    <tr>\n",
       "      <th>2019-02</th>\n",
       "      <td>100</td>\n",
       "      <td>181</td>\n",
       "      <td>1</td>\n",
       "    </tr>\n",
       "    <tr>\n",
       "      <th>2019-03</th>\n",
       "      <td>70</td>\n",
       "      <td>182</td>\n",
       "      <td>2</td>\n",
       "    </tr>\n",
       "    <tr>\n",
       "      <th>2019-04</th>\n",
       "      <td>81</td>\n",
       "      <td>183</td>\n",
       "      <td>3</td>\n",
       "    </tr>\n",
       "    <tr>\n",
       "      <th>2019-05</th>\n",
       "      <td>35</td>\n",
       "      <td>184</td>\n",
       "      <td>4</td>\n",
       "    </tr>\n",
       "  </tbody>\n",
       "</table>\n",
       "<p>185 rows × 3 columns</p>\n",
       "</div>"
      ],
      "text/plain": [
       "         counts    i  month\n",
       "2004-01      45    0      0\n",
       "2004-02      54    1      1\n",
       "2004-03      48    2      2\n",
       "2004-04      56    3      3\n",
       "2004-05      24    4      4\n",
       "...         ...  ...    ...\n",
       "2019-01      78  180      0\n",
       "2019-02     100  181      1\n",
       "2019-03      70  182      2\n",
       "2019-04      81  183      3\n",
       "2019-05      35  184      4\n",
       "\n",
       "[185 rows x 3 columns]"
      ]
     },
     "execution_count": 23,
     "metadata": {},
     "output_type": "execute_result"
    }
   ],
   "source": [
    "taxes_df"
   ]
  },
  {
   "cell_type": "code",
   "execution_count": 24,
   "metadata": {},
   "outputs": [],
   "source": [
    "# Using month to predict tax activity\n",
    "\n",
    "trend_model = LinearRegression()\n",
    "trend_model.fit(taxes_df[['i']], taxes_df['counts'])\n",
    "trend_line = trend_model.predict(taxes_df[['i']])"
   ]
  },
  {
   "cell_type": "code",
   "execution_count": 25,
   "metadata": {},
   "outputs": [
    {
     "data": {
      "text/plain": [
       "array([31.65754141, 31.73558811, 31.81363481, 31.89168151, 31.96972821,\n",
       "       32.04777491, 32.12582161, 32.20386831, 32.28191501, 32.35996171,\n",
       "       32.43800842, 32.51605512])"
      ]
     },
     "execution_count": 25,
     "metadata": {},
     "output_type": "execute_result"
    }
   ],
   "source": [
    "trend_line[:12]"
   ]
  },
  {
   "cell_type": "code",
   "execution_count": 26,
   "metadata": {},
   "outputs": [
    {
     "data": {
      "image/png": "[encoded data removed]",
      "text/plain": [
       "<Figure size 432x288 with 1 Axes>"
      ]
     },
     "metadata": {},
     "output_type": "display_data"
    }
   ],
   "source": [
    "plt.plot(taxes_df['i'], taxes_df['counts'])\n",
    "plt.plot(taxes_df['i'], trend_line);"
   ]
  },
  {
   "cell_type": "markdown",
   "metadata": {},
   "source": [
    "Clearly, this model leaves something to be desired! Let's try again. And this time we'll make explicit use of the time indices."
   ]
  },
  {
   "cell_type": "code",
   "execution_count": 27,
   "metadata": {},
   "outputs": [],
   "source": [
    "month_encoder = OneHotEncoder(categories='auto')\n",
    "month_encoder.fit(taxes_df[['month']])\n",
    "month_data = month_encoder.transform(taxes_df[['month']]).toarray()"
   ]
  },
  {
   "cell_type": "code",
   "execution_count": 28,
   "metadata": {},
   "outputs": [
    {
     "data": {
      "text/plain": [
       "array([1., 0., 0., 0., 0., 0., 0., 0., 0., 0., 0., 0.])"
      ]
     },
     "execution_count": 28,
     "metadata": {},
     "output_type": "execute_result"
    }
   ],
   "source": [
    "month_data[0]"
   ]
  },
  {
   "cell_type": "code",
   "execution_count": 30,
   "metadata": {},
   "outputs": [
    {
     "data": {
      "text/plain": [
       "array([[1., 0., 0., ..., 0., 0., 0.],\n",
       "       [0., 1., 0., ..., 0., 0., 0.],\n",
       "       [0., 0., 1., ..., 0., 0., 0.],\n",
       "       ...,\n",
       "       [0., 0., 1., ..., 0., 0., 0.],\n",
       "       [0., 0., 0., ..., 0., 0., 0.],\n",
       "       [0., 0., 0., ..., 0., 0., 0.]])"
      ]
     },
     "execution_count": 30,
     "metadata": {},
     "output_type": "execute_result"
    }
   ],
   "source": [
    "month_data"
   ]
  },
  {
   "cell_type": "code",
   "execution_count": 33,
   "metadata": {},
   "outputs": [],
   "source": [
    "lr = LinearRegression()"
   ]
  },
  {
   "cell_type": "code",
   "execution_count": 34,
   "metadata": {},
   "outputs": [],
   "source": [
    "data = np.hstack((taxes_df[['i']].values, month_data))"
   ]
  },
  {
   "cell_type": "code",
   "execution_count": 35,
   "metadata": {},
   "outputs": [],
   "source": [
    "lr.fit(data, taxes_df['counts'])\n",
    "lr_pred = lr.predict(data)  # Predictive model based on i and month"
   ]
  },
  {
   "cell_type": "code",
   "execution_count": 36,
   "metadata": {},
   "outputs": [
    {
     "data": {
      "text/plain": [
       "array([52.63422131, 63.19672131, 46.88422131, 60.50922131, 19.63422131,\n",
       "       17.83360656, 18.10027322, 18.36693989, 18.63360656, 21.16693989,\n",
       "       18.96693989, 21.70027322])"
      ]
     },
     "execution_count": 36,
     "metadata": {},
     "output_type": "execute_result"
    }
   ],
   "source": [
    "lr_pred[:12]"
   ]
  },
  {
   "cell_type": "code",
   "execution_count": 37,
   "metadata": {},
   "outputs": [
    {
     "data": {
      "image/png": "[encoded data removed]",
      "text/plain": [
       "<Figure size 576x288 with 1 Axes>"
      ]
     },
     "metadata": {},
     "output_type": "display_data"
    }
   ],
   "source": [
    "trend_df = taxes_df\n",
    "fig, ax = plt.subplots(figsize=(8, 4))\n",
    "ax.set_title('Taxes')\n",
    "ax.plot(trend_df['i'], trend_df['counts'], label='Data',\n",
    "       linewidth=.5, alpha=.8)\n",
    "ax.plot(trend_df['i'], trend_line, label='Trend')\n",
    "ax.plot(trend_df['i'], lr_pred, label='Regression', linestyle=\"dotted\")\n",
    "plt.legend()\n",
    "ticks = ax.get_xticks()\n",
    "ax.set_ylim((0, 100))\n",
    "ax.set_xticks([tick for tick in ticks if tick%24 == 0])\n",
    "plt.show()"
   ]
  },
  {
   "cell_type": "code",
   "execution_count": 38,
   "metadata": {},
   "outputs": [
    {
     "data": {
      "image/png": "[encoded data removed]",
      "text/plain": [
       "<Figure size 576x288 with 1 Axes>"
      ]
     },
     "metadata": {},
     "output_type": "display_data"
    }
   ],
   "source": [
    "residuals = trend_df['counts'] - lr_pred\n",
    "\n",
    "fig, ax = plt.subplots(figsize=(8, 4))\n",
    "ax.set_title(\"Residuals\")\n",
    "ax.plot(trend_df['i'], trend_df['counts'], label='Data',\n",
    "       linewidth=.5, alpha=.8)\n",
    "ax.plot(trend_df['i'], lr_pred, label='Regression', linestyle=\"dotted\")\n",
    "ax.plot(trend_df['i'], residuals,\n",
    "        label='Residuals', linewidth=.5)\n",
    "\n",
    "#ax.plot(trend_df.index, trend_line, label='trend')\n",
    "plt.legend()\n",
    "ticks = ax.get_xticks()\n",
    "ax.set_ylim((-10, 90))\n",
    "ax.set_xticks([tick for tick in ticks if tick%24 == 0])\n",
    "plt.show()"
   ]
  },
  {
   "cell_type": "markdown",
   "metadata": {},
   "source": [
    "## Datetime Objects\n",
    "\n",
    "These comprise a nice standard way of dealing with times and dates in Python. There is a `datetime` [library](https://docs.python.org/2/library/datetime.html), and inside `pandas` there is a `datetime` module as well as a `to_datetime()` function."
   ]
  },
  {
   "cell_type": "code",
   "execution_count": 39,
   "metadata": {},
   "outputs": [],
   "source": [
    "import datetime"
   ]
  },
  {
   "cell_type": "code",
   "execution_count": 40,
   "metadata": {},
   "outputs": [
    {
     "data": {
      "text/plain": [
       "datetime.datetime(2020, 12, 31, 0, 0)"
      ]
     },
     "execution_count": 40,
     "metadata": {},
     "output_type": "execute_result"
    }
   ],
   "source": [
    "datetime.datetime(2020, 12, 31)"
   ]
  },
  {
   "cell_type": "markdown",
   "metadata": {},
   "source": [
    "### Datetime objects have the parts of a date as attributes"
   ]
  },
  {
   "cell_type": "code",
   "execution_count": 51,
   "metadata": {},
   "outputs": [],
   "source": [
    "now = datetime.datetime(1965, 1,1)"
   ]
  },
  {
   "cell_type": "code",
   "execution_count": 52,
   "metadata": {},
   "outputs": [
    {
     "data": {
      "text/plain": [
       "1965"
      ]
     },
     "execution_count": 52,
     "metadata": {},
     "output_type": "execute_result"
    }
   ],
   "source": [
    "now.year"
   ]
  },
  {
   "cell_type": "code",
   "execution_count": 53,
   "metadata": {},
   "outputs": [
    {
     "data": {
      "text/plain": [
       "1"
      ]
     },
     "execution_count": 53,
     "metadata": {},
     "output_type": "execute_result"
    }
   ],
   "source": [
    "now.month"
   ]
  },
  {
   "cell_type": "code",
   "execution_count": 54,
   "metadata": {},
   "outputs": [
    {
     "data": {
      "text/plain": [
       "1"
      ]
     },
     "execution_count": 54,
     "metadata": {},
     "output_type": "execute_result"
    }
   ],
   "source": [
    "now.day"
   ]
  },
  {
   "cell_type": "code",
   "execution_count": 55,
   "metadata": {},
   "outputs": [
    {
     "data": {
      "text/plain": [
       "0"
      ]
     },
     "execution_count": 55,
     "metadata": {},
     "output_type": "execute_result"
    }
   ],
   "source": [
    "now.hour"
   ]
  },
  {
   "cell_type": "code",
   "execution_count": 57,
   "metadata": {},
   "outputs": [
    {
     "data": {
      "text/plain": [
       "'00'"
      ]
     },
     "execution_count": 57,
     "metadata": {},
     "output_type": "execute_result"
    }
   ],
   "source": [
    "now.strftime('%M')"
   ]
  },
  {
   "cell_type": "markdown",
   "metadata": {
    "heading_collapsed": true
   },
   "source": [
    "### `.timedelta()`"
   ]
  },
  {
   "cell_type": "code",
   "execution_count": null,
   "metadata": {
    "hidden": true
   },
   "outputs": [],
   "source": [
    "moment = datetime.timedelta(minutes=100)\n",
    "moment.days"
   ]
  },
  {
   "cell_type": "code",
   "execution_count": null,
   "metadata": {
    "hidden": true
   },
   "outputs": [],
   "source": [
    "moment.seconds"
   ]
  },
  {
   "cell_type": "code",
   "execution_count": null,
   "metadata": {
    "hidden": true
   },
   "outputs": [],
   "source": [
    "pd.to_datetime(100)"
   ]
  },
  {
   "cell_type": "code",
   "execution_count": null,
   "metadata": {
    "hidden": true,
    "scrolled": true
   },
   "outputs": [],
   "source": [
    "pd.to_datetime('2020-12-31')"
   ]
  },
  {
   "cell_type": "code",
   "execution_count": null,
   "metadata": {
    "hidden": true
   },
   "outputs": [],
   "source": [
    "pd.to_datetime(['2020-12-30', '2020-12-31'], format='%Y-%m-%d')"
   ]
  },
  {
   "cell_type": "markdown",
   "metadata": {
    "hidden": true
   },
   "source": [
    "There are [many](https://docs.python.org/2/library/datetime.html) format codes that `datetime` supports."
   ]
  },
  {
   "cell_type": "markdown",
   "metadata": {},
   "source": [
    "## Upsampling and Downsampling\n",
    "\n",
    "Sometimes we have information sorted according to a certain level in the temporal hierarchy but we'd like to have it sorted according to a different level. For example, we have monthly data but we want to look at quarters, or we have daily data but we want to visualize hourly trends.\n",
    "\n",
    "**To upsample** is to *increase the frequency* of the data of interest. <br/>\n",
    "**To downsample** is to *decrease the frequency* of the data of interest.\n",
    "\n",
    "There is a `.resample()` method available for `pandas` objects:"
   ]
  },
  {
   "cell_type": "code",
   "execution_count": 58,
   "metadata": {},
   "outputs": [],
   "source": [
    "times = np.arange(10)\n",
    "np.random.seed(42)\n",
    "target = np.random.random(size=10)"
   ]
  },
  {
   "cell_type": "code",
   "execution_count": 59,
   "metadata": {
    "scrolled": true
   },
   "outputs": [
    {
     "data": {
      "text/plain": [
       "DatetimeIndex(['1900-01-01 00:00:00', '1900-01-01 00:01:00',\n",
       "               '1900-01-01 00:02:00', '1900-01-01 00:03:00',\n",
       "               '1900-01-01 00:04:00', '1900-01-01 00:05:00',\n",
       "               '1900-01-01 00:06:00', '1900-01-01 00:07:00',\n",
       "               '1900-01-01 00:08:00', '1900-01-01 00:09:00'],\n",
       "              dtype='datetime64[ns]', freq=None)"
      ]
     },
     "execution_count": 59,
     "metadata": {},
     "output_type": "execute_result"
    }
   ],
   "source": [
    "rev_times = pd.to_datetime(times, format='%M')\n",
    "rev_times"
   ]
  },
  {
   "cell_type": "code",
   "execution_count": 61,
   "metadata": {},
   "outputs": [
    {
     "data": {
      "text/html": [
       "<div>\n",
       "<style scoped>\n",
       "    .dataframe tbody tr th:only-of-type {\n",
       "        vertical-align: middle;\n",
       "    }\n",
       "\n",
       "    .dataframe tbody tr th {\n",
       "        vertical-align: top;\n",
       "    }\n",
       "\n",
       "    .dataframe thead th {\n",
       "        text-align: right;\n",
       "    }\n",
       "</style>\n",
       "<table border=\"1\" class=\"dataframe\">\n",
       "  <thead>\n",
       "    <tr style=\"text-align: right;\">\n",
       "      <th></th>\n",
       "      <th>target</th>\n",
       "    </tr>\n",
       "  </thead>\n",
       "  <tbody>\n",
       "    <tr>\n",
       "      <th>1900-01-01 00:00:00</th>\n",
       "      <td>0.374540</td>\n",
       "    </tr>\n",
       "    <tr>\n",
       "      <th>1900-01-01 00:01:00</th>\n",
       "      <td>0.950714</td>\n",
       "    </tr>\n",
       "    <tr>\n",
       "      <th>1900-01-01 00:02:00</th>\n",
       "      <td>0.731994</td>\n",
       "    </tr>\n",
       "    <tr>\n",
       "      <th>1900-01-01 00:03:00</th>\n",
       "      <td>0.598658</td>\n",
       "    </tr>\n",
       "    <tr>\n",
       "      <th>1900-01-01 00:04:00</th>\n",
       "      <td>0.156019</td>\n",
       "    </tr>\n",
       "    <tr>\n",
       "      <th>1900-01-01 00:05:00</th>\n",
       "      <td>0.155995</td>\n",
       "    </tr>\n",
       "    <tr>\n",
       "      <th>1900-01-01 00:06:00</th>\n",
       "      <td>0.058084</td>\n",
       "    </tr>\n",
       "    <tr>\n",
       "      <th>1900-01-01 00:07:00</th>\n",
       "      <td>0.866176</td>\n",
       "    </tr>\n",
       "    <tr>\n",
       "      <th>1900-01-01 00:08:00</th>\n",
       "      <td>0.601115</td>\n",
       "    </tr>\n",
       "    <tr>\n",
       "      <th>1900-01-01 00:09:00</th>\n",
       "      <td>0.708073</td>\n",
       "    </tr>\n",
       "  </tbody>\n",
       "</table>\n",
       "</div>"
      ],
      "text/plain": [
       "                       target\n",
       "1900-01-01 00:00:00  0.374540\n",
       "1900-01-01 00:01:00  0.950714\n",
       "1900-01-01 00:02:00  0.731994\n",
       "1900-01-01 00:03:00  0.598658\n",
       "1900-01-01 00:04:00  0.156019\n",
       "1900-01-01 00:05:00  0.155995\n",
       "1900-01-01 00:06:00  0.058084\n",
       "1900-01-01 00:07:00  0.866176\n",
       "1900-01-01 00:08:00  0.601115\n",
       "1900-01-01 00:09:00  0.708073"
      ]
     },
     "execution_count": 61,
     "metadata": {},
     "output_type": "execute_result"
    }
   ],
   "source": [
    "df = pd.DataFrame({'target': target}, index=rev_times)\n",
    "df"
   ]
  },
  {
   "cell_type": "markdown",
   "metadata": {},
   "source": [
    "### Upsampling with `.resample()`"
   ]
  },
  {
   "cell_type": "code",
   "execution_count": 62,
   "metadata": {},
   "outputs": [
    {
     "data": {
      "text/plain": [
       "<pandas.core.resample.DatetimeIndexResampler object at 0x1a216aaa58>"
      ]
     },
     "execution_count": 62,
     "metadata": {},
     "output_type": "execute_result"
    }
   ],
   "source": [
    "df.resample('S')"
   ]
  },
  {
   "cell_type": "code",
   "execution_count": null,
   "metadata": {},
   "outputs": [],
   "source": []
  },
  {
   "cell_type": "markdown",
   "metadata": {},
   "source": [
    "#### `.ffil()`"
   ]
  },
  {
   "cell_type": "code",
   "execution_count": null,
   "metadata": {
    "scrolled": true
   },
   "outputs": [],
   "source": [
    "df_up = df.resample('S').ffill()"
   ]
  },
  {
   "cell_type": "code",
   "execution_count": null,
   "metadata": {},
   "outputs": [],
   "source": [
    "df_up.head()"
   ]
  },
  {
   "cell_type": "markdown",
   "metadata": {},
   "source": [
    "#### `.bfill()`"
   ]
  },
  {
   "cell_type": "code",
   "execution_count": null,
   "metadata": {},
   "outputs": [],
   "source": [
    "df_up = df.resample('S').bfill()\n",
    "df_up.head()"
   ]
  },
  {
   "cell_type": "markdown",
   "metadata": {},
   "source": [
    "#### `.interpolate()`"
   ]
  },
  {
   "cell_type": "code",
   "execution_count": 68,
   "metadata": {},
   "outputs": [
    {
     "data": {
      "text/html": [
       "<div>\n",
       "<style scoped>\n",
       "    .dataframe tbody tr th:only-of-type {\n",
       "        vertical-align: middle;\n",
       "    }\n",
       "\n",
       "    .dataframe tbody tr th {\n",
       "        vertical-align: top;\n",
       "    }\n",
       "\n",
       "    .dataframe thead th {\n",
       "        text-align: right;\n",
       "    }\n",
       "</style>\n",
       "<table border=\"1\" class=\"dataframe\">\n",
       "  <thead>\n",
       "    <tr style=\"text-align: right;\">\n",
       "      <th></th>\n",
       "      <th>target</th>\n",
       "    </tr>\n",
       "  </thead>\n",
       "  <tbody>\n",
       "    <tr>\n",
       "      <th>1900-01-01 00:00:00</th>\n",
       "      <td>0.374540</td>\n",
       "    </tr>\n",
       "    <tr>\n",
       "      <th>1900-01-01 00:00:01</th>\n",
       "      <td>0.397929</td>\n",
       "    </tr>\n",
       "    <tr>\n",
       "      <th>1900-01-01 00:00:02</th>\n",
       "      <td>0.420730</td>\n",
       "    </tr>\n",
       "    <tr>\n",
       "      <th>1900-01-01 00:00:03</th>\n",
       "      <td>0.442950</td>\n",
       "    </tr>\n",
       "    <tr>\n",
       "      <th>1900-01-01 00:00:04</th>\n",
       "      <td>0.464595</td>\n",
       "    </tr>\n",
       "  </tbody>\n",
       "</table>\n",
       "</div>"
      ],
      "text/plain": [
       "                       target\n",
       "1900-01-01 00:00:00  0.374540\n",
       "1900-01-01 00:00:01  0.397929\n",
       "1900-01-01 00:00:02  0.420730\n",
       "1900-01-01 00:00:03  0.442950\n",
       "1900-01-01 00:00:04  0.464595"
      ]
     },
     "execution_count": 68,
     "metadata": {},
     "output_type": "execute_result"
    }
   ],
   "source": [
    "df_up = df.resample('S').interpolate(method = 'polynomial', order = 3)\n",
    "df_up.head()"
   ]
  },
  {
   "cell_type": "code",
   "execution_count": 69,
   "metadata": {},
   "outputs": [
    {
     "data": {
      "text/plain": [
       "target    0.009603\n",
       "dtype: float64"
      ]
     },
     "execution_count": 69,
     "metadata": {},
     "output_type": "execute_result"
    }
   ],
   "source": [
    "(df_up.iloc[60,] - df_up.iloc[0,]) / 60"
   ]
  },
  {
   "cell_type": "code",
   "execution_count": 71,
   "metadata": {
    "scrolled": true
   },
   "outputs": [
    {
     "data": {
      "text/plain": [
       "[array([0.02338859]),\n",
       " array([0.02280113]),\n",
       " array([0.02221989]),\n",
       " array([0.02164486]),\n",
       " array([0.02107604]),\n",
       " array([0.02051344]),\n",
       " array([0.01995706]),\n",
       " array([0.01940689]),\n",
       " array([0.01886293]),\n",
       " array([0.01832519]),\n",
       " array([0.01779366]),\n",
       " array([0.01726835]),\n",
       " array([0.01674925]),\n",
       " array([0.01623636]),\n",
       " array([0.0157297]),\n",
       " array([0.01522924]),\n",
       " array([0.014735]),\n",
       " array([0.01424697]),\n",
       " array([0.01376516]),\n",
       " array([0.01328956]),\n",
       " array([0.01282018]),\n",
       " array([0.01235701]),\n",
       " array([0.01190006]),\n",
       " array([0.01144932]),\n",
       " array([0.0110048]),\n",
       " array([0.01056648]),\n",
       " array([0.01013439]),\n",
       " array([0.00970851]),\n",
       " array([0.00928884]),\n",
       " array([0.00887539]),\n",
       " array([0.00846815]),\n",
       " array([0.00806713]),\n",
       " array([0.00767232]),\n",
       " array([0.00728372]),\n",
       " array([0.00690134]),\n",
       " array([0.00652518]),\n",
       " array([0.00615522]),\n",
       " array([0.00579149]),\n",
       " array([0.00543397]),\n",
       " array([0.00508266]),\n",
       " array([0.00473756]),\n",
       " array([0.00439869]),\n",
       " array([0.00406602]),\n",
       " array([0.00373957]),\n",
       " array([0.00341934]),\n",
       " array([0.00310531]),\n",
       " array([0.00279751]),\n",
       " array([0.00249592]),\n",
       " array([0.00220054]),\n",
       " array([0.00191137]),\n",
       " array([0.00162843]),\n",
       " array([0.00135169]),\n",
       " array([0.00108117]),\n",
       " array([0.00081687]),\n",
       " array([0.00055878]),\n",
       " array([0.0003069]),\n",
       " array([6.1237529e-05]),\n",
       " array([-0.00017821]),\n",
       " array([-0.00041144])]"
      ]
     },
     "execution_count": 71,
     "metadata": {},
     "output_type": "execute_result"
    }
   ],
   "source": [
    "[df_up.iloc[j+1,].values - df_up.iloc[j,].values for j in range(59)][:59]"
   ]
  },
  {
   "cell_type": "markdown",
   "metadata": {},
   "source": [
    "### Downsampling with `.resample()`"
   ]
  },
  {
   "cell_type": "code",
   "execution_count": 79,
   "metadata": {},
   "outputs": [
    {
     "data": {
      "text/plain": [
       "<pandas.core.resample.DatetimeIndexResampler object at 0x1a22eb78d0>"
      ]
     },
     "execution_count": 79,
     "metadata": {},
     "output_type": "execute_result"
    }
   ],
   "source": [
    "df.resample('h')"
   ]
  },
  {
   "cell_type": "code",
   "execution_count": 82,
   "metadata": {},
   "outputs": [
    {
     "data": {
      "text/html": [
       "<div>\n",
       "<style scoped>\n",
       "    .dataframe tbody tr th:only-of-type {\n",
       "        vertical-align: middle;\n",
       "    }\n",
       "\n",
       "    .dataframe tbody tr th {\n",
       "        vertical-align: top;\n",
       "    }\n",
       "\n",
       "    .dataframe thead th {\n",
       "        text-align: right;\n",
       "    }\n",
       "</style>\n",
       "<table border=\"1\" class=\"dataframe\">\n",
       "  <thead>\n",
       "    <tr style=\"text-align: right;\">\n",
       "      <th></th>\n",
       "      <th>target</th>\n",
       "    </tr>\n",
       "  </thead>\n",
       "  <tbody>\n",
       "    <tr>\n",
       "      <th>1900-01-01 00:00:00</th>\n",
       "      <td>0.374540</td>\n",
       "    </tr>\n",
       "    <tr>\n",
       "      <th>1900-01-01 00:01:00</th>\n",
       "      <td>0.950714</td>\n",
       "    </tr>\n",
       "    <tr>\n",
       "      <th>1900-01-01 00:02:00</th>\n",
       "      <td>0.731994</td>\n",
       "    </tr>\n",
       "    <tr>\n",
       "      <th>1900-01-01 00:03:00</th>\n",
       "      <td>0.598658</td>\n",
       "    </tr>\n",
       "    <tr>\n",
       "      <th>1900-01-01 00:04:00</th>\n",
       "      <td>0.156019</td>\n",
       "    </tr>\n",
       "    <tr>\n",
       "      <th>1900-01-01 00:05:00</th>\n",
       "      <td>0.155995</td>\n",
       "    </tr>\n",
       "    <tr>\n",
       "      <th>1900-01-01 00:06:00</th>\n",
       "      <td>0.058084</td>\n",
       "    </tr>\n",
       "    <tr>\n",
       "      <th>1900-01-01 00:07:00</th>\n",
       "      <td>0.866176</td>\n",
       "    </tr>\n",
       "    <tr>\n",
       "      <th>1900-01-01 00:08:00</th>\n",
       "      <td>0.601115</td>\n",
       "    </tr>\n",
       "    <tr>\n",
       "      <th>1900-01-01 00:09:00</th>\n",
       "      <td>0.708073</td>\n",
       "    </tr>\n",
       "  </tbody>\n",
       "</table>\n",
       "</div>"
      ],
      "text/plain": [
       "                       target\n",
       "1900-01-01 00:00:00  0.374540\n",
       "1900-01-01 00:01:00  0.950714\n",
       "1900-01-01 00:02:00  0.731994\n",
       "1900-01-01 00:03:00  0.598658\n",
       "1900-01-01 00:04:00  0.156019\n",
       "1900-01-01 00:05:00  0.155995\n",
       "1900-01-01 00:06:00  0.058084\n",
       "1900-01-01 00:07:00  0.866176\n",
       "1900-01-01 00:08:00  0.601115\n",
       "1900-01-01 00:09:00  0.708073"
      ]
     },
     "execution_count": 82,
     "metadata": {},
     "output_type": "execute_result"
    }
   ],
   "source": [
    "df"
   ]
  },
  {
   "cell_type": "code",
   "execution_count": 83,
   "metadata": {},
   "outputs": [],
   "source": [
    "df_down = df.resample('h').bfill()"
   ]
  },
  {
   "cell_type": "code",
   "execution_count": 84,
   "metadata": {},
   "outputs": [
    {
     "data": {
      "text/html": [
       "<div>\n",
       "<style scoped>\n",
       "    .dataframe tbody tr th:only-of-type {\n",
       "        vertical-align: middle;\n",
       "    }\n",
       "\n",
       "    .dataframe tbody tr th {\n",
       "        vertical-align: top;\n",
       "    }\n",
       "\n",
       "    .dataframe thead th {\n",
       "        text-align: right;\n",
       "    }\n",
       "</style>\n",
       "<table border=\"1\" class=\"dataframe\">\n",
       "  <thead>\n",
       "    <tr style=\"text-align: right;\">\n",
       "      <th></th>\n",
       "      <th>target</th>\n",
       "    </tr>\n",
       "  </thead>\n",
       "  <tbody>\n",
       "    <tr>\n",
       "      <th>1900-01-01</th>\n",
       "      <td>0.37454</td>\n",
       "    </tr>\n",
       "  </tbody>\n",
       "</table>\n",
       "</div>"
      ],
      "text/plain": [
       "             target\n",
       "1900-01-01  0.37454"
      ]
     },
     "execution_count": 84,
     "metadata": {},
     "output_type": "execute_result"
    }
   ],
   "source": [
    "df_down"
   ]
  },
  {
   "cell_type": "markdown",
   "metadata": {},
   "source": [
    "[Here](https://machinelearningmastery.com/resample-interpolate-time-series-data-python/) is a helpful post on this sort of resampling in Python."
   ]
  },
  {
   "cell_type": "markdown",
   "metadata": {},
   "source": [
    "## Decomposing a Time Series"
   ]
  },
  {
   "cell_type": "markdown",
   "metadata": {},
   "source": [
    "Statsmodels has a great tool for looking at a time series as a sum of parts: a general trend, a seasonality component, and whatever is left over (often called a residual (why?)): its `seasonal_decompose()` function."
   ]
  },
  {
   "cell_type": "code",
   "execution_count": null,
   "metadata": {},
   "outputs": [],
   "source": [
    "taxes_df.index = pd.to_datetime(taxes_df.index)"
   ]
  },
  {
   "cell_type": "code",
   "execution_count": null,
   "metadata": {},
   "outputs": [],
   "source": [
    "from statsmodels.tsa.seasonal import seasonal_decompose\n",
    "decomposition = seasonal_decompose(taxes_df['counts'])\n",
    "\n",
    "observed = decomposition.observed\n",
    "trend = decomposition.trend\n",
    "seasonal = decomposition.seasonal\n",
    "residual = decomposition.resid"
   ]
  },
  {
   "cell_type": "code",
   "execution_count": null,
   "metadata": {},
   "outputs": [],
   "source": [
    "from pandas.plotting import register_matplotlib_converters\n",
    "register_matplotlib_converters()"
   ]
  },
  {
   "cell_type": "code",
   "execution_count": null,
   "metadata": {},
   "outputs": [],
   "source": [
    "plt.figure(figsize=(12,8))\n",
    "plt.subplot(411)\n",
    "plt.plot(observed, label='Original', color=\"blue\")\n",
    "plt.legend(loc='upper left')\n",
    "plt.subplot(412)\n",
    "plt.plot(trend, label='Trend', color=\"blue\")\n",
    "plt.legend(loc='upper left')\n",
    "plt.subplot(413)\n",
    "plt.plot(seasonal,label='Seasonality', color=\"blue\")\n",
    "plt.legend(loc='upper left')\n",
    "plt.subplot(414)\n",
    "plt.plot(residual, label='Residuals', color=\"blue\")\n",
    "plt.legend(loc='upper left')\n",
    "plt.tight_layout()"
   ]
  },
  {
   "cell_type": "markdown",
   "metadata": {},
   "source": [
    "Exercise to make sure that the residual really captures *all* remaining information about our times series.\n",
    "\n",
    "For various techincal reasons that won't concern us here, some of the components of the decomposition have NANs at their heads and tails. But we can just use `np.nansum()`."
   ]
  },
  {
   "cell_type": "code",
   "execution_count": null,
   "metadata": {},
   "outputs": [],
   "source": [
    "trend.head()"
   ]
  },
  {
   "cell_type": "code",
   "execution_count": null,
   "metadata": {},
   "outputs": [],
   "source": [
    "myst = 0\n",
    "for i in range(len(taxes_df['counts'])):\n",
    "    myst += np.nansum(taxes_df['counts'][i] - trend[i] - seasonal[i] - residual[i])\n",
    "myst"
   ]
  },
  {
   "cell_type": "markdown",
   "metadata": {},
   "source": [
    "# Extra Resources for timeseries manipulation"
   ]
  },
  {
   "cell_type": "markdown",
   "metadata": {},
   "source": [
    "- [Aileen Neilsen SciPy - 2016](https://www.youtube.com/watch?v=JNfxr4BQrLk)\n",
    "\n",
    "- [Aileen Neilsen - Github](https://github.com/AileenNielsen/TimeSeriesAnalysisWithPython)\n",
    "\n",
    "- [A project on Flight Fares](https://achyutjoshi.github.io/btp/datacollection)\n",
    "\n",
    "- [Python DS Handbook - Working with TS](https://jakevdp.github.io/PythonDataScienceHandbook/03.11-working-with-time-series.html)"
   ]
  },
  {
   "cell_type": "code",
   "execution_count": null,
   "metadata": {},
   "outputs": [],
   "source": []
  }
 ],
 "metadata": {
  "kernelspec": {
   "display_name": "Python 3",
   "language": "python",
   "name": "python3"
  },
  "language_info": {
   "codemirror_mode": {
    "name": "ipython",
    "version": 3
   },
   "file_extension": ".py",
   "mimetype": "text/x-python",
   "name": "python",
   "nbconvert_exporter": "python",
   "pygments_lexer": "ipython3",
   "version": "3.7.3"
  },
  "toc": {
   "base_numbering": 1,
   "nav_menu": {},
   "number_sections": true,
   "sideBar": true,
   "skip_h1_title": false,
   "title_cell": "Table of Contents",
   "title_sidebar": "Contents",
   "toc_cell": false,
   "toc_position": {},
   "toc_section_display": true,
   "toc_window_display": false
  }
 },
 "nbformat": 4,
 "nbformat_minor": 2
}
