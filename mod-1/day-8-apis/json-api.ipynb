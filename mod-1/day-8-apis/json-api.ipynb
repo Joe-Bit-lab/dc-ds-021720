{
 "cells": [
  {
   "cell_type": "markdown",
   "metadata": {},
   "source": [
    "# Using APIs and JSON Data"
   ]
  },
  {
   "cell_type": "markdown",
   "metadata": {},
   "source": [
    "## Objectives\n",
    "You will be able to:\n",
    "* Access and manipulate data inside a JSON file\n",
    "* Pull data from an API and parse/transform the data"
   ]
  },
  {
   "cell_type": "markdown",
   "metadata": {},
   "source": [
    "## Agenda\n",
    "\n",
    "* Review JSON Schemas\n",
    "* Introduce APIs.\n",
    "* Walk through how to make an API request. \n",
    "* Practice making API requests and Parsing the data.\n"
   ]
  },
  {
   "cell_type": "markdown",
   "metadata": {},
   "source": [
    "### What is the difference between a JSON and a python dictionary?"
   ]
  },
  {
   "cell_type": "markdown",
   "metadata": {},
   "source": [
    "## Loading the JSON file\n",
    "\n",
    "As before, we begin by importing the json package, opening a file with python's built in function, and then loading that data in."
   ]
  },
  {
   "cell_type": "code",
   "execution_count": 4,
   "metadata": {},
   "outputs": [
    {
     "name": "stdout",
     "output_type": "stream",
     "text": [
      "{\"albums\": {\"href\": \"https://api.spotify.com/v1/browse/new-releases?country=SE&offset=0&limit=20\", \"items\": [{\"album_type\": \"single\", \"artists\": [{\"external_urls\": {\"spotify\": \"https://open.spotify.com/artist/2RdwBSPQiwcmiDo9kixcl8\"}, \"href\": \"https://api.spotify.com/v1/artists/2RdwBSPQiwcmiDo9kixcl8\", \"id\": \"2RdwBSPQiwcmiDo9kixcl8\", \"name\": \"Pharrell Williams\", \"type\": \"artist\", \"uri\": \"spotify:artist:2RdwBSPQiwcmiDo9kixcl8\"}], \"available_markets\": [\"AD\", \"AR\", \"AT\", \"AU\", \"BE\", \"BG\", \"BO\", \"BR\", \"CA\", \"CH\", \"CL\", \"CO\", \"CR\", \"CY\", \"CZ\", \"DE\", \"DK\", \"DO\", \"EC\", \"EE\", \"ES\", \"FI\", \"FR\", \"GB\", \"GR\", \"GT\", \"HK\", \"HN\", \"HU\", \"ID\", \"IE\", \"IS\", \"IT\", \"JP\", \"LI\", \"LT\", \"LU\", \"LV\", \"MC\", \"MT\", \"MX\", \"MY\", \"NI\", \"NL\", \"NO\", \"NZ\", \"PA\", \"PE\", \"PH\", \"PL\", \"PT\", \"PY\", \"SE\", \"SG\", \"SK\", \"SV\", \"TR\", \"TW\", \"US\", \"UY\"], \"external_urls\": {\"spotify\": \"https://open.spotify.com/album/5ZX4m5aVSmWQ5iHAPQpT71\"}, \"href\": \"https://api.spotify.com/v1/albums/5ZX4m5aVSmWQ5iHAPQpT71\", \"id\": \"5ZX4m5aVSmWQ5iHAPQpT71\", \"images\": [{\"height\": 640, \"url\": \"https://i.scdn.co/image/e6b635ebe3ef4ba22492f5698a7b5d417f78b88a\", \"width\": 640}, {\"height\": 300, \"url\": \"https://i.scdn.co/image/92ae5b0fe64870c09004dd2e745a4fb1bf7de39d\", \"width\": 300}, {\"height\": 64, \"url\": \"https://i.scdn.co/image/8a7ab6fc2c9f678308ba0f694ecd5718dc6bc930\", \"width\": 64}], \"name\": \"Runnin'\", \"type\": \"album\", \"uri\": \"spotify:album:5ZX4m5aVSmWQ5iHAPQpT71\"}, {\"album_type\": \"single\", \"artists\": [{\"external_urls\": {\"spotify\": \"https://open.spotify.com/artist/3TVXtAsR1Inumwj472S9r4\"}, \"href\": \"https://api.spotify.com/v1/artists/3TVXtAsR1Inumwj472S9r4\", \"id\": \"3TVXtAsR1Inumwj472S9r4\", \"name\": \"Drake\", \"type\": \"artist\", \"uri\": \"spotify:artist:3TVXtAsR1Inumwj472S9r4\"}], \"available_markets\": [\"AD\", \"AR\", \"AT\", \"AU\", \"BE\", \"BG\", \"BO\", \"BR\", \"CH\", \"CL\", \"CO\", \"CR\", \"CY\", \"CZ\", \"DE\", \"DK\", \"DO\", \"EC\", \"EE\", \"ES\", \"FI\", \"FR\", \"GB\", \"GR\", \"GT\", \"HK\", \"HN\", \"HU\", \"ID\", \"IE\", \"IS\", \"IT\", \"JP\", \"LI\", \"LT\", \"LU\", \"LV\", \"MC\", \"MT\", \"MY\", \"NI\", \"NL\", \"NO\", \"NZ\", \"PA\", \"PE\", \"PH\", \"PL\", \"PT\", \"PY\", \"SE\", \"SG\", \"SK\", \"SV\", \"TR\", \"TW\", \"UY\"], \"external_urls\": {\"spotify\": \"https://open.spotify.com/album/0geTzdk2InlqIoB16fW9Nd\"}, \"href\": \"https://api.spotify.com/v1/albums/0geTzdk2InlqIoB16fW9Nd\", \"id\": \"0geTzdk2InlqIoB16fW9Nd\", \"images\": [{\"height\": 640, \"url\": \"https://i.scdn.co/image/d40e9c3d22bde2fbdb2ecc03cccd7a0e77f42e4c\", \"width\": 640}, {\"height\": 300, \"url\": \"https://i.scdn.co/image/dff06a3375f6d9b32ecb081eb9a60bbafecb5731\", \"width\": 300}, {\"height\": 64, \"url\": \"https://i.scdn.co/image/808a02bd7fc59b0652c9df9f68675edbffe07a79\", \"width\": 64}], \"name\": \"Sneakin\\u2019\", \"type\": \"album\", \"uri\": \"spotify:album:0geTzdk2InlqIoB16fW9Nd\"}], \"limit\": 20, \"next\": \"https://api.spotify.com/v1/browse/new-releases?country=SE&offset=20&limit=20\", \"offset\": 0, \"previous\": null, \"total\": 500}}"
     ]
    }
   ],
   "source": [
    "!head data/output.json"
   ]
  },
  {
   "cell_type": "code",
   "execution_count": 6,
   "metadata": {},
   "outputs": [],
   "source": [
    "import json\n",
    "f = open('data/output.json')\n",
    "data = json.load(f)"
   ]
  },
  {
   "cell_type": "markdown",
   "metadata": {},
   "source": [
    "## Exploring JSON Schemas  \n",
    "\n",
    "Recall that JSON files have a nested structure. The most granular level of raw data will be individual numbers (float/int) and strings. These in turn will be stored in the equivalent of python lists and dictionaries. Because these can be combined, we'll start exploring by checking the type of our root object, and start mapping out the hierarchy of the json file."
   ]
  },
  {
   "cell_type": "code",
   "execution_count": 7,
   "metadata": {},
   "outputs": [
    {
     "data": {
      "text/plain": [
       "dict"
      ]
     },
     "execution_count": 7,
     "metadata": {},
     "output_type": "execute_result"
    }
   ],
   "source": [
    "type(data)"
   ]
  },
  {
   "cell_type": "code",
   "execution_count": 8,
   "metadata": {},
   "outputs": [
    {
     "data": {
      "text/plain": [
       "{'albums': {'href': 'https://api.spotify.com/v1/browse/new-releases?country=SE&offset=0&limit=20',\n",
       "  'items': [{'album_type': 'single',\n",
       "    'artists': [{'external_urls': {'spotify': 'https://open.spotify.com/artist/2RdwBSPQiwcmiDo9kixcl8'},\n",
       "      'href': 'https://api.spotify.com/v1/artists/2RdwBSPQiwcmiDo9kixcl8',\n",
       "      'id': '2RdwBSPQiwcmiDo9kixcl8',\n",
       "      'name': 'Pharrell Williams',\n",
       "      'type': 'artist',\n",
       "      'uri': 'spotify:artist:2RdwBSPQiwcmiDo9kixcl8'}],\n",
       "    'available_markets': ['AD',\n",
       "     'AR',\n",
       "     'AT',\n",
       "     'AU',\n",
       "     'BE',\n",
       "     'BG',\n",
       "     'BO',\n",
       "     'BR',\n",
       "     'CA',\n",
       "     'CH',\n",
       "     'CL',\n",
       "     'CO',\n",
       "     'CR',\n",
       "     'CY',\n",
       "     'CZ',\n",
       "     'DE',\n",
       "     'DK',\n",
       "     'DO',\n",
       "     'EC',\n",
       "     'EE',\n",
       "     'ES',\n",
       "     'FI',\n",
       "     'FR',\n",
       "     'GB',\n",
       "     'GR',\n",
       "     'GT',\n",
       "     'HK',\n",
       "     'HN',\n",
       "     'HU',\n",
       "     'ID',\n",
       "     'IE',\n",
       "     'IS',\n",
       "     'IT',\n",
       "     'JP',\n",
       "     'LI',\n",
       "     'LT',\n",
       "     'LU',\n",
       "     'LV',\n",
       "     'MC',\n",
       "     'MT',\n",
       "     'MX',\n",
       "     'MY',\n",
       "     'NI',\n",
       "     'NL',\n",
       "     'NO',\n",
       "     'NZ',\n",
       "     'PA',\n",
       "     'PE',\n",
       "     'PH',\n",
       "     'PL',\n",
       "     'PT',\n",
       "     'PY',\n",
       "     'SE',\n",
       "     'SG',\n",
       "     'SK',\n",
       "     'SV',\n",
       "     'TR',\n",
       "     'TW',\n",
       "     'US',\n",
       "     'UY'],\n",
       "    'external_urls': {'spotify': 'https://open.spotify.com/album/5ZX4m5aVSmWQ5iHAPQpT71'},\n",
       "    'href': 'https://api.spotify.com/v1/albums/5ZX4m5aVSmWQ5iHAPQpT71',\n",
       "    'id': '5ZX4m5aVSmWQ5iHAPQpT71',\n",
       "    'images': [{'height': 640,\n",
       "      'url': 'https://i.scdn.co/image/e6b635ebe3ef4ba22492f5698a7b5d417f78b88a',\n",
       "      'width': 640},\n",
       "     {'height': 300,\n",
       "      'url': 'https://i.scdn.co/image/92ae5b0fe64870c09004dd2e745a4fb1bf7de39d',\n",
       "      'width': 300},\n",
       "     {'height': 64,\n",
       "      'url': 'https://i.scdn.co/image/8a7ab6fc2c9f678308ba0f694ecd5718dc6bc930',\n",
       "      'width': 64}],\n",
       "    'name': \"Runnin'\",\n",
       "    'type': 'album',\n",
       "    'uri': 'spotify:album:5ZX4m5aVSmWQ5iHAPQpT71'},\n",
       "   {'album_type': 'single',\n",
       "    'artists': [{'external_urls': {'spotify': 'https://open.spotify.com/artist/3TVXtAsR1Inumwj472S9r4'},\n",
       "      'href': 'https://api.spotify.com/v1/artists/3TVXtAsR1Inumwj472S9r4',\n",
       "      'id': '3TVXtAsR1Inumwj472S9r4',\n",
       "      'name': 'Drake',\n",
       "      'type': 'artist',\n",
       "      'uri': 'spotify:artist:3TVXtAsR1Inumwj472S9r4'}],\n",
       "    'available_markets': ['AD',\n",
       "     'AR',\n",
       "     'AT',\n",
       "     'AU',\n",
       "     'BE',\n",
       "     'BG',\n",
       "     'BO',\n",
       "     'BR',\n",
       "     'CH',\n",
       "     'CL',\n",
       "     'CO',\n",
       "     'CR',\n",
       "     'CY',\n",
       "     'CZ',\n",
       "     'DE',\n",
       "     'DK',\n",
       "     'DO',\n",
       "     'EC',\n",
       "     'EE',\n",
       "     'ES',\n",
       "     'FI',\n",
       "     'FR',\n",
       "     'GB',\n",
       "     'GR',\n",
       "     'GT',\n",
       "     'HK',\n",
       "     'HN',\n",
       "     'HU',\n",
       "     'ID',\n",
       "     'IE',\n",
       "     'IS',\n",
       "     'IT',\n",
       "     'JP',\n",
       "     'LI',\n",
       "     'LT',\n",
       "     'LU',\n",
       "     'LV',\n",
       "     'MC',\n",
       "     'MT',\n",
       "     'MY',\n",
       "     'NI',\n",
       "     'NL',\n",
       "     'NO',\n",
       "     'NZ',\n",
       "     'PA',\n",
       "     'PE',\n",
       "     'PH',\n",
       "     'PL',\n",
       "     'PT',\n",
       "     'PY',\n",
       "     'SE',\n",
       "     'SG',\n",
       "     'SK',\n",
       "     'SV',\n",
       "     'TR',\n",
       "     'TW',\n",
       "     'UY'],\n",
       "    'external_urls': {'spotify': 'https://open.spotify.com/album/0geTzdk2InlqIoB16fW9Nd'},\n",
       "    'href': 'https://api.spotify.com/v1/albums/0geTzdk2InlqIoB16fW9Nd',\n",
       "    'id': '0geTzdk2InlqIoB16fW9Nd',\n",
       "    'images': [{'height': 640,\n",
       "      'url': 'https://i.scdn.co/image/d40e9c3d22bde2fbdb2ecc03cccd7a0e77f42e4c',\n",
       "      'width': 640},\n",
       "     {'height': 300,\n",
       "      'url': 'https://i.scdn.co/image/dff06a3375f6d9b32ecb081eb9a60bbafecb5731',\n",
       "      'width': 300},\n",
       "     {'height': 64,\n",
       "      'url': 'https://i.scdn.co/image/808a02bd7fc59b0652c9df9f68675edbffe07a79',\n",
       "      'width': 64}],\n",
       "    'name': 'Sneakin’',\n",
       "    'type': 'album',\n",
       "    'uri': 'spotify:album:0geTzdk2InlqIoB16fW9Nd'}],\n",
       "  'limit': 20,\n",
       "  'next': 'https://api.spotify.com/v1/browse/new-releases?country=SE&offset=20&limit=20',\n",
       "  'offset': 0,\n",
       "  'previous': None,\n",
       "  'total': 500}}"
      ]
     },
     "execution_count": 8,
     "metadata": {},
     "output_type": "execute_result"
    }
   ],
   "source": [
    "data"
   ]
  },
  {
   "cell_type": "markdown",
   "metadata": {},
   "source": [
    "As you can see, in this case, the first level of the hierarchy is a dictionary. Let's explore what keys are within this:"
   ]
  },
  {
   "cell_type": "code",
   "execution_count": 10,
   "metadata": {},
   "outputs": [
    {
     "data": {
      "text/plain": [
       "dict_keys(['albums'])"
      ]
     },
     "execution_count": 10,
     "metadata": {},
     "output_type": "execute_result"
    }
   ],
   "source": [
    "data.keys()"
   ]
  },
  {
   "cell_type": "markdown",
   "metadata": {},
   "source": [
    "In this case, there is only a single key, 'albums', so we'll continue on down the pathway exploring and mapping out the hierarchy. Once again, let's start by checking the type of this nested data structure."
   ]
  },
  {
   "cell_type": "code",
   "execution_count": 11,
   "metadata": {},
   "outputs": [
    {
     "data": {
      "text/plain": [
       "dict"
      ]
     },
     "execution_count": 11,
     "metadata": {},
     "output_type": "execute_result"
    }
   ],
   "source": [
    "type(data['albums'])"
   ]
  },
  {
   "cell_type": "markdown",
   "metadata": {},
   "source": [
    "Another dictionary! So thus far, we have a dictionary within a dictionary. Once again, let's investigate what's within this dictionary (JSON calls the equivalent of Python dictionaries Objects.)"
   ]
  },
  {
   "cell_type": "code",
   "execution_count": 12,
   "metadata": {},
   "outputs": [
    {
     "data": {
      "text/plain": [
       "dict_keys(['href', 'items', 'limit', 'next', 'offset', 'previous', 'total'])"
      ]
     },
     "execution_count": 12,
     "metadata": {},
     "output_type": "execute_result"
    }
   ],
   "source": [
    "data['albums'].keys()"
   ]
  },
  {
   "cell_type": "markdown",
   "metadata": {},
   "source": [
    "At this point, things are starting to look something like this: \n",
    "<img src=\"images\\json_diagram1.JPG\" width=550>"
   ]
  },
  {
   "cell_type": "markdown",
   "metadata": {},
   "source": [
    "At this point, if we were to continue checking individual data types, we have a lot to go through. To simplify this, let's use a for loop:"
   ]
  },
  {
   "cell_type": "code",
   "execution_count": 33,
   "metadata": {},
   "outputs": [
    {
     "data": {
      "text/plain": [
       "dict_keys(['albums'])"
      ]
     },
     "execution_count": 33,
     "metadata": {},
     "output_type": "execute_result"
    }
   ],
   "source": [
    "data.keys()\n"
   ]
  },
  {
   "cell_type": "code",
   "execution_count": 13,
   "metadata": {},
   "outputs": [
    {
     "name": "stdout",
     "output_type": "stream",
     "text": [
      "href <class 'str'>\n",
      "items <class 'list'>\n",
      "limit <class 'int'>\n",
      "next <class 'str'>\n",
      "offset <class 'int'>\n",
      "previous <class 'NoneType'>\n",
      "total <class 'int'>\n"
     ]
    }
   ],
   "source": [
    "for key in data['albums'].keys():\n",
    "    print(key, type(data['albums'][key]))"
   ]
  },
  {
   "cell_type": "markdown",
   "metadata": {},
   "source": [
    "Adding this to our diagram we now have something like this:\n",
    "<img src=\"images\\json_diagram2.JPG\" width=550>"
   ]
  },
  {
   "cell_type": "markdown",
   "metadata": {},
   "source": [
    "Normally, you may not draw out the full diagram as done here, but its a useful picture to have in mind, and in complex schemas, can be useful to map out. At this point, you also probably have a good idea of the general structure of the json file. However, there is still the list of items, which we could investigate further:"
   ]
  },
  {
   "cell_type": "markdown",
   "metadata": {},
   "source": [
    "## What is an API?"
   ]
  },
  {
   "cell_type": "markdown",
   "metadata": {},
   "source": [
    "**Application Program Interfaces**, or APIs, are commonly used to retrieve data from remote websites. Sites like Reddit, Twitter, and Facebook all offer certain data through their APIs. \n",
    "\n",
    "To use an API, you make a request to a remote web server, and retrieve the data you need."
   ]
  },
  {
   "cell_type": "markdown",
   "metadata": {},
   "source": [
    "Python with two built-in modules, `urllib` and `urllib2` to handle these requests but these could be very confusing  and the documentation is not clear.\n",
    "\n",
    "To make these things simpler, one easy-to-use third-party library, known as` Requests`, is what most developers prefer to use it instead or urllib/urllib2. With this library, you can access content like web page headers, form data, files, and parameters via simple Python commands. It also allows you to access the response data in a simple way."
   ]
  },
  {
   "cell_type": "markdown",
   "metadata": {},
   "source": [
    "![](images\\logo.png)"
   ]
  },
  {
   "cell_type": "code",
   "execution_count": 34,
   "metadata": {},
   "outputs": [],
   "source": [
    "import requests"
   ]
  },
  {
   "cell_type": "markdown",
   "metadata": {},
   "source": [
    "\n",
    "## The `.get()` Method\n",
    "\n",
    "Now we have requests library ready in our working environment, we can start making some requests using the `.get()` method as shown below:\n",
    "\n",
    "\n",
    "We can use a simple GET request to retrieve information from the OpenNotify API.\n",
    "\n",
    "\n",
    "\n",
    "\n",
    "OpenNotify has several API endpoints. An endpoint is a server route that is used to retrieve different data from the API. For example, the /comments endpoint on the Reddit API might retrieve information about comments, whereas the /users endpoint might retrieve data about users. To access them, you would add the endpoint to the base url of the API.\n",
    "\n"
   ]
  },
  {
   "attachments": {
    "image.png": {
     "image/png": "[encoded data removed]"
    }
   },
   "cell_type": "markdown",
   "metadata": {},
   "source": [
    "![image.png](attachment:image.png)"
   ]
  },
  {
   "cell_type": "code",
   "execution_count": 36,
   "metadata": {},
   "outputs": [
    {
     "name": "stdout",
     "output_type": "stream",
     "text": [
      "200\n"
     ]
    }
   ],
   "source": [
    "# Make a get request to get the latest position of the international space station from the opennotify api.\n",
    "response = requests.get(\"http://api.open-notify.org/iss-now.json\")\n",
    "# Print the status code of the response.\n",
    "print(response.status_code)"
   ]
  },
  {
   "cell_type": "markdown",
   "metadata": {},
   "source": [
    "\n",
    "GET is by far the most used HTTP method. We can use GET request to retrieve data from any destination. \n",
    "GET is by far the most used HTTP method. We can use GET request to retrieve data from any destination. \n",
    "\n",
    "## Status Codes\n",
    "The request we make may not be always successful. The best way is to check the status code which gets returned with the response. Here is how you would do this. \n"
   ]
  },
  {
   "cell_type": "code",
   "execution_count": 38,
   "metadata": {},
   "outputs": [
    {
     "data": {
      "text/plain": [
       "True"
      ]
     },
     "execution_count": 38,
     "metadata": {},
     "output_type": "execute_result"
    }
   ],
   "source": [
    "response.status_code == requests.codes.ok"
   ]
  },
  {
   "cell_type": "markdown",
   "metadata": {},
   "source": [
    "So this is a good check to see if our request was successful. Depending on the status of the web server, the access rights of the clients and availibility of requested information. A web server may return a number of status codes within the response. Wikipedia has an exhaustive details on all these codes. [Check them out here](https://en.wikipedia.org/wiki/List_of_HTTP_status_codes)"
   ]
  },
  {
   "cell_type": "markdown",
   "metadata": {},
   "source": [
    "### Common status codes\n",
    "\n",
    "* 200 — everything went okay, and the result has been returned (if any)\n",
    "* 301 — the server is redirecting you to a different endpoint. This can happen when a company switches domain names, or an endpoint name is changed.\n",
    "* 401 — the server thinks you’re not authenticated. This happens when you don’t send the right credentials to access an API (we’ll talk about authentication in a later post).\n",
    "* 400 — the server thinks you made a bad request. This can happen when you don’t send along the right data, among other things.\n",
    "* 403 — the resource you’re trying to access is forbidden — you don’t have the right permissions to see it.\n",
    "* 404 — the resource you tried to access wasn’t found on the server."
   ]
  },
  {
   "cell_type": "markdown",
   "metadata": {},
   "source": [
    "### Hitting the right endpoint\n",
    "iss-pass wasn’t a valid endpoint, so we got a 404 status code in response. We forgot to add `.json` at the end, as the API documentation states.\n",
    "\n",
    "We’ll now make a GET request to http://api.open-notify.org/iss-pass.json."
   ]
  },
  {
   "cell_type": "markdown",
   "metadata": {},
   "source": [
    "\n",
    "## Response Contents\n",
    "Once we know that our request was successful and we have a valid response, we can check the returned information using `.text` property of the response object. \n",
    "```python\n",
    "print (resp.text)\n",
    "```"
   ]
  },
  {
   "cell_type": "code",
   "execution_count": 39,
   "metadata": {},
   "outputs": [
    {
     "data": {
      "text/plain": [
       "<Response [200]>"
      ]
     },
     "execution_count": 39,
     "metadata": {},
     "output_type": "execute_result"
    }
   ],
   "source": [
    "response"
   ]
  },
  {
   "cell_type": "code",
   "execution_count": 40,
   "metadata": {},
   "outputs": [
    {
     "name": "stdout",
     "output_type": "stream",
     "text": [
      "400\n"
     ]
    }
   ],
   "source": [
    "response = requests.get(\"http://api.open-notify.org/iss-pass.json\")\n",
    "print(response.status_code)\n"
   ]
  },
  {
   "cell_type": "code",
   "execution_count": 41,
   "metadata": {},
   "outputs": [
    {
     "name": "stdout",
     "output_type": "stream",
     "text": [
      "{\n",
      "  \"message\": \"failure\", \n",
      "  \"reason\": \"Latitude must be specified\"\n",
      "}\n",
      "\n"
     ]
    }
   ],
   "source": [
    "# Code here \n",
    "print(response.text)"
   ]
  },
  {
   "cell_type": "markdown",
   "metadata": {},
   "source": [
    "### Query parameters\n",
    "\n",
    "If you look at the documentation for the OpenNotify API, we see that the ISS Pass endpoint requires two parameters.\n",
    "\n",
    "We can do this by adding an optional keyword argument, params, to our request. In this case, there are two parameters we need to pass:\n",
    "\n",
    "* lat — The latitude of the location we want.\n",
    "* lon — The longitude of the location we want.\n",
    "We can make a dictionary with these parameters, and then pass them into the requests.get function.\n",
    "\n",
    "We can also do the same thing directly by adding the query parameters to the url, like this: http://api.open-notify.org/iss-pass.json?lat=40.71&lon=-74.\n",
    "\n",
    "It’s almost always preferable to setup the parameters as a dictionary, because requests takes care of some things that come up, like properly formatting the query parameters.\n",
    "\n",
    "We’ll make a request using the coordinates of New York City, and see what response we get."
   ]
  },
  {
   "cell_type": "code",
   "execution_count": 43,
   "metadata": {},
   "outputs": [
    {
     "name": "stdout",
     "output_type": "stream",
     "text": [
      "b'{\\n  \"message\": \"success\", \\n  \"request\": {\\n    \"altitude\": 1000.0, \\n    \"datetime\": 1582835949, \\n    \"latitude\": 40.71, \\n    \"longitude\": -74.0, \\n    \"passes\": 5\\n  }, \\n  \"response\": [\\n    {\\n      \"duration\": 531, \\n      \"risetime\": 1582873722\\n    }, \\n    {\\n      \"duration\": 654, \\n      \"risetime\": 1582879441\\n    }, \\n    {\\n      \"duration\": 599, \\n      \"risetime\": 1582885302\\n    }, \\n    {\\n      \"duration\": 563, \\n      \"risetime\": 1582891189\\n    }, \\n    {\\n      \"duration\": 624, \\n      \"risetime\": 1582897020\\n    }\\n  ]\\n}\\n'\n",
      "b'{\\n  \"message\": \"success\", \\n  \"request\": {\\n    \"altitude\": 1000.0, \\n    \"datetime\": 1582835949, \\n    \"latitude\": 40.71, \\n    \"longitude\": -74.0, \\n    \"passes\": 5\\n  }, \\n  \"response\": [\\n    {\\n      \"duration\": 531, \\n      \"risetime\": 1582873722\\n    }, \\n    {\\n      \"duration\": 654, \\n      \"risetime\": 1582879441\\n    }, \\n    {\\n      \"duration\": 599, \\n      \"risetime\": 1582885302\\n    }, \\n    {\\n      \"duration\": 563, \\n      \"risetime\": 1582891189\\n    }, \\n    {\\n      \"duration\": 624, \\n      \"risetime\": 1582897020\\n    }\\n  ]\\n}\\n'\n"
     ]
    }
   ],
   "source": [
    "# Set up the parameters we want to pass to the API.\n",
    "# This is the latitude and longitude of New York City.\n",
    "parameters = {\"lat\": 40.71, \"lon\": -74, 'alt':1000}\n",
    "\n",
    "\n",
    "# Make a get request with the parameters.\n",
    "response = requests.get(\"http://api.open-notify.org/iss-pass.json\", params=parameters)\n",
    "\n",
    "\n",
    "# Print the content of the response (the data the server returned)\n",
    "print(response.content)\n",
    "# This gets the same data as the command aboveresponse = requests.get(\"http://api.open-notify.org/iss-pass.json?lat=40.71&lon=-74\")\n",
    "print(response.content)"
   ]
  },
  {
   "cell_type": "code",
   "execution_count": null,
   "metadata": {},
   "outputs": [],
   "source": [
    "json.load(response)"
   ]
  },
  {
   "cell_type": "markdown",
   "metadata": {},
   "source": [
    "So this returns a lot of information which by default is not really human understandable due to data encoding, HTML tags and other styling information that only a web browser can truly translate. In later lessons we shall look at how we can use ** Regular Exprerssions**  to clean this information and extract the required bits and pieces for analysis. \n",
    "\n",
    "## Response Headers\n",
    "The response of an HTTP request can contain many headers that holds different bits of information. We can use `.header` property of the response object to access the header information as shown below:\n"
   ]
  },
  {
   "cell_type": "code",
   "execution_count": 44,
   "metadata": {},
   "outputs": [
    {
     "data": {
      "text/plain": [
       "{'Server': 'nginx/1.10.3',\n",
       " 'Date': 'Thu, 27 Feb 2020 20:39:44 GMT',\n",
       " 'Content-Type': 'application/json',\n",
       " 'Content-Length': '522',\n",
       " 'Connection': 'keep-alive',\n",
       " 'Via': '1.1 vegur'}"
      ]
     },
     "execution_count": 44,
     "metadata": {},
     "output_type": "execute_result"
    }
   ],
   "source": [
    "# Code here \n",
    "dict(response.headers)"
   ]
  },
  {
   "cell_type": "markdown",
   "metadata": {},
   "source": [
    "The content of the headers is our required element. You can see the key-value pairs holding various pieces of  information about the resource and request. Let's try to parse some of these values using the requests library:\n",
    "\n",
    "```python\n",
    "print(resp.headers['Content-Length'])  # length of the response\n",
    "print(resp.headers['Date'])  # Date the response was sent\n",
    "print(resp.headers['server'])   # Server type (google web service - GWS)\n",
    "```"
   ]
  },
  {
   "cell_type": "markdown",
   "metadata": {},
   "source": [
    "\n",
    "## HTTP POST method \n",
    "\n",
    "Sometimes we need to send one or more files simultaneously to the server. For example, if a user is submitting a form and the form includes different fields for uploading files, like user profile picture, user resume, etc. Requests can handle multiple files on a single request. This can be achieved by putting the files to a list of tuples in the form (`field_name, file_info)`."
   ]
  },
  {
   "cell_type": "code",
   "execution_count": 52,
   "metadata": {},
   "outputs": [
    {
     "name": "stdout",
     "output_type": "stream",
     "text": [
      "http_requests.png        json_diagram2.JPG        requests_homepage.png\r\n",
      "http_response_codes.gif  logo.png                 yelp_app.png\r\n",
      "json_diagram1.JPG        oauth_overview.png\r\n"
     ]
    }
   ],
   "source": [
    "ls"
   ]
  },
  {
   "cell_type": "code",
   "execution_count": 55,
   "metadata": {},
   "outputs": [
    {
     "name": "stdout",
     "output_type": "stream",
     "text": [
      "{\n",
      "  \"args\": {}, \n",
      "  \"data\": \"\", \n",
      "  \"files\": {\n",
      "    \"image\": \"data:image/png;base64,/9j/4AAQSkZJRgABAQEAYABgAAD/4RDaRXhpZgAATU0AKgAAAAgABAE7AAIAAAAFAAAISodpAAQAAAABAAAIUJydAAEAAAAKAAAQyOocAAcAAAgMAAAAPgAAAAAc6gAAAAgAAAAAAAAAAAAAAAAAAAAAAAAAAAAAAAAAAAAAAAAAAAAAAAAAAAAAAAAAAAAAAAAAAAAAAAAAAAAAAAAAAAAAAAAAAAAAAAAAAAAAAAAAAAAAAAAAAAAAAAAAAAAAAAAAAAAAAAAAAAAAAAAAAAAAAAAAAAAAAAAAAAAAAAAAAAAAAAAAAAAAAAAAAAAAAAAAAAAAAAAAAAAAAAAAAAAAAAAAAAAAAAAAAAAAAAAAAAAAAAAAAAAAAAAAAAAAAAAAAAAAAAAAAAAAAAAAAAAAAAAAAAAAAAAAAAAAAAAAAAAAAAAAAAAAAAAAAAAAAAAAAAAAAAAAAAAAAAAAAAAAAAAAAAAAAAAAAAAAAAAAAAAAAAAAAAAAAAAAAAAAAAAAAAAAAAAAAAAAAAAAAAAAAAAAAAAAAAAAAAAAAAAAAAAAAAAAAAAAAAAAAAAAAAAAAAAAAAAAAAAAAAAAAAAAAAAAAAAAAAAAAAAAAAAAAAAAAAAAAAAAAAAAAAAAAAAAAAAAAAAAAAAAAAAAAAAAAAAAAAAAAAAAAAAAAAAAAAAAAAAAAAAAAAAAAAAAAAAAAAAAAAAAAAAAAAAAAAAAAAAAAAAAAAAAAAAAAAAAAAAAAAAAAAAAAAAAAAAAAAAAAAAAAAAAAAAAAAAAAAAAAAAAAAAAAAAAAAAAAAAAAAAAAAAAAAAAAAAAAAAAAAAAAAAAAAAAAAAAAAAAAAAAAAAAAAAAAAAAAAAAAAAAAAAAAAAAAAAAAAAAAAAAAAAAAAAAAAAAAAAAAAAAAAAAAAAAAAAAAAAAAAAAAAAAAAAAAAAAAAAAAAAAAAAAAAAAAAAAAAAAAAAAAAAAAAAAAAAAAAAAAAAAAAAAAAAAAAAAAAAAAAAAAAAAAAAAAAAAAAAAAAAAAAAAAAAAAAAAAAAAAAAAAAAAAAAAAAAAAAAAAAAAAAAAAAAAAAAAAAAAAAAAAAAAAAAAAAAAAAAAAAAAAAAAAAAAAAAAAAAAAAAAAAAAAAAAAAAAAAAAAAAAAAAAAAAAAAAAAAAAAAAAAAAAAAAAAAAAAAAAAAAAAAAAAAAAAAAAAAAAAAAAAAAAAAAAAAAAAAAAAAAAAAAAAAAAAAAAAAAAAAAAAAAAAAAAAAAAAAAAAAAAAAAAAAAAAAAAAAAAAAAAAAAAAAAAAAAAAAAAAAAAAAAAAAAAAAAAAAAAAAAAAAAAAAAAAAAAAAAAAAAAAAAAAAAAAAAAAAAAAAAAAAAAAAAAAAAAAAAAAAAAAAAAAAAAAAAAAAAAAAAAAAAAAAAAAAAAAAAAAAAAAAAAAAAAAAAAAAAAAAAAAAAAAAAAAAAAAAAAAAAAAAAAAAAAAAAAAAAAAAAAAAAAAAAAAAAAAAAAAAAAAAAAAAAAAAAAAAAAAAAAAAAAAAAAAAAAAAAAAAAAAAAAAAAAAAAAAAAAAAAAAAAAAAAAAAAAAAAAAAAAAAAAAAAAAAAAAAAAAAAAAAAAAAAAAAAAAAAAAAAAAAAAAAAAAAAAAAAAAAAAAAAAAAAAAAAAAAAAAAAAAAAAAAAAAAAAAAAAAAAAAAAAAAAAAAAAAAAAAAAAAAAAAAAAAAAAAAAAAAAAAAAAAAAAAAAAAAAAAAAAAAAAAAAAAAAAAAAAAAAAAAAAAAAAAAAAAAAAAAAAAAAAAAAAAAAAAAAAAAAAAAAAAAAAAAAAAAAAAAAAAAAAAAAAAAAAAAAAAAAAAAAAAAAAAAAAAAAAAAAAAAAAAAAAAAAAAAAAAAAAAAAAAAAAAAAAAAAAAAAAAAAAAAAAAAAAAAAAAAAAAAAAAAAAAAAAAAAAAAAAAAAAAAAAAAAAAAAAAAAAAAAAAAAAAAAAAAAAAAAAAAAAAAAAAAAAAAAAAAAAAAAAAAAAAAAAAAAAAAAAAAAAAAAAAAAAAAAAAAAAAAAAAAAAAAAAAAAAAAAAAAAAAAAAAAAAAAAAAAAAAAAAAAAAAAAAAAAAAAAAAAAAAAAAAAAAAAAAAAAAAAAAAAAAAAAAAAAAAAAAAAAAAAAAAAAAAAAAAAAAAAAAAAAAAAAAAAAAAAAAAAAAAAAAAAAAAAAAAAAAAAAAAAAAAAAAAAAAAAAAAAAAAAAAAAAAAAAAAAAAAAAAAAAAAAAAAAAAAAAAAAAAAAAAAAAAAAAAAAAAAAAAAAAAAAAAAAAAAAAAAAAAAAAAAAAAAAAAAAAAAAAAAAAAAAAAAAAAAAAAAAAAAAAAAAAAAAAAAAAAAAAAAAAAAAAAAAAAAAAAAAAAAAAAAAAAAAAAAAAAAAAAAAAAAAAAAAAAAAAAAAAAAAAAAAAAAAAAAAAAAAAAAAAAAAAAAAAAAAAAAAAAAAAAAAAAAAAAAAAAAAAAAAAAAAAAAAAAAAAAAAAAAAAAAAAAAAAAAAAAAAAAAAAAAAAAAAAAAAAAAAAAAAAAAAAAAAAAAAAAAAAAAAAAAAAAAAAAAAAAAAAAAAAAAAAAAAAAAAAAAAAAAAAAAAAAAAAAAAAAAAAAAAAAAAAAAAAAAAAAAAAAAAAAAAAAAAAAAAAAAAAAAAAAAAAAAAAAAAAAAAAAAAAAAAAAAAAAAAAAAAAAAAAAAAAAAAAAAAAAAAAAAAAAAAAAAAAAAAAAAAAAAAAAAAAAAAAAAAAAAAAAAAAAAAAAAAAAAAAAAAAAAAAAAAAAAAAAAAAAAAAAAAAAAAAAAAAAAAAAAAAAAAAAAAAAAAAAAAAAAAAAAAAAAAAAAG1hdHQAAAAFkAMAAgAAABQAABCekAQAAgAAABQAABCykpEAAgAAAAM0NwAAkpIAAgAAAAM0NwAA6hwABwAACAwAAAiSAAAAABzqAAAACAAAAAAAAAAAAAAAAAAAAAAAAAAAAAAAAAAAAAAAAAAAAAAAAAAAAAAAAAAAAAAAAAAAAAAAAAAAAAAAAAAAAAAAAAAAAAAAAAAAAAAAAAAAAAAAAAAAAAAAAAAAAAAAAAAAAAAAAAAAAAAAAAAAAAAAAAAAAAAAAAAAAAAAAAAAAAAAAAAAAAAAAAAAAAAAAAAAAAAAAAAAAAAAAAAAAAAAAAAAAAAAAAAAAAAAAAAAAAAAAAAAAAAAAAAAAAAAAAAAAAAAAAAAAAAAAAAAAAAAAAAAAAAAAAAAAAAAAAAAAAAAAAAAAAAAAAAAAAAAAAAAAAAAAAAAAAAAAAAAAAAAAAAAAAAAAAAAAAAAAAAAAAAAAAAAAAAAAAAAAAAAAAAAAAAAAAAAAAAAAAAAAAAAAAAAAAAAAAAAAAAAAAAAAAAAAAAAAAAAAAAAAAAAAAAAAAAAAAAAAAAAAAAAAAAAAAAAAAAAAAAAAAAAAAAAAAAAAAAAAAAAAAAAAAAAAAAAAAAAAAAAAAAAAAAAAAAAAAAAAAAAAAAAAAAAAAAAAAAAAAAAAAAAAAAAAAAAAAAAAAAAAAAAAAAAAAAAAAAAAAAAAAAAAAAAAAAAAAAAAAAAAAAAAAAAAAAAAAAAAAAAAAAAAAAAAAAAAAAAAAAAAAAAAAAAAAAAAAAAAAAAAAAAAAAAAAAAAAAAAAAAAAAAAAAAAAAAAAAAAAAAAAAAAAAAAAAAAAAAAAAAAAAAAAAAAAAAAAAAAAAAAAAAAAAAAAAAAAAAAAAAAAAAAAAAAAAAAAAAAAAAAAAAAAAAAAAAAAAAAAAAAAAAAAAAAAAAAAAAAAAAAAAAAAAAAAAAAAAAAAAAAAAAAAAAAAAAAAAAAAAAAAAAAAAAAAAAAAAAAAAAAAAAAAAAAAAAAAAAAAAAAAAAAAAAAAAAAAAAAAAAAAAAAAAAAAAAAAAAAAAAAAAAAAAAAAAAAAAAAAAAAAAAAAAAAAAAAAAAAAAAAAAAAAAAAAAAAAAAAAAAAAAAAAAAAAAAAAAAAAAAAAAAAAAAAAAAAAAAAAAAAAAAAAAAAAAAAAAAAAAAAAAAAAAAAAAAAAAAAAAAAAAAAAAAAAAAAAAAAAAAAAAAAAAAAAAAAAAAAAAAAAAAAAAAAAAAAAAAAAAAAAAAAAAAAAAAAAAAAAAAAAAAAAAAAAAAAAAAAAAAAAAAAAAAAAAAAAAAAAAAAAAAAAAAAAAAAAAAAAAAAAAAAAAAAAAAAAAAAAAAAAAAAAAAAAAAAAAAAAAAAAAAAAAAAAAAAAAAAAAAAAAAAAAAAAAAAAAAAAAAAAAAAAAAAAAAAAAAAAAAAAAAAAAAAAAAAAAAAAAAAAAAAAAAAAAAAAAAAAAAAAAAAAAAAAAAAAAAAAAAAAAAAAAAAAAAAAAAAAAAAAAAAAAAAAAAAAAAAAAAAAAAAAAAAAAAAAAAAAAAAAAAAAAAAAAAAAAAAAAAAAAAAAAAAAAAAAAAAAAAAAAAAAAAAAAAAAAAAAAAAAAAAAAAAAAAAAAAAAAAAAAAAAAAAAAAAAAAAAAAAAAAAAAAAAAAAAAAAAAAAAAAAAAAAAAAAAAAAAAAAAAAAAAAAAAAAAAAAAAAAAAAAAAAAAAAAAAAAAAAAAAAAAAAAAAAAAAAAAAAAAAAAAAAAAAAAAAAAAAAAAAAAAAAAAAAAAAAAAAAAAAAAAAAAAAAAAAAAAAAAAAAAAAAAAAAAAAAAAAAAAAAAAAAAAAAAAAAAAAAAAAAAAAAAAAAAAAAAAAAAAAAAAAAAAAAAAAAAAAAAAAAAAAAAAAAAAAAAAAAAAAAAAAAAAAAAAAAAAAAAAAAAAAAAAAAAAAAAAAAAAAAAAAAAAAAAAAAAAAAAAAAAAAAAAAAAAAAAAAAAAAAAAAAAAAAAAAAAAAAAAAAAAAAAAAAAAAAAAAAAAAAAAAAAAAAAAAAAAAAAAAAAAAAAAAAAAAAAAAAAAAAAAAAAAAAAAAAAAAAAAAAAAAAAAAAAAAAAAAAAAAAAAAAAAAAAAAAAAAAAAAAAAAAAAAAAAAAAAAAAAAAAAAAAAAAAAAAAAAAAAAAAAAAAAAAAAAAAAAAAAAAAAAAAAAAAAAAAAAAAAAAAAAAAAAAAAAAAAAAAAAAAAAAAAAAAAAAAAAAAAAAAAAAAAAAAAAAAAAAAAAAAAAAAAAAAAAAAAAAAAAAAAAAAAAAAAAAAAAAAAAAAAAAAAAAAAAAAAAAAAAAAAAAAAAAAAAAAAAAAAAAAAAAAAAAAAAAAAAAAAAAAAAAAAAAAAAAAAAAAAAAAAAAAAAAAAAAAAAAAAAAAAAAAAAAAAAAAAAAAAAAAAAAAAAAAAAAAAAAAAAAAAAAAAAAAAAAAAAAAAAAAAAAAAAAAAAAAAAAAAAAAAAAAAAAAAAAAAAAAAAAAAAAAAAAAAAAAAAAAAAAAAAAAAAAAAAAAAAAAAAAAAAAAAAAAAAAAAAAAAAAAAAAAAAAAAAAAAAAAAAAAAAAAAAAAAAAAAAAAAAAAAAAAAAAAAAAAAAAAAAAAAAAAAAAAAAAAAAAAAAAAAAAAAAAAAAAAAAAAAAAAAAAAAAAAAAAAAAAAAAAAAAAAAAAAAAAAAAAAAAAAAAAAAAAAAAAAAAAAAAAAAAAAAAAAAAAAAAAAAAAAAAAAAAAAAAAAAAAAAAAAAAAAAAAAAAAAAAAAAAAAAAAAAAAAAAAAAAAAAAAAAAAAAAAAAAAMjAxODoxMDoxMSAxMDoyNjoxNgAyMDE4OjEwOjExIDEwOjI2OjE2AAAAbQBhAHQAdAAAAP/hCxdodHRwOi8vbnMuYWRvYmUuY29tL3hhcC8xLjAvADw/eHBhY2tldCBiZWdpbj0n77u/JyBpZD0nVzVNME1wQ2VoaUh6cmVTek5UY3prYzlkJz8+DQo8eDp4bXBtZXRhIHhtbG5zOng9ImFkb2JlOm5zOm1ldGEvIj48cmRmOlJERiB4bWxuczpyZGY9Imh0dHA6Ly93d3cudzMub3JnLzE5OTkvMDIvMjItcmRmLXN5bnRheC1ucyMiPjxyZGY6RGVzY3JpcHRpb24gcmRmOmFib3V0PSJ1dWlkOmZhZjViZGQ1LWJhM2QtMTFkYS1hZDMxLWQzM2Q3NTE4MmYxYiIgeG1sbnM6ZGM9Imh0dHA6Ly9wdXJsLm9yZy9kYy9lbGVtZW50cy8xLjEvIi8+PHJkZjpEZXNjcmlwdGlvbiByZGY6YWJvdXQ9InV1aWQ6ZmFmNWJkZDUtYmEzZC0xMWRhLWFkMzEtZDMzZDc1MTgyZjFiIiB4bWxuczp4bXA9Imh0dHA6Ly9ucy5hZG9iZS5jb20veGFwLzEuMC8iPjx4bXA6Q3JlYXRlRGF0ZT4yMDE4LTEwLTExVDEwOjI2OjE2LjQ2ODwveG1wOkNyZWF0ZURhdGU+PC9yZGY6RGVzY3JpcHRpb24+PHJkZjpEZXNjcmlwdGlvbiByZGY6YWJvdXQ9InV1aWQ6ZmFmNWJkZDUtYmEzZC0xMWRhLWFkMzEtZDMzZDc1MTgyZjFiIiB4bWxuczpkYz0iaHR0cDovL3B1cmwub3JnL2RjL2VsZW1lbnRzLzEuMS8iPjxkYzpjcmVhdG9yPjxyZGY6U2VxIHhtbG5zOnJkZj0iaHR0cDovL3d3dy53My5vcmcvMTk5OS8wMi8yMi1yZGYtc3ludGF4LW5zIyI+PHJkZjpsaT5tYXR0PC9yZGY6bGk+PC9yZGY6U2VxPg0KCQkJPC9kYzpjcmVhdG9yPjwvcmRmOkRlc2NyaXB0aW9uPjwvcmRmOlJERj48L3g6eG1wbWV0YT4NCiAgICAgICAgICAgICAgICAgICAgICAgICAgICAgICAgICAgICAgICAgICAgICAgICAgICAgICAgICAgICAgICAgICAgICAgICAgICAgICAgICAgICAgICAgICAgICAgICAgICAKICAgICAgICAgICAgICAgICAgICAgICAgICAgICAgICAgICAgICAgICAgICAgICAgICAgICAgICAgICAgICAgICAgICAgICAgICAgICAgICAgICAgICAgICAgICAgICAgICAgIAogICAgICAgICAgICAgICAgICAgICAgICAgICAgICAgICAgICAgICAgICAgICAgICAgICAgICAgICAgICAgICAgICAgICAgICAgICAgICAgICAgICAgICAgICAgICAgICAgICAgCiAgICAgICAgICAgICAgICAgICAgICAgICAgICAgICAgICAgICAgICAgICAgICAgICAgICAgICAgICAgICAgICAgICAgICAgICAgICAgICAgICAgICAgICAgICAgICAgICAgICAKICAgICAgICAgICAgICAgICAgICAgICAgICAgICAgICAgICAgICAgICAgICAgICAgICAgICAgICAgICAgICAgICAgICAgICAgICAgICAgICAgICAgICAgICAgICAgICAgICAgIAogICAgICAgICAgICAgICAgICAgICAgICAgICAgICAgICAgICAgICAgICAgICAgICAgICAgICAgICAgICAgICAgICAgICAgICAgICAgICAgICAgICAgICAgICAgICAgICAgICAgCiAgICAgICAgICAgICAgICAgICAgICAgICAgICAgICAgICAgICAgICAgICAgICAgICAgICAgICAgICAgICAgICAgICAgICAgICAgICAgICAgICAgICAgICAgICAgICAgICAgICAKICAgICAgICAgICAgICAgICAgICAgICAgICAgICAgICAgICAgICAgICAgICAgICAgICAgICAgICAgICAgICAgICAgICAgICAgICAgICAgICAgICAgICAgICAgICAgICAgICAgIAogICAgICAgICAgICAgICAgICAgICAgICAgICAgICAgICAgICAgICAgICAgICAgICAgICAgICAgICAgICAgICAgICAgICAgICAgICAgICAgICAgICAgICAgICAgICAgICAgICAgCiAgICAgICAgICAgICAgICAgICAgICAgICAgICAgICAgICAgICAgICAgICAgICAgICAgICAgICAgICAgICAgICAgICAgICAgICAgICAgICAgICAgICAgICAgICAgICAgICAgICAKICAgICAgICAgICAgICAgICAgICAgICAgICAgICAgICAgICAgICAgICAgICAgICAgICAgICAgICAgICAgICAgICAgICAgICAgICAgICAgICAgICAgICAgICAgICAgICAgICAgIAogICAgICAgICAgICAgICAgICAgICAgICAgICAgICAgICAgICAgICAgICAgICAgICAgICAgICAgICAgICAgICAgICAgICAgICAgICAgICAgICAgICAgICAgICAgICAgICAgICAgCiAgICAgICAgICAgICAgICAgICAgICAgICAgICAgICAgICAgICAgICAgICAgICAgICAgICAgICAgICAgICAgICAgICAgICAgICAgICAgICAgICAgICAgICAgICAgICAgICAgICAKICAgICAgICAgICAgICAgICAgICAgICAgICAgICAgICAgICAgICAgICAgICAgICAgICAgICAgICAgICAgICAgICAgICAgICAgICAgICAgICAgICAgICAgICAgICAgICAgICAgIAogICAgICAgICAgICAgICAgICAgICAgICAgICAgICAgICAgICAgICAgICAgICAgICAgICAgICAgICAgICAgICAgICAgICAgICAgICAgICAgICAgICAgICAgICAgICAgICAgICAgCiAgICAgICAgICAgICAgICAgICAgICAgICAgICAgICAgICAgICAgICAgICAgICAgICAgICAgICAgICAgICAgICAgICAgICAgICAgICAgICAgICAgICAgICAgICAgICAgICAgICAKICAgICAgICAgICAgICAgICAgICAgICAgICAgICAgICAgICAgICAgICAgICAgICAgICAgICAgICAgICAgICAgICAgICAgICAgICAgICAgICAgICAgICAgICAgICAgICAgICAgIAogICAgICAgICAgICAgICAgICAgICAgICAgICAgICAgICAgICAgICAgICAgICAgICAgICAgICAgICAgICAgICAgICAgICAgICAgICAgICAgICAgICAgICAgICAgICAgICAgICAgCiAgICAgICAgICAgICAgICAgICAgICAgICAgICAgICAgICAgICAgICAgICAgICAgICAgICAgICAgICAgICAgICAgICAgICAgICAgICAgICAgICAgICAgICAgICAgICAgICAgICAKICAgICAgICAgICAgICAgICAgICAgICAgICAgICAgICAgICAgICAgICAgICAgICAgICAgICAgICAgICAgICAgICAgICAgICAgICAgICAgICAgICAgICAgICAgICAgICAgICAgIAogICAgICAgICAgICAgICAgICAgICAgICAgICAgPD94cGFja2V0IGVuZD0ndyc/Pv/bAEMABwUFBgUEBwYFBggHBwgKEQsKCQkKFQ8QDBEYFRoZGBUYFxseJyEbHSUdFxgiLiIlKCkrLCsaIC8zLyoyJyorKv/bAEMBBwgICgkKFAsLFCocGBwqKioqKioqKioqKioqKioqKioqKioqKioqKioqKioqKioqKioqKioqKioqKioqKioqKv/AABEIAcADeQMBIgACEQEDEQH/xAAfAAABBQEBAQEBAQAAAAAAAAAAAQIDBAUGBwgJCgv/xAC1EAACAQMDAgQDBQUEBAAAAX0BAgMABBEFEiExQQYTUWEHInEUMoGRoQgjQrHBFVLR8CQzYnKCCQoWFxgZGiUmJygpKjQ1Njc4OTpDREVGR0hJSlNUVVZXWFlaY2RlZmdoaWpzdHV2d3h5eoOEhYaHiImKkpOUlZaXmJmaoqOkpaanqKmqsrO0tba3uLm6wsPExcbHyMnK0tPU1dbX2Nna4eLj5OXm5+jp6vHy8/T19vf4+fr/xAAfAQADAQEBAQEBAQEBAAAAAAAAAQIDBAUGBwgJCgv/xAC1EQACAQIEBAMEBwUEBAABAncAAQIDEQQFITEGEkFRB2FxEyIygQgUQpGhscEJIzNS8BVictEKFiQ04SXxFxgZGiYnKCkqNTY3ODk6Q0RFRkdISUpTVFVWV1hZWmNkZWZnaGlqc3R1dnd4eXqCg4SFhoeIiYqSk5SVlpeYmZqio6Slpqeoqaqys7S1tre4ubrCw8TFxsfIycrS09TV1tfY2dri4+Tl5ufo6ery8/T19vf4+fr/2gAMAwEAAhEDEQA/APZqKKKACiiigAooooAKKKKACiiigAooooAKKKKACiiigAooooAKKKKACiiigAooooAKKKKACiiigAooooAKKKKACiiigAooooAKKKKACiiigAooooAKKKKACiiigAooooAKKKKACiiigAooooAKKKKACiiigAooooAKKKKACiiigAooooAKKKKACiiigAooooAKKKKACiiigAooooAKKKKACiiigAooooAKKKKACiiigAooooAKKKKACiiigAooooAKKKKACiiigAooooAKKKKACiiigAooooAKKKKACiiigAooooAKKKKACiiigAooooAKKKKACiiigAooooAKKKKACiiigAooooAKKKKACiiigAooooAKKKKACiiigAooooAKKKKACiiigAooooAKKKKACiiigAooooAKKKKACiiigAooooAKKKKACiiigAooooAKKKKACiiigAooooAKKKKACiiigAooooAKKKKACiiigAooooAKKKKACiiigAooooAKKKKACiiigAooooAKKKKACiiigAooqrqGo2ek2Ml7qdzFa20Qy8srbQP/AK/t3oAtUVgDxhZuN0Ona1Kh6OukXAB+mUBo/wCEtt/+gVrn/gqn/wDiadmK6N+isD/hLbf/AKBWuf8Agqn/APiaP+Ett/8AoFa5/wCCqf8A+JoswujforA/4S23/wCgVrn/AIKp/wD4mj/hLbf/AKBWuf8Agqn/APiaLMLo36KwP+Ett/8AoFa5/wCCqf8A+Jo/4S23/wCgVrn/AIKp/wD4mizC6N+isD/hLbf/AKBWuf8Agqn/APiaR/GmmW6mS/g1OxhH3p7rTZ44092cphR7sQKLMLo6CimRSxzwpLA6yRuoZHQ5DA9CCOop9IYUUUUAFFFFABRRRQAUUUUAFFFFABRRRQAUUUUAFFFFABRRRQAUUUUAFFFFABRRRQAUUUUAFFFFABRRRQAUUUUAFFFFABRRRQAUUUUAFFFFABRRRQAUUUUAFFFFABRRRQAUUUUAFFFFABRRRQAUUUUAFFFFABRRRQAUUUUAFFFFABRRRQAUUUUAFFFFABRRRQAUUUUAFFFFABRRRQAUUUUAFFFFABRRRQAUUUUAFFFFABRRRQAUUUUAFFFFABRRRQAUUUUAFc1eQRap8RrC2vF8yHTbJr2KNvumZnCK5HcqofHpvJ610tc9F/yVGT/sDL/6Oarh8SIn8LOmooorrOUKKyP+Eu8N/wBpf2d/wkOlfbvO8j7N9tj83zM7dm3dndnjHXPFc2Pi1oK/EfUPC91cWtnBYW++TUrm9jjjaYMoMKg8EgNzyCCrDbxmldDszu6K5jXPHWmWHh6fUNFvNK1a4SFZ4rf+1YYFljMoiL+Yx2hQxIyeCw29TVy08WaS1jYPqmo6dp95d2K3ptGv4nKoULsysDh0UK3zj5SFJ6UXQWZt0VU0zV9N1q2a40fULXUIFco0trOsqhgAdpKkjOCDj3FU4fF3hu5+z/Z/EOlS/apjBBsvY282QbcouG+ZvnXgc/MPUUXA16CAykMAQRgg96KKYjlfCUKadfa/o1sNtpYX4+zR54iSWGOUoPQB3fA7Agdq6Wud0H/kb/Fn/X5B/wCksVdFXHLdnZHZBRRRUjCiiigAooooAKKKKACiiigAooooAKKKKACiiigAooooAKKKKACiiigAooooAKKKKACiiigAooooAKKKKACiiigAooooAKKKKACiiigAooooAKKKKACiiigAooooAKKKKACiiigAooooAKKKKACiiigAooooAKKKKACiiigAooooAKKKKACiiigAooooAKKKKACiiigAooooAKKKKACiiigAooooAKKKKACiiigAooooAKKKKACiiigArn/GniaTwj4bk1dNPa/SKRVlRZdm1WON2cHvgfjW7LLHBE0szrHGgyzucBR6k15r44+K3hKPSb3SUZtYe4iaF0tiPLGRj/WHj8VzXp5Zg6mKxMVGk5xurpduuvT7yJyUVvY56T9oeQ/6rw0q/wC9e5/9kFVJP2g9UP8AqtDtF/3pWb/CvIas6dp13q2oQ2Om273FzM22ONBkk/4e/av1v/VvJ6acnSVl3cv1Zwe2qPqenxfHbxVe3Udtp+kadJNKwSOMRSuzE9AAHFekeFjrj+OPM8UfZVv5NHVmitUIWIeccKSScn1PT8smL4c/DOz8G2q3l7sudYkXDzYysIPVU/qep9hW3F/yVGT/ALAy/wDo5q/OM3xeXzq+xwFJKK+11fp5fmdKjNRvNnTUUUV4xmfJP/FI+HLj/mFeL/CdxqP+3bapbAJ/2zcrhv8AajYp/wAs2auk8VW+g23xj+IqapFp0SHQJXtFuFjUG7aGFg0Yb/lqWLHI+Ykk+te9/wDCI+G/7S/tH/hHtK+3ed5/2n7FH5vmZ3b923O7POeueak1PwzoOtXK3GsaJp2oTqgRZbq0jlYKCTtBYE4ySce5rLkZrzo8EttB0q0/ZLu9Xt7CBNRvMCe72ZlcC+VQu48hcRr8o4yM4ySakh0mx1v4rfDCw1a1ju7R/Ctq7wyDKuUimdcjuNyjg8Hocjive/7A0f8AsX+x/wCybH+zP+fL7Mnk/e3f6vG373PTrzQmgaPFe2t5HpNil1ZwiC2nW2QPBGAQERsZVcMRgccn1o5Bc586Q281p4f+NFvokUkIhvokWKzUrshF1MHUBeiCPcCOm3OeKpp/wiP9u/Cj/hFvI/tHzrb+1fK37vM86P7+f4t/ne+3b/Dsr6H1jw9LHourHwV9h0PW77En25LRD5kgbdmT5TuzlhuIJG8kAmvP9J+FXiG71/w9ceJ/+EcsLHQJjdxroFu0T3U/7v5pAVVBkxKSVA6YAGQVTiylJHr9FFFbGJzGg/8AI3+LP+vyD/0liroq53Qf+Rv8Wf8AX5B/6SxV0VccviZ1x+FBRRRUlBRRRQAUUUUAFFFFABRRRQAUUUUAFFFFABRRRQAUUUUAFFFFABRRRQAUUUUAFFFFABRRRQAUUUUAFFFFABRRRQAUUUUAFFFFABRRRQAUUUUAFFFFABRRRQAUUUUAFFFFABRRRQAUUUUAFFFFABRRRQAUUUUAFFFFABRRRQAUUUUAFFFFABRRRQAUUUUAFFFFABRRRQAUUUUAFFFFABRRRQAUUUUAFFFFABRRRQAUUUUAFFcf4j+KPhfw3vjnvxeXS/8ALvZ4kYH0J+6PxOa81vPij428a3T2PgzTJLWInBaBPMkA/wBqQ/Kn6fWvdweQ43FR9py8kP5paIylVjHQ9n1rxHpHh228/WtQgs0xlRI3zN/uqOT+Ary3xD8eo/MNr4S0xriRjtW4ugQCf9mMcn8SPpVbRvgbqWp3P27xrq7+ZIdzxwv5srf70jcA/QH616j4f8F+H/C8YGjabDDLjBnYb5T/AMDPP4Diu/lyTL/ibxE/LSH39fxRP7yfkjxuPwZ8RviJKs/iO6ls7MncBdnYo/3YV7/UD613/hz4MeGdE2S38bavcrzuuR+7B9oxx/31mvQqK5MVxDja8PZUmqcP5YafjuVGlFavVniHxZ+HV5f+LNOufDVhv+3p5EiRKFSNkHDHso24H/Aa7/wD8PbDwRp+RtudTmXFxdEf+OJ6L+p6nsB2FFY4jO8XXwUME3aMd+77X8l2GqcVJyCud1tZtJ1+08RQW8t1BHA9pexQJukWIsGWVVHLbWUgqOcOSMkYPRUV4qdnctq6sc83xI8Go22XxLp0TDqkk4Rh9QeRSf8ACy/BX/Q06V/4FL/jXRUVr7Vmfskc7/wsvwV/0NOlf+BS/wCNH/Cy/BX/AENOlf8AgUv+NdFRR7Vh7JHO/wDCy/BX/Q06V/4FL/jR/wALL8Ff9DTpX/gUv+NdFRR7Vh7JHO/8LL8Ff9DTpX/gUv8AjR/wsvwV/wBDTpX/AIFL/jXRUUe1YeyRzv8AwsvwV/0NOlf+BS/40f8ACx/CUikWet21/Lj5YLImeRz2AVckk10VFHtWHskYfhmyuoo7/UtSh8i81W6NzJASCYFCLHGhI4JCIpOONxbFblFFY7muwUUUUAFFFFABRRRQAUUUUAFFFFABRRRQAUUUUAFFFFABRRRQAUUUUAFFFFABRRRQAUUUUAFFFFABRRRQAUUUUAFFFFABRRRQAUUUUAFFFFABRRRQAUUUUAFFFFABRRRQAUUUUAFFFFABRRRQAUUUUAFFFFABRRRQAUUUUAFFFFABRRRQAUUUUAFFFFABRRRQAUUUUAFFFFABRRRQAUUUUAFFFFABRRRQAUUVzXiP4geG/C4ZdT1GM3C/8u0H7yU+20dPxxW1GhVxE/Z0YuT7JXE2krs6Wqmo6pY6RaNc6peQWkC9ZJpAo+nPU+1eK6r8atf166Nh4K0l4WfhX8vz5z7hQNq/+PVHp3wg8V+KrsX/AI01R7bdziWTzpsegGdqj8ePSvpIcPrDxVTMqqpLtvJ/Jf8ABMfa30grnReI/jxpFjvh8O2smpTDgTSZjiHvz8x/IfWuV+z/ABN+Jv8ArjJY6bJ2bNvBj6fecf8AfVeq+G/hr4Y8MbJLPT1uLpeftN1iSTPqOy/gBXWVX9rZfgdMuoXl/PPV/JbL8PQPZzl8b+48v8N/AzQtM2Ta7NJqs452f6uIH6A5P4nHtXpNnZWun2qW1hbxW0CDCxQoFVfoBU9FeFjMxxeOlzYibl+XyWxrGEY7IKKKK4CgoorL1fXYNKlgtlt7i9vrnJgs7VA0kgGMtyQqqMjLMQORzkgUAalFYP8AaviI8jwswB7NqEQI+uMj9aP7U8R/9Cx/5UI/8Krll2J5o9zeorB/tTxH/wBCx/5UI/8ACj+1PEf/AELH/lQj/wAKOWXYOaPc3qKwf7U8R/8AQsf+VCP/AAo/tTxH/wBCx/5UI/8ACjll2Dmj3N6isH+1PEf/AELH/lQj/wAKP7U8R/8AQsf+VCP/AAo5Zdg5o9zeorB/tTxH/wBCx/5UI/8ACj+1PEf/AELH/lQj/wAKOWXYOaPc3qKwf7U8R/8AQsf+VCP/AAo/tTxH/wBCx/5UI/8ACjll2Dmj3N6isH+1PEf/AELH/lQj/wAKP7U8R/8AQsf+VCP/AAo5Zdg5o9zeorB/tTxH/wBCx/5UI/8ACj+1PEf/AELH/lQj/wAKOWXYOaPc3qKwf7U8R/8AQsf+VCP/AAobWPEESl5fCkzqOqwX0LOfoGKj9aOWXYOaPc3qKoaRrFprVmbiyMg2OY5YpYykkLjqjqeQRkfmCOCDV+pKCiiigAooooAKKKKACiiigAooooAKKKKACiiigAooooAKKKKACiiigAooooAKKKKACiiigAooooAKKKKACiiigAooooAKKKKACiiigAooooAKKKKACiiigAooooAKKoaxrNloWnm71GUom4JGiKWeVz91EUcsx7AVhLo2u+K1EniK4k0fTH5XSrKTE0i+k0w5GR1RMe7GqjFy2JcktzQ1PxloGk3H2a61KJ7vtaWwM85/7ZoC36VUHi6/nH+g+Ddfmz90ypBAD/38lBH4it/StF0zQ7UW2j2FvZQgY2QRBM+5x1Puau1sqS6mTqvocp/b3ic9PBVwB/tajb5/RjR/bvij/oS5/wDwZQf411dFP2URe0kcp/bvij/oS5//AAZQf40f274o/wChLn/8GUH+NdXRR7KIe0kcp/bvij/oS5//AAZQf40f274o/wChLn/8GUH+NdXRR7KIe0kcp/bvij/oS5//AAZQf40f274o/wChLn/8GUH+NdXRR7KIe0kcp/bvij/oS5//AAZQf40f274o/wChLn/8GUH+NdXRR7KIe0kcp/bvij/oS5//AAZQf40f274o/wChLn/8GUH+NdXRR7KIe0kcp/bvij/oS5//AAZQf40f274o/wChLn/8GUH+NdXRR7KIe0kcp/bvij/oS5//AAZQf40f274o/wChLn/8GUH+NdXRR7KIe0kcp/bvij/oS5//AAZQf40f274o/wChLn/8GUH+NdXRR7KIe0kcp/bvij/oS5//AAZQf40f274o/wChLn/8GUH+NdXRR7KIe0kcp/bvij/oS5//AAZQf40f274o/wChLn/8GUH+NdXRR7KIe0kcp/bvij/oS5//AAZQf40f274o/wChLn/8GUH+NdXRR7KIe0kcp/bvij/oS5//AAZQf40f274o/wChLn/8GUH+NdXRR7KIe0kcp/bvij/oS5//AAZQf40f274o/wChLn/8GUH+Naev+LdC8MQ79b1KC2OMrEW3SN9EHJ/KvKde+PdxdTfY/B2ks0jnak9yu5mP+zGv9SfpXqYPJMXjdaMHbu9F9/8AkS6zR39x4m8Q2du8934ReCFBl5JdUt1VR7ktgVxV/wDH20tGkii0NpplOPlvFKZ/3lBB/CsG2+HXxA8f3CXfiy+ks7cncBeH5l/3YVwF+h216N4b+D3hbw/slmtTql0vPm3mGUH2T7v55PvXqf2dlGA1xVV1Zfyw2+cv8rPyJ9rN7aHmU3iH4m/EhHXRrWeCxOfltP3EZHoZWI3H23fhS6D8LnsJBN4x8OeIbtgcmGy+ztH+LLMXP4AV9DqqooVFCqowABgAUtRWz6soeywcVRh/d3+b/XQlLW8tTjPDeueDLALpmkfZ9GnPWyuoDaTMfdZAGc+/NddUd/ptjqlqbbU7OC8gbrFcRB1P4GuYbwzq3hlTL4MuvPs1GTot/IWjx6QynLRH0B3L7CvmakZzk5yd2++50xqLY6uiszQ9etNdtne3EkNxA2y5tJ12zW7/AN117ex6EcgkVp1zmoUUUUAFFFFABXO6Ggl8feJbmT5pIktbZCf4UCF8D0y0hJ/Cuirn/D//ACOXin/rtbf+iFrSn8RFT4TpaKKK6jlCiivLPFnw58Wf8LCuPF3w91610+81C3EF4t8gYAKEA2fu3GCI1zkZBXqQ2Am7DSucB8P/ABlqXgb4Bajq+j6fHez/ANvmFjKrGOBWhi+dwuDjICjkcuOex9H8I+P/ABHeWOsav4jtdHvdBsbFruPUtCn3BmRBI0RjkfeH2t0YJtK4P3gar6Z8L/EHhn4TN4e8M65ax6tc3BuL17q3WW2mDoEkhAZGwm0LyVJYqeAGwtfwZ8JdW03VvE0+v3GnWNhr1i9o+naG0ohUvw0gEgwpUbtowwHmNjaBg5JSVjRuLuY8fxp8X2ek6b4s1rQNOXwpqF9JboLaRjdKo3YOS+Cflf8AhG4xtnYGU10F/wCPvGd18W9Y8GeF9O0eUWluk0dxemRBECkTM0m1suMuVAUA5ZSTgHPPx/BbxfeaTpvhPWtf05vCmn30lwhto2F0yndgYKYB+Z/4jtMjZ3hVFdxpPgfUrD43a34xmntW0/ULFbeKJXbzlYCEZYbcY/dN0J6j8GuYHyknwm8c3nj/AMHSanqdrBbXUF29s4tydj4VWDAEkrw4GMnpnvgZ/wAS/HXiHwj5s2mx6HZWcEO9ZNYnZpdQfjKW8UTbvlyoYvjlx0UFjc+EXgfUvAPhK60vWJ7Waea+e4VrV2ZQpjjXBLKpzlD29Kw/Fnwy8Sax8RtQ1zTtQ0qSx1PTjpzDUUkeWwjdNkhgUcbsbmB3KCZHBHJJfvcovd5jPvfjJ4h/4R7wLf6Xo1jcXXiKaaGe0d2G945UiAjcsAm4k8tu25Gc4JNzVvH3j/SfHWieERp2gXmqajYtNIYjKkKOXmCsGZs7FSNWYbSxwwB5GKdl8JPEkVh4Ctri40pf+EX1GW4nZLiRvOjeeOUbQYxhvlYYPHAOeSB1mreB9Sv/AI3aJ4xhntV0/T7FreWJnbzmYiYZUbcY/er1I6H8V7w/dMvx3468W+EdNimePw5ZNBaK88l/O7f2hPgb0tIkbftViATJj74zgAsael/FfXrpvA+o3ul2qaL4jdrK4eBJHkiuxI8YwxYKqMQjAHc2BJ12gmTxZ8MvEmsfEbUNc07UNKksdT046cw1FJHlsI3TZIYFHG7G5gdygmRwRyScfxJ4dt/Cv7OknhfxlqGlW1/beZLp7xOZmncS+YPLVlVgx8wxkjO1W3E4JFD5rsFy2O4h8YaxqPxkufC+mWcH9kaXaLLqVzNE+8SOu5FjYNt53JwwBO2THQV29ecfBXw7cad4Tn8Rau3mav4lm/tC5kwBlGJaPhTt53M/AGPM2kfLXo9XG9rsiVr6BRRRVEnL2yC3+J+qrF8q3Wl208o9XWSVN31K7R/wEeldHXPL/wAlSu/+wNB/6Olroa5J/Ezrh8KCiiioKCiiigAooooAKKKKACiiigAooooAKKKKACiiigAooooAKKKKACiiigAooooAKKKKACiiigAooooAKKKKACiiigAooooAKKKKACiiigAooooAKKKKACqerara6Lpkt9fMVijA4VdzOxOFRR3YkgAdyRVyuctseIvGDzn59O0NzHF6S3hHzt/2zU7R/tO/daqK5nYUnZXJdB0S4mvBr/iONTqsgPkQbtyafGf+Wadt5H3nHU8D5QK6OiiutJJWRyNtu7CiiimIKKKKACiiigAooooAKKKKACiiigAooooAKKKKACiiigAooooAKKKKACiiigAooooAbKZBCxgRXkx8quxUE+5AOPyNee+JNJ+KGt74tO1PRNHtm4C208pkI95DFn/vkCvRKK6sNinhpc8YpvzV/wANgaueKaL8Ap5rtrnxfrPnMzZaOzJYye5kcZ/T8a9S0DwjoXhiHZommw2xxhpQN0jfVzkn862aK6sZm2MxulaenZaL7kJRS2CiiivLGFFFFABRRRQBheINAe8lTVdGZLbW7VcQzHIWdephlx95D+ankc9ZtD1mHW9P8+ONoJo3MVzbSfft5R95G9x69CCCOCKv3uoWem25uNRu4LSEdZJ5Aij8TXlfiD4q+GdE8WLqWiXDaibiEwX8NuhCuV5ikDEAFhkqcZyrD+6BW1LL8Ti3/s9Ny9F+uxpGoo6M9XrzD466O134Ot9VgyJdOnG5h2jfCn/x7ZXK3Xxm8XeIrg2vhLRhAT08qI3Mo9+m0fitNHw0+IfjACbxRqht4yNwjupy5H0jT5R+lfR5flFTK8TTxWNrRp8rva95NdVZd16hOoppxirnl0eq6hD/AKq+uU/3ZmH9atR+KfEEP+q13Uk/3byQf1rNlieCZ4ZlKSRsVZT1BBwRXqPw++Dl1rflan4nWS0084aO2+7LOPf+6v6ntjrX6Nj8VgsHR9tibW9E2/TuccYyk7Ip+B4/iF4wvcWHiDVIbKNsTXk1y7InsMn5m9h7ZxXsvgyybTvEHiO1ku57x45LYNPcNueQ+SOSa6KysbXTbKKzsLeO3t4V2pFGuFUfSsfw/wD8jn4p/wCutt/6IFfkOZZt/aFb3IKEFsklf5v+kdvs+SG50tFFFecZEdxcQ2ltLcXUscMEKF5JZGCqigZLEngADnNVND1zTvEmiwatotx9psbjd5Uuxk3bWKnhgCOVI5Fcv8Zb64074Qa/NZyeXI0KQltoOUklSNxz6qzDPbPHNeYWw1Wfxn8O/DOi67faHYX/AIYglnSwfYpLRzPKwT7vmNg/OQSGIbkgVDlZ2LUbq59DUV4p4Em8T+JNB8d+CrnxFdSXmi3HkWGrec8U+/zJMb5AWbYWiGerBWYZIxihfePtZ1X4SeHdBtNRksfFeo6mujXEknnxTQtE4BZpOof5oN55z5jjGcgHPoHLqer3XxB8L2cesvPq0ezQnjTUWjidxA0jbVXKqdx3ZBC5wQQcYrcsL631TTba/sZPNtbqFJoZNpXcjAMpwcEZBHBr5Qu/D3l6T8UJf7X1Vv7I1GCLY1zlb3N06brgY/eMMbgePmJNdhC2u+FL34VXNv4o1W4XXfIjuLR5QLVIcQIsawj5eI5NpY5JI3cGpU31KcF0PoaivGNdl8Q+OPjjqnhK28TX2gWGkad50R05mRpHZIjlyGG7DSjj+6mBtLFq4y/+IHifUP2fLO/k1i6hv7XXxYfbLeZ4ppohbs4EjKcsct177QTk5JbnYShc+mqyPEvivRfB+mx3/iK8+x2skwhSTynky5BYDCAnop59q8vtG13wt+0HoWgzeKNV1a31PTpLi9W8lBiaQrMT5cf3Yl3RKQByBkZwcVY/aV/5JvYf9haP/wBEzU3LRsXLqkekaN4r0XxBqWp2GkXn2i60mbyb2PynXynyy4ywAblG5GelWNU0DR9c8r+2tJsdR8nPlfa7ZJfLzjONwOM4GcegrxvQrzxfr8/xY07QtYum1C3vhHpwmumxAvnzbkjLZEZKLtBGMHbyMZFT4a3F5q/iY6PqvjHxVpWq/wBnPDfaPqshZ5ndG/eW8jEGNlBjkAKbhzgsu40uYfKer/8ACyPCP9m/2j/bcH2H+0f7M+07X8r7Rjdt3Yxtxzv+5jndXT18m6BoUM37PHibW5rq6keC+SGK0aQG3jbzLb98qY4l2sybgfukjvX034RvrjVPBOh399J5t1dadbzTSbQu52jVmOBgDJJ4FEZN7ilFLY16KKK0IOZX/kqV3/2BoP8A0dLXQ1zy/wDJUrv/ALA0H/o6Wuhrkn8TOuHwoKKKKgoKKKKACiiigAooooAKKKKACiiigAooooAKKKKACiiigAooooAKKKKACiiigAooooAKKKKACiiigAooooAKKKKACiiigAooooAKKKKACiiigAooooAp6vqUWj6Je6lcf6qzgedx6hVJx+lVvCGly6P4R0+0u/8Aj68rzbo+s0hLyH/vtmqj49G/wfPB/wA/NxbW2PXzLiNP/Zq6it6S3ZjVeyCiiitzAK+adL8ceLbX9nnUtSttSvrq8k1w2kt9NI80ttA0CHKuSdnzYUHsX4wxBr0PxZp3xM0X4hXGu+CTHrmn31uI/wCzry5Kw2bAICQjSqMnbkMP7zgjoTT8NeAPG/g/4OyWPh3VILPxFJdnUHh8qORSDGFNvufK7vlB3YxuG3OPnrKV2zWNkjE8Az6jL41sG8M/FePxLFv2X2n6wLiFpIjyfJSQtvcKrHK427RnIYit/wAWat4j8Z/FS48BeGNdk8P2lhYi4v7uOL987EowCMCDgb4xwU6yZ3DAOBpHw98Y69460G/13wpoHhSz0e4F28ulwxqbgq6MIyqSMScrwTgKCx5OAer8Y+DvFOmePm8c/DpbG4vp7QW19p92SPtPKgMCWAHCoSAyY8ofe3EUlew3a5zF1r3inwDqms+Ctd8RT61Hc+Hrq80zUNpW4gkWOV8s5bcP9XJ/E5GI8FRkDP8AAPxE11/AOvaP4i1GdruXQ7vUdFvZJwZnVBKrjzN24sHQlRjcArnO0LW+vgDxl4nuNa8VeNoLFNXk0O40/S9MtHx5Lukictu287mxln/1pyV2gCvP8J9d1D4HaLpqp9g8TaP9qKR+eP3kczyeZDvVto3oV5ORxtOAzEK0ugXidx8G7+81T4S6Neandz3l1J5++e4kMjtieQDLHJOAAPwrj7q68U/FPx94i0fQvFE/hrRvD8yQE28RE00wLqSSrAlSVk/iAwE+XOSO4+FWh6j4b+GWlaTrVv8AZr6387zYt6vt3TOw5UkHhgeDXJ6t4T8ceDPGus+IPhtbadqNprjo91p10xDJL8xaQFnXI3Fjw4/1pGzCgi9eVE6XZn6b4q8R6TB498E+IdXk1DUNF0aW6sNTiXy5PLEAxuYEHeN8TA8ndvy5wDVTwT8YrzQPBnh5vFWk6rcaZcTS28/iG4lMn7zzHYYUgs6hSozkH5XChthFbelfDzxHJpfjPxD4n+y3HifxDpktrBbWrbVt1aHAiJJC5yI1748sHedxNconw4+Ies+B/D3gbU9KsdP0y1u3uptR+0LI8ALSYVkDfM3zuflyDvjBK7WNT7yK91nb2niq3s/jj4qtr651WO103Sftc3m35ktI0VIGZktxHlWwx5DHPzcfNxXh+NsqWVhruq+FZ7Hwrf3bW0OrG9SR+C4DNAo3D/VnIycYON3AOPHpf9uftF+P9J87yPt/h5rbzdu7y98Vsu7GRnGc4yKxNH+DurJHZaPqHgPTjOlwy3XiC61aWSGSLcx3LbxSIwONoHTOPmC5JUvLoFo9Tu9Y+M32PxJq1jovhi+1nT9Cx/a1/C+z7Ph9r7UK/Nt56lc7XP3VLVh+LPG3iyH466HY6Jp91dWf2Ez2ulm7FqL8PE5aSQMAUKkEbJBkGLIALVIPCnxD8IeNvFMvg6zsb618TTCZNRmlVPsDtIxyyE5bYJH4Ctn5D2KHQ8YeGvF0HxY8O+MdG0mDX/sGnG2uIYrlLTMmJQW/eE7VPnZABY/KQexL95iXKbHxq8U3HhX4aXU2nzz219ezJaW88GMxlssxyfu/IjgEcgkYx1HnHxPvtT0Px94c0C88d6ro9jHocK3epQvM3mSKZR5rRI+WZyignJPPJOK6/wDaMsbi7+F8c1vHvjs9RimnbcBsQq8YPPX5pFGB6+gNWPFHgW91/wCO2hazd6RBf+HrfTmhumuDG6b8TkAxscty6HOD+lErthGyRxngLx9r2kXPitLDUbrx1oulWIvku7rzIGLAx7wHk3FAEMp2HO7ySVAyc+h6t8WdO034T2XjWO28/wC2+XHDZ+Yy7piSJI9+z+HZJ8xUA7OOortNM0jTdFtmt9H0+10+BnLtFawLEpYgDcQoAzgAZ9hXgnhXw3qF/wDF1vCdvd7vDPhPVpdUjFtcSSJESVMMG5sruVhgqcEf6R8xPNGsdA0lqSaD438aahd/En7ba3WyG3uPMcaioGiNHFcbEjUY3EsgXcmOV3HOaseFfjDq/hr4baLfa7oGo6np7XD21xrNxejzJJDJI2I0bLSBYxjcSo3KVyMZq/a+DvGOka98RLSHQY72w8UpdNBfx30aCMtHO0a7GwxJaVUOcAHJyRzVTWvhx4ru/wBnzw94at9K36vZ6i809t9oiGxC1wQdxbaf9YvAPf2NT7w/dOz8VfFSbSPGD+GfDPhq68R6nbW7XF5HDIYhAoUOADsbcSpHTuyqMscDPv8A442MPwzs/F2naTJdGW+FhcWUk/lG3l8tnI37CGGAMEDkMM4IIFfxD4Z8aeHvi3feMvBmmWuuJqtibeSCaZYTbMEjVSdzDcN0aNx1G5fl4auYv/g/4otfgfZ6DZ28d7q02sjUri2jlRBbqYGTbvZgGIwucd2IGQNxpuWoko6Hf6P8Ubu8+IVl4X1rwrdaM+pW7XNjJNco8jRgMymSMD92Ssb5XJKsACO9dB478a2PgLwvJrGoxyTEuIbeCPgzSkEhd2MKMKSSegBwCcA83rXhTWrv9oPw94lt7PfpFnpzwz3PmoNjlbgAbSdx/wBYvIHf2NXPjB4Kv/HPgU2GkSRi8tbhbuKKTgTlUdfL3ZwpIc4J4yADgHIr3rMnS6OLsfGniHW/j94YttQstV8Pwy6c7XGkz3DGKQ+XO6vgYDcFM5UFWUqRlak8F/FGx0H4Q6h4i1E6xeFdTa1t4dR1D7ZNNKYkYIJfLUImMnkHGGIySFqxpnh/x7rHxo8O+LfFGhWthb2ti0E32a6R/KPlzL8w3Eks77htyArqCSQxrAsPg/4ouvgfeaDeW8dlq0OsnUre2klRxcKIFTbvViFJy2M91AOAdwj3uhfunZz/ABM1278HeJT/AMIrfaLr+m6cL2KGdgyCF14m8xkC7kw7GNhk+WVGSGC8RD4l8ZT/ALPMetm8vrCbR7uK5t9Va9899UBuJI2jdScqqF14fcG2gYx09DsbX4geKfD/AIit/Fdrp2jpfaY1jZ2Kt5h85oiGmaRWbahZsbfmIAHTBMnAarba54b/AGadT8O+K9Ij0l7Z4Us5WvopTes90ZWVVUnaVUdMnIyexodwVj3fSNTh1rRLHVLVZEgvreO4jWQAMFdQwBAJGcH1NW6yPCNjcaX4J0Owvo/KurXTreGaPcG2usaqwyMg4IPIrXrVGQUVz2t+PfDHh7cuqazbJKvWGNvMkB/3VyR+Ned63+0JZx7o/D2kS3DdBNduEX67VySPxFerhcox2L1pU3bu9F97Jcktz2Ws3V/EejaDHv1nU7WzGMhZZAGb6L1P4CvDv7W+LXjz/jyiurK0k6GBPssePZ2wzD8TWlpH7P8AdXMn2jxPrYDMcvHaKXZvq79/+AmvT/sbC4bXHYlJ/wAsfef/AAPuJ5m9kbut/Hzw9Y7k0a0udTkHRyPJjP4n5v8Ax2uRb4i/Enxq5j8M6e9tAxxusrfOPrK+QD7jFep6J8LPCGhbWg0mO6mX/ltefvmz64Pyj8AK65VVECooVVGAAMACj+0Mrwv+64fnfebv+G35BaT3Z4LZfBHxTr1wLvxbrSws33t8jXM30znA/M12ll8DvCdnp08Mkdxd3MsTItxPKf3bEEblVcDjqM5r0eiuPE59mGIXLz8se0dF+Gv4jUUjm/BEsc/gzTnS2itpFi8q4ihQKqzISkgwP9tWrfrnPB48oa7bf88dZueP98iX/wBqV0dfMSbcm2dy2OKsPhdoVp4xvvEVyn2ue4nM8MMijy4GPJOP4juycnpnpkZrtaKK3xGKr4lp1pOVlZX6JAoqOwVz2oQX+j6++t6VaNfw3USQ31pGwEp2E7JI84BIDMCpIyMYORg9DRXOm07oGrqzOcPjmIHDeHvEQI6j+zHP6jij/hOof+hf8Rf+Ct66OitPayI9nE868favF4t8BatosegeJBLcwZhxprrmVCHjBJB4LKoPtnp1rzOTSb3W/Fvg2bUvDXii2sdM0GKxuZYbGWOaG4iSULJGwHBD7GUn2yO1fSNZWu69Fokdui28t7e3knlWlnBjfM+MnqQFUAZLHgD8BUubbGopI4rwg/h/4e6HPa6D4W8USs5Ms00mmM89wRnaCcAcA4AGAMk9SSeQ8HWaxfF7WvGt/wCD/ENhA8jtYWxsJXfzJBiSVjkYJG47fmUeaQD8gNetiXxg43f2ZosOf4G1CVyPqRCKXf4w/wCfLQ//AANm/wDjVX7/AGJ9zueZax4L8MavqWrXQs/H1jHq8wmvbS0t2WGZwd2SrIc/MSwBJwScYHFa99p+g6h/winnaR4wX/hFfL+xbNPI8zZ5ePM+Xn/VL029T+Hbb/GH/Plof/gbN/8AGqN/jD/ny0P/AMDZv/jVHv8AYPd7nA+LtB8MeMNaXVrnRPGGnX/ktDLcadYNE1wjLtw+VOflJXPGVODkAAR3/hnwlfeBbPwpH4e8W2dha3AuvMt9OImmlCMpeRmUhiQ3oOgAwABXoW/xh/z5aH/4Gzf/ABqjf4w/58tD/wDA2b/41R7/AGD3e5yt6+j3/wAQtP8AGM2i+LV1DT7c28US6cfJZSJBlhtzn963QjoPxPHD6P4+0SHS9Y0XxbDBDcLcK1rpxViwVlwSysMYc9vSuq3+MP8Any0P/wADZv8A41Rv8Yf8+Wh/+Bs3/wAap+/2F7nc4EaD4YNv4phm0TxhNH4omE14r2DDynDtIpjwoxhnzht3QZyM5j8N+HvD3hvxHZ62tj461K7sLc21p/aFs0i26YKgKAowArMAv3RuPGcEehb/ABh/z5aH/wCBs3/xqmS3fi61jMsui6beIoy0VpqDiUj/AGQ8YUn2LL9aXv8AYfu9zxnxP4Wh0vwhqmmeB9F8aTDV5lRtPuoX+y2w8xJPMVdmSw8pUBY52sck459X0jxRZ6LoljpdroPiZ4LG3jt42k0xyxVFCgkgAZwPQV0Oj6va65pcd9YlvLclWSRdrxupIZGXswIII9qvVCm0ynBM5z/hOof+hf8AEX/grelHjdXO2Hw54hd+ynTymfxYgD8TXRUVXtZC9nEw9B0+9F7e6zrMaQ39+I0FvG+9beGPdsj3fxNl3YkcZbA4ANblFFZt3NFoFFFFIAooooAKKKKACiiqupahbaTplzqF8/l29tG0sjegAz+J9qAIdX1q10aCNrnfJNM2y3toV3S3D/3UXufU9AOSQOazksfE+rfvLy/i0K3bpb2SLNOB/tSuCgPsqHH941L4a0i48xte11B/a95GB5Z5FlF1EC/Tqx/ib2CgdDXRGmt2YSqPZHPDwfC3M+ta5M397+0HT9E2j9KX/hDrT/oKa3/4NZ//AIqugorTlj2M+aXc5/8A4Q60/wCgprf/AINZ/wD4qj/hDrT/AKCmt/8Ag1n/APiq6Cijlj2Dml3Of/4Q60/6Cmt/+DWf/wCKo/4Q60/6Cmt/+DWf/wCKroKKOWPYOaXc5/8A4Q60/wCgprf/AINZ/wD4qj/hDrT/AKCmt/8Ag1n/APiq6Cijlj2Dml3Of/4Q60/6Cmt/+DWf/wCKo/4Q60/6Cmt/+DWf/wCKroKKOWPYOaXc5/8A4Q60/wCgprf/AINZ/wD4qj/hDrT/AKCmt/8Ag1n/APiq6Cijlj2Dml3Of/4Q60/6Cmt/+DWf/wCKo/4Q60/6Cmt/+DWf/wCKroKKOWPYOaXc5/8A4Q60/wCgprf/AINZ/wD4qj/hDrT/AKCmt/8Ag1n/APiq6Cijlj2Dml3Of/4Q60/6Cmt/+DWf/wCKo/4Q60/6Cmt/+DWf/wCKroKKOWPYOaXc5/8A4Q60/wCgprf/AINZ/wD4qj/hDrT/AKCmt/8Ag1n/APiq6Cijlj2Dml3Of/4Q60/6Cmt/+DWf/wCKo/4Q60/6Cmt/+DWf/wCKroKKOWPYOaXc5/8A4Q60/wCgprf/AINZ/wD4qj/hDrT/AKCmt/8Ag1n/APiq6Cijlj2Dml3Of/4Q60/6Cmt/+DWf/wCKo/4Q60/6Cmt/+DWf/wCKroKKOWPYOaXc5/8A4Q60/wCgprf/AINZ/wD4qmt4UniGdO8SaxbOPuiSVLhfxEisSPxB966Kijlj2Dml3OXfVtX8Pc+J44LnTwedUs0KCIes0RJKj1dSw7kKOa6GORJY1kiZXRwGVlOQwPQg1OQCCCMg9Qa5O1h/4RLxBDpsZC6Lqjv9jTtaXGCxiH+w4DMo7FWA4KgYzp21RtCd9GdPRRRWJqFFFFAHOeNf+QXp3/YZ0/8A9Ko66iuX8a/8gzTf+wzp/wD6VR11FdFLYwq7hRRRWxiFFFFAwooooAKKKKACiiigAooooA5zwx8PvC/g65nuPDmkx2c9wgSSUyvIxUHO0F2JAzgkDGcDPQV0dFFK1g3CiimyzRwQtLPIscaDLO7ABR6kmnuIratpNjruk3Gmavax3VncpslhkHDD+YIOCCOQQCMEVJYWNvpem21hYx+Va2sKQwx7i21FAVRk5JwAOTXBeJfjV4Y0PfFp8javcrxttjiMH3kPH/fOa4JPHnxK8e3hTwvavZ22cZtowEX/AHpX7/Qj6V7uHyHGVoe1qJU495O3/BJc1se9X9jb6pptzYX0fm2t1C8M0e4ruRgVYZGCMgnkVl+GPBvh/wAG208HhvTY7JLhw8pDs7OQMDLMScDnAzgZPqa5nw34L8XJsn8VeM7yQ9Ta2bAD6FyMn8APrXfRRLDEI0LkL3dyx/M815eJoUqM+WFRT81e342KTdh9FFFcwwooooAKKKr3uoWem25uNRu4LSEdZJ5Aij8TTUXJ2W4ixRXnmt/G3wlpW5LSabVJhxttY/lz/vNgY9xmuFvPjV4u8Q3BtPCWjrAzdPKia5mHv02/+O17eHyDMK65uTlj3lp/wfwJc0j3ySRIo2eV1RFGWZjgAfWvOvHHjP4cXdtDaeI54dZFpcLcx2ttmUeYoIGdpCEYYgqxwc8iuCj+GnxG8ZyLN4n1BreEnOL24LEf7sa5A+nFdjonwE8O2O19YubnVJB1XPkxn8F+b/x6uv8As/KsL/vWI532gv12/IXNJ7I57Vvj9f3cv2fwvoiq7nCPckyO30Rcc/iazv7C+LHjz/kJTXVnaSdVuX+zR4941GT+Kmvc9J8P6RoUXl6PptrZjGCYYgrN9T1P41o0f21hcNpgcPGL/ml7z/4H3hyt7s8c0T9nywh2yeINWmuW6mG1URr9NxySPwFei6J4H8NeHdp0nR7aKRekzLvk/wC+2yf1reory8Vm2Oxelao2u2y+5aFKKQUUUV5gwooooAKKKKAOY8M/8hvxZ/2GR/6R21dFXO+Gf+Q54t/7DI/9I7auirjluzsjsgoooqRhRRXO+OPEs/hHwvLrFvZreCGRBJGzlPlY7c5we5FbUKM69WNKmryk7L1Ym0ldnRUV5LYftA6LLgalpF9bE94WWUD8yp/SulsPi74Lv8AauLdz/DcQumPxxj9a9KtkeZUPjoy+Sv8AlchVYPZna1zy/vPigocA+Ro5MeR90vMN2PrsX8q0LDxBo+qY/s3VbK7J6CG4Vz+QNZ8X/JUZP+wMv/o5q81U5wnyzVn5jm7xOmoooroOUKKK5j4j6zL4e+H+panb38+nSQeVi6t7VLh490qLxG7KrZzjkjGc9RSeiGtWdPRXmFj8aNHga00ae11zVtXGnW1xm209C960kMch2xo52ttcuRwo2sATgZw/HfxtaX4cWeseBFureW8vmtZLi5tFP2UooYockpvYMpX7wK7+hHE86sVys9roqhoerf25osGo/YL7TvO3f6NqEPlTR4Yr8y5OM4yPYg1fqyQooooEcx4e/d+KPFcKALGNQikCgdGa1hLfmRn6k10Vc7oP/I3+LP8Ar8g/9JYq6KuOXxM647IKKKKkoKKKKACiiigAooooAKKKKACud8WR/bZdD0pj+6vtUj84f3kiR58fQtCoP1roq53XP+Ry8K/9fNx/6TvVR3QpbM6eiiiuw4wooooAKKKKACiiigAooooAKKKKACiiigAooooAKKKKACiiigAooooAKKKKACiiigAooooAKKKKACud8ewGTwTqFzHxPp6DUID6SQESqPx2Y+hNdFWT4s/5EvW/+wfP/wCi2pPYa3L6OskauhyrDIPqKdVLRznQrDP/AD7R/wDoIq7XEdgUUUUAc541/wCQZpv/AGGdP/8ASqOuorl/Gv8AyDNN/wCwzp//AKVR11FdFLYwq7hRRRWxiFFFFAGBp/jnwzq2vNo2m6zbXV8F3hIiSrjAJ2vjaxAOcAk8H0ON+vA/DfwX8Q6X8RrWW5eEaXp90lyl8GB88IwZVEedysehzwMHBbA3e+V6+a4XB4apBYSrzpq78n/XTddSYtvcKKKK8go4/wCI3iWfwtp+i3sV39lt5NYghvX8sPm3IcyDGCei9ueOKqv8WdItrW/k1HSdb0+axgS5a1vLMRSyxtKItyAtggMwByR14zg4tfEKyur3/hF/sdtNceR4itJpfKjLeXGu/LtjoozyTxXH/FfRNV1HxBq0mn6ZeXSSeHYYUaC3Zw0gv0YoCBy20FsdcDNfS5fh8HiIUadZau93e32l+l9/kQ21sdhP8TNGt9Ej1KS11IC5uvs1hbG1In1DO0iSFCQWQhwQxx6dSAcvxN8TNvwzvtc8O2t5FeRXRsHS6tfmspc/MZVzgYBGOo3MgI6ij4q6JqV7d6BrGnxalLBpssq3S6PLsvFSUKu6Lg5xg5HcHsMsOZvfDF7J8NPFl3Y6d4hmn1VrRYl1eTzr2cRSrljEqZQDJAyzEhc4UYztg8Jl84Uqz6yV02n9q3K9vs+9/wADYbex6R4Gk1afwylzr17eXVxPK7KL7T0s5okB2hWjUkdVLA55DCtbV9XsdC0ubUdVnFvaQAGSQqTjJwOACepAq5VPV9Lttb0e60y/Utb3URikAOCAR1HuOo96+dlUhVxHPUVot6pWVl5aW28i+h5F4i+PybzbeEtMaZ2O1bi7HBP+zGOT+JH0rDi8GfEf4jypceIrmW0sydy/bD5agf7MK9/cgZ9a9m8O+B/DvhZB/Y+mRRzAYNw43yn/AIEeR9BgVv17/wDbOFwfu5dRSf8ANLWX/A/rQjlb3Z534b+CvhjQ9kuoRtq9yvO65GIwfaMcf99Zr0KKKOCFYoI1jjQYVEUAKPQAU6ivBxOMxGLlzV5uT8/0WyLSS2Ciiue1vx74Y8Pbl1TWbZJV6wxt5kgP+6uSPxrKlRq1pctKLk/JXDY6GivGtb/aEs4t0fh7SJbhugmu3CL9dq5JH4iue/tn4sePOLCK7tLSTobdPssePaRsEj/gRr3qXDuLcefEONKPeTt+H+diOddD3TV/EejaDHv1nU7WzGMhZZAGb6L1P4CvPdb+Pnh6x3Jo1pc6nIOjkeTGfxPzf+O1gaR+z/e3Un2jxPraozHLx2qmRm+rtjn8DXoWifCnwhoe1odKS7mX/lrenziffB+UfgBWvsskwn8Scq0uy0j9+/3MPeZ5a/xI+I/jSRovDVg9vCxxmxtycf70rZA+oxU1l8EvFev3Au/FmsLAzfeMkjXM3064/wDHjXviIscapGqoijAVRgAUtS+IZ0Vy4GlGku9rv73/AJBydzz7RPgp4R0na91bzanMOd13J8uf9xcDHsc13VnY2mnW4t9PtYbWFekcEYRR+AqeivExGNxOKd683L1f6FJJbBRRRXIMKKKKACiiigAooooAKKKqX2radpi7tSv7W0XrmeZUH6mnGMpO0VdgW6K47UPix4K07Ik1uKdh0W2Rpc/iox+tcvqH7QWgw5Gm6Xf3bDvIViU/jlj+lenRyfMK3wUZfNW/OwuZI7Lwz/yHPFv/AGGR/wCkdtXRV87W/wAZNdXUdUfQtItw+p3f2oo4eZkPlRx4GNueIwenetBdX+MniFQLW2urSNhxi3jtx9dz4P610PhjGQ97EThTX96S/S5sq0bWSue81k3/AIp0HS8/2hrNjbsP4ZLhQ35ZzXjv/Cp/iBr3Ov68qo33kuLySYj8BkfrWtYfs92KYOqa7cTeq20Kx/qxb+VT/ZmU0f4+Mv5Ri3+Ow+eo9onTX/xl8GWORHqEt4w/ht7dj+rAD9a4Xxr8Z9L8ReG77R7LR7opdJtEs8ipsIIIO0bs8gcZrurD4NeDLHBk0+W8YdGuZ2P6LgfpXSWvhPw/YwtHZaLY24ZSpaO3UMQffGa0pYrIsJUjOlTnOUWmm2lqvQHGrJWbSPkCgDJwOTXX6B8NPEHiLVri1srfyre2naGW8nysalSQcd2PHQfjivcvB3ws0HwkEuPL+36ivP2qdR8p/wBhei/Xk+9foWZ8R4LL42vzz7L9X0/PyOSFGUzyXwb8Gta8QeXd6xu0qwbn94v76Qf7KdvqfyNeu+G9AsfDXjz+z9MWQQro6ktLIXZj5x5JP06DA9q7Ouej4+KL5/i0YY98THP8x+dfmGY55i8zqJVXaPSK2/4J1+yjCLsdNRRRXnGIVxHxksLzVPhLrNnplpPeXUnkbILeMyO2J4ycKMk4AJ/Cu3opNXVhp2dzxD4V6BrGnfFqa81DSb61tT4Ys4BPPbOiGRYLQMm4jG4FWBHUbT6GuMj8FeJ5f2fJbFdA1EXkPiT7U1q1s6zGL7OE3qhG5huYDgHuegOPqKio5FYvnZQ0PVv7c0WDUfsF9p3nbv8ARtQh8qaPDFfmXJxnGR7EGr9FFaEBRRRQI5jQf+Rv8Wf9fkH/AKSxV0Vc7oPPi7xYR0+2wDPv9lh4/UV0VccviZ1x2QUUUVJQUUUUAFFFFABRRRQAUUUUAFc7rn/I5+Ff+vi4/wDSd66Kud1z/kc/Cv8A18XH/pO9VH4kTL4WdPRRRXYcgUUUUAFFFFABRRRQAUUUUAFFFFABRRRQAUUUUAFFFFABRRRQAUUUUAFFFFABRRRQAUUUUAFFFFABWT4s/wCRL1v/ALB8/wD6LatasnxZ/wAiXrf/AGD5/wD0W1J7DW5Jo3/IBsP+vaP/ANBFXapaN/yAbD/r2j/9BFXa4jsCiiigDnPGv/IM03/sM6f/AOlUddRXL+Nf+QZpv/YZ0/8A9Ko66iuilsYVdwooorYxCiiigAorzDQfjjpGueLodIGm3NrbXTLFb3UrAs0jYAVo1B2gkkZDHtnAJx6fXZi8DiMHJRxEeVtXQk09gooorjGFFcf8QriOD/hF/NtIbnzPEVoi+aXHlMd+HXaw+Yds5HqDXJQ+ItQ8KeOfiNrWpwW1xbWq2haK3LB3ZgFtgCeANjHeecH7oI4r1cPls8RS54PW2i7vmjG2/n+nW4nKx67RXnfg/wCIGpah4mttG8RTaDM9/ama1fRrrzvLkUZeGQBmw23JzkL8pALZ4ytL+Jfi6fRNG1y90bTXsNSumsIoLeRlnuZz5gjKlm2xoWVUO4kjDNjBAqnk+KUnHTS3Va3va3f4X9wuZHrNFcRoXizX3bxTY67p1nc6poMUcyppZk2XO+IusahgW3fLjP8AtdOOaXgPxn4n8T3dnNcpoN7pk8TG5bTZnWewfB2iWOQ5+YqygAHP3s4HOUssrxjObtaNtb73XMreq277LUfMj0SkkkSKNnldURRlmY4AH1pa8n+Inwz8ReMfGAmstTWLSmhQslxO5WNxkEJGMjoAe3JNZYHD0cRV5K1RQja92r/IG2tjptb+K/g/Q9yy6ql5Mv8Ayysh5pP/AAIfKPxNefav+0BfXUn2fwxoiozHCSXRMjt9EXGD+Jrf0T4B+H7Ha+tXdzqcg6oD5MZ/AHd/49XoWkeHNG0GPZo2mWtmMYLRRAM31bqfxNe37bJMJ/DhKtLu9F92/wB6J95nhf8AYvxY8e86hLd2tpJ1Fy/2WPHvGuCf++TXQ6J+z3ZxbZPEOry3B6mG0QIv03NkkfgK9lorKrxFjHH2eHSpR7RVvx/ysHIupz+ieA/DHh7a2laPbRyr0mkXzJP++myR+FdBRRXg1a1StLmqycn5u5ewUUUVkAUUUUAFFZ9/r+j6Vn+09UsrTHae4VD+RNcxqHxh8FWGR/a32px/DbQu+fxxt/WuqjgsTX/hU5S9EwukdvRXkOoftC6RFkaZot5cnsZ5FiB/LdXPy/HHxbq0hi0HRLdSegjhkncfkQP0r16XDeZTV5Q5V3bS/wCCTzxPfqbJIkUZeV1RF6sxwBXgG/4z+I+g1G1RvZLPaP8Ax1qdH8EvGWsyCXX9at1J6maeSdx+mP1rX+w8PS/3nFQj6e8/0FzPoj1/UPHvhTTM/bPEFgrL1SOYSMP+Ark1y+ofHXwfaZFq17fnsYLfaD/32V/lWNp/7POmR4Oqa5d3HqLeJYv57q6jT/g34KsMFtLa7cfxXM7t+gIH6UezyGj8U51H5JJfjZh77OJ1D9ohjldK8Pgej3Nxn/x1R/Wsz/hZPxQ8Q/8AIF0x4Ubo1np7OB/wJ9wr3DT/AA5omlY/szSLG0I6NDbqp/MDNaVP+1cto/wMIn5yd/w/4IcsurPn3/hD/i54i/5CN9dW8T9RPfhF/wC+EJ/lVux/Z61GZt+r6/bxMTlvIhaUn8WK/wAq93oqZcS41K1FRpr+7FfrcORdTy/T/gH4YtsNfXV/et3BkVFP4KM/rXT6f8M/Bum4+z+H7RyO9wpm/wDQya6mivMrZtj6/wDEqy++y+5FcqRynhG3gtdW8VxW0McMaawAqRqFCj7JbcAD6mumrnfDP/Ic8W/9hkf+kdtXRV4M23JtnZHZBRRRUlBRRRQAgAUYUAD2paKKACsbW9MvJbq11XRWiXUrIOipMSI7iJsbomI5XJVSGwcFRwQSDs0yaaO3heaeRYoo1LO7sAqgdSSego2Dc59vE2vo20+CNRcj+KO9tCp+mZQf0pP+Ep1//oRdV/8AAyz/APj1SDxz4bYZi1WKZezwo0in6MoINL/wm/h7/oIf+QJP/ia09pIz5IkX/CU6/wD9CLqv/gZZ/wDx6j/hKdf/AOhF1X/wMs//AI9Uv/Cb+Hv+gh/5Ak/+Jo/4Tfw9/wBBD/yBJ/8AE0/aSDkiRf8ACU6//wBCLqv/AIGWf/x6j/hKdf8A+hF1X/wMs/8A49Uv/Cb+Hv8AoIf+QJP/AImj/hN/D3/QQ/8AIEn/AMTR7SQckSL/AISnX/8AoRdV/wDAyz/+PUf8JTr/AP0Iuq/+Bln/APHql/4Tfw9/0EP/ACBJ/wDE0f8ACb+Hv+gh/wCQJP8A4mj2kg5IkX/CU6//ANCLqv8A4GWf/wAepf8AhIvElwpjtvBtzbSsMLJe31uI1PqfLd2x9BUn/Cb+Hv8AoIf+QJP/AImnR+NfDkkyRnVoImkYKnn5iDE9ACwAJ9qXtJB7OJa0HSW0iwdbif7TeXMzXF3cbdvmyt1IHOAAAoHYKK06KKzNAooooAKKKKACiiigAooooAKKKKACud1z/kc/Cv8A18XH/pO9dFXO65/yOfhX/r4uP/Sd6qPxImXws6eiio7i4htLaW4upY4YIULySyMFVFAyWJPAAHOa7DkINT1fTdFtluNY1C10+BnCLLdTrEpYgnaCxAzgE49jUeqa/o+h+V/bWrWOnednyvtdykXmYxnG4jOMjOPUV5P+0Nf2eqfCrTLzTLuC8tZNWTZPbyCRGxFMDhhkHBBH4VmfEvwlqy/E688Rar4QuvGWh3NvHBaW1reSo1s4UZysYLgZSQ8DZ+8BzuOKzcmtjRRTPc7G/s9Uso7zTLuC8tZM7J7eQSI2CQcMMg4II/Cq/wDb+j/21/Y/9rWP9p/8+X2lPO+7u/1ed33eenTmvDNI1zSPDvwk8cXfgn+2NL1CJ4Y7vS9RlJGnSyv5RMJXBBG5lDMd+YVLDgZuf8Kh8I/8KL/tv7HP/av9h/2j9s+0vu8zyvNxtzs25+XG3O3vn5qOZ9A5V1Pa7zV9N065tbfUNQtbWe8fZbRTzqjTtkDagJyxywGB6j1ovNX03Trm1t9Q1C1tZ7x9ltFPOqNO2QNqAnLHLAYHqPWvmzxZNeePPCPwpi1O52XWozXFi9yQXPE0UIkbLZZsKGPPJz0zVi+8TXGva78M7DWWxruh642n6jG0gdy6TW6hydzFtwHLH7zK+OBS5x8h9LVQ/t/R/wC2v7H/ALWsf7T/AOfL7Snnfd3f6vO77vPTpzXP/FfWrzw98Ldb1HTH8u6WFYkkBIMfmSLGWUgghgHJB7EA15x/wqHwj/wov+2/sc/9q/2H/aP2z7S+7zPK83G3Ozbn5cbc7e+fmqnJ3siUlbU9rk1fTYdWi0ubULWPUJ03xWjTqJpF5+ZUzkj5W5A7H0qe4uIbS2luLqWOGCFC8ksjBVRQMliTwABzmvmXSNU8Q+KfiH8P7qyvYLfWZ9Dktxe3CNKFCPdxNKQSd8mxS3JwX64BNd34b8b+INW8C/EHSvExtbrVPDdvcxNeLErR3B2TDDRlQpAMZ6rhlIBXgkpTuNwseuWN/Z6pZR3mmXcF5ayZ2T28gkRsEg4YZBwQR+FT1822HxT1Sw8NeENFXVrXwzBdW9xd3erQaZHKEHn3CJGtuiBQCYxkgZJYHjDbri/HLXbbwDrnlTQanfWeopZWesmEQ+bHKJmWUw4wGAhOBwPmXIO07j2iDkZ9DVBY39nqllHeaZdwXlrJnZPbyCRGwSDhhkHBBH4V5fq1h8Q7b4eeLrHxTq9jdwjSTcQ6nBCqvnYTNbeWFAKkKyiTgjeCMk7UsfAGz1GH4ZWlzd6p9psbjf8AZLP7OqfZNs0of5xy+4889Ogp82thculz0S+1fTdMkjTUtQtbR5UkeNbidYy6xrudgCeQq8k9hyaz7fxt4Vu7mK3tfE2jzTzOEjijv4mZ2JwFADZJJ4xXkHjGRda+MfjZb6GMnQ/CFytmylgQWhBLNzgnFxIPTBHGRmvN9J0KXXfBFvZaR8ONRutUuX2ReIY55/JY+d/c2+UABlCS2Bgk4xUubuUoKx9hVHcXENpbS3F1LHDBCheSWRgqooGSxJ4AA5zXmHiDWfFHgHUPAs2p6rHcaLKkOl6wJGQKLjZjzzM43kH5n7D91yRurkPi/wCJNc8Qz+L9N0y+jj8OaBb2qXiRiKUXNw86YXdjehBLAgEgGAg4LVTlZEqNz3NNf0eW9tbOPVrF7q8hE9tAtyheeMgkOi5yy4UnI44PpV+vmHS9N8TJ8TfAUNpr0Et/deHonsrmezVVsYGhmGwKp/eMi7ypb7zY3cV6H4F8e+IEtviBF4kuo9Zfwo8jRTCFbdpwglyp2jAB8kEcEjceTxhKd9xuFtj1uivnn/hY/wAQ9J8J6R8QNR1WxvdI1DUZIW0ZbdY9qZcACQLuH+rkwSxxhCd+WA6e71/xvrXxx13wjoPiCDTLC2tI5lklso5mgGyFiUBA3MWfGGOArMRyFp86FyM9forzz4KeL9X8Z+BZr3xBNHcXdvfSW/nLGELqERwWC4GRvI4A4A75Jy9a8V+Mtb+Ml14S8IXljpcOj2n2qZrqLzReErGwVuMquZEX5SCAXbJO1Q+ZWuLld7HoH/CXeG/7N/tH/hIdK+w+d5H2n7bH5XmY3bN27G7HOOuOa16+TdM1SfSf2d2ntY7WR28VFCLqziuVx9kB4WRWAPHXGevqa9LHiv4h+L/G3imLwdeWNja+GZhCmnTRK/291kYYZyMrvEb8hlx8g7lxKmU4HsF3f2dh5H267gtvtEywQ+dIE82RvuouerHBwByaLS/s7/z/ALDdwXP2eZoJvJkD+VIv3kbHRhkZB5FeJ/Gi11e5+IHw8YahHYz3FwsUKRxCZbO482LdKGYKZBlk4YAfu+g3GtD4drNoPx68XeHvMjuBPYwXl1clCrTXAWMu4GSFDvcSMVHAyAMAYp82thculz2OsnxZ/wAiXrf/AGD5/wD0W1a1ZPiz/kS9b/7B8/8A6LaqexK3JNG/5ANh/wBe0f8A6CKu1S0b/kA2H/XtH/6CKu1xHYFFFFAHOeNf+QZpv/YZ0/8A9Ko66iuX8a/8gzTf+wzp/wD6VR11FdFLYwq7hRRRWxiFFFFAHmmkfBHRtI8bLrcd5M9nBKJ7WwKkeVICCuZM5ZVOSBgHpknB3el0UV14rG4jGSUq83JpWX9fruxJJbBRRRXIM53xf4fuvEH9hfY5IU/s7WLe/l81iN0ce7IXAPzc8ZwPesDVfh7qGta94tF3d20OkeIILcI8W5riKaAJsJUgLtyGyM5Ixgjmut1zxBa+H/7O+2RzP/aN/FYReUoO2STOC2SPl45xk+1T6Nqf9saTDffYryw83d/o99F5UyYYj5lycZxkexFepRxWLw9FThpHZP8A7eUvziKybOO8H+CtW03Vra91238N2ps4isZ0bT0SS4dl2lpHZAVwM8R7cljngYMNh8PtVtfA/hPRpLizNxousR39wyu2x41kkYhDtyWw46gDrzXolUrrU/surWFj9ivJvtvmf6RDFuhg2Ln942fl3dF9TT/tLE1Jtq3fb+VS/ST/AKsHKjDs/DWpWvijxdqcN7Dbf21FbrZyovmPA8cJTcyEAHDEEDJzjnFYmg+DfFQ8eWXiPxHc6PFLb2rQXEmmCUSahlQq+cDhePvZA6qoxgLt7Dw14gtfFPh221nT45o7e537FnUBxtcqcgEjqp71qVMsbiaMp05JKVuR6apJctvuX367hZMKKKytQ8U6DpWf7R1mwtmHVZLhQ35ZzXnwpzqO0E2/IZq0VwWofGjwVY5EeoS3jD+G2t2P6sAP1rmNQ/aHsEyNK0G4m9GuZlj/AEUN/OvVo5HmVb4aL+en52J5oo9korwA/GTx3rrFPD+ixAHgG2tJJ3H45I/Sk/s/4zeI+Zpr+1jbqTMlqB/wFSD+ld3+rlanriasKfrLX+vmLnXQ98nuIbWIyXM0cMY6vIwUD8TXO6h8R/B+mZ+1eILIkdRA/nEfgma8pg+A/iXUpRLr2u2yMerbnuHH54/nXRaf+z5ocODqWq310R2iCxKfwwx/Wj6jk9H+NiXLyjH9XdBeT6FzUPj14Vtcizhv71uxSIIp/FiD+lczfftDXkrbNI8PwoScKbicyZ/4CoH869C0/wCEvgrTsFNFjncfxXMjyZ/AnH6V01jo+maYuNN061sx0xbwKn8hR9bySj/DoSm/70rfl/kFpPqeFf8ACbfFrxF/yC9PuLaN+jW+n7V/77kB/nR/wrz4qeIf+QxqcsCN1W71Alf++U3D9K+gaKP9YHS/3bDwh8rv7w5O7PDrD9neVsNqviBF9Ut7ctn/AIExH8q6fT/gR4RtMG7+3Xx7iafaD/3wAf1r0qiuWtn+Z1t6rXpZfkPkic7p/wAPvCWmY+yeH7EEdGliErD8Xya6CKKOCMRwxrGi9FRcAfhTqK8irXq1nepJy9XcoKKKKyAKKKKACiiigAooooAKKKKAOY8M/wDIc8W/9hkf+kdtXRVzvhn/AJDni3/sMj/0jtq6KuOW7OyOyCiiipGFFFYXjPXpvDHhG91i2gS4ktdh8pyQGBdVPI6cEmtaNKdapGlDeTSXq9BN2V2btFeWaP8AHrw/ebU1ezutOc9WAE0Y/EYb/wAdru9I8W6BrwH9kavaXLt0jWQB/wDvg4b9K7cVlWOwn8ek0u9rr71oTGcZbM2K5vVbaHXPGVlpF8PMsrW2a/ltmGUnfeEj3eqr85x0J2ntXSVz0X/JUZP+wMv/AKOauCGshz+E6bpRRRXWcgUUVgW3jPSrvx9d+ELfz31GztBdTt5eIkBK4XJOS2JFPAxg9cgikM36Koa5q39h6LPqP2C+1Hydv+jafD5s0mWC/KuRnGcn2BNWLC7+36bbXn2ee2+0QpL5FymyWLcAdrr2YZwR2NAE9FFFMQVHcW8N3bSW91DHPDKpWSORQyuD1BB6ipKKAOZ8Kj7FJq2iLI8kOlXYitzIclYXiSVUz327yo9lFdDXO6D/AMjf4s/6/IP/AEliroq45bs7I7IKKKKkYUUUUAFFFFABRRRQAUUUUAFc7rn/ACOfhX/r4uP/AEneuirndc/5HPwr/wBfFx/6TvVR+JEy+FnT1Bf2Nvqmm3NhfR+ba3ULwzR7iu5GBVhkYIyCeRU9Fdhynjlr+z8q3Ntaal4u1G/8OWtwZo9GdWVQMsQNwfAPzHLKgJy2NpORueMfhK+v+LG8R+HfE194b1G4hEV5Jbbm88AKF6OpXhQCMkHapwCCT6PRUckSuZnEeDfhfp3hfQNWsdQu59Zutc3jU7udmQ3CtuGMBiV4dsnJYlic9AOX/wCFB/8AMM/4TbXP+EZ/6BO//gX3s7P9Z83+r/X5q9fop8qFzM4jxF8NLfWdS8HzWN7/AGfa+FpleG28oy+aimIqm4sCMCIDJ3dfzp+JPhFY678R9N8YWuoSWN3bXEM91CYvNW5MTLtx8w2Hau09R0OM5z6HRRyoOZkF/Y2+qabc2F9H5trdQvDNHuK7kYFWGRgjIJ5FeT/8KD/5hn/Cba5/wjP/AECd/wDwL72dn+s+b/V/r81ev1naf4h0XVrhoNK1iwvplXe0dtdJIwXIGcKScZI596v2TmnJK6QlJo4nXvhJ/aPizR9a0PX59C/sXTksrOOCHzGTYH2EuzfMvzgMpB3KCCfmyMfUvDWi/Cj4VeJTq2sT3up+IIZ4Jb+dHJuZ2ilMabRu29WJZjySST0A6Hw18U7XXJ7YahaQ6TbzaY+oPcT3g2R4uTAEJKqOSAc5HXGO9dpNqmn2+mDUp762isSquLp5lERVsbTvJxg5GDnnIrfEYCvh58lSFnt3126DU7njXgP4b3Gr/D/wf4g0zU5/D3iGwhnWO6e1E4eCSWYqDE5A5EhKt3Dnr8pHWX3wmXXPBV5o/ibxFqOrahdXBu11CZ2C28o3BPLg3FFQB2BUdcnkYXb3N5qmn6e6Jf31tatIruizzKhZUXc5GTyFHJPYcmoI/EOiyvKkWsWDtDB9pkVbpCUh2hvMPPC4ZTu6YIPesI4ebjdRbX9IHN3OV0L4azWljrKeJfE2o67d6tYjTpLhiYhHbhCoCoWYF/mY72ycknqzlrnw68F6j4F0V9Ju/EH9rWKY+yRfYlg+z5Z2fkMS24vnk8Y4610X9t6V/ZP9q/2nZ/2d/wA/n2hfJ+9t+/nH3uOvXin6fqmn6tbtPpV9bX0KtsaS2mWRQ2AcZUkZwRx70/YyiuZxemn/AABczZ5NrHh1R8etbtLq6kgTxh4bmtbWY2zFUlCojIDnDFUi3nlfvAdwT6J4G8L/APCF+DLHQPtn237J5n7/AMry9+6Rn+7k4xux17Vv0VmopO43JtWPOPjjrmhWHw5vtJ1y4njuNThP2KKBCWlkjdGGTjaFDFC2SCVzjms/wp8K/tfwbvNJ12eeDV/EeL2+u3XdMkm4SRq+4BjtwCysc7mkwRnNer0Uct3dhzWVkeYeHPhHqOj+M9E1/VPFn9qf2LafYraD+zVhxCI3RV3K56byckEn1rY8O/DS30bUvGE19e/2ha+KZmea28oxeUjGUsm4MSciUjI29Py7eijlSDmbPILf4C/8eem6n4tvr/wzZXb3MWjtDs+9/CZA/wCZCj7z7dpcmuw07wH/AGf8WNW8a/2l5n9pWi232PyMeXgRDdv3c/6rptH3vbnr6KOVIOZs5D4a+A/+FeeG7jSf7S/tHzrtrnzfI8rGURduNzf3M5z3rP8AEXwt/tXxwPFGh+Ib7QLy4h+z6gbUbjcx7Qvykn9220YzhgCqMAGXJ7+ijlVrBzO9zyD/AIUN/wAW3/4RP/hI/wDmLf2l9q+w/wDTHy9mzzPxzn2x3rQ1j4M/bPEmrX2i+J77RtP13H9rWEKb/tGX3Ptct8u7nqGxucfdYrXp9FLkiPmZxHjj4cf8JZ/YE+n6zPpV9oM3mWlw8f2rP3Tlg7ZZsxodzE55yDnI5f4a2FxqPxk8X+ILi4nn+wwxaPJcSWojF3OixrNINpKr80GdozxKvTofX6KfKr3FzO1grJ8Wf8iXrf8A2D5//RbVrVk+LP8AkS9b/wCwfP8A+i2pvYS3JNG/5ANh/wBe0f8A6CKu1S0b/kA2H/XtH/6CKy7fxz4duNbudIOpxQX9tKYnhnPllmH90nhvwOa56dGrVTdOLdtXZXsjrbS3OhooorIZznjX/kGab/2GdP8A/SqOuorl/Gv/ACDNN/7DOn/+lUddRXRS2MKu4UUUVsYhRRRQB83+DvHnjaf4o2MF/fXl1Lc3S2t3ZTIdiJkK58oYCMoUsSAMbTngtn6QqrHpenxanLqUVjbJfTLskulhUSuvHBfGSPlXjPYelWq9fNcfRx1SE6VJQsraf8C3yJimgoooryCjiPiZ/wAyj/2M9l/7PXA2tt9t+C3gC18+a38/xFHH50D7ZI90043K3ZhnIPrXtGp6NYax9k/tGDzvsV0l3B87LslTO1uCM4yeDx7VRh8HaDBpOm6ZFY7bPS7oXdpH50h8qUMzBs7snlmOCSOelfQYXM6VDDQpNO8ZX6dp+f8AeX4kuLbPLLzwhpIk+IGkpHMml6Dare2FkJ38tLiS13GVudzsPLAAYkAM3HNbFxCutal8L4dVL3S32k3aXJkdt0oeyQNls5ycnnOea9Cfw1pMk2ryvaZfWolhvz5j/vkVCgHX5flJHy4oTw1pMc2kSpaYfRYmhsD5j/uUZAhHX5vlAHzZq5ZxGVnJyuk183T5W9+stW93vvoLlOV+ClnBa/Cywlgj2vdyzTTHJO9xIyZ56fKijj0+tc/47uvifL4xu7Dwqt1/ZgCGF4YY0BygyPMYdmz3r0rw/wCGtJ8Lae9loNp9lt5JTMyeY75cgAnLEnoo/KtSuZ5lCGPq4qMFNSbspq9ru+13ttuPl0sfP/8Awqv4keIOdd1jy1P3lu795cfQLuFa2n/s7xDDarr7v6pbW4X/AMeYn+Ve1UV0z4kzBrlptQXaKX63FyI880/4H+DLLBnt7q+I73FwR+iba6jT/BfhnS8Gx0HT4mHR/s6s3/fRBP61t0V5VbMcZX/iVZP5v8irJAAFUBQABwAO1FFFcIwooooAKKKKACiiigAooqtPqdha5+03ttDjr5kqr/M04xcnZICzRWJP418L22fO8RaWpHb7ZGT+QNZs/wAU/BVvnzPEFuf+uau//oKmuqGCxU/gpyfyYro62iuAn+NngmHPl6hPP/1ztXH/AKEBWbP8f/CseRDZ6pMexEKAfq/9K6oZNmM9qMvut+Yc0e56jRXjk/7RGnLn7NoN1J6eZOqfyBrOn/aJum/49fDkMfp5l2X/AJKK64cN5pL/AJdW+cf8xc8T3SivA/8Ahd3jS9/5B3h+0IPTbbTSH9Go/wCE7+Ll/wD8eui3MQPQppTY/Nga1/1axi/iShH1kLnR75RXgfn/ABu1Hot4gP8A0zt4f6Cj/hEPjFff8fGq3dvnqDqgX/0BqP7ChH+Jiqa/7ev/AJBzeR75UctxDbrmeWOIersB/OvB/wDhTnj++5v/ABDBg9RLezOf/Qf61LD+zzqMjZu/EFuhPUpAz/zIo/svLY/xMYvlFv8AUOaXY77Q/EeiWOteKmvdYsLcSauGQy3SLuH2S3GRk8jII+oNWrj4meDbYkSeILRsf88y0n/oINeZ6J8D7W/vtXt7rXJv+Jbei13R24XzP3MUm7ljj/W4xz0966GD4AeHU/4+NS1OT2V41/8AZDXO8JkEG+fETl6Rt+aOhSq20RtT/GbwTF9zU5Zv+udrJ/VRWbP8efCkWfLt9Tm/3IEH83FWoPgh4Nhx5kF3P/10uSP/AEHFaUHwo8E2+NmhRN/10mkf+bGlzcOU9lVl/wCA/wDAH++fY5Kf9oPSl/49tEvJPTzJET+Wa5vxV8bD4k8O3ukJoIt0uo9hla73leQc42D09a9kg8DeFbbHleHdMyOha1Rj+ZFN1/QtOXwlq0Npp9rCZLGZB5UKrjKEdhW2Hx+SUq0HSw0rpqzcnpruJxqtayPkigHByOtdP4Z+HniPxWyvpti0ds3W6uPkiA9j1b/gINex+F/ghoWkbJ9cdtXuRzsYbIVP+71b8Tj2r9DzHP8AAZfeNSd5fyrV/PovmckKU57HmXgfU/iNeXCw+Fbq/nhU4JmO+BPYl8qPoOfSvZ/Daa1H48I8STWc19/Y67jZxsqAecePmPJ98D6V18EENrAkFtEkMSDCRxqFVR6ADpWFF/yVGT/sDL/6Oavy3M83jmNW8KMYLyXvP1Z1qnyR3OmooorzDI+Uf7C0rw9rX2jxVcT6lp0+rZg8Z6DqW+WOQLvIkALgNllcjAkBDlWkAFbHiPwpot38X/iNDcWe+Oz0O41OBfNcbLkxRSGTg8/NIxweOemAK9f/AOFNeAP7S+3f8I3B53nedt86Xyt2c48vds25/hxtxxjHFXPEPww8HeKtWbU9d0WO4vGRUeZZpIi4HTdsYAnHGTzgAdAKx5HY251c8UtvDGnW37L134kxPLqd1CLfzJZmZYoRqC/ukTO1V3Jv6Z3M3POKsNo1v4h+Jvw10u+edLW58J2yzCCUxtIghnLIWHO1gCrY6qxGRnNe3/8ACDeHf+EM/wCET/s7/iSf8+vnyf8APTzPv7t33+evt04og8DeHbbWtL1aHTtt9pFotlZS+fIfKhCsoXG7DcOwyQTz1p8guc8I0u/vPCXhb4t23h27nsYdN1GGGzVJCfIVrl4mKk5wxQAbvvfKDnIBqmuh6Jo2qfCWXRNRkuJdQuILq8gN0JFSVpoQzhB9wlg0Z9fIAPKsT7nqfhGLRNF8SXngnR7GbWdY/e3MGoSPJDeNuYsrKzYGQ8gAG1csM8V5poPwu1e88UeGZm8G2vhC30e4+23lymoC7N5IDEQijczqMxnALEKGY5J4aXFrQaktz3qiiitzE5jQf+Rv8Wf9fkH/AKSxV0Vc7oP/ACN/iz/r8g/9JYq6KuOXxM64/CgoooqSgooooAKKKKACiiigAooooAK53XP+Rz8K/wDXxcf+k710Vc7rn/I5+Ff+vi4/9J3qo/EiZfCzp6KKK7DkCiiigD5k8UQ+MIPjRMtmb86ubx30vL7z5DOxTaSSvl7S2R90DcGxhhX03RRXr5jmbx8KUXBR5FbTr/wOy83qTGNgoooryCjlviXqEemfDfWLme1+1oIljMJmeIPvdU5ZCG2/NyARuGRnmvN9Bit4/jD4XaLUPD1xPIt08tr4ftUS3th5LBf3o5kLYJw3KnOOCM+3TwRXNvJBcxJNDKpSSORQyupGCCDwQR2qjaeHtFsHhex0ewtmgZ3iaG1RDGzKFYrgcEgAEjqABXtYLMaeGw06Li7y5l5e9G3Xaz10s3te2jlxuzwfwJ/wjf8Abnhn/hLvsf2X+wp/I+3Y8nzfts+N2fl+7vxu4zjHOK1JPL/4UB4t+wed/ZP9sN/Znmb9v2b7RDt2b+dud347s85r2H/hF9A8nyf7D03yvK8nZ9kj2+Xv37MY+7v+bHTPPWr32K1/s/7D9mh+x+V5P2fyx5fl4xs29NuOMdMV6FfPadSsqsYy+KMrN6aSctNN3e339xKOh5D8TPEGka14i0uHR9Str5rfSdXeU20gkVA9owX5hxn5G4zkd+oplh4Z0ZL34Z2iadCsGqWE0t+gBH2thDHMBKerqJAG2tkcAYxxXqcfhfQIY1jh0PTY0XzNqraRgDzFCvxj+JQFPqBg1aXS9PV7N1sbYNYqUtGEK5t1K7SE4+UEADAxwMVgs3p0qMKNFSSipLfq1Oz07OV/Kwcut2eNppWhz+FNcstT1KHQoIvGswspWtVlgSQKAqPGRt2bd3XCjAzxweq+FV7pt1d6/Fb6XptlqcEsS3k2jy7rO5TDeU0QDELxuyBjnk8khe3fRNKktLm1k0yza3u5TNcQtbqUmkJBLuuMM2QDk88Cn6fpen6TbtBpVjbWMLNvaO2hWNS2AM4UAZwBz7Vlic0hXw86TTvJ6a6Lbtq722d1ezVmNRszK8bz63beDb6Xwqrtqq+X5AjjVz/rF3cMCD8u6vIv+Ek+NEX37K8f/uHRn+S175RWGBzKGFpunKhCet7yV36egON+p4H/AMJr8YIvv6NeP/3CSf5LR/wsb4rRf63w/N/wPSZRXvlFd39tYZ74SAuV9zwP/hbPxIi/1vh2P/genTD/ANmo/wCF1+OY/wDXeHrMf9uk6/8As9e+UUf2vgXvg4/e/wDIOV9zwP8A4Xz4mj/12gWY/wCASr/WlX9obVVOJNCtCfaVhXvdIyhhhgCPcUf2plj3wS/8Df8AkHLLueFr+0Tdj7/h2E/S7I/9lqZf2iz/AB+GAfpf/wD2uvaWsrV/v20LfWMGoH0bS5Pv6baN9YFP9KP7Qyh74P8A8nkFpdzyNP2irc/f8Nyj6XgP/slTr+0Ppx+/oN0PpOp/pXp7eGtCf7+i6c31tEP9Khbwd4Yf7/hzSW+tjEf/AGWj65kr3w0l/wBvsLS7nniftC6Ifv6NqA+jIf61Mv7Qfhs/f0zVR9EjP/s9du3gPwm/Xw3pX4WiD+QqFvhz4Pfr4dsPwiA/lR9YyN70Jr/t7/ghafc5RPj/AOFG62erJ9YI/wCklVtb+NnhXU/DmpWUC36zXNpLFHvgAG5kIGcN6mutb4XeC36+H7X8Cw/kayPEnwu8G2nhjVLu20SOOeCzmkjdZpPlZUJBxux1FL2uQPenUXzX+Y/fKWmfGfwhBpdrBNcXSPFCiN/o5PIUA9K8K8WajBq/jDVdQs2LW9zdSSRMRglSeOO3Fe/6f8I/BV1pNpNLo58ySBHdhdTDJKgk/fr578SWkFh4q1azs02W9vezRRKSTtRXIAyeTwK+k4X/ALLdeo8Cpp215rbX6WHW57LmNXw78RfE3hjYmn6k8luv/LtcfvI8egB5X/gJFeq+Hfj1pd3ti8SWUmnydDPBmWM+5H3h+G6vH9D8GeIfEZU6PpNxPGf+WxXZH/322B+tekaF+z/cybZPEeqpCvUwWa7m/wC+24B/A11Z1RyB3eLaU/7vxfcv1RNN1fsnofiHWdN1vQdNuNIvoLyL+2dPy0MgbH+lR8H0Psa7WvM7/wAA+HfCen6bLpFjtuf7XsFa5lcvIR9qj7ngfgBXplfl9RUFUaw7bj0ukn+Df9dDonfS4UUUVJkFFFFAGBp/jnwzq2vNo2m6zbXV8F3hIiSrjAJ2vjaxAOcAk8H0ON+vA/DfwX8Q6X8RrWW5eEaXp90lyl8GB88IwZVEedysehzwMHBbA3e+V6+a4XB4apBYSrzpq78n/XTddSYtvcKKKK8goxPFXi3TfB2n217rPnC3uLpLbfEm7yywY7mGc7QFOcZPoDWVYfEzRriS9j1W11LQXsrX7W66tamEtFu27lAJz8xC46kkAA84PiFZXV7/AMIv9jtprjyPEVpNL5UZby4135dsdFGeSeK5n4i+FdX8SeL9Uh0u0dhN4bSOOZ1KxNIl4snl78bQxVeAT3GcDmvfwWFwVWnCNZ2cr3d9rNLb0uS2+h1Xh34h6f4luJraz0zVbe7SzF7Db3dusTXUJOA0ZLbSCcAEkA564BIG+I2kPo+kX1hbX9+2sLK9raW0AMzCJSZeGIGVxjAJJP3d1cd4P0yW58S2GtXln4zzpMEssz6/OXWJnjKlIIxGXmJ56bfurwSQpveFrHV9K8XReJr/AEBIF8UsyXUMNqfM0ojmLcVySJMZkJVQGwW24xXRWwODhOdlsrpc27973fuSlf8A7d+1FiTZv/C3xFf+J/Adtf6v5z3glkjknkhWNZsMSGQLgFQCFzgcqw7ZrsK4j4Qx3Vr8N7Ox1DT7ywuLOWWN0u4DEXy5cMoPJXDgZ9QfSuh8VaVc634V1DTbGZYLm5hKRSMxUK3YkjkV5eOp0/7QqQjaMeZ7bJX39LalLY1XdY13SMFX1Y4qhP4g0a1z9p1exhx18y5Rf5mvFE/Z/wBcuG3X+vWe7uVV5D+uKvwfs6oMG58SsfUR2WP1L/0r0v7OymHx4y/pB/8ABJ5pdj0qf4g+EbfPmeI9NOP+edwr/wDoOazZ/i94Ht87tdVz6R28rZ/JcVzMH7Pegrj7Tq+pSevl+Wn81NaUHwJ8Hw48wX8//XS4Az/3yBR7HIYb1akvRJfmg98dP8c/BsOfLlvZ/wDrnbEf+hEVnT/tB+HVz9m0vU5P99Y0/wDZjXQwfB7wNBj/AIknmH1kuZT+m7FaUHw68H2+PL8Oaef+ukIf/wBCzR7bIYbU6kvVpfkw9886n/aKgGfs3huR/QyXgX+SGs+T9oPV5m22WgWqsegaV5P5Yr2aDw1oVrj7LounQ46eXaIv8hWjHFHCu2GNY19FXAo/tDKIfBhL+s3/AMELS7ngv/C3PiLf/wDHj4fiwenk6fM5/wDQjR/wlHxmvv8AUadeW+f+oaqf+hrXvlFH9tYWP8PCQ+eocr7ngf2H426h96S8jB7+fBDj8AQaP+Fe/Fi//wCPvXZ4we0uquQPwXNe+UUf6xVo/wAOjTj6R/4IciPA/wDhRfi68/5CWv2bZ65mlk/moq1B+zrMf+PnxJGntHZlv5uK9yoqZcTZna0ZpekV/kHJE8fg/Z40pcfadcvJPXy4lT+ea0oPgH4Ti/1tzqkx/wBudAP0QV6dRXNPPsznvWf4L8kPkicHB8FvBEP39Mln/wCul1J/RhWjB8MPBdvjy/D1qcf89Nz/APoRNdXRXJPM8dP4q0v/AAJ/5j5UY0Hg7w1bY+z+HtLjI7rZx5/PFaUFjaWv/Htaww4/55xhf5VPRXLOtVn8Um/mMKKKKyAKKKKACiiigDmPDP8AyHPFv/YZH/pHbV0Vc74Z/wCQ54t/7DI/9I7auirjluzsjsgoooqRhSEBgQRkHgg96WigBAABgDAFLRRQAVzWtSjQvFFr4huFY6ebV7O8kRS32cbg6SsB/ACHBPbcCeASOlo69aadncTV1Yhh1bTriFZbe/tZY2GVdJlYH6EGn/2hZ/8AP3B/38FZsvhfQJpDJNoemyO3VntIyT+OKb/wiXhz/oX9L/8AAKP/AArb2vkZey8zU/tCz/5+4P8Av4KP7Qs/+fuD/v4Ky/8AhEvDn/Qv6X/4BR/4Uf8ACJeHP+hf0v8A8Ao/8KPa+Qey8zU/tCz/AOfuD/v4KP7Qs/8An7g/7+Csv/hEvDn/AEL+l/8AgFH/AIUf8Il4c/6F/S//AACj/wAKPa+Qey8zU/tCz/5+4P8Av4KP7Qs/+fuD/v4Ky/8AhEvDn/Qv6X/4BR/4Uf8ACJeHP+hf0v8A8Ao/8KPa+Qey8zU/tCz/AOfuD/v4Kr3/AIg0jTLVri/1K1giUdWlGT7AdSfYcmqf/CJeHP8AoX9L/wDAKP8Awqa18PaLYzCay0iwt5R0eG2RGH4gUe18g9l5lHwvBPIdT1e7gkt31a7+0RwSrteOJY0jQMOzER7iOo3YPSt+iisW7u5stAooopAFFFFABRRRQAUUUUAFFFFABXO65/yOfhX/AK+Lj/0neuirndc/5HPwr/18XH/pO9VH4kTL4WdPRRRXYcgUUUUAFFFFABRRRQAUUUUAFFFFABRRRQAUUUUAFFFFABRRRQAUUUUAFFFFABRRRQAUUUUAFFFFABWT4s/5EvW/+wfP/wCi2rWrJ8Wf8iXrf/YPn/8ARbUnsNbkmjf8gGw/69o//QRWNZfD3wxY6lPqA0qG4vJ5mmea5/encxJJAbgcnsK2dG/5ANh/17R/+girtYU8RWopqnJq+9na/qdbSe4gAAAAwB0ApaKKxGc541/5Bmm/9hnT/wD0qjrqK5fxr/yDNN/7DOn/APpVHXUV0UtjCruFFFFbGIUUUUAFFeYaD8cdI1zxdDpA025tba6ZYre6lYFmkbACtGoO0EkjIY9s4BOPT67MXgcRg5KOIjytq6EmnsFFFFcYwornfG3iWfwzokMun2X23Ub66SxsoWYKhmfO3eSR8vB+vAyM5HJar4s8WQ6Z4l0DVrewtdbttJfUba8sZHELW4wrkZO9ZB8208fMOwGW9HD5dWxEVONkm+r13Sbt2V/6sxOSR6fRXzXb+CNVaXwpZJZaJ5euwNcxxG5uxHcFIA4a4AbhgHOPLwMsw6V33gnxj4l1K4srHT9O0RNPtZ/sc+kLPIl/YQIdm5/MIDBBsyQCWPGAc7fSxWRqlT56NVSS1d7Lq1/M92mu3nfQlS7nq1FeU638VdUt9Y1c6THoiafo0/kS22o3gjvLxkbEphXdgADpkHPbccoLdleX2o/Hy3vbOSzk0258OrNE+1w7WrPkHB6P5p78bP8Aark/sivGDnUaS5XLvsk7eTaf9WY+ZHpdFFYF7478L6bfy2V/rdpb3MLbZI5HwVPpXl06NSq7U4tvyVyjfornF+IfhBuniPTvxuFFSL478Jt08S6V+N4g/rWzweJW9OX3MLo36KxV8Z+F2+74k0g/S+i/+KqRfFfh5vu69pjfS8j/AMah4aut4P7mF0a1FZy+ItEb7usWB+l0n+NSLrOlv9zUrRvpOp/rUOjUW8X9wF2iq66hZP8Adu4G+kq/41ItxC33ZYz9GFS4yW6AkooBz0oqQCiiigAooooAKKKKACiiigAooooAKKKKACiiigDmPDP/ACHPFv8A2GR/6R21dFXO+Gf+Q54t/wCwyP8A0jtq6KuOW7OyOyCiiipGFFFZviHU30Xw1qOpxxrI9nbSTKjHAYqpODV04SqTUI7vQHoaVFeaeHvjh4c1XbFqyS6ROeMyfvIif98DI/EAV6JaXtrf2y3FjcRXMD/dkhcOp/EV14vL8VgpcuIpuP5fJ7MmM4y2ZPWDrmoX0urWeg6LKtveXcbzy3TIH+zQIQCwU8FyzqFB46k5xg71c9F/yVGT/sDL/wCjjXHFXlYJOyuSjwdAR++1jXJX7udSkTP4IQo/ACl/4Q60/wCgprf/AINZ/wD4qugorq5Y9jm5pdzn/wDhDrT/AKCmt/8Ag1n/APiqP+EOtP8AoKa3/wCDWf8A+KroKKOWPYOaXc5//hDrT/oKa3/4NZ//AIqj/hDrT/oKa3/4NZ//AIqugoo5Y9g5pdzn/wDhDrT/AKCmt/8Ag1n/APiqP+EOtP8AoKa3/wCDWf8A+KroKKOWPYOaXc5//hDrT/oKa3/4NZ//AIqmSeECkZbTte1m1uBykkl41woPbKSZBHtx9RXR0Ucsewc0u5heHNWn1SzuYtQjSLUNPuWtLtY87C4AYMuedrKysAeRux2rYrndB/5G/wAWf9fsH/pLFXRVySVnY6k7q4UUUUhhRRRQAUUUUAFFFFABRRRQAVzuuf8AI5eFf+vm4H/ks9dFXOeL2Fn/AGLq7cR6bqcbyn0jlVrdifYecGP+7VR3QpbM6iiiiuw4wooooAKKKKACiiigAooooAKKKKACiiigAooooAKKKKACiiigAooooAKKKKACiiigAooooAKKKKACsjxaceC9bJ4A0+f/ANFtWvXOePpT/wAIVfWUZxNqgXToR33TkR5H0DFvoppPYa3NHRwRodgDwRbR/wDoIq7TUQRoqIMKowB6CnVxHYFFFFAHOeNf+QZpv/YZ0/8A9Ko66iuX8a/8gzTf+wzp/wD6VR11FdFLYwq7hRRRWxiFFFFAHmmkfBHRtI8bLrcd5M9nBKJ7WwKkeVICCuZM5ZVOSBgHpknB3el0UV14rG4jGSUq83JpWX9fruxJJbBRRRXIM53xt4an8T6JDFp979i1GxukvrKZlDIJkzt3gg/LyfpwcHGDgR+CfEWpvr+q+Jb+wbV9Q0mTSrSGyDLbQxsucsWG8kvz3xz1yAvoNFd9HH16NP2cLW9Ffo2r9nb+rsVkzjLfwfqEWoeBZ2mtivh2zlguwGbLs1usYKfLyMqeuOKxx4I8Y3/ivRtQ13UtHk/sm6LjVLaOSK8uIQxPlOq4j2sDgjsCeTlt3pdFaRzOvHVWvZrbVJuTf/pT8npfYOVHmF/8M9Uj8R6pNpC+Hrqx1ac3Ek2r2AnubN3J3mL5cMBnIDHHAGOrNvw+FNSsPiNpusWEtmdLt9HGmTpINsxCszAoqKEHIT0GN2AOK6q9ufsWn3F15E1x5ETSeTAm6STaM7VXuxxgD1osrn7bp9vdeRNb+fEsnkzptkj3DO1l7MM4I9aqeY4qpTvKzVuXburffb+rhyomrzvX/gtoHiHXbvVbu+1KOe6fe6xyR7QcY4BQnt616JRXJhsZXwknOhJxb00G0nueTt+z54e/h1XUx9WjP/stRN+z1ov8Os34+qof6V67RXorP8zX/L5/h/kTyRPHm/Z40w/d127H1hU/1qJv2drP+HxDOPrag/8As1ezUVa4izRf8vX9y/yDkieKt+zrF/D4mcfWyB/9nqJv2dD/AA+KAfrYf/bK9voqlxJmq/5e/wDksf8AIOSJ4Y37Otx/D4kiP1syP/Z6ib9ne/8A4fEFufrbsP617xRVribNP+fn/ksf8hckTwQ/s9auv+r12z/79uKT/hQniRP9Vr1mP+BSD+le+UVX+s+Z9ZL/AMBQckTwP/hR/jJP9V4gs/8AwImH/stH/CmfH8f+r8RWn4X04/8AZK98oo/1mx/Xl/8AAUHIjwP/AIVP8SY/ueIo/wDgOozD/wBlpf8AhWvxTj+54hk/4Dqsor3uij/WTGdYw/8AAQ5EeB/8IF8XI/ua9dn6avJ/U0f8If8AGKP7urXjf9xXP82r3yij/WPEdaVP/wAB/wCCHIjwP/hG/jQn3b68b/uIxn+bUf2P8bY+k143/b7Af5tXvlFH+sVXrQp/+A/8EOTzPBPs3xuj/ivD/wBtbdv60ed8bo+14f8AgFu39K97oo/t+++Gpf8AgP8AwQ5PM8D/ALU+N0fWO8P/AG525/8AZaP+Eh+NMf3rO8b/ALh8R/kte+UUf27Te+Epf+Ahy+Z4H/wl3xkj+9pV43/cLB/ktH/CdfF5PvaFeN/3CH/oK98oo/tvDvfCU/uDlfc+ctO8d/EWzvNUktdFkkluLsS3anTZDsl8qNcED7vyKhwfXPer/wDwtX4kR/f8Pp/wLTph/wCzV6v4Z/5Dni3/ALDI/wDSO2roq5nneCvrgof18joVOVviPBv+Fw+P0+/4etf+BWM4/wDZ6P8AhdfjRP8AWeH7P/wGmH/s9e80Uv7Zy974KP8A4E/8h+zn/MeDf8L08UJ/rNBs/wDv3KP/AGaqGufGrWdY0G90y60e1hS7haFnUvlQwxkZr6IrmPiQ234ba4f+nVh/KunCZpltTEU4rBJNta8z0132FKE0n7x8n1f0nXdU0K58/R7+4s5O5icgN9R0I9jWroXw+8T+ItradpM3kt0nmHlR49QWxn8M16ToX7P6DbJ4k1Yse8FkuB/32w/9lr9Ex+cZbhouGImn/d+J/Nf5nJGnN6pGd4e+Pep2uyHxHYR30fQz2/7uT6lfun8NtekeHNdtvEXjw39nDdQxvo6jbdQNE3+uPY9R7jI960tC8CeGvDm1tK0mBJl6TyDzJP8AvpskfhiiL/kqMn/YGX/0c1flWZ4vLcTVvg6Lh533/wC3dUvkzrUZqPvO501FFFeYZBXEfGS5itPhLrM9xZQX0a+Rm3uGcI+Z4xyUZW468EdPTiu3rmPiP4avPGHw/wBS0LTJIIrq68rY9wxVBtlRzkgE9FPaplsyo7nm/hj4heMNQ1y28IeE9I0NY7fQ7O4he5aZUtlNvA53HezOv7woAPm+ZSSQGzynjv4g6945+ClnqFzFa2UH9stZXyWzyDz2WMSRYUkjZgtuDE/MiEeg9L8B/DXWPC/xAk13ULmxktW0O204JBI5fzI4rdGOCoG3MLYOc8jjrjm4/gdrx+EMvhebUdOXUBrP9pROrSNC6+UI9rNtBU/ePCnoB3yM2pWNE43PZND/ALY/sWD/AISX7D/afzef/Z+/yfvHbt3/ADfd25z3zV+qGh/2x/YsH/CS/Yf7T+bz/wCz9/k/eO3bv+b7u3Oe+av1qZBRRRTEcxoP/I3+LP8Ar8g/9JYq6Kud0H/kb/Fn/X5B/wCksVdFXHL4mdcfhQUUUVJQUUUUAFFFFABRRRQAUUUUAFV7+xttT064sb6ITW1zG0UsbdGUjBFWKKAOe8L6pcWsp8Na7Lu1OzT9xOx/4/4Bwso/2hwHHY89GFdNWVrGi2euWYgvVdWjbzIZ4m2SwOOjow5Vh/8AWOQSKzY7jxVpH7u4toPEFuPuzwuttc49GRv3bH3DIPYVvGorWZhKm90dPRXMP4yuIjiXwl4hVvRYYX/VZSKT/hNpP+hU8Rf+Aif/ABytOePcjll2Ooorl/8AhNpP+hU8Rf8AgIn/AMco/wCE2k/6FTxF/wCAif8Axyjnj3Dll2Ooorl/+E2k/wChU8Rf+Aif/HKP+E2k/wChU8Rf+Aif/HKOePcOWXY6iiuX/wCE2k/6FTxF/wCAif8Axyj/AITaT/oVPEX/AICJ/wDHKOePcOWXY6iiuX/4TaT/AKFTxF/4CJ/8co/4TaT/AKFTxF/4CJ/8co549w5ZdjqKK5f/AITaT/oVPEX/AICJ/wDHKP8AhNpP+hU8Rf8AgIn/AMco549w5ZdjqKK5f/hNpP8AoVPEX/gIn/xyj/hNpP8AoVPEX/gIn/xyjnj3Dll2Ooorl/8AhNpP+hU8Rf8AgIn/AMco/wCE2k/6FTxF/wCAif8Axyjnj3Dll2Ooorl/+E2k/wChU8Rf+Aif/HKP+E2k/wChU8Rf+Aif/HKOePcOWXY6iiuX/wCE2k/6FTxF/wCAif8Axyj/AITaT/oVPEX/AICJ/wDHKOePcOWXY6iiuX/4TaT/AKFTxF/4CJ/8co/4TaT/AKFTxF/4CJ/8co549w5ZdjqKK5f/AITaT/oVPEX/AICJ/wDHKP8AhNpP+hU8Rf8AgIn/AMco549w5ZdjqKK5f/hNpP8AoVPEX/gIn/xyj/hNpP8AoVPEX/gIn/xyjnj3Dll2Ooorl/8AhNpP+hU8Rf8AgIn/AMcp6+KtSuVxZeEdX3Ho109vCg+p8wt+Smjnj3Dkl2Okd1jRndgqqMlicAD1rkbBj4u8RQ60V/4k2mlxpuf+XqYja1xj+6BlUPfczdCtSPoeqeIWU+LLiBLENu/siyJMT46CaRgDIP8AZAVfUNXSqoRQqgKoGAAOAKxnUvojWELasWiiisjUKKKKAOc8a/8AIM03/sM6f/6VR11Fcv41/wCQZpv/AGGdP/8ASqOuoropbGFXcKKKK2MQooooA+b/AAd488bT/FGxgv768upbm6W1u7KZDsRMhXPlDARlCliQBjac8Fs/SFVY9L0+LU5dSisbZL6Zdkl0sKiV144L4yR8q8Z7D0q1Xr5rj6OOqQnSpKFlbT/gW+RMU0FFFFeQUeffGBIpNH8Opc3b2MLa/bCS6jlEbQLtky4c8KQOc9sZrnLywsvC2veMPDnh64dNKk8LT3s1iZvMWC4xs4zllJQgkE87h2C47jx/oF14it9BgtrNLyG31u3uLuOQrt8hQwckMcMMHpyTnpV3S/A/hzRdHvtL0zTEgtNQUpdKJHZpVKlcFyS2ME4APGSRyTX0mHx9LD4OEJNvf3Va3xJ3eu6tpp811hptnlut6ZF4b+DuiT6ZNcifxE1jDqcr3gRp4TC7CLzHysSgYUHAAUANkZza0XwpfzyeI/Csmhw6FYappn2mDTp9YW5MVyjBUlUK29ULYLEq2SgGcYWvVptA0u48ODQZ7NJdMEC24t3JICKAFGSc5GBg5yCAc55qDw74T0TwpbzQ+H9PS0Wdg8pDM7OQMDLMScDnAzgZPqap52vYSST53JtN37pxfxJJxtZe69NE0g5dTynxBq0/j7w3aWdwkzf2Lo91f60k8Yj2XiRPFGp28o4kWR9h2goc4PQWrOwsvFOveD/DniG4d9Kj8LQXsNiJvLWe4xs5xhmIQEgA8bT2LZ9QHhnRlj1WOPToYxrG77eYwVM+5dpyRyOCemOWY9SSamqeB/DmtaPY6XqemJPaaeoS1UyOrRKFC4DghsYAyCecAnkCms3w6SpwTile1rXjdO7Wq1Tdlt7ttQ5WeW3V00nwD8WWSX739lpmrfYrCZ3Dk26TQ7PmHDDB4PoQBwAB1PxCeK4+IXhazXU00+b7HqZe5EgDWqtbELMeQQAVYg5H3TzxXaf8Izo3/CM/8I9/Z0P9k+V5X2XB27c5znruz827Oc85zzWVp3w08H6VNFLZaJCjxeZgvI8m4SJsdW3Mdylcja2QMnAGTmVmeGcnNqSd6jVkteeCjd66O6u9Hv8AecrOE8A6Hp3hvxppFnfWb2Opy2bvaajpl481lrKFMtuDA4KgBsDAJGeBsB9krmtC+HXhXw3qY1DRtISC7VSiytLJIVB643sQDjjI5wSOhNdLXnZpi4YuuqkG3prfvd7aysvn6WVkqirIMjdtyM4ziivLviR8MNZ8X+JI9X0rVLe2aK3WFI5d6kYLHO5Qe7elcl/whPxc0T/kHancXKL0WHUsr/3zIR/KuvD5Xha9KMlioxk91LS3zE5NdD36ivAf+Es+MOif8f2nXd0i9TJp4kUfVox/WpIPj9r1lJ5es6Bas46qheA/+Pbq2fDWNkr0ZRn/AIZL9bC511PeqK8isv2hdGkx/aOjX1v6+S6S4/MrXQWXxp8E3eBJqMtqx7T2z/zUEfrXDVyTMaXxUZfJX/K4+aPc72isOy8beGNQx9k1/TnY9ENyqt+RINbUciTRh4nV0PRlOQa8ypRqUnapFr1Vih1FFFZgFFFFABRRRQAUUUUAFFFFABRRRQAUUUUAcx4Z/wCQ54t/7DI/9I7auirnfDP/ACHPFv8A2GR/6R21dFXHLdnZHZBRRRUjCmsquu11DD0IzTqKACiiigArnHkS1+KNt5zBft2lPHBn+J45QzL9dr5x6A+ldHVDWNGtNbs1gvPMUxuJIZoXKSQSDOHRh0IyfqCQcgkVUXZ3FJXVjUornBpHiFBtTxVK6jo01jCWP1KhR+go/svxH/0M/wD5T4/8a39rEw9nI6Oiuc/svxH/ANDP/wCU+P8Axo/svxH/ANDP/wCU+P8Axo9rEPZyOjornP7L8R/9DP8A+U+P/Gj+y/Ef/Qz/APlPj/xo9rEPZyOjornP7L8R/wDQz/8AlPj/AMaP7L8R/wDQz/8AlPj/AMaPaxD2cjo6K5z+y/Ef/Qz/APlPj/xpsmha1dxmK98U3YhbhxaW8ULsO434JX6rg+hFHtYh7ORH4ZkW717xRewHdBJqSwow6MYoIkfH0cMv1U10lVrCwtdLsIbLT4VgtoV2xxr0A/qfc9as1zt3dzdKysFFFFIYUUUUAFFFFABRRRQAUUUUAFFFFABRRRQAUUUUAFFFFABRRRQAUUUUAFFFFABRRRQAUUUUAFFFFABRRRQAUUUUAFFFFABRRRQAUUUUAFFFFABRRRQAUUUUAFFFFAHOeNf+QZpv/YZ0/wD9Ko66iuX8a/8AIM03/sM6f/6VR11FdFLYwq7hRRRWxiFFFFAFWPVNPl1OXTYr62e+hXfJarMplReOSmcgfMvOO49atV83+Dvhz4u0r4o2MbWU1smn3SyzXyllgeIEbgkmPm3qdu3r8xDAYbH0hXr5rgaGCqQjRqqaavdf09yYtvcKKKK8go4/x/45j8F/2LueFft1+qT+bE77bYf6112/xLuTHXr0NaPiLxx4c8KXEMGv6mlrNMpdIxG8jbQcZIQEgZ6E4zg46GsD4s3kGnaf4ZvbyTy7e28RWs0r7SdqKHJOByeB2rH1PWdI8F/EvxVe+L7F/s2sWcP2GU2wlW5RIgksIPYsduVbA4BYgbc/RYbA0a9Cm+STdpOyavJqSVlo9k7vfRdCW2mdHrnxAttM8c+GdGguLaW21dWeWUIzna4xblGX5cO+Rnnjngc1avPiX4P0/W30m81uGK8jlELqY3KI57GQLtGM4OTxznGDXn2hQS+Gbj4Vwa9E9lMG1FDHIpLK0xxGCBkgkyJwemecYNclrWtf2j4Bu7a+1a8hv4JT/wAU5p2nfZLXT18/5vOwoDrnZjJyrsAckk16VPJcNWnCCu4rS66vnnHm+FrZd0rNa3tzTzNHuui+ILrUfHHiXRp44Vt9J+y+QyKQ7ebGWbcScHkcYA/GuiriPC3/ACVnx5/3D/8A0Q1dvXzGOpxp1Uoq3uwfzcIt/iy0FFFFcQwooooAKKKKACo5reG5jMdxFHKh6rIoYfkakooTad0Bz974C8Kahn7V4e08k9WSBUY/iuDXPXvwS8F3efJs7mzJ7wXLH/0PdXoNFd1LMcbR/h1ZL5sXKjx69/Z40t8/2drt3B6efCsv8ttYsnwI8TadIZNE1+13Dod0kDH/AL5B/nXvdFenT4kzOCs6nMvNJ/oLkieBf8I98ZdE5tb28ukXoVvUmH/fMhz+lH/Cwfivon/IU0eWdV6vcaawU/8AAo9or32itP7ejU/j4anL5Wf36i5OzPCrX9oW/hbZqnh6F2HDeTO0ZH4MGrfsv2gfDs2BfadqNsx7qqSKPx3A/pXp11p9nfrtvrSC5X0miDj9RWBe/Dfwdf58/wAO2K56+RH5P/oGKPrmS1f4mGlH/DK/52QWl3KNl8X/AATe4A1kQMf4Z4ZEx+OMfrXQWXinQNRx9g1rT7gn+GO5Qn8s5rjb34FeDrrP2dL6y9PJuM4/77DVz17+zvatk6d4gmj9Fntg/wCoYfyo+r5FV+CtOH+JX/ILz7HtAORkciivA/8AhS/jfRzu0LX4AB0EN1LA35AY/Wk+x/GrQuY5b25Re/mxXOfwbJ/Sj+xcNU/gYuD9fd/zDmfVHvtFeB/8LU+JOi/8hnQg6jq1zp8kefxBAq7ZftEsMLqPh0H1eC6x/wCOlf61MuGswtemlNeUl+tg50e30V5jZfHvwrcYF1b6jaHuXhVlH4qxP6V0Fl8VPBV/jytft4ye06tFj/voAV51XKcfS+OjL7m/yK5kddRVKy1vStSx/Z2p2d3np5Fwr5/I1drz5RlB2krDOY8M/wDIc8W/9hkf+kdtXRVzvhn/AJDni3/sMj/0jtq6KuGW7OyOyCiiipGFFFFABRRRQAUUVh67fai15a6NoRjivrxXke6lTelrCuAz7cjcxLKFXpkkngEU0r6A3Y3KK5seCrhhmfxd4hkkP3mWeJAT7KsYApf+EJk/6GvxF/4Fp/8AG6v2cjP2kTo6K5z/AIQmT/oa/EX/AIFp/wDG6P8AhCZP+hr8Rf8AgWn/AMbp+ykHtInR0Vzn/CEyf9DX4i/8C0/+N0f8ITJ/0NfiL/wLT/43R7KQe0idHRXOf8ITJ/0NfiL/AMC0/wDjdH/CEyf9DX4i/wDAtP8A43R7KQe0idHRXOf8ITJ/0NfiL/wLT/43TX8HajAvmaZ4w1qO4XlftRiuIj7MhQEj6EH3pezkHtInS0VlaBqdxqVnMmoQLb6hZzG2u40OUDgBgyn+6ysrDPOGAPNatZmgUUUUAFFFFABRRRQAUUUUAFFFFABRRRQAUUUUAFFFFABRRRQAUUUUAFFFFABRRRQAUUUUAFFFFABRRRQAUUUUAFFFFABRRRQAUUUUAFFFFABRRRQAUUUUAFFFFABRRRQBznjX/kGab/2GdP8A/SqOuorl/Gv/ACDNN/7DOn/+lUddRXRS2MKu4UUUVsYhRRRQAUUUUAFFFFABRRRQAUUUUAFQXyTy6fcR2TrHcPEyxO3RXIOCfxqeimnZ3A8D/wCEU+LnhHnSdQmvYE6LBciZQPaOT+gp8Pxq8X6BKsHirw+jkcfvIntpG/Egj8hXvNMmhiuImiuI0ljbhkdQwP4GvpP7cpVv98w0J+a91/eiOW2zPNNJ+PPhe92rqUV5prnqzx+Yg/Fcn/x2u20nxd4f1zaNK1izuXbpGsoD/wDfJ5/SsnVvhb4O1jcZ9EggkP8Ay0tMwke+FwD+IridW/Z6sZNzaJrc8B6iO6jEgP8AwJduPyNHJkeJ+GU6T81zL8NQ95HslFeBf8IX8V/CXOialLeQJ0S3ut6gf9c5MfoDTo/jH428OSLD4q0JZADjM8D2zt+P3fyWj/V+pV1wlaFTyTs/uf8AmHP3Pe6K8t0n4+eG7zauqWt5pznq20SoPxX5v/Ha7bSfGnhvXNo0vWrOd26R+aFc/wDAGwf0rysRlmNw38Wk1520+9aFKSZuUUUV54wooooAKKKKACiiigAooooAKKKKACqV7oul6ln+0dNs7vPXz4FfP5irtFVGUoO8XYDkr34WeCr/AD52gW6E94GaLH/fBFc9e/ATwpcZNrPqFoewSZWUfgyk/rXp1FehSzbH0vgrS+9v8xcqPEb39nY8tp3iL6JPa/8Aswb+lUf+FU/EjRedG14Mo6LbX8kZ/IgD9a98or0Y8S5ha1Rqa84r9LE8iPnLTrv4r6LeaoLKO6uZEuwL4CKO4zN5UfUjJJ8vy+n881f/AOFzeNdIOzXdAhG3gma2lgb9Tj9K9X8M/wDIc8W/9hkf+kdtXQkZGDyKwee4ao/9owcH/h93/M6FTlbSTPG7P9oW1bA1Dw/NH6tBch/0Kj+db9n8cvCFzjz2vrP1863zj/vgtXY3vhfQdRz9u0XT7gn+KS2Qn88ZrAvPhH4Kvck6MsDH+KCZ0x+AOP0pfWeH6vx0Jw/wyv8AmPlqrrcu2fxI8H3+PI8QWa56ee5h/wDQwK2RrOny2Ut1a3lvcxxRtIxhlV+AM9jXnN78AvDs2TZahqFsx7MySKPw2g/rXH+LPgrJ4Z0G81eLXUnhtU3lHtyjHkDAIY+taUsuyTE1Iwo4mUW3ZKUb/K6sgc6sVdowfDHxV8R+Grgjz/t9mzlmtbkkgZOTsbqv8vavcPCXxP8AD/i0JDDP9iv24+yXJAZj/sno34c+1fLVAODkcGvv8z4bwOPTklyT7r9Vs/z8zkhWlA+1656I/wDF0HHb+xl/9HGvDfB3xf8AEOgvFZ3obWbPIURSkmVR/svyT9Dn8K9g8N65D4g8eG+t7a7tVbR1Biu4GidT5x7HqOeoyK/MsxyPFZZUTq6xezX9XR1+1jOLsdxRRRXnGIUV8y6Dr2peEvi94r8Qxyyf2DBr72msRLuIEc0swSVgFbhGXOeDkhR9811/wz1OHRfFvxc1S6WR4LG+e4kWMAsVSS5YgAkDOB6is1O5o4WPa6K8Mj+NPi+z0nTfFmtaBpy+FNQvpLdBbSMbpVG7ByXwT8r/AMI3GNs7Aymugv8Ax94zuvi3rHgzwvp2jyi0t0mjuL0yIIgUiZmk2tlxlyoCgHLKScA5fOhcrPU6K8YtPjneD4Oz+KL7SoDqY1FtNhjhJELSGPzFdgTuChScgEkleq7vl1PCfxQ1K7+IVv4V8QTaBqT31uZrW98OztLDGyh2ZJCxPJVCeOny8HdlTnQcrPU6KKKsg5jQT/xV3iwdvtsB/wDJWKuirndB/wCRv8Wf9fkH/pLFXRVxy+JnXH4UFFFFSUFFFFABRRRQAUUUUAFFFFABRRRQAUUUUAFFFFABRRRQAUUUUAFFFFABRRRQAUUUUAFFFFABRRRQAUUUUAFFFFABRRRQAUUUUAFFFFABRRRQAUUUUAFFFFABRRRQBznjn5fDkU3/AD76lYTfQLdxE/pmuorF8Uaa+seE9U0+Dia4tZEhOekm07D+DYNW9C1SPWtAsdTi4W6gSXH90kZIPuDkfhW9J7oxq9C/RRRW5gFFFFABRRRQAUUUUAFFFFABRRRQAUUUUAFFFFABRRRQAU2SJJo2jmRZEYYZWGQfwp1FGwHKat8MfB+sbjc6HbxSH/lpagwnPr8mAfxBridW/Z602Xc2i6zc2x6hLmMSj6ZG0j9a9hor1cPnGPw38Oq7dnqvudxOKZ4F/wAID8UvCXOgam91CnIS1u8rj/rnJgfkDSp8XfHnhpxF4p0RZVBwWuLZoGb6MPl/SvfKR0WRCkihlYYKsMg16H9uwrf75h4T80uV/eieW2zPK9J+P/h662rqtjeae56soEyD8Rg/+O122k+O/C+t7RpuuWcjt0jeTy3P/AWwf0qtq3w28I6zuN5oVqjt/wAtLdTC2fXKYz+NcTq37PelT7m0bV7q0bqEuEWVfpxtI/Wi2RYnZzpP/wACX+Ye+j16ivAf+Fb/ABM8J8+HNVa4hXkR2l4VGPeN8KfpzSr8VviH4XYJ4n0fzkBwXurRoS30dcL+ho/sB1tcHXhU8r2f3P8AzDn7o99orybSf2gdDudq6vpt5YserRETIPx4P6Gu20n4g+FNa2iw120Lt0jlfynP/AXwTXmYjKcdhv4tJrztdferopSTOjooBDAEHIPII70V5owooooAKKKKACiiigAooqO4uIrS1luLhxHDChkkc9FUDJP5UAc54V+e+8Szf89dZk5/3YYo/wD2Suirn/A8MqeELSe5QpPfNJfSq3UNNI0uD7jeB+FdBXE9Wdi0QUUUUhhXOeO/D134q8I3Gj2E8Vu9w8e+SXOAqsGPTvwK6OitqFadCrGrDeLTXqhNXVmeP6d+z5p0eDq2t3Vx6rbRLF+p3V1enfCPwZp2CNJF04/jupWkz+Gdv6V2tFenXz3M8R8daXy0/KxCpQWyKljpWnaYmzTbC2tFxjEEKoP0FZMX/JUZP+wMv/o5q6GueH7n4oRmTgXOkMsRP8RSYFh9cSKa8tSlKfNJ3Y5/CdNRRRXScp5p4f8AhbNBfePU8Rvaz6f4puC8K25LSRKXlYMQ6YDjzFII3YZc9hVP4c/CG88J6b4s0nWr+C5sdbhW2iltCVlEeJVLEMuFbEgIALAHPXv6vRU8qK5meGR/BbxfeaTpvhPWtf05vCmn30lwhto2F0yndgYKYB+Z/wCI7TI2d4VRXcaT4H1Kw+N2t+MZp7VtP1CxW3iiV285WAhGWG3GP3TdCeo/Du6KSikPmbPFLD4Hak3whvPC2qajax6h/aZ1K0lt2Z4S3lLGFk3KDg/N0HGQecFT0ng7wFrWn+LF1nXrXwrp0dtCUt7Xw/piJvdgwZ3lkTzF+VsYVhnjOACG9Hoo5Ug5mwoooqyDmNB/5G/xZ/1+Qf8ApLFXRVzvh0+d4k8VXMfMTajHErf3iltErY+jZH1Broq45fEzrjsgoooqSgooooAKKKKACiiigAooooAKKKKACiiigAooooAKKKKACiiigAooooAKKKKACiiigAooooAKKKKACiiigAooooAKKKKACiiigAooooAKKKKACiiigAooooAKKKKACub8PP8A2F4ivvDs3ywXDyahprHoyO2Zoh7o7Fsf3ZB6GukrK8QaMdYso/s832W/tZRcWdztz5Uo9R3UglWHdWIqoy5XcmUeZWNqisjQNdXWIZobmL7JqdmwjvLMtkxN2YH+JGHKt3HoQQNeutO5y7BRRRTEFFFFABRRRQAUUUUAFFFFABRRRQAUUUUAFFFFABRRRQAUUUUAFFFFABRRRQAUMoZSrAEEYII60UUAc1q3w78Ja1uN9oVpvbrJCnksT65TBP41xGrfs+6Ncbm0fVbuyY9FmUTKP/QT+pr1yivTw+bY/DfwqrXle6+53QnFM8BPwv8AiP4VJbw1q3nxg5CWl2Y8/VHwp+mTSD4nfEnwqdviTSjPEvBe7szHn6OmFP15r3+ggEEEZB6g16f9v+20xlCFTztZ/eTyW2Z5FpP7QekT7V1nSbqzY8F4HWZfrztP6Gu20r4j+EdZ2iz121V26R3DeS2fTD4z+FS6t4A8K63uOoaFZs7dZIk8pz/wJME1xGrfs/aFc7m0jUryxc9FkAmQfhwf1ovkWJ/npP8A8CX6sPfR6wjrIgZGDKwyCDkGlrwB/hN8QPDDmTwxq4mUHIW1u2hZvqrYX9TSf8LE+J3hPjxBpr3EK8F7yzIXHtImAfrzR/YMa3+54iE/K9n9wc9t0fQFFePaV+0Lpsu1da0a5tj0L20glH1wdpH6122k/E/wfrG0W2uW8Ln+C6JhOfT58A/gTXnYjJ8ww38Sk/lqvvVylJM6uuX8Yyf2q1t4VtzmTU/mvCD/AKq0UjzCf9/iMf7xP8JrU1fxBZ6TpiXeftTzsI7WCAhnuZD0RPX69AAScAGqvh/SJ7I3Woaq6S6rqDB7lk5WNQMJCn+wgJ+pLN3xXjVJcqt1Nqcbu5sAAAADAHQUtFFcp0BRRRQAUUUUAFFFFABWdrOjQ6zbRq8s1tcW8nm211A2JIJMEblzweCQQQQQSCK0aKAMEaf4oUYHiO0Yer6Xkn8pQP0pfsPin/oYrH/wVH/47W7RVc8u5PLHsYX2HxT/ANDFY/8AgqP/AMdo+w+Kf+hisf8AwVH/AOO1u0Uc8u4ckexhfYfFP/QxWP8A4Kj/APHaPsPin/oYrH/wVH/47W7RRzy7hyR7GF9h8U/9DFY/+Co//HaPsPin/oYrH/wVH/47W7RRzy7hyR7GF9h8U/8AQxWP/gqP/wAdpkmleJbiMxT+Jo4o24ZrTTljkx3wzOwB98cV0FFHPLuHLHsVdN0210jTorGwjMcEQO0FixJJySSeSSSSSeSSTVqiipKCiiigAooooAKKKKACiiigAooooAKKKKACiiigAooooAKKKKACiiigAooooAKKKKACiiigAooooAKKKKACiiigAooooAKKKKACiiigAooooAKKKKACiiigAooooAKKKKACiiigDI1rQE1OSK8tJ2sNVtgRb30S5ZR3Rh0dD3U/UYOCK1l4tFtPHp/iuEaTfsdiSkn7Lcn1jlPAJ/uNhu2D1PQVFc20F5bSW93DHPBINrxSoGVh6EHg1cZuJMoqRaorl18Jvp4x4d1rUNLRfu2xcXEA9gkgJUeyFacf+E1g+5PoN9j+9DNbE/k0lbKrExdNnTUVyx1bxqnynwxpMhH8S604B+gNvmj+2PGn/Qq6X/4PG/8Aken7SPcXs5HU0Vy39seNP+hV0v8A8Hjf/I9H9seNP+hV0v8A8Hjf/I9HtI9w9nI6miuW/tjxp/0Kul/+Dxv/AJHo/tjxp/0Kul/+Dxv/AJHo9pHuHs5HU0Vy39seNP8AoVdL/wDB43/yPR/bHjT/AKFXS/8AweN/8j0e0j3D2cjqaK5b+2PGn/Qq6X/4PG/+R6P7Y8af9Crpf/g8b/5Ho9pHuHs5HU0Vy39seNP+hV0v/wAHjf8AyPR/bHjT/oVdL/8AB43/AMj0e0j3D2cjqaK5b+2PGn/Qq6X/AODxv/kej+2PGn/Qq6X/AODxv/kej2ke4ezkdTRXLf2x40/6FXS//B43/wAj0f2x40/6FXS//B43/wAj0e0j3D2cjqaK5b+2PGn/AEKul/8Ag8b/AOR6P7Y8af8AQq6X/wCDxv8A5Ho9pHuHs5HU0Vy39seNP+hV0v8A8Hjf/I9H9seNP+hV0v8A8Hjf/I9HtI9w9nI6miuW/tjxp/0Kul/+Dxv/AJHo/tjxp/0Kul/+Dxv/AJHo9pHuHs5HU0Vy39seNP8AoVdL/wDB43/yPR/bHjT/AKFXS/8AweN/8j0e0j3D2cjqaK5b+2PGn/Qq6X/4PG/+R6P7Y8af9Crpf/g8b/5Ho9pHuHs5HU0Vy39seNP+hV0v/wAHjf8AyPR/bHjT/oVdL/8AB43/AMj0e0j3D2cjqaK5b+2PGn/Qq6X/AODxv/kej+2PGn/Qq6X/AODxv/kej2ke4ezkdTRXLf2v41PA8LaUvudbfA/8l6er+Np/vHQLL6LNc4/WPNHtIh7ORPq3gXwvre46lodnI7dZEj8tz/wJcH9a8p8T/C7wtLeS2HhCe/uNXU7TawMJYYD/ANNZD/qx7Fi2OimvTj4YvL8H+3/EN/eI33re1ItISPTEfzkexc1s2Gn2el2SWmm2sNrbxjCRQoFUfgK7qOc47DaUarXzuvueg1RT+I8Hf4NeNdAmS88P6lBJOg4NrcNDIM9QCcDH4807/hOPil4S41uxluIU6td2m5P+/iYz+Zr3+ivSXEk62mNoQq+bVn9//AH7FL4XY8b0r9oK0faut6LND6yWkofP/AWxj8zXa6T8U/B+r7Vi1mK3kP8ABdgw4/Fvl/I1p6r4M8Oa3uOp6LZzu3WTygrn/gS4P61xeq/Abw3d7m0y6vNPc9F3CVB+Dc/+PU/acP4r4ozovyfMvxu/wC1WPmemQzxXMKy28qSxt0eNgwP4ipK8Fm+DPjHQJmn8Ma2khHTyZntpG/Dp/wCPUweL/it4S41iwmu4E6tc2vmoP+2kf9TS/wBX6VfXBYmE/J+6/uf/AAA9q18UT32qGoa3pulXVpb6leRW0l4xSASnAdhjIz07jrXlWlftBWj7V1vRZoT3ktJA4/75bGPzNcZ8W/Gth4x1bTm0eSR7S2tz/rEKkSM3zDB9lXmrwXC+NqYtUcVBxjr7ys1tp5b2CVeKjeJ9L0V83+BvjBqnhry7HWd+paYMKAzfvYR/sk9R/sn8CK9+0LxDpfiTTVvtGu0uYTw204ZD6MOoP1rzc1yTF5ZL94rx6SW3/Afk/lcuFSM9jSrC1/Vb+G9stI0KOJtRvg7+bOCY7aFMb5WAwW5ZQFyMluoANbtc9Fz8UXz20YY9szHP8h+VeNFXdipOyuSjw3qzDMvjHVg/cQ29mq/gGgY/mTR/wjWpf9Dnrn/fmx/+Rq6Giunkj2Ofnl3Oe/4RrUv+hz1z/vzY/wDyNR/wjWpf9Dnrn/fmx/8Akauhoo5I9g55dznv+Ea1L/oc9c/782P/AMjUf8I1qX/Q565/35sf/kauhoo5I9g55dznv+Ea1L/oc9c/782P/wAjUf8ACNal/wBDnrn/AH5sf/kauhoo5I9g55dznv8AhGtS/wChz1z/AL82P/yNTJfD+uwxl7DxbezTgZVL+1tniY+hEcUbY+jV0lFHJHsHPLuYnh3WJdY06Rry2+yX1rM1tdwBtwSVcZwe6kFWB9GFa1c7oPHi7xYB0+2wHHv9li5/QV0VcrVnY6U7q4UUUUhhRRRQAUUUUAFFFFABRRRQAUUUUAFFFFABRRRQAUUUUAFFFFABRRRQAUUUUAFFFFABRRRQAUUUUAFFFFABRRRQAUUUUAFFFFABRRRQAUUUUAFFFFABRRRQAUUUUAFFFFABRRRQAUUUUAFFFFABRRRQAUUUUAFFFFABRRRQAUUUUAFFFFABRRRQAUUUUAFFFFABRRRQAUUUUAFFFFABRRRQAUUUUAFFFFABRRRQAUUUUAFFFFABRRRQBkar4U0DW8/2rpFncs3WR4hv/wC+hz+tfKPiNbFPE2pJpMXlWKXMiW6Bi2EDEDkknoM19hsu5CuSMjGQeRXHWvwl8FWoGNFWVu7TTSPn8C2P0r67h/PaeW87xDlJOySW3nu15HPVpOdrHy3WloOvar4e1NLzQ7qS3uOhCchx/dZejD2NfVVt4M8M2ePs/h/TUI/i+yoT+ZGa1oLW3tV220EcK+kaBR+le7X41oTi4fV+ZPo2v8mZrDNdTjPAXxBm8Uwrb6rpF3YXwXlxbv5EvuGx8v0P4E1rxf8AJUZP+wMv/o5q6Guei/5KjJ/2Bl/9HNXwNerSq1+ejDkT6XudDTULNnTUUUUzmCuQ+Kupf2P8MtVvvMvo/K8n5tPu/s0wzMg+WTa23rzwcjI75rr65D4q6HqPiT4ZarpOi2/2m+uPJ8qLeqbtsyMeWIA4Unk1MtmVHc4/Rfi5qMt/a+GNF8J32s30ek2lxFJJqSl5N8EUhM0jIAuBIcufvMFGBv45zx38XtX8RfCaz1bw5bXWiCbU2s724iuxuiZEEiIjABiHDAlhtx5ZU5Dc9H8N/A3iLQPibLq2rad9nsW8PWtkJfPjb98kNsrLhWJ4MbjOMcdeRXKR/CXxi/wPl0JtNjj1SPX/ALetq1zHmSLyBHlWDFc5JOCRwp9gc3zWNFy3Pe9DvNRv9Fguda0v+yb593m2f2hZ/KwxA+deDkAHjpnHar9UNDvNRv8ARYLnWtL/ALJvn3ebZ/aFn8rDED514OQAeOmcdqv1qZBRRRTEcxoP/I3+LP8Ar8g/9JYq6Kud0H/kb/Fn/X5B/wCksVdFXHL4mdcfhQUUUVJQUUUUAFFFFABRRRQAUUUUAFFFFABRRRQAUUUUAFFFFABRRRQAUUUUAFFFFABRRRQAUUUUAFFFFABRRRQAUUUUAFFFFABRRRQAUUUUAFFFFABRRRQAUUUUAFFFFABRRRQAUUUUAFFFFABRRRQAUUUUAFFFFABRRRQAUUUUAFFFFABRRRQAUUUUAFFFFABRRRQAUUUUAFFFFABRRRQAUUUUAFFFFABRRRQAUUUUAFFFFABRRRQAUUUUAFFFFABRRRQAVzoYRfFJBIQpuNHYR5/i2TDd+XmL+ddFWXrehw6zHA4mktL20cyWl5DjzIHIwcZ4IIOCp4I/Cqi7O4pK6sbNFcs1v45RtsWs6BIo6NJpUwY/XFxik8nx5/0FfDn/AILJ/wD5Irf2kTn9nI6qiuV8nx5/0FfDn/gsn/8AkijyfHn/AEFfDn/gsn/+SKPaRD2cjqqK5XyfHn/QV8Of+Cyf/wCSKPJ8ef8AQV8Of+Cyf/5Io9pEPZyOqorlfJ8ef9BXw5/4LJ//AJIo8nx5/wBBXw5/4LJ//kij2kQ9nI6qiuV8nx5/0FfDn/gsn/8Akil+xeNLkGK717SbaJhhnsdMcSgf7JkmZQfcqfpR7SIezkL4dYTeJ/Fc8ZDRnUY4gw7sltCG/InH1Bro6paTpVpoumx2VghWJCWJZizOxOWdieSxJJJPUmrtc7d3c6ErKwUUUUhhRRRQAUUUUAFFFFABRRRQAUUUUAFFFFABRRRQAUUUUAFFFFABRRRQAUUUUAFFFFABRRRQAUUUUAFFFFABRRRQAUUUUAFFFFABRRRQAUUUUAFFFFABRRRQAUUUUAFFFFABRRRQAUUUUAFFFFABRRRQAUUUUAFFFFABRRRQAUUUUAFFFFABRRRQAUUUUAFFFFABRRRQAUUUUAFFFFABRRRQAUUUUAFFFFABRRRQAUUUUAFFFFABRRRQAUUUUAFFFFABRRRQAUUUUAFFFFABRRRQAUUUUAFFFFABRRRQAUUUUAFFFFABRRRQAUUUUAFFFFABRRRQAUUUUAFFFFABRRRQAUUUUAFFFFABRRRQAUUUUAFFFFABRRRQAUUUUAFFFFABRRRQAUUUUAFFFFABRRRQAUUUUAFFFFABRRRQAUUUUAFFFFABRRRQAUUUUAFFFFABRRRQAUUUUAFFFFABRRRQAUUUUAFFFFABRRRQAUUUUAFFFFABRRRQAUUUUAFFFFABRRRQAUUUUAFFFFABRRRQAUUUUAFFFFABRRRQAUUUUAFFFFABRRRQAUUUUAFFFFABRRRQAUUUUAFFFFABRRRQAUUUUAFFFFABRRRQAUUUUAFFFFABRRRQAUUUUAFFFFABRRRQAUUUUAFFFFABRRRQAUUUUAFFFFABRRRQAUUUUAFFFFABRRRQAUUUUAFFFFABRRRQAUUUUAFFFFABRRRQAUUUUAFFFFABRRRQAUUUUAFFFFABRRRQAUUUUAFFFFABRRRQAUUUUAFFFFABRRRQAUUUUAFFFFABRRRQAUUUUAFFFFABRRRQAUUUUAFFFFABRRRQAUUUUAFFFFABRRRQAUUUUAFFFFABRRRQAUUUUAFFFFABRRRQAUUUUAFFFFABRRRQAUUUUAFFFFAH/9k=\"\n",
      "  }, \n",
      "  \"form\": {}, \n",
      "  \"headers\": {\n",
      "    \"Accept\": \"*/*\", \n",
      "    \"Accept-Encoding\": \"gzip, deflate\", \n",
      "    \"Content-Length\": \"63825\", \n",
      "    \"Content-Type\": \"multipart/form-data; boundary=80e48a38a09d4cce406da20374323297\", \n",
      "    \"Host\": \"httpbin.org\", \n",
      "    \"User-Agent\": \"python-requests/2.22.0\", \n",
      "    \"X-Amzn-Trace-Id\": \"Root=1-5e582a72-1839991e3c80ee54e50600de\"\n",
      "  }, \n",
      "  \"json\": null, \n",
      "  \"origin\": \"65.207.79.74\", \n",
      "  \"url\": \"http://httpbin.org/post\"\n",
      "}\n",
      "\n"
     ]
    }
   ],
   "source": [
    "import requests\n",
    "\n",
    "url = 'http://httpbin.org/post'  \n",
    "file_list = [  \n",
    "    ('image', ('fi.png', open('json_diagram2.JPG', 'rb'), 'image/png')),\n",
    "    ('image', ('fi2.jpeg', open('logo.png', 'rb'), 'image/png'))\n",
    "]\n",
    "\n",
    "r = requests.post(url, files=file_list)  \n",
    "print(r.text)  "
   ]
  },
  {
   "cell_type": "markdown",
   "metadata": {},
   "source": [
    "![](quota.png)"
   ]
  },
  {
   "cell_type": "markdown",
   "metadata": {},
   "source": [
    "\n",
    "## Generating Access Tokens\n",
    "\n",
    "As discussed, in order to use many APIs, one needs to use OAuth which requires an access token. As such, our first step will be to generate this login information so that we can start making some requests.  \n",
    "\n",
    "With that, lets go grab an access token from an API site and make some API calls!\n",
    "Point your browser over to this [yelp page](https://www.yelp.com/developers/v3/manage_app) and start creating an app in order to obtain and api access token:"
   ]
  },
  {
   "cell_type": "markdown",
   "metadata": {},
   "source": [
    "\n",
    "![](./images/yelp_app.png)"
   ]
  },
  {
   "cell_type": "markdown",
   "metadata": {},
   "source": [
    "You can either sign in to an existing Yelp account, or create a new one, if needed.\n",
    "\n",
    "On the page you see above, simply fill out some sample information such as \"Flatiron Edu API Example\" for the app name, or whatever floats your boat. Afterwards, you should be presented with an API key that you can use to make requests!\n",
    "\n",
    "With that, it's time to start making some api calls!"
   ]
  },
  {
   "cell_type": "code",
   "execution_count": null,
   "metadata": {},
   "outputs": [],
   "source": [
    "import configparser\n",
    "config = configparser.ConfigParser()\n",
    "config.read('./secrets.cfg')\n",
    "config.sections()"
   ]
  },
  {
   "cell_type": "code",
   "execution_count": null,
   "metadata": {},
   "outputs": [],
   "source": [
    "client_id = config['YELP']['ClientId']\n",
    "api_key = config['YELP']['ApiKey']"
   ]
  },
  {
   "cell_type": "markdown",
   "metadata": {},
   "source": [
    "## An Example Request with OAuth <a id=\"oauth_request\"></a>\n",
    "https://www.yelp.com/developers/documentation/v3/get_started\n",
    "\n",
    "In the next lesson, we'll further dissect how to read and translate online documentation like the link here. For now, let's simply look at an example request and dissect it into its consituent parts:"
   ]
  },
  {
   "cell_type": "code",
   "execution_count": null,
   "metadata": {},
   "outputs": [],
   "source": [
    "term = 'Mexican'\n",
    "location = 'Astoria NY'\n",
    "SEARCH_LIMIT = 10\n",
    "\n",
    "url = 'https://api.yelp.com/v3/businesses/search'\n",
    "\n",
    "headers = {\n",
    "        'Authorization': 'Bearer {}'.format(api_key),\n",
    "    }\n",
    "\n",
    "url_params = {\n",
    "                'term': term.replace(' ', '+'),\n",
    "                'location': location.replace(' ', '+'),\n",
    "                'limit': SEARCH_LIMIT\n",
    "            }\n",
    "response = requests.get(url, headers=headers, params=url_params)\n",
    "print(response)\n",
    "print(type(response.text))\n",
    "print(response.text[:1000])"
   ]
  },
  {
   "cell_type": "markdown",
   "metadata": {},
   "source": [
    "## Breaking Down the Request\n",
    "\n",
    "As you can see, there are three main parts to our request.  \n",
    "  \n",
    "They are:\n",
    "* The url\n",
    "* The header\n",
    "* The parameters\n",
    "  \n",
    "The url is fairly straightforward and is simply the base url as described in the documentation (again more details in the upcoming lesson).\n",
    "\n",
    "The header is a dictionary of key-value pairs. In this case, we are using a fairly standard header used by many APIs. It has a strict form where 'Authorization' is the key and 'Bearer YourApiKey' is the value.\n",
    "\n",
    "The parameters are the filters which we wish to pass into the query. These will be embedded into the url when the request is made to the api. Similar to the header, they form key-value pairs. Valid key parameters by which to structure your queries, are described in the API documentation which we'll look at further shortly. A final important note however, is the need to replace spaces with \"+\". This is standard to many requests as URLs cannot contain spaces. (Note that the header itself isn't directly embedded into the url itself and as such, the space between 'Bearer' and YourApiKey is valid.)"
   ]
  },
  {
   "cell_type": "markdown",
   "metadata": {},
   "source": [
    "\n",
    "## The Response\n",
    "\n",
    "As before, our response object has both a status code, as well as the data itself. With that, let's start with a little data exploration!"
   ]
  },
  {
   "cell_type": "code",
   "execution_count": null,
   "metadata": {},
   "outputs": [],
   "source": [
    "response.json().keys()\n"
   ]
  },
  {
   "cell_type": "markdown",
   "metadata": {},
   "source": [
    "Now let's go a bit further and start to preview what's stored in each of the values for these keys.\n"
   ]
  },
  {
   "cell_type": "code",
   "execution_count": null,
   "metadata": {},
   "outputs": [],
   "source": [
    "for key in response.json().keys():\n",
    "    print(key)\n",
    "    value = response.json()[key] #Use standard dictionary formatting\n",
    "    print(type(value)) #What type is it?\n",
    "    print('\\n\\n') #Seperate out data"
   ]
  },
  {
   "cell_type": "markdown",
   "metadata": {},
   "source": [
    "Let's continue to preview these further to get a little better acquainted.\n"
   ]
  },
  {
   "cell_type": "code",
   "execution_count": null,
   "metadata": {
    "scrolled": true
   },
   "outputs": [],
   "source": [
    "yelp_data =response.json()\n",
    "yelp_data['businesses'][:2]\n",
    "\n"
   ]
  },
  {
   "cell_type": "markdown",
   "metadata": {},
   "source": [
    "As you can see, we're primarily interested in the 'bussinesses' entry. \n"
   ]
  },
  {
   "cell_type": "markdown",
   "metadata": {},
   "source": [
    "## Summary <a id=\"sum\"></a>\n",
    "\n",
    "Congratulations! We've covered a lot here! We took some of your previous knowledge with HTTP requests and OAuth in order to leverage an enterprise API! Then we made some requests to retrieve information that came back as a json format. We then transformed this data into a dataframe using the Pandas package. In the next lab, we'll break down how to read API documentation and then put it all together to make a nifty map!"
   ]
  }
 ],
 "metadata": {
  "kernelspec": {
   "display_name": "Python 3",
   "language": "python",
   "name": "python3"
  },
  "language_info": {
   "codemirror_mode": {
    "name": "ipython",
    "version": 3
   },
   "file_extension": ".py",
   "mimetype": "text/x-python",
   "name": "python",
   "nbconvert_exporter": "python",
   "pygments_lexer": "ipython3",
   "version": "3.7.4"
  }
 },
 "nbformat": 4,
 "nbformat_minor": 2
}
