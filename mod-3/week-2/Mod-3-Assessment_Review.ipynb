{
 "cells": [
  {
   "cell_type": "markdown",
   "metadata": {},
   "source": [
    "# Section 22: Linear Algebra\n",
    "\n",
    "- preliminary\n",
    "\n",
    "- scalar - vector - matrices\n",
    "\n",
    "- np.dot vs X*y vs X.dot(y)\n",
    "\n",
    "- Can you understand the regression problem as a system of linear equations?\n",
    "\n",
    "- RSS = |y -X.dot(w)|"
   ]
  },
  {
   "cell_type": "markdown",
   "metadata": {},
   "source": [
    "# Section 23: Cost Functions and Gradient Descent\n",
    "\n",
    "- We have some preliminaries like: derivatives, rules of derivatives etc. They are good to know but you will not be assessed from this kind of material.\n",
    "\n",
    "- In terms of cost functions make sure that you understand the cost functions in the setting of linear regression. More specifically, RSS (residual sum of squares), MSE(mean squared error) MRSE(mean root squared error),  MAE (mean absolute error).\n",
    "\n",
    "- Gradient descent is one of the most efficient optimization algorithm in ML. So make sure that you understand the details of this algorithm well. Especially, understand, what is learning rate and what is the role of it in gradient descent algorithm. What might happen if don't choose learning rate appropriately? What is step size and how is it related to learning rate? Make sure that you understand the gradient descent in the simple linear regression setting. \n",
    "\n",
    "- Also understand the weaknesses of gradient descent algorithm. Vanishing and exploding gradient descent problems. For these you don't have to understand all the technical details but you should be aware of this kind of challenges of GD."
   ]
  },
  {
   "cell_type": "markdown",
   "metadata": {},
   "source": [
    "Gradient Descent\n",
    "\n",
    "$$ \\beta_i := \\beta_{i} -\\alpha \\times m$$"
   ]
  },
  {
   "cell_type": "markdown",
   "metadata": {},
   "source": [
    "# . Section 24: Regularization\n",
    "\n",
    "- What is the bias of a model?\n",
    "\n",
    "- What is the variance of a model?\n",
    "\n",
    "- Why there is a trade-off between variance and bias?\n",
    "\n",
    "- What is training error, test error?\n",
    "\n",
    "- Why regularization required?\n",
    "\n",
    "- What is norm of a vector?\n",
    "\n",
    "- What is L1 norm? Given a vector X = [1, -7, 5] can you find its L1 norm.\n",
    "\n",
    "- What is L2 norm? Given a vector X = [1, -7, 5] can you find its L2 norm.\n",
    "\n",
    "- What is regularization technique?\n",
    "\n",
    "- What are the cost functions in ridge and lasso algorithms?\n",
    "\n",
    "- How Ridge and Lasso different from linear regression?\n",
    "\n",
    "- How alpha parameter works for regularization?\n",
    "\n",
    "- Why would be prefer Lasso or Ridge vs a linear regression model?\n",
    "\n",
    "- How Ridge and Lasso different from each other?\n",
    "\n",
    "- When you would choose Ridge vs Lasso?\n",
    "\n",
    "\n"
   ]
  },
  {
   "cell_type": "markdown",
   "metadata": {},
   "source": [
    "# Section 25 - Logistic Regression\n",
    "\n",
    "- What is classification problem?\n",
    "\n",
    "- How classification problem is different from regression problem?\n",
    "\n",
    "- What is the model in logistic regression?\n",
    "\n",
    "- What is the cost function in logistic regression model?\n",
    "\n",
    "- How do you interpret the coefficients in logistic regression? (tell in simple setting)\n",
    "\n",
    "- How would you evaluate the performance of a classification algorithm?\n",
    "    - Confusion matrices\n",
    "    - Accuracy\n",
    "    - Recall \n",
    "    - Precision\n",
    "    - F1 \n",
    "- Given a confusion matrix can you find recall, precision and F1 scores?\n",
    "\n",
    "- Given a fitted model can you use sklearn.metrics for  recal, precision and F1 scores.\n",
    "\n",
    "- How do we create a Roc curve? (Mention plot for different thresholds)\n",
    "\n",
    "- What would be the 'perfect' model Roc curve?\n",
    "\n",
    "- What is the use of Roc curves and what is the relevant metric? (comparison of different models - AUC score)\n",
    "\n",
    "- what is dummy model in classification problem? Why is it useful?\n",
    "\n",
    "- What is imbalance problem in classification problems? (Significant ratio differences between classes)\n",
    "\n",
    "- How you would address imbalance problem? (Oversampling Tech (Smote + Adasyn), undersampling tehniques.)\n",
    "\n",
    "- Visualize, read and use a confusion matrix."
   ]
  },
  {
   "cell_type": "markdown",
   "metadata": {},
   "source": [
    "# Section 27: KNN\n",
    "\n",
    "- How KNN works\n",
    "\n",
    "- What is the weakness of KNN\n",
    "\n",
    "- What happens if you choose k-very small or very large?\n",
    "\n",
    "- What is the curse of dimensionality? How is it related with KNN?\n"
   ]
  },
  {
   "cell_type": "markdown",
   "metadata": {},
   "source": [
    "# Naive Bayes\n",
    "\n",
    "- Why is it called Naive?\n",
    "\n",
    "- How do you use the Bayes Theorem is these algoritms?\n",
    "\n",
    "- Where and why you would use these algorithms (Fast and High dimension and Text-analysis)"
   ]
  },
  {
   "cell_type": "markdown",
   "metadata": {},
   "source": [
    "# Decision Trees"
   ]
  },
  {
   "cell_type": "markdown",
   "metadata": {},
   "source": [
    " - Advantages of Decision trees:\n",
    "     - You can use for both regression and classification\n",
    "     - Interprettable\n",
    "     - Fast\n",
    "     \n",
    "- Cons of trees:\n",
    "    Prone to overfit\n",
    "    \n",
    "- Use of sklearn for Decision trees. \n",
    "\n",
    "- Know how to plot a decision tree with sklearn.\n",
    "\n",
    "- How to prevent a tree to grow too big: (max_depth, max_leaf_node, etc.) (Pruning)\n",
    "\n",
    "- How machine decides the splittings  -- in regression finds a split that makes the RSS minimum. In classification, splittings  are chose by prutiy.(entropy and gini)"
   ]
  },
  {
   "cell_type": "markdown",
   "metadata": {},
   "source": [
    "# Misc\n",
    "\n",
    "- Pipeline\n",
    "\n",
    "- Cross validation\n",
    "\n",
    "- Train test split\n",
    "\n",
    "- Overfit vs underfit.\n",
    "\n",
    "- sklearn + statsmodel applications\n"
   ]
  }
 ],
 "metadata": {
  "kernelspec": {
   "display_name": "Python 3",
   "language": "python",
   "name": "python3"
  },
  "language_info": {
   "codemirror_mode": {
    "name": "ipython",
    "version": 3
   },
   "file_extension": ".py",
   "mimetype": "text/x-python",
   "name": "python",
   "nbconvert_exporter": "python",
   "pygments_lexer": "ipython3",
   "version": "3.7.3"
  },
  "toc": {
   "base_numbering": 1,
   "nav_menu": {},
   "number_sections": true,
   "sideBar": true,
   "skip_h1_title": false,
   "title_cell": "Table of Contents",
   "title_sidebar": "Contents",
   "toc_cell": false,
   "toc_position": {},
   "toc_section_display": true,
   "toc_window_display": false
  }
 },
 "nbformat": 4,
 "nbformat_minor": 4
}
