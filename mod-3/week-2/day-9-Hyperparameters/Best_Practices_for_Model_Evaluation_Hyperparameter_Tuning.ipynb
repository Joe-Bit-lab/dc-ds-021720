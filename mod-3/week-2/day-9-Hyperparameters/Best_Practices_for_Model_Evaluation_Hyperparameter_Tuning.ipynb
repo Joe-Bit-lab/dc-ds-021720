{
 "cells": [
  {
   "cell_type": "markdown",
   "metadata": {},
   "source": [
    "# Objectives\n",
    "\n",
    "- Assess the performance of machine learning models\n",
    "\n",
    "- Diagnose the common problems in machine learning algorithms \n",
    "\n",
    "- Evaluate the predictive models using the different performance metrics\n"
   ]
  },
  {
   "cell_type": "code",
   "execution_count": 67,
   "metadata": {},
   "outputs": [],
   "source": [
    "import pandas as pd"
   ]
  },
  {
   "cell_type": "code",
   "execution_count": 70,
   "metadata": {},
   "outputs": [],
   "source": [
    "df = pd.read_csv(\n",
    "        'http://archive.ics.uci.edu/ml/'\n",
    "        'machine-learning-databases'\n",
    "        '/breast-cancer-wisconsin/wdbc.data',\n",
    "        header=None)\n"
   ]
  },
  {
   "cell_type": "code",
   "execution_count": 71,
   "metadata": {},
   "outputs": [
    {
     "name": "stdout",
     "output_type": "stream",
     "text": [
      "(569, 32)\n"
     ]
    },
    {
     "data": {
      "text/html": [
       "<div>\n",
       "<style scoped>\n",
       "    .dataframe tbody tr th:only-of-type {\n",
       "        vertical-align: middle;\n",
       "    }\n",
       "\n",
       "    .dataframe tbody tr th {\n",
       "        vertical-align: top;\n",
       "    }\n",
       "\n",
       "    .dataframe thead th {\n",
       "        text-align: right;\n",
       "    }\n",
       "</style>\n",
       "<table border=\"1\" class=\"dataframe\">\n",
       "  <thead>\n",
       "    <tr style=\"text-align: right;\">\n",
       "      <th></th>\n",
       "      <th>0</th>\n",
       "      <th>1</th>\n",
       "      <th>2</th>\n",
       "      <th>3</th>\n",
       "      <th>4</th>\n",
       "      <th>5</th>\n",
       "      <th>6</th>\n",
       "      <th>7</th>\n",
       "      <th>8</th>\n",
       "      <th>9</th>\n",
       "      <th>...</th>\n",
       "      <th>22</th>\n",
       "      <th>23</th>\n",
       "      <th>24</th>\n",
       "      <th>25</th>\n",
       "      <th>26</th>\n",
       "      <th>27</th>\n",
       "      <th>28</th>\n",
       "      <th>29</th>\n",
       "      <th>30</th>\n",
       "      <th>31</th>\n",
       "    </tr>\n",
       "  </thead>\n",
       "  <tbody>\n",
       "    <tr>\n",
       "      <th>0</th>\n",
       "      <td>842302</td>\n",
       "      <td>M</td>\n",
       "      <td>17.99</td>\n",
       "      <td>10.38</td>\n",
       "      <td>122.8</td>\n",
       "      <td>1001.0</td>\n",
       "      <td>0.11840</td>\n",
       "      <td>0.27760</td>\n",
       "      <td>0.3001</td>\n",
       "      <td>0.14710</td>\n",
       "      <td>...</td>\n",
       "      <td>25.38</td>\n",
       "      <td>17.33</td>\n",
       "      <td>184.6</td>\n",
       "      <td>2019.0</td>\n",
       "      <td>0.1622</td>\n",
       "      <td>0.6656</td>\n",
       "      <td>0.7119</td>\n",
       "      <td>0.2654</td>\n",
       "      <td>0.4601</td>\n",
       "      <td>0.11890</td>\n",
       "    </tr>\n",
       "    <tr>\n",
       "      <th>1</th>\n",
       "      <td>842517</td>\n",
       "      <td>M</td>\n",
       "      <td>20.57</td>\n",
       "      <td>17.77</td>\n",
       "      <td>132.9</td>\n",
       "      <td>1326.0</td>\n",
       "      <td>0.08474</td>\n",
       "      <td>0.07864</td>\n",
       "      <td>0.0869</td>\n",
       "      <td>0.07017</td>\n",
       "      <td>...</td>\n",
       "      <td>24.99</td>\n",
       "      <td>23.41</td>\n",
       "      <td>158.8</td>\n",
       "      <td>1956.0</td>\n",
       "      <td>0.1238</td>\n",
       "      <td>0.1866</td>\n",
       "      <td>0.2416</td>\n",
       "      <td>0.1860</td>\n",
       "      <td>0.2750</td>\n",
       "      <td>0.08902</td>\n",
       "    </tr>\n",
       "    <tr>\n",
       "      <th>2</th>\n",
       "      <td>84300903</td>\n",
       "      <td>M</td>\n",
       "      <td>19.69</td>\n",
       "      <td>21.25</td>\n",
       "      <td>130.0</td>\n",
       "      <td>1203.0</td>\n",
       "      <td>0.10960</td>\n",
       "      <td>0.15990</td>\n",
       "      <td>0.1974</td>\n",
       "      <td>0.12790</td>\n",
       "      <td>...</td>\n",
       "      <td>23.57</td>\n",
       "      <td>25.53</td>\n",
       "      <td>152.5</td>\n",
       "      <td>1709.0</td>\n",
       "      <td>0.1444</td>\n",
       "      <td>0.4245</td>\n",
       "      <td>0.4504</td>\n",
       "      <td>0.2430</td>\n",
       "      <td>0.3613</td>\n",
       "      <td>0.08758</td>\n",
       "    </tr>\n",
       "  </tbody>\n",
       "</table>\n",
       "<p>3 rows × 32 columns</p>\n",
       "</div>"
      ],
      "text/plain": [
       "         0  1      2      3      4       5        6        7       8   \\\n",
       "0    842302  M  17.99  10.38  122.8  1001.0  0.11840  0.27760  0.3001   \n",
       "1    842517  M  20.57  17.77  132.9  1326.0  0.08474  0.07864  0.0869   \n",
       "2  84300903  M  19.69  21.25  130.0  1203.0  0.10960  0.15990  0.1974   \n",
       "\n",
       "        9   ...     22     23     24      25      26      27      28      29  \\\n",
       "0  0.14710  ...  25.38  17.33  184.6  2019.0  0.1622  0.6656  0.7119  0.2654   \n",
       "1  0.07017  ...  24.99  23.41  158.8  1956.0  0.1238  0.1866  0.2416  0.1860   \n",
       "2  0.12790  ...  23.57  25.53  152.5  1709.0  0.1444  0.4245  0.4504  0.2430   \n",
       "\n",
       "       30       31  \n",
       "0  0.4601  0.11890  \n",
       "1  0.2750  0.08902  \n",
       "2  0.3613  0.08758  \n",
       "\n",
       "[3 rows x 32 columns]"
      ]
     },
     "execution_count": 71,
     "metadata": {},
     "output_type": "execute_result"
    }
   ],
   "source": [
    "print(df.shape)\n",
    "df.head(3)"
   ]
  },
  {
   "cell_type": "code",
   "execution_count": 72,
   "metadata": {},
   "outputs": [],
   "source": [
    "target = df.loc[:, 1]"
   ]
  },
  {
   "cell_type": "code",
   "execution_count": 76,
   "metadata": {},
   "outputs": [],
   "source": [
    "from sklearn.preprocessing import LabelEncoder"
   ]
  },
  {
   "cell_type": "markdown",
   "metadata": {},
   "source": [
    "Take the independent variables as X and the column 1 as dependent variable. Use LabelEncoder for converting labels into integers."
   ]
  },
  {
   "cell_type": "code",
   "execution_count": 77,
   "metadata": {},
   "outputs": [
    {
     "name": "stdout",
     "output_type": "stream",
     "text": [
      " Actual y labels: ['M' 'M' 'M' 'M' 'M']\n",
      " Transformed y values: [1 1 1 1 1]\n",
      " All labels available in the data ['B' 'M']\n"
     ]
    }
   ],
   "source": [
    "X = df.loc[:,2:].values\n",
    "y = df.loc[:, 1].values\n",
    "le = LabelEncoder() # instantiate LabelEncoder \n",
    "y = le.fit_transform(y) # Fit le object and then transform labels to integers \n",
    "print(' Actual y labels: {}\\n'.format(df.loc[:, 1].values[:5]),\n",
    "      'Transformed y values: {}\\n'.format(y[:5]),\n",
    "      'All labels available in the data {}'.format(le.classes_))"
   ]
  },
  {
   "cell_type": "code",
   "execution_count": 78,
   "metadata": {},
   "outputs": [
    {
     "name": "stdout",
     "output_type": "stream",
     "text": [
      "(array([0, 1]), array([357, 212]))\n",
      "(array(['B', 'M'], dtype=object), array([357, 212]))\n"
     ]
    }
   ],
   "source": [
    "import numpy as np\n",
    "print(np.unique(y, return_counts = True)) # number of 1's and 0's after transformation\n",
    "print(np.unique(df.loc[:, 1], return_counts = True)) # Counts for each label in the original data"
   ]
  },
  {
   "cell_type": "code",
   "execution_count": 81,
   "metadata": {},
   "outputs": [
    {
     "data": {
      "text/plain": [
       "0.37258347978910367"
      ]
     },
     "execution_count": 81,
     "metadata": {},
     "output_type": "execute_result"
    }
   ],
   "source": [
    "y.mean()"
   ]
  },
  {
   "cell_type": "markdown",
   "metadata": {},
   "source": [
    "__Train test split__"
   ]
  },
  {
   "cell_type": "code",
   "execution_count": 82,
   "metadata": {},
   "outputs": [],
   "source": [
    "from sklearn.model_selection import train_test_split"
   ]
  },
  {
   "cell_type": "code",
   "execution_count": 83,
   "metadata": {},
   "outputs": [],
   "source": [
    "X_train, X_test, y_train, y_test = train_test_split(X, y, stratify = y, random_state = 1)"
   ]
  },
  {
   "cell_type": "markdown",
   "metadata": {},
   "source": [
    "__Pipelines: Transformers and Estimators__ "
   ]
  },
  {
   "cell_type": "code",
   "execution_count": 9,
   "metadata": {},
   "outputs": [],
   "source": [
    "# preprocessing tools\n",
    "from sklearn.preprocessing import StandardScaler # for scaling the features\n",
    "from sklearn.preprocessing import PolynomialFeatures # for checking interaction effect between features\n",
    "\n",
    "## models\n",
    "from sklearn.linear_model import LogisticRegression\n",
    "from sklearn.neighbors import KNeighborsClassifier\n",
    "from sklearn.tree import DecisionTreeClassifier\n",
    "    \n",
    "# for pipelines\n",
    "from sklearn.pipeline import make_pipeline"
   ]
  },
  {
   "cell_type": "code",
   "execution_count": 10,
   "metadata": {},
   "outputs": [
    {
     "data": {
      "text/plain": [
       "0.9976525821596244"
      ]
     },
     "execution_count": 10,
     "metadata": {},
     "output_type": "execute_result"
    }
   ],
   "source": [
    "## Let's start with Logistic Regression'\n",
    "\n",
    "log_pipe = make_pipeline(StandardScaler(), # if we want to use regularization we need scaler \n",
    "                         PolynomialFeatures(degree=2, interaction_only= True), # we will only check the interactions, \n",
    "                         LogisticRegression(random_state = 1, solver = 'lbfgs'))\n",
    "\n",
    "## Without further ado check the baseline\n",
    "\n",
    "log_pipe.fit(X_train, y_train) # pipe behaves like sklearn estimator.\n",
    "\n",
    "y_pred = log_pipe.predict(X_train) # predictions of vanilla log_reg model.\n",
    "\n",
    "log_pipe.score(X_train, y_train) # score looks pretty impressive can we expect similar performance on the test?"
   ]
  },
  {
   "cell_type": "markdown",
   "metadata": {},
   "source": [
    "__An overview look for the pipelines__\n",
    "\n",
    "<img src='img/pipelines.png' width = 450/>\n",
    "\n",
    "[Source: Python Machine Learning](https://www.amazon.com/dp/1789955750?tag=duckduckgo-ffab-20&linkCode=osi&th=1&psc=1)"
   ]
  },
  {
   "cell_type": "markdown",
   "metadata": {},
   "source": [
    "__Cross validation with pipelines__"
   ]
  },
  {
   "cell_type": "markdown",
   "metadata": {},
   "source": [
    "__Holdout Cross_Validation__\n",
    "<img src= 'img/cross_validation.png' width = 450/>"
   ]
  },
  {
   "cell_type": "markdown",
   "metadata": {},
   "source": [
    "__Kfold Cross_Validation__\n",
    "\n",
    "<img src = 'img/kfold_cross.png' width= 450/>"
   ]
  },
  {
   "cell_type": "markdown",
   "metadata": {},
   "source": [
    "__Understanding Over or Underfitting__"
   ]
  },
  {
   "cell_type": "code",
   "execution_count": 85,
   "metadata": {},
   "outputs": [],
   "source": [
    "import numpy as np"
   ]
  },
  {
   "cell_type": "code",
   "execution_count": 87,
   "metadata": {},
   "outputs": [
    {
     "data": {
      "text/plain": [
       "array([  0.001     ,   0.01778279,   0.31622777,   5.62341325,\n",
       "       100.        ])"
      ]
     },
     "execution_count": 87,
     "metadata": {},
     "output_type": "execute_result"
    }
   ],
   "source": [
    "from sklearn.model_selection import validation_curve\n",
    "\n",
    "parameters = [0.01, 0.1, 1, 10, 100] # we will be checking the regularization parameter in Log_reg\n",
    "\n",
    "# we could do the same thing with\n",
    "\n",
    "parameters = np.logspace(-3,2,5)\n",
    "\n",
    "np.set_printoptions(suppress= True)\n",
    "\n",
    "parameters"
   ]
  },
  {
   "cell_type": "markdown",
   "metadata": {},
   "source": [
    "Now let's see how the train and validation scores are changing as we change C - Values:"
   ]
  },
  {
   "cell_type": "code",
   "execution_count": 88,
   "metadata": {},
   "outputs": [
    {
     "name": "stderr",
     "output_type": "stream",
     "text": [
      "[Parallel(n_jobs=-1)]: Using backend LokyBackend with 8 concurrent workers.\n",
      "[Parallel(n_jobs=-1)]: Done  50 out of  50 | elapsed:    1.6s finished\n"
     ]
    }
   ],
   "source": [
    "train_scores, test_scores = validation_curve(estimator = log_pipe, \n",
    "                                             X = X_train,\n",
    "                                             y= y_train,\n",
    "                                             param_name = 'logisticregression__C', ## this is the way for accessing a parameter of a \n",
    "                                                                                                    #transformer within pipeline\n",
    "                                             param_range = parameters, \n",
    "                                             cv = 10, ## note that this can take too long if your data is big\n",
    "                                             verbose = 1, # algorithms will update us about the progress\n",
    "                                             n_jobs = -1 # we will be using the other processing units in parallel\n",
    "                                            )\n",
    "                                             "
   ]
  },
  {
   "cell_type": "markdown",
   "metadata": {},
   "source": [
    "Now we can simply plot the results"
   ]
  },
  {
   "cell_type": "code",
   "execution_count": 89,
   "metadata": {},
   "outputs": [
    {
     "data": {
      "image/png": "[encoded data removed]",
      "text/plain": [
       "<Figure size 432x288 with 1 Axes>"
      ]
     },
     "metadata": {
      "needs_background": "light"
     },
     "output_type": "display_data"
    }
   ],
   "source": [
    "import matplotlib.pyplot as plt\n",
    "%matplotlib inline\n",
    "plt.plot(parameters, train_scores.mean(axis= 1), label = 'train')\n",
    "plt.xscale('log')\n",
    "plt.plot(parameters, test_scores.mean(axis = 1), label = 'test')\n",
    "plt.legend()\n",
    "plt.tight_layout()\n"
   ]
  },
  {
   "cell_type": "markdown",
   "metadata": {},
   "source": [
    "but we can make it a little bit fancier:"
   ]
  },
  {
   "cell_type": "code",
   "execution_count": 15,
   "metadata": {},
   "outputs": [
    {
     "name": "stderr",
     "output_type": "stream",
     "text": [
      "//anaconda3/lib/python3.7/site-packages/sklearn/utils/deprecation.py:144: FutureWarning: The sklearn.metrics.classification module is  deprecated in version 0.22 and will be removed in version 0.24. The corresponding classes / functions should instead be imported from sklearn.metrics. Anything that cannot be imported from sklearn.metrics is now part of the private API.\n",
      "  warnings.warn(message, FutureWarning)\n",
      "//anaconda3/lib/python3.7/site-packages/sklearn/base.py:197: FutureWarning: From version 0.24, get_params will raise an AttributeError if a parameter cannot be retrieved as an instance attribute. Previously it would return None.\n",
      "  FutureWarning)\n"
     ]
    },
    {
     "data": {
      "image/png": "[encoded data removed]",
      "text/plain": [
       "<Figure size 576x396 with 1 Axes>"
      ]
     },
     "metadata": {},
     "output_type": "display_data"
    },
    {
     "data": {
      "text/plain": [
       "<matplotlib.axes._subplots.AxesSubplot at 0x1a1e78c630>"
      ]
     },
     "execution_count": 15,
     "metadata": {},
     "output_type": "execute_result"
    }
   ],
   "source": [
    "\n",
    "from yellowbrick.model_selection import ValidationCurve\n",
    "\n",
    "viz = ValidationCurve(model = log_pipe, \n",
    "                                 X = X_train,\n",
    "                                 y= y_train,\n",
    "                                 param_name = 'logisticregression__C', ## this is the way for accessing a parameter of a \n",
    "                                                                                        #transformer within pipeline\n",
    "                                 param_range = parameters, \n",
    "                                 cv = 10, ## note that this can take too long if your data is big\n",
    "                                 verbose = 1, # algorithms will update us about the progress\n",
    "                                 n_jobs = -1, # we will be using the other processing units in parallel\n",
    "                                 logx = True \n",
    "                                )\n",
    "                                             \n",
    "\n",
    "# Fit and show the visualizer\n",
    "viz.fit(X, y)\n",
    "viz.show()"
   ]
  },
  {
   "cell_type": "markdown",
   "metadata": {},
   "source": [
    "We can also try StratifiedKfold validation"
   ]
  },
  {
   "cell_type": "code",
   "execution_count": 16,
   "metadata": {},
   "outputs": [
    {
     "name": "stderr",
     "output_type": "stream",
     "text": [
      "//anaconda3/lib/python3.7/site-packages/sklearn/base.py:197: FutureWarning: From version 0.24, get_params will raise an AttributeError if a parameter cannot be retrieved as an instance attribute. Previously it would return None.\n",
      "  FutureWarning)\n"
     ]
    },
    {
     "data": {
      "image/png": "[encoded data removed]",
      "text/plain": [
       "<Figure size 576x396 with 1 Axes>"
      ]
     },
     "metadata": {},
     "output_type": "display_data"
    },
    {
     "data": {
      "text/plain": [
       "<matplotlib.axes._subplots.AxesSubplot at 0x1a1eaa1160>"
      ]
     },
     "execution_count": 16,
     "metadata": {},
     "output_type": "execute_result"
    }
   ],
   "source": [
    "from sklearn.model_selection import StratifiedKFold\n",
    "\n",
    "cv = StratifiedKFold(n_splits = 10, shuffle = True, random_state=1 )\n",
    "\n",
    "\n",
    "viz = ValidationCurve(model = log_pipe, \n",
    "                                 X = X_train,\n",
    "                                 y= y_train,\n",
    "                                 param_name = 'logisticregression__C', ## this is the way for accessing a parameter of a \n",
    "                                                                                        #transformer within pipeline\n",
    "                                 param_range = parameters, \n",
    "                                 cv = cv, ## note that this can take too long if your data is big\n",
    "                                 verbose = 1, # algorithms will update us about the progress\n",
    "                                 n_jobs = -1, # we will be using the other processing units in parallel\n",
    "                                 logx = True \n",
    "                                )\n",
    "                                             \n",
    "\n",
    "# Fit and show the visualizer\n",
    "viz.fit(X, y)\n",
    "viz.show()"
   ]
  },
  {
   "cell_type": "markdown",
   "metadata": {},
   "source": [
    "__Fine-Tuning ML models via gridsearch__"
   ]
  },
  {
   "cell_type": "markdown",
   "metadata": {},
   "source": [
    "GridSearch approach is very straight forward.\n",
    "\n",
    "__Step1:__ Decide an estimator to use.\n",
    "\n",
    "Suppose we would like to use a decision_tree classifier.\n",
    "\n",
    "__Step2:__ Create a parameter grid\n",
    "\n",
    "Suppose for the decision trees we would like to find best values for: \n",
    "\n",
    "max_depth = [2, 3, 4, 5, 6, 7, 8, 9, 10, 11]\n",
    "\n",
    "and \n",
    "\n",
    "max_features = ['auto', 'sqrt', 'log2', 25]\n",
    "\n",
    "param_grid = {'max_depth': [2, 3, 4, 5, 6, 7, 8, 9, 10, 11]\n",
    "              'max_features': ['auto', 'sqrt', 'log2', 25]\n",
    "              }\n",
    "              \n",
    "__Step3:__ Instantiate GridSearchCV with these parameters.\n",
    "\n",
    "__Step4:__ Fit gridsearchcv object.\n"
   ]
  },
  {
   "cell_type": "code",
   "execution_count": 17,
   "metadata": {},
   "outputs": [],
   "source": [
    "from sklearn.model_selection import GridSearchCV"
   ]
  },
  {
   "cell_type": "code",
   "execution_count": 111,
   "metadata": {},
   "outputs": [
    {
     "name": "stdout",
     "output_type": "stream",
     "text": [
      "Fitting 10 folds for each of 50 candidates, totalling 500 fits\n"
     ]
    },
    {
     "name": "stderr",
     "output_type": "stream",
     "text": [
      "[Parallel(n_jobs=-1)]: Using backend LokyBackend with 8 concurrent workers.\n",
      "[Parallel(n_jobs=-1)]: Done  56 tasks      | elapsed:    0.1s\n",
      "[Parallel(n_jobs=-1)]: Done 500 out of 500 | elapsed:    0.6s finished\n"
     ]
    }
   ],
   "source": [
    "tree_clf = DecisionTreeClassifier(min_samples_leaf= 10)\n",
    "\n",
    "max_depth_params = range(2, 12) ## values between 2 to 11 total: 10 values\n",
    "\n",
    "max_features_param = [None, 'auto', 'sqrt', 'log2', 25] ## total of 5 values\n",
    "\n",
    "param_grid = {'max_depth': max_depth_params, 'max_features': max_features_param}\n",
    "\n",
    "gridsearch = GridSearchCV(estimator = tree_clf, \n",
    "                          param_grid = param_grid,\n",
    "                          n_jobs = -1, ## paralllel computation\n",
    "                          verbose = 1, ## gives feedback\n",
    "                          cv = 10,     ## cross-validate\n",
    "                          scoring = 'roc_auc',  ## you can use multiple scoring too\n",
    "                          return_train_score= True)\n",
    "\n",
    "gridsearch = gridsearch.fit(X_train, y_train)"
   ]
  },
  {
   "cell_type": "code",
   "execution_count": 112,
   "metadata": {},
   "outputs": [
    {
     "name": "stdout",
     "output_type": "stream",
     "text": [
      "0.9828970797720797\n",
      "DecisionTreeClassifier(ccp_alpha=0.0, class_weight=None, criterion='gini',\n",
      "                       max_depth=7, max_features='auto', max_leaf_nodes=None,\n",
      "                       min_impurity_decrease=0.0, min_impurity_split=None,\n",
      "                       min_samples_leaf=10, min_samples_split=2,\n",
      "                       min_weight_fraction_leaf=0.0, presort='deprecated',\n",
      "                       random_state=None, splitter='best')\n"
     ]
    }
   ],
   "source": [
    "print(gridsearch.best_score_) # note if you use multiple this doesn't work\n",
    "print(gridsearch.best_estimator_) # doesn't work for multiple scoring"
   ]
  },
  {
   "cell_type": "code",
   "execution_count": 113,
   "metadata": {},
   "outputs": [],
   "source": [
    "cv_results_df = pd.DataFrame(gridsearch.cv_results_)"
   ]
  },
  {
   "cell_type": "code",
   "execution_count": 114,
   "metadata": {},
   "outputs": [],
   "source": [
    "colums = ['params', 'mean_test_score', \n",
    "          'std_test_score', 'rank_test_score',\n",
    "          'mean_train_score', 'std_train_score']"
   ]
  },
  {
   "cell_type": "code",
   "execution_count": 115,
   "metadata": {},
   "outputs": [
    {
     "data": {
      "text/plain": [
       "0.9577464788732394"
      ]
     },
     "execution_count": 115,
     "metadata": {},
     "output_type": "execute_result"
    }
   ],
   "source": [
    "# Recall that gridsearch.best_estimator is an decisiontreeclassifier object\n",
    "# so score returns 'accuracy' by default\n",
    "gridsearch.best_estimator_.score(X_train, y_train)"
   ]
  },
  {
   "cell_type": "code",
   "execution_count": 116,
   "metadata": {},
   "outputs": [
    {
     "data": {
      "text/html": [
       "<div>\n",
       "<style scoped>\n",
       "    .dataframe tbody tr th:only-of-type {\n",
       "        vertical-align: middle;\n",
       "    }\n",
       "\n",
       "    .dataframe tbody tr th {\n",
       "        vertical-align: top;\n",
       "    }\n",
       "\n",
       "    .dataframe thead th {\n",
       "        text-align: right;\n",
       "    }\n",
       "</style>\n",
       "<table border=\"1\" class=\"dataframe\">\n",
       "  <thead>\n",
       "    <tr style=\"text-align: right;\">\n",
       "      <th></th>\n",
       "      <th>params</th>\n",
       "      <th>mean_test_score</th>\n",
       "      <th>std_test_score</th>\n",
       "      <th>rank_test_score</th>\n",
       "      <th>mean_train_score</th>\n",
       "      <th>std_train_score</th>\n",
       "    </tr>\n",
       "  </thead>\n",
       "  <tbody>\n",
       "    <tr>\n",
       "      <th>26</th>\n",
       "      <td>{'max_depth': 7, 'max_features': 'auto'}</td>\n",
       "      <td>0.982897</td>\n",
       "      <td>0.017761</td>\n",
       "      <td>1</td>\n",
       "      <td>0.992170</td>\n",
       "      <td>0.002547</td>\n",
       "    </tr>\n",
       "    <tr>\n",
       "      <th>12</th>\n",
       "      <td>{'max_depth': 4, 'max_features': 'sqrt'}</td>\n",
       "      <td>0.973547</td>\n",
       "      <td>0.024213</td>\n",
       "      <td>2</td>\n",
       "      <td>0.989895</td>\n",
       "      <td>0.003220</td>\n",
       "    </tr>\n",
       "    <tr>\n",
       "      <th>22</th>\n",
       "      <td>{'max_depth': 6, 'max_features': 'sqrt'}</td>\n",
       "      <td>0.971839</td>\n",
       "      <td>0.036620</td>\n",
       "      <td>3</td>\n",
       "      <td>0.991910</td>\n",
       "      <td>0.002218</td>\n",
       "    </tr>\n",
       "    <tr>\n",
       "      <th>28</th>\n",
       "      <td>{'max_depth': 7, 'max_features': 'log2'}</td>\n",
       "      <td>0.971668</td>\n",
       "      <td>0.034267</td>\n",
       "      <td>4</td>\n",
       "      <td>0.991376</td>\n",
       "      <td>0.002139</td>\n",
       "    </tr>\n",
       "    <tr>\n",
       "      <th>17</th>\n",
       "      <td>{'max_depth': 5, 'max_features': 'sqrt'}</td>\n",
       "      <td>0.971323</td>\n",
       "      <td>0.026337</td>\n",
       "      <td>5</td>\n",
       "      <td>0.989715</td>\n",
       "      <td>0.003293</td>\n",
       "    </tr>\n",
       "    <tr>\n",
       "      <th>46</th>\n",
       "      <td>{'max_depth': 11, 'max_features': 'auto'}</td>\n",
       "      <td>0.969211</td>\n",
       "      <td>0.031940</td>\n",
       "      <td>6</td>\n",
       "      <td>0.992048</td>\n",
       "      <td>0.001760</td>\n",
       "    </tr>\n",
       "    <tr>\n",
       "      <th>47</th>\n",
       "      <td>{'max_depth': 11, 'max_features': 'sqrt'}</td>\n",
       "      <td>0.965269</td>\n",
       "      <td>0.029712</td>\n",
       "      <td>7</td>\n",
       "      <td>0.993190</td>\n",
       "      <td>0.001861</td>\n",
       "    </tr>\n",
       "    <tr>\n",
       "      <th>37</th>\n",
       "      <td>{'max_depth': 9, 'max_features': 'sqrt'}</td>\n",
       "      <td>0.964726</td>\n",
       "      <td>0.032217</td>\n",
       "      <td>8</td>\n",
       "      <td>0.991618</td>\n",
       "      <td>0.002136</td>\n",
       "    </tr>\n",
       "    <tr>\n",
       "      <th>34</th>\n",
       "      <td>{'max_depth': 8, 'max_features': 25}</td>\n",
       "      <td>0.964653</td>\n",
       "      <td>0.021037</td>\n",
       "      <td>9</td>\n",
       "      <td>0.994116</td>\n",
       "      <td>0.001033</td>\n",
       "    </tr>\n",
       "    <tr>\n",
       "      <th>44</th>\n",
       "      <td>{'max_depth': 10, 'max_features': 25}</td>\n",
       "      <td>0.963776</td>\n",
       "      <td>0.025864</td>\n",
       "      <td>10</td>\n",
       "      <td>0.993809</td>\n",
       "      <td>0.000961</td>\n",
       "    </tr>\n",
       "  </tbody>\n",
       "</table>\n",
       "</div>"
      ],
      "text/plain": [
       "                                       params  mean_test_score  \\\n",
       "26   {'max_depth': 7, 'max_features': 'auto'}         0.982897   \n",
       "12   {'max_depth': 4, 'max_features': 'sqrt'}         0.973547   \n",
       "22   {'max_depth': 6, 'max_features': 'sqrt'}         0.971839   \n",
       "28   {'max_depth': 7, 'max_features': 'log2'}         0.971668   \n",
       "17   {'max_depth': 5, 'max_features': 'sqrt'}         0.971323   \n",
       "46  {'max_depth': 11, 'max_features': 'auto'}         0.969211   \n",
       "47  {'max_depth': 11, 'max_features': 'sqrt'}         0.965269   \n",
       "37   {'max_depth': 9, 'max_features': 'sqrt'}         0.964726   \n",
       "34       {'max_depth': 8, 'max_features': 25}         0.964653   \n",
       "44      {'max_depth': 10, 'max_features': 25}         0.963776   \n",
       "\n",
       "    std_test_score  rank_test_score  mean_train_score  std_train_score  \n",
       "26        0.017761                1          0.992170         0.002547  \n",
       "12        0.024213                2          0.989895         0.003220  \n",
       "22        0.036620                3          0.991910         0.002218  \n",
       "28        0.034267                4          0.991376         0.002139  \n",
       "17        0.026337                5          0.989715         0.003293  \n",
       "46        0.031940                6          0.992048         0.001760  \n",
       "47        0.029712                7          0.993190         0.001861  \n",
       "37        0.032217                8          0.991618         0.002136  \n",
       "34        0.021037                9          0.994116         0.001033  \n",
       "44        0.025864               10          0.993809         0.000961  "
      ]
     },
     "execution_count": 116,
     "metadata": {},
     "output_type": "execute_result"
    }
   ],
   "source": [
    "cv_results_df[colums].sort_values(by = 'rank_test_score').head(10)"
   ]
  },
  {
   "cell_type": "code",
   "execution_count": 117,
   "metadata": {},
   "outputs": [
    {
     "data": {
      "image/png": "[encoded data removed]",
      "text/plain": [
       "<Figure size 432x288 with 1 Axes>"
      ]
     },
     "metadata": {
      "needs_background": "light"
     },
     "output_type": "display_data"
    }
   ],
   "source": [
    "roc_test_scores = gridsearch.cv_results_['mean_test_score']\n",
    "\n",
    "roc_training_scores = gridsearch.cv_results_['mean_train_score']\n",
    "\n",
    "plt.plot(range(50), roc_test_scores, label = 'test')\n",
    "plt.plot(range(50), roc_training_scores, label = 'train')\n",
    "\n",
    "\n",
    "plt.legend()\n",
    "plt.tight_layout()"
   ]
  },
  {
   "cell_type": "markdown",
   "metadata": {},
   "source": [
    "We can also use pipelines with GridSearchCV. "
   ]
  },
  {
   "cell_type": "code",
   "execution_count": 37,
   "metadata": {},
   "outputs": [
    {
     "data": {
      "text/plain": [
       "Pipeline(memory=None,\n",
       "         steps=[('standardscaler',\n",
       "                 StandardScaler(copy=True, with_mean=True, with_std=True)),\n",
       "                ('polynomialfeatures',\n",
       "                 PolynomialFeatures(degree=2, include_bias=True,\n",
       "                                    interaction_only=True, order='C')),\n",
       "                ('logisticregression',\n",
       "                 LogisticRegression(C=1.0, class_weight=None, dual=False,\n",
       "                                    fit_intercept=True, intercept_scaling=1,\n",
       "                                    l1_ratio=None, max_iter=100,\n",
       "                                    multi_class='auto', n_jobs=None,\n",
       "                                    penalty='l2', random_state=1,\n",
       "                                    solver='lbfgs', tol=0.0001, verbose=0,\n",
       "                                    warm_start=False))],\n",
       "         verbose=False)"
      ]
     },
     "execution_count": 37,
     "metadata": {},
     "output_type": "execute_result"
    }
   ],
   "source": [
    "log_pipe"
   ]
  },
  {
   "cell_type": "code",
   "execution_count": 38,
   "metadata": {},
   "outputs": [
    {
     "name": "stdout",
     "output_type": "stream",
     "text": [
      "Fitting 10 folds for each of 20 candidates, totalling 200 fits\n"
     ]
    },
    {
     "name": "stderr",
     "output_type": "stream",
     "text": [
      "[Parallel(n_jobs=-1)]: Using backend LokyBackend with 8 concurrent workers.\n",
      "[Parallel(n_jobs=-1)]: Done  56 tasks      | elapsed:    0.3s\n",
      "[Parallel(n_jobs=-1)]: Done 200 out of 200 | elapsed:    1.1s finished\n"
     ]
    }
   ],
   "source": [
    "param_grid = {'logisticregression__C': np.logspace(-3, 2, 10),  \n",
    "              'polynomialfeatures__interaction_only': [True, False]}\n",
    "\n",
    "\n",
    "gridsearch = GridSearchCV(estimator = log_pipe, \n",
    "                          param_grid = param_grid,\n",
    "                          n_jobs = -1, \n",
    "                          verbose = 1,\n",
    "                          cv = 10, \n",
    "                          scoring = 'roc_auc', \n",
    "                          return_train_score= True)\n",
    "\n",
    "gridsearch = gridsearch.fit(X_train, y_train)"
   ]
  },
  {
   "cell_type": "code",
   "execution_count": 43,
   "metadata": {},
   "outputs": [
    {
     "data": {
      "text/plain": [
       "Pipeline(memory=None,\n",
       "         steps=[('standardscaler',\n",
       "                 StandardScaler(copy=True, with_mean=True, with_std=True)),\n",
       "                ('polynomialfeatures',\n",
       "                 PolynomialFeatures(degree=2, include_bias=True,\n",
       "                                    interaction_only=True, order='C')),\n",
       "                ('logisticregression',\n",
       "                 LogisticRegression(C=0.1668100537200059, class_weight=None,\n",
       "                                    dual=False, fit_intercept=True,\n",
       "                                    intercept_scaling=1, l1_ratio=None,\n",
       "                                    max_iter=100, multi_class='auto',\n",
       "                                    n_jobs=None, penalty='l2', random_state=1,\n",
       "                                    solver='lbfgs', tol=0.0001, verbose=0,\n",
       "                                    warm_start=False))],\n",
       "         verbose=False)"
      ]
     },
     "execution_count": 43,
     "metadata": {},
     "output_type": "execute_result"
    }
   ],
   "source": [
    "## let's see best score and best parameters\n",
    "\n",
    "gridsearch.best_estimator_"
   ]
  },
  {
   "cell_type": "code",
   "execution_count": 44,
   "metadata": {},
   "outputs": [
    {
     "data": {
      "text/plain": [
       "0.9927884615384615"
      ]
     },
     "execution_count": 44,
     "metadata": {},
     "output_type": "execute_result"
    }
   ],
   "source": [
    "gridsearch.best_score_"
   ]
  },
  {
   "cell_type": "code",
   "execution_count": 45,
   "metadata": {},
   "outputs": [
    {
     "data": {
      "text/plain": [
       "{'mean_fit_time': array([0.00757194, 0.0076946 , 0.01049261, 0.01510475, 0.017397  ,\n",
       "        0.02092292, 0.0263643 , 0.02553337, 0.02871079, 0.02976658,\n",
       "        0.03497491, 0.03730023, 0.04682381, 0.04641652, 0.05027933,\n",
       "        0.05000169, 0.05199883, 0.05122185, 0.05634418, 0.04783592]),\n",
       " 'std_fit_time': array([0.00114445, 0.00059123, 0.00208352, 0.00309733, 0.00244614,\n",
       "        0.004344  , 0.00401174, 0.00330282, 0.00420667, 0.00371073,\n",
       "        0.00198515, 0.00302495, 0.00461044, 0.00286783, 0.00472948,\n",
       "        0.00231105, 0.00448408, 0.00719614, 0.0044618 , 0.00622331]),\n",
       " 'mean_score_time': array([0.00123456, 0.0012006 , 0.00158551, 0.00191011, 0.00181911,\n",
       "        0.00231445, 0.00283642, 0.0021616 , 0.00208826, 0.00236402,\n",
       "        0.00261097, 0.00209219, 0.00234332, 0.00225036, 0.00212765,\n",
       "        0.0022078 , 0.00246103, 0.00247445, 0.00214636, 0.00180118]),\n",
       " 'std_score_time': array([0.00018783, 0.00007423, 0.00035742, 0.00036811, 0.00041256,\n",
       "        0.0006422 , 0.0012272 , 0.00025738, 0.00018424, 0.00059359,\n",
       "        0.00146805, 0.00011164, 0.00026312, 0.00013963, 0.00026425,\n",
       "        0.00007136, 0.00065669, 0.00088901, 0.00008633, 0.00048209]),\n",
       " 'param_logisticregression__C': masked_array(data=[0.001, 0.001, 0.003593813663804626,\n",
       "                    0.003593813663804626, 0.01291549665014884,\n",
       "                    0.01291549665014884, 0.046415888336127795,\n",
       "                    0.046415888336127795, 0.1668100537200059,\n",
       "                    0.1668100537200059, 0.5994842503189409,\n",
       "                    0.5994842503189409, 2.1544346900318843,\n",
       "                    2.1544346900318843, 7.742636826811277,\n",
       "                    7.742636826811277, 27.825594022071257,\n",
       "                    27.825594022071257, 100.0, 100.0],\n",
       "              mask=[False, False, False, False, False, False, False, False,\n",
       "                    False, False, False, False, False, False, False, False,\n",
       "                    False, False, False, False],\n",
       "        fill_value='?',\n",
       "             dtype=object),\n",
       " 'param_polynomialfeatures__interaction_only': masked_array(data=[True, False, True, False, True, False, True, False,\n",
       "                    True, False, True, False, True, False, True, False,\n",
       "                    True, False, True, False],\n",
       "              mask=[False, False, False, False, False, False, False, False,\n",
       "                    False, False, False, False, False, False, False, False,\n",
       "                    False, False, False, False],\n",
       "        fill_value='?',\n",
       "             dtype=object),\n",
       " 'params': [{'logisticregression__C': 0.001,\n",
       "   'polynomialfeatures__interaction_only': True},\n",
       "  {'logisticregression__C': 0.001,\n",
       "   'polynomialfeatures__interaction_only': False},\n",
       "  {'logisticregression__C': 0.003593813663804626,\n",
       "   'polynomialfeatures__interaction_only': True},\n",
       "  {'logisticregression__C': 0.003593813663804626,\n",
       "   'polynomialfeatures__interaction_only': False},\n",
       "  {'logisticregression__C': 0.01291549665014884,\n",
       "   'polynomialfeatures__interaction_only': True},\n",
       "  {'logisticregression__C': 0.01291549665014884,\n",
       "   'polynomialfeatures__interaction_only': False},\n",
       "  {'logisticregression__C': 0.046415888336127795,\n",
       "   'polynomialfeatures__interaction_only': True},\n",
       "  {'logisticregression__C': 0.046415888336127795,\n",
       "   'polynomialfeatures__interaction_only': False},\n",
       "  {'logisticregression__C': 0.1668100537200059,\n",
       "   'polynomialfeatures__interaction_only': True},\n",
       "  {'logisticregression__C': 0.1668100537200059,\n",
       "   'polynomialfeatures__interaction_only': False},\n",
       "  {'logisticregression__C': 0.5994842503189409,\n",
       "   'polynomialfeatures__interaction_only': True},\n",
       "  {'logisticregression__C': 0.5994842503189409,\n",
       "   'polynomialfeatures__interaction_only': False},\n",
       "  {'logisticregression__C': 2.1544346900318843,\n",
       "   'polynomialfeatures__interaction_only': True},\n",
       "  {'logisticregression__C': 2.1544346900318843,\n",
       "   'polynomialfeatures__interaction_only': False},\n",
       "  {'logisticregression__C': 7.742636826811277,\n",
       "   'polynomialfeatures__interaction_only': True},\n",
       "  {'logisticregression__C': 7.742636826811277,\n",
       "   'polynomialfeatures__interaction_only': False},\n",
       "  {'logisticregression__C': 27.825594022071257,\n",
       "   'polynomialfeatures__interaction_only': True},\n",
       "  {'logisticregression__C': 27.825594022071257,\n",
       "   'polynomialfeatures__interaction_only': False},\n",
       "  {'logisticregression__C': 100.0,\n",
       "   'polynomialfeatures__interaction_only': True},\n",
       "  {'logisticregression__C': 100.0,\n",
       "   'polynomialfeatures__interaction_only': False}],\n",
       " 'split0_test_score': array([0.99768519, 0.99768519, 1.        , 1.        , 1.        ,\n",
       "        1.        , 1.        , 1.        , 1.        , 1.        ,\n",
       "        1.        , 1.        , 1.        , 1.        , 1.        ,\n",
       "        1.        , 1.        , 1.        , 1.        , 1.        ]),\n",
       " 'split1_test_score': array([0.99074074, 0.98842593, 0.99768519, 0.99537037, 1.        ,\n",
       "        1.        , 1.        , 1.        , 1.        , 1.        ,\n",
       "        1.        , 1.        , 1.        , 1.        , 1.        ,\n",
       "        1.        , 1.        , 1.        , 1.        , 1.        ]),\n",
       " 'split2_test_score': array([1.        , 1.        , 1.        , 1.        , 1.        ,\n",
       "        1.        , 0.99768519, 0.99768519, 0.99768519, 0.99768519,\n",
       "        0.99305556, 0.99537037, 0.99074074, 0.99537037, 0.99074074,\n",
       "        0.99537037, 0.99074074, 0.99305556, 0.99074074, 0.99305556]),\n",
       " 'split3_test_score': array([0.96296296, 0.96296296, 0.96759259, 0.96527778, 0.97916667,\n",
       "        0.97685185, 0.98148148, 0.98148148, 0.98611111, 0.98148148,\n",
       "        0.9837963 , 0.97685185, 0.9837963 , 0.97685185, 0.97916667,\n",
       "        0.97453704, 0.97222222, 0.97453704, 0.96990741, 0.97222222]),\n",
       " 'split4_test_score': array([0.93518519, 0.93981481, 0.96759259, 0.96296296, 0.97453704,\n",
       "        0.97222222, 0.98148148, 0.97685185, 0.9837963 , 0.98148148,\n",
       "        0.98842593, 0.98611111, 0.98842593, 0.98611111, 0.98842593,\n",
       "        0.98611111, 0.98842593, 0.98611111, 0.98611111, 0.9837963 ]),\n",
       " 'split5_test_score': array([0.97453704, 0.97916667, 0.97222222, 0.97222222, 0.96990741,\n",
       "        0.96990741, 0.96990741, 0.96759259, 0.96990741, 0.96527778,\n",
       "        0.96759259, 0.96759259, 0.96990741, 0.96759259, 0.96990741,\n",
       "        0.96296296, 0.96527778, 0.96759259, 0.96759259, 0.96759259]),\n",
       " 'split6_test_score': array([0.99519231, 0.99759615, 0.99759615, 0.99759615, 0.99759615,\n",
       "        0.99759615, 1.        , 1.        , 0.99278846, 0.99759615,\n",
       "        0.97836538, 0.98557692, 0.96875   , 0.97355769, 0.96634615,\n",
       "        0.96634615, 0.96153846, 0.96394231, 0.96153846, 0.96394231]),\n",
       " 'split7_test_score': array([0.97596154, 0.97596154, 0.98798077, 0.99038462, 0.99278846,\n",
       "        0.99759615, 0.99519231, 0.99759615, 0.99759615, 0.99759615,\n",
       "        1.        , 1.        , 1.        , 1.        , 1.        ,\n",
       "        1.        , 1.        , 1.        , 1.        , 1.        ]),\n",
       " 'split8_test_score': array([0.99038462, 0.99519231, 0.99519231, 0.99759615, 1.        ,\n",
       "        1.        , 1.        , 1.        , 1.        , 1.        ,\n",
       "        1.        , 1.        , 1.        , 1.        , 1.        ,\n",
       "        1.        , 1.        , 1.        , 1.        , 1.        ]),\n",
       " 'split9_test_score': array([1., 1., 1., 1., 1., 1., 1., 1., 1., 1., 1., 1., 1., 1., 1., 1., 1.,\n",
       "        1., 1., 1.]),\n",
       " 'mean_test_score': array([0.98226496, 0.98368056, 0.98858618, 0.98814103, 0.99139957,\n",
       "        0.99141738, 0.99257479, 0.99212073, 0.99278846, 0.99211182,\n",
       "        0.99112358, 0.99115028, 0.99016204, 0.98994836, 0.98945869,\n",
       "        0.98853276, 0.98782051, 0.98852386, 0.98758903, 0.9880609 ]),\n",
       " 'std_test_score': array([0.01964754, 0.01873724, 0.01322137, 0.0143808 , 0.01142832,\n",
       "        0.01219815, 0.01033716, 0.01148616, 0.00950845, 0.01134101,\n",
       "        0.01084035, 0.01106916, 0.01181746, 0.01220349, 0.01257249,\n",
       "        0.01432496, 0.01480818, 0.01386675, 0.01474248, 0.01416815]),\n",
       " 'rank_test_score': array([20, 19, 12, 15,  6,  5,  2,  3,  1,  4,  8,  7,  9, 10, 11, 13, 17,\n",
       "        14, 18, 16], dtype=int32),\n",
       " 'split0_train_score': array([0.98951049, 0.98986014, 0.99498834, 0.99507576, 0.99740676,\n",
       "        0.99752331, 0.99912587, 0.99915501, 0.99979604, 0.99985431,\n",
       "        1.        , 1.        , 1.        , 1.        , 1.        ,\n",
       "        1.        , 1.        , 1.        , 1.        , 1.        ]),\n",
       " 'split1_train_score': array([0.99073427, 0.9905303 , 0.99527972, 0.99498834, 0.99729021,\n",
       "        0.99734848, 0.99892191, 0.99903846, 0.9997669 , 0.99979604,\n",
       "        1.        , 1.        , 1.        , 1.        , 1.        ,\n",
       "        1.        , 1.        , 1.        , 1.        , 1.        ]),\n",
       " 'split2_train_score': array([0.99149184, 0.9909965 , 0.99577506, 0.99589161, 0.99781469,\n",
       "        0.99801865, 0.99912587, 0.99924242, 0.99985431, 0.99991259,\n",
       "        1.        , 1.        , 1.        , 1.        , 1.        ,\n",
       "        1.        , 1.        , 1.        , 1.        , 1.        ]),\n",
       " 'split3_train_score': array([0.99315268, 0.99300699, 0.9967366 , 0.99688228, 0.99863054,\n",
       "        0.99877622, 0.99967949, 0.99979604, 1.        , 1.        ,\n",
       "        1.        , 1.        , 1.        , 1.        , 1.        ,\n",
       "        1.        , 1.        , 1.        , 1.        , 1.        ]),\n",
       " 'split4_train_score': array([0.99236597, 0.99219114, 0.99638695, 0.99641608, 0.99825175,\n",
       "        0.99825175, 0.99918415, 0.9993007 , 0.99985431, 0.99988345,\n",
       "        1.        , 1.        , 1.        , 1.        , 1.        ,\n",
       "        1.        , 1.        , 1.        , 1.        , 1.        ]),\n",
       " 'split5_train_score': array([0.99149184, 0.99125874, 0.9965035 , 0.99653263, 0.9983683 ,\n",
       "        0.99831002, 0.99950466, 0.99956294, 0.9997669 , 0.9997669 ,\n",
       "        1.        , 1.        , 1.        , 1.        , 1.        ,\n",
       "        1.        , 1.        , 1.        , 1.        , 1.        ]),\n",
       " 'split6_train_score': array([0.99059861, 0.99007631, 0.99573456, 0.99561849, 0.99799785,\n",
       "        0.99793982, 0.99924557, 0.9993036 , 0.9998259 , 0.99985492,\n",
       "        1.        , 1.        , 1.        , 1.        , 1.        ,\n",
       "        1.        , 1.        , 1.        , 1.        , 1.        ]),\n",
       " 'split7_train_score': array([0.99167223, 0.99085976, 0.99558947, 0.99573456, 0.99762064,\n",
       "        0.99770769, 0.99915852, 0.99927458, 0.99973885, 0.99979688,\n",
       "        1.        , 1.        , 1.        , 1.        , 1.        ,\n",
       "        1.        , 1.        , 1.        , 1.        , 1.        ]),\n",
       " 'split8_train_score': array([0.99030845, 0.99019238, 0.99498012, 0.99498012, 0.99724342,\n",
       "        0.99735949, 0.99892638, 0.99907147, 0.99976787, 0.99973885,\n",
       "        1.        , 1.        , 1.        , 1.        , 1.        ,\n",
       "        1.        , 1.        , 1.        , 1.        , 1.        ]),\n",
       " 'split9_train_score': array([0.99088542, 0.99027778, 0.99525463, 0.99545718, 0.99733796,\n",
       "        0.9974537 , 0.99907407, 0.99918981, 0.99979745, 0.99982639,\n",
       "        1.        , 1.        , 1.        , 1.        , 1.        ,\n",
       "        1.        , 1.        , 1.        , 1.        , 1.        ]),\n",
       " 'mean_train_score': array([0.99122118, 0.99092501, 0.99572289, 0.99575771, 0.99779621,\n",
       "        0.99786891, 0.99919465, 0.9992935 , 0.99981685, 0.99984303,\n",
       "        1.        , 1.        , 1.        , 1.        , 1.        ,\n",
       "        1.        , 1.        , 1.        , 1.        , 1.        ]),\n",
       " 'std_train_score': array([0.00099439, 0.00094996, 0.00060046, 0.00063941, 0.00047181,\n",
       "        0.00045166, 0.00022484, 0.00021738, 0.00007121, 0.00007256,\n",
       "        0.        , 0.        , 0.        , 0.        , 0.        ,\n",
       "        0.        , 0.        , 0.        , 0.        , 0.        ])}"
      ]
     },
     "execution_count": 45,
     "metadata": {},
     "output_type": "execute_result"
    }
   ],
   "source": [
    "gridsearch.cv_results_"
   ]
  },
  {
   "cell_type": "code",
   "execution_count": 51,
   "metadata": {},
   "outputs": [
    {
     "data": {
      "text/html": [
       "<div>\n",
       "<style scoped>\n",
       "    .dataframe tbody tr th:only-of-type {\n",
       "        vertical-align: middle;\n",
       "    }\n",
       "\n",
       "    .dataframe tbody tr th {\n",
       "        vertical-align: top;\n",
       "    }\n",
       "\n",
       "    .dataframe thead th {\n",
       "        text-align: right;\n",
       "    }\n",
       "</style>\n",
       "<table border=\"1\" class=\"dataframe\">\n",
       "  <thead>\n",
       "    <tr style=\"text-align: right;\">\n",
       "      <th></th>\n",
       "      <th>params</th>\n",
       "      <th>mean_test_score</th>\n",
       "      <th>std_test_score</th>\n",
       "      <th>rank_test_score</th>\n",
       "      <th>mean_train_score</th>\n",
       "      <th>std_train_score</th>\n",
       "    </tr>\n",
       "  </thead>\n",
       "  <tbody>\n",
       "    <tr>\n",
       "      <th>8</th>\n",
       "      <td>{'logisticregression__C': 0.1668100537200059, ...</td>\n",
       "      <td>0.992788</td>\n",
       "      <td>0.009508</td>\n",
       "      <td>1</td>\n",
       "      <td>0.999817</td>\n",
       "      <td>0.000071</td>\n",
       "    </tr>\n",
       "    <tr>\n",
       "      <th>6</th>\n",
       "      <td>{'logisticregression__C': 0.046415888336127795...</td>\n",
       "      <td>0.992575</td>\n",
       "      <td>0.010337</td>\n",
       "      <td>2</td>\n",
       "      <td>0.999195</td>\n",
       "      <td>0.000225</td>\n",
       "    </tr>\n",
       "    <tr>\n",
       "      <th>7</th>\n",
       "      <td>{'logisticregression__C': 0.046415888336127795...</td>\n",
       "      <td>0.992121</td>\n",
       "      <td>0.011486</td>\n",
       "      <td>3</td>\n",
       "      <td>0.999294</td>\n",
       "      <td>0.000217</td>\n",
       "    </tr>\n",
       "    <tr>\n",
       "      <th>9</th>\n",
       "      <td>{'logisticregression__C': 0.1668100537200059, ...</td>\n",
       "      <td>0.992112</td>\n",
       "      <td>0.011341</td>\n",
       "      <td>4</td>\n",
       "      <td>0.999843</td>\n",
       "      <td>0.000073</td>\n",
       "    </tr>\n",
       "    <tr>\n",
       "      <th>5</th>\n",
       "      <td>{'logisticregression__C': 0.01291549665014884,...</td>\n",
       "      <td>0.991417</td>\n",
       "      <td>0.012198</td>\n",
       "      <td>5</td>\n",
       "      <td>0.997869</td>\n",
       "      <td>0.000452</td>\n",
       "    </tr>\n",
       "    <tr>\n",
       "      <th>4</th>\n",
       "      <td>{'logisticregression__C': 0.01291549665014884,...</td>\n",
       "      <td>0.991400</td>\n",
       "      <td>0.011428</td>\n",
       "      <td>6</td>\n",
       "      <td>0.997796</td>\n",
       "      <td>0.000472</td>\n",
       "    </tr>\n",
       "    <tr>\n",
       "      <th>11</th>\n",
       "      <td>{'logisticregression__C': 0.5994842503189409, ...</td>\n",
       "      <td>0.991150</td>\n",
       "      <td>0.011069</td>\n",
       "      <td>7</td>\n",
       "      <td>1.000000</td>\n",
       "      <td>0.000000</td>\n",
       "    </tr>\n",
       "    <tr>\n",
       "      <th>10</th>\n",
       "      <td>{'logisticregression__C': 0.5994842503189409, ...</td>\n",
       "      <td>0.991124</td>\n",
       "      <td>0.010840</td>\n",
       "      <td>8</td>\n",
       "      <td>1.000000</td>\n",
       "      <td>0.000000</td>\n",
       "    </tr>\n",
       "    <tr>\n",
       "      <th>12</th>\n",
       "      <td>{'logisticregression__C': 2.1544346900318843, ...</td>\n",
       "      <td>0.990162</td>\n",
       "      <td>0.011817</td>\n",
       "      <td>9</td>\n",
       "      <td>1.000000</td>\n",
       "      <td>0.000000</td>\n",
       "    </tr>\n",
       "    <tr>\n",
       "      <th>13</th>\n",
       "      <td>{'logisticregression__C': 2.1544346900318843, ...</td>\n",
       "      <td>0.989948</td>\n",
       "      <td>0.012203</td>\n",
       "      <td>10</td>\n",
       "      <td>1.000000</td>\n",
       "      <td>0.000000</td>\n",
       "    </tr>\n",
       "  </tbody>\n",
       "</table>\n",
       "</div>"
      ],
      "text/plain": [
       "                                               params  mean_test_score  \\\n",
       "8   {'logisticregression__C': 0.1668100537200059, ...         0.992788   \n",
       "6   {'logisticregression__C': 0.046415888336127795...         0.992575   \n",
       "7   {'logisticregression__C': 0.046415888336127795...         0.992121   \n",
       "9   {'logisticregression__C': 0.1668100537200059, ...         0.992112   \n",
       "5   {'logisticregression__C': 0.01291549665014884,...         0.991417   \n",
       "4   {'logisticregression__C': 0.01291549665014884,...         0.991400   \n",
       "11  {'logisticregression__C': 0.5994842503189409, ...         0.991150   \n",
       "10  {'logisticregression__C': 0.5994842503189409, ...         0.991124   \n",
       "12  {'logisticregression__C': 2.1544346900318843, ...         0.990162   \n",
       "13  {'logisticregression__C': 2.1544346900318843, ...         0.989948   \n",
       "\n",
       "    std_test_score  rank_test_score  mean_train_score  std_train_score  \n",
       "8         0.009508                1          0.999817         0.000071  \n",
       "6         0.010337                2          0.999195         0.000225  \n",
       "7         0.011486                3          0.999294         0.000217  \n",
       "9         0.011341                4          0.999843         0.000073  \n",
       "5         0.012198                5          0.997869         0.000452  \n",
       "4         0.011428                6          0.997796         0.000472  \n",
       "11        0.011069                7          1.000000         0.000000  \n",
       "10        0.010840                8          1.000000         0.000000  \n",
       "12        0.011817                9          1.000000         0.000000  \n",
       "13        0.012203               10          1.000000         0.000000  "
      ]
     },
     "execution_count": 51,
     "metadata": {},
     "output_type": "execute_result"
    }
   ],
   "source": [
    "colums = ['params', 'mean_test_score', \n",
    "          'std_test_score', 'rank_test_score',\n",
    "          'mean_train_score', 'std_train_score']\n",
    "\n",
    "log_reg_results = pd.DataFrame(gridsearch.cv_results_)[colums]\n",
    "log_reg_results.sort_values(by = 'rank_test_score').head(10)"
   ]
  },
  {
   "cell_type": "code",
   "execution_count": 41,
   "metadata": {},
   "outputs": [
    {
     "data": {
      "image/png": "[encoded data removed]",
      "text/plain": [
       "<Figure size 576x396 with 1 Axes>"
      ]
     },
     "metadata": {},
     "output_type": "display_data"
    }
   ],
   "source": [
    "roc_test_scores = gridsearch.cv_results_['mean_test_score']\n",
    "\n",
    "roc_training_scores = gridsearch.cv_results_['mean_train_score']\n",
    "\n",
    "plt.plot(range(20), roc_test_scores, label = 'test')\n",
    "plt.plot(range(20), roc_training_scores, label = 'train')\n",
    "\n",
    "\n",
    "plt.legend()\n",
    "plt.tight_layout()"
   ]
  },
  {
   "cell_type": "code",
   "execution_count": 52,
   "metadata": {},
   "outputs": [],
   "source": [
    "from sklearn.model_selection import cross_val_score"
   ]
  },
  {
   "cell_type": "code",
   "execution_count": 55,
   "metadata": {},
   "outputs": [
    {
     "name": "stdout",
     "output_type": "stream",
     "text": [
      "CV accuracy: 0.992 +/- 0.007\n"
     ]
    }
   ],
   "source": [
    "gs = GridSearchCV(estimator= log_pipe, param_grid = param_grid, scoring = 'roc_auc', cv = 2 )\n",
    "\n",
    "scores = cross_val_score(gs, X_train, y_train, scoring = 'roc_auc', cv = 5)\n",
    "\n",
    "print('CV accuracy: %.3f +/- %.3f'%(np.mean(scores), np.std(scores)))"
   ]
  },
  {
   "cell_type": "code",
   "execution_count": 64,
   "metadata": {},
   "outputs": [],
   "source": [
    "y_test_pred = gridsearch.best_estimator_.predict_proba(X_test)[:,1]"
   ]
  },
  {
   "cell_type": "code",
   "execution_count": 65,
   "metadata": {},
   "outputs": [],
   "source": [
    "from sklearn.metrics import roc_auc_score"
   ]
  },
  {
   "cell_type": "code",
   "execution_count": 66,
   "metadata": {},
   "outputs": [
    {
     "data": {
      "text/plain": [
       "0.9926624737945493"
      ]
     },
     "execution_count": 66,
     "metadata": {},
     "output_type": "execute_result"
    }
   ],
   "source": [
    "roc_auc_score(y_test, y_test_pred)"
   ]
  },
  {
   "cell_type": "markdown",
   "metadata": {},
   "source": [
    "## Extras"
   ]
  },
  {
   "cell_type": "markdown",
   "metadata": {},
   "source": [
    "[Faster Hyperparameter tuning: Randomized Approach](https://scikit-learn.org/stable/modules/generated/sklearn.model_selection.RandomizedSearchCV.html)\n",
    "\n",
    "[Learning the hyperparameter space](https://towardsdatascience.com/automated-machine-learning-hyperparameter-tuning-in-python-dfda59b72f8a)\n",
    "\n",
    "[Using sklearn for plotting learning curves](https://scikit-learn.org/stable/modules/generated/sklearn.model_selection.learning_curve.html)\n",
    "\n",
    "[YellowBrick Validation Curve](https://www.scikit-yb.org/en/latest/api/model_selection/validation_curve.html)"
   ]
  }
 ],
 "metadata": {
  "kernelspec": {
   "display_name": "Python 3",
   "language": "python",
   "name": "python3"
  },
  "language_info": {
   "codemirror_mode": {
    "name": "ipython",
    "version": 3
   },
   "file_extension": ".py",
   "mimetype": "text/x-python",
   "name": "python",
   "nbconvert_exporter": "python",
   "pygments_lexer": "ipython3",
   "version": "3.7.3"
  },
  "toc": {
   "base_numbering": 1,
   "nav_menu": {},
   "number_sections": true,
   "sideBar": true,
   "skip_h1_title": false,
   "title_cell": "Table of Contents",
   "title_sidebar": "Contents",
   "toc_cell": false,
   "toc_position": {},
   "toc_section_display": true,
   "toc_window_display": false
  }
 },
 "nbformat": 4,
 "nbformat_minor": 4
}
