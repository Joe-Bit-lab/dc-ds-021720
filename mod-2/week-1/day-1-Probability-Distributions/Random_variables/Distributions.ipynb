{
 "cells": [
  {
   "cell_type": "markdown",
   "metadata": {},
   "source": [
    "# Agenda\n",
    "\n",
    "- Random Variables Definition\n",
    "    \n",
    "- Discrete Random Variables\n",
    "\n",
    "- Probability Mass Functions and Cumulative Mass Functions for Discrete Random Variables\n",
    "\n",
    "- Continuous Random Variables\n",
    "\n",
    "- Probability Density Functions and Cumulative Density Functions for Continuous Random Variables.\n",
    "\n",
    "\n",
    "## Random Variables\n",
    "\n",
    "Informally: \"A variable whouse values depend on outcomes of a random phenomenon\"\n",
    "\n",
    "More informally: :) \"A map from a random process's outcomes to numbers\"\"\n",
    "\n",
    "What about formally? Let's see!\n",
    "\n",
    "[Note you really don't want to do this but it's your choice: Read definition part from Wikipedia](https://en.wikipedia.org/wiki/Random_variable)\n",
    "\n",
    "### Examples\n",
    "\n",
    "Let's start with a traditional one:\n",
    "\n",
    "__Example:__\n",
    "Experiment: rolling two dice: \n",
    "\n",
    "X -- (This is usually how we denote a random variable.) {Sum of numbers on the dice}\n",
    "\n",
    "Q: what are the possible values of X:\n",
    "\n",
    "__Example:__ \n",
    "\n",
    "Experiment: Tossing a coin \n",
    "\n",
    "X = 15 if it is Head and X =-10 if it is Tail.\n",
    "\n",
    "\n",
    "__Example:__ \n",
    "\n",
    "Experiment: Choosing a random person from Lafayatte Square\n",
    "\n",
    "Y: This person's exact height in meters. \n",
    "\n",
    "Q: What are the possible values that Y can take?\n",
    "\n",
    "__Example:__ \n",
    "\n",
    "Experiment: Pick a random point from the unit square.\n",
    "\n",
    "Z: The x-coordinate of the point\n",
    "\n",
    "Q: What is the possible values that Z-can take?\n",
    "\n",
    "\n"
   ]
  },
  {
   "cell_type": "markdown",
   "metadata": {},
   "source": [
    "Now let's discuss the random variables in more concrete setting."
   ]
  },
  {
   "cell_type": "code",
   "execution_count": 1,
   "metadata": {},
   "outputs": [],
   "source": [
    "import itertools\n",
    "import numpy as np\n",
    "\n",
    "## let's create a deck of cards\n",
    "suits = ['diamonds', 'clubs', 'hearts', 'spades']\n",
    "\n",
    "runs = ['A', '2', '3', '4', '5', '6', '7', '8', '9', '10', 'J', 'Q', 'K']\n",
    "\n",
    "cards = list(itertools.product(suits, runs))\n",
    "\n",
    "## Find all possible 2 cards \n",
    "## Combinations\n",
    "\n",
    "\n",
    "sample_space = list(itertools.combinations(cards,2))"
   ]
  },
  {
   "cell_type": "code",
   "execution_count": 7,
   "metadata": {},
   "outputs": [
    {
     "data": {
      "text/plain": [
       "[(('diamonds', 'A'), ('diamonds', '2')),\n",
       " (('diamonds', 'A'), ('diamonds', '3')),\n",
       " (('diamonds', 'A'), ('diamonds', '4')),\n",
       " (('diamonds', 'A'), ('diamonds', '5')),\n",
       " (('diamonds', 'A'), ('diamonds', '6'))]"
      ]
     },
     "execution_count": 7,
     "metadata": {},
     "output_type": "execute_result"
    }
   ],
   "source": [
    "sample_space[:5]"
   ]
  },
  {
   "cell_type": "markdown",
   "metadata": {},
   "source": [
    "Let's us define a function $X: S \\to \\mathbb{N}$ on this sample space such that when X(card1, card2) = card1 + card2. \n",
    "\n",
    "(J = 11, Q = 12, K=13, A = 1)\n",
    "\n",
    "Let's write this function in code:"
   ]
  },
  {
   "cell_type": "code",
<<<<<<< HEAD
   "execution_count": 2,
=======
   "execution_count": null,
>>>>>>> 3215a40237855e6f99286eeb7aff9a04f5d19790
   "metadata": {},
   "outputs": [
    {
     "name": "stdout",
     "output_type": "stream",
     "text": [
      "(('diamonds', '4'), ('clubs', 'A'))\n"
     ]
    },
    {
     "data": {
      "text/plain": [
       "5"
      ]
     },
     "execution_count": 2,
     "metadata": {},
     "output_type": "execute_result"
    }
   ],
   "source": [
<<<<<<< HEAD
    "# %load -r 1-18 supplement.py\n",
    "royal_num = {'A':1, 'J':10, 'Q':10, 'K':10}\n",
=======
    "def rand_variable((card1, card2)):\n",
    "    \n",
    "    return sum"
   ]
  },
  {
   "cell_type": "code",
   "execution_count": 16,
   "metadata": {},
   "outputs": [
    {
     "name": "stdout",
     "output_type": "stream",
     "text": [
      "(('spades', '3'), ('spades', '10'))\n"
     ]
    },
    {
     "data": {
      "text/plain": [
       "13"
      ]
     },
     "execution_count": 16,
     "metadata": {},
     "output_type": "execute_result"
    }
   ],
   "source": [
    "# %load -r 1-18 supplement.py\n",
    "royal_num = {'A':1, 'J':11, 'Q':12, 'K':13}\n",
>>>>>>> 3215a40237855e6f99286eeb7aff9a04f5d19790
    "def random_variable(two_cards):\n",
    "    num1 = 0\n",
    "    num2 = 0\n",
    "    card1 = two_cards[0]\n",
    "    card2 = two_cards[1]\n",
    "    if card1[1] in royal_num.keys():\n",
    "        num1 = royal_num[card1[1]]\n",
    "    else:\n",
    "        num1 = int(card1[1])\n",
    "    if card2[1] in royal_num.keys():\n",
    "        num2 = royal_num[card2[1]]\n",
    "    else:\n",
    "        num2 = int(card2[1])\n",
    "    return num1 + num2\n",
<<<<<<< HEAD
    "card_index = np.random.choice(range(1300),1)[0]\n",
    "print(sample_space[card_index])\n",
    "random_variable(sample_space[card_index])"
=======
    "card_index = np.random.choice(range(1326),1)[0]\n",
    "print(sample_space[card_index])\n",
    "random_variable(sample_space[card_index])"
   ]
  },
  {
   "cell_type": "code",
   "execution_count": 12,
   "metadata": {},
   "outputs": [
    {
     "data": {
      "text/plain": [
       "1326"
      ]
     },
     "execution_count": 12,
     "metadata": {},
     "output_type": "execute_result"
    }
   ],
   "source": [
    "len(sample_space)"
>>>>>>> 3215a40237855e6f99286eeb7aff9a04f5d19790
   ]
  },
  {
   "cell_type": "markdown",
   "metadata": {},
   "source": [
    "### Discrete and Continuous Random Variables\n",
    "\n",
    "- Note that in the examples above we can count possible values for some random variables. These random variables are called __discrete random variables__.\n",
    "\n",
    "- In other cases, it is not possible to be able to count exact possible values of a random variables. These are called __continuous random variables__. We can also say that continuous random variables can take any value in a range.\n",
    "\n",
    "\n",
    "Q: Let's go back and decide which random variables are continuous and which ones are discrete.\n",
    "\n",
    "## Distributions\n",
    "\n",
    "Why do we study random variables?\n",
    "\n",
    "- Random variables most of the time more relevant to the problem we would like to solve. \n",
    "\n",
    "Q: What is the probability distribution of a random variable?\n",
    "\n",
    "A: It is a function from a random variables possible values to numbers again. \n",
    "\n",
    "- Exact definition of a distribution changes slightly depending on whether we are working with a discrete random variable or a continuous one. \n",
    "\n",
    "### Probability Mass Function\n",
    "\n",
    "[For formal discussion](https://www.itl.nist.gov/div898/handbook/eda/section3/eda361.htm)\n",
    "\n",
    "The probability mass function is the function which describes the probability associated with the random variable x. This function is named p(x) or P(X=x) to avoid confusion. P(X=x) corresponds to the probability that the random variable x take the value X \n",
    "\n",
    "### Simulation"
   ]
  },
  {
   "cell_type": "code",
<<<<<<< HEAD
   "execution_count": 12,
=======
   "execution_count": 22,
>>>>>>> 3215a40237855e6f99286eeb7aff9a04f5d19790
   "metadata": {},
   "outputs": [],
   "source": [
    "# %load -r 21 supplement.py\n",
    "all_values = [random_variable(two_cards) for two_cards in sample_space]"
   ]
  },
  {
   "cell_type": "code",
<<<<<<< HEAD
   "execution_count": 13,
=======
   "execution_count": null,
   "metadata": {},
   "outputs": [],
   "source": []
  },
  {
   "cell_type": "code",
   "execution_count": 23,
>>>>>>> 3215a40237855e6f99286eeb7aff9a04f5d19790
   "metadata": {},
   "outputs": [
    {
     "data": {
<<<<<<< HEAD
      "image/png": "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\n",
=======
      "image/png": "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\n",
>>>>>>> 3215a40237855e6f99286eeb7aff9a04f5d19790
      "text/plain": [
       "<Figure size 432x288 with 1 Axes>"
      ]
     },
     "metadata": {
      "needs_background": "light"
     },
     "output_type": "display_data"
    }
   ],
   "source": [
    "## plotting the frequencies\n",
    "\n",
    "import matplotlib.pyplot as plt\n",
    "%matplotlib inline\n",
    "n, bins, patches = plt.hist(x=all_values, bins=range(2,28), color='#0504aa',\n",
    "                            alpha=0.5, rwidth= 0.8,align = 'left' )\n",
    "plt.grid(axis='y', alpha=0.2)\n",
    "plt.xlabel('Value')\n",
    "plt.ylabel('Frequency')\n",
    "plt.xticks(range(2,28,2))\n",
    "plt.title('Frequencies of the values of random variables')\n",
    "maxfreq = n.max()\n",
    "# Set a clean upper y-axis limit.\n",
    "plt.ylim(ymax=np.ceil(maxfreq / 10) * 10 if maxfreq % 10 else maxfreq + 10)\n",
    "\n",
    "plt.show()"
   ]
  },
  {
   "cell_type": "code",
<<<<<<< HEAD
   "execution_count": 22,
=======
   "execution_count": 24,
>>>>>>> 3215a40237855e6f99286eeb7aff9a04f5d19790
   "metadata": {},
   "outputs": [],
   "source": [
    "# %load -r 24-25 supplement.py\n",
    "import collections\n",
    "counter = collections.Counter(all_values)"
<<<<<<< HEAD
=======
   ]
  },
  {
   "cell_type": "code",
   "execution_count": 25,
   "metadata": {},
   "outputs": [
    {
     "data": {
      "text/plain": [
       "Counter({3: 16,\n",
       "         4: 22,\n",
       "         5: 32,\n",
       "         6: 38,\n",
       "         7: 48,\n",
       "         8: 54,\n",
       "         9: 64,\n",
       "         10: 70,\n",
       "         11: 80,\n",
       "         12: 86,\n",
       "         13: 96,\n",
       "         14: 102,\n",
       "         2: 6,\n",
       "         15: 96,\n",
       "         16: 86,\n",
       "         17: 80,\n",
       "         18: 70,\n",
       "         19: 64,\n",
       "         20: 54,\n",
       "         21: 48,\n",
       "         22: 38,\n",
       "         23: 32,\n",
       "         24: 22,\n",
       "         25: 16,\n",
       "         26: 6})"
      ]
     },
     "execution_count": 25,
     "metadata": {},
     "output_type": "execute_result"
    }
   ],
   "source": [
    "counter"
   ]
  },
  {
   "cell_type": "code",
   "execution_count": 26,
   "metadata": {},
   "outputs": [
    {
     "name": "stdout",
     "output_type": "stream",
     "text": [
      "dict_keys([3, 4, 5, 6, 7, 8, 9, 10, 11, 12, 13, 14, 2, 15, 16, 17, 18, 19, 20, 21, 22, 23, 24, 25, 26]) [0.0121, 0.0166, 0.0241, 0.0287, 0.0362, 0.0407, 0.0483, 0.0528, 0.0603, 0.0649, 0.0724, 0.0769, 0.0045, 0.0724, 0.0649, 0.0603, 0.0528, 0.0483, 0.0407, 0.0362, 0.0287, 0.0241, 0.0166, 0.0121, 0.0045]\n"
     ]
    }
   ],
   "source": [
    "# %load -r 27-32 supplement.py\n",
    "# Convert frequency to probability - divide each frequency value by total number of values\n",
    "pmf = []\n",
    "for key, val in counter.items():\n",
    "    pmf.append(round(val / len(all_values), 4))\n",
    "\n",
    "print(counter.keys(), pmf)"
>>>>>>> 3215a40237855e6f99286eeb7aff9a04f5d19790
   ]
  },
  {
   "cell_type": "code",
<<<<<<< HEAD
   "execution_count": 23,
   "metadata": {},
   "outputs": [
    {
     "name": "stdout",
     "output_type": "stream",
     "text": [
      "dict_keys([3, 4, 5, 6, 7, 8, 9, 10, 11, 2, 12, 13, 14, 15, 16, 17, 18, 19, 20]) [0.0121, 0.0166, 0.0241, 0.0287, 0.0362, 0.0407, 0.0483, 0.0528, 0.0965, 0.0045, 0.089, 0.0845, 0.0769, 0.0724, 0.0649, 0.0603, 0.0528, 0.0483, 0.0905]\n"
     ]
    }
   ],
   "source": [
    "# %load -r 27-32 supplement.py\n",
    "# Convert frequency to probability - divide each frequency value by total number of values\n",
    "pmf = []\n",
    "for key, val in counter.items():\n",
    "    pmf.append(round(val / len(all_values), 4))\n",
    "\n",
    "print(counter.keys(), pmf)"
=======
   "execution_count": 28,
   "metadata": {},
   "outputs": [
    {
     "data": {
      "text/plain": [
       "Counter({3: 16,\n",
       "         4: 22,\n",
       "         5: 32,\n",
       "         6: 38,\n",
       "         7: 48,\n",
       "         8: 54,\n",
       "         9: 64,\n",
       "         10: 70,\n",
       "         11: 80,\n",
       "         12: 86,\n",
       "         13: 96,\n",
       "         14: 102,\n",
       "         2: 6,\n",
       "         15: 96,\n",
       "         16: 86,\n",
       "         17: 80,\n",
       "         18: 70,\n",
       "         19: 64,\n",
       "         20: 54,\n",
       "         21: 48,\n",
       "         22: 38,\n",
       "         23: 32,\n",
       "         24: 22,\n",
       "         25: 16,\n",
       "         26: 6})"
      ]
     },
     "execution_count": 28,
     "metadata": {},
     "output_type": "execute_result"
    }
   ],
   "source": [
    "counter"
>>>>>>> 3215a40237855e6f99286eeb7aff9a04f5d19790
   ]
  },
  {
   "cell_type": "code",
<<<<<<< HEAD
   "execution_count": 24,
=======
   "execution_count": 27,
>>>>>>> 3215a40237855e6f99286eeb7aff9a04f5d19790
   "metadata": {
    "scrolled": true
   },
   "outputs": [
    {
     "data": {
<<<<<<< HEAD
      "image/png": "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\n",
=======
      "image/png": "iVBORw0KGgoAAAANSUhEUgAAAXoAAAD6CAYAAACvZ4z8AAAABHNCSVQICAgIfAhkiAAAAAlwSFlzAAALEgAACxIB0t1+/AAAADh0RVh0U29mdHdhcmUAbWF0cGxvdGxpYiB2ZXJzaW9uMy4xLjAsIGh0dHA6Ly9tYXRwbG90bGliLm9yZy+17YcXAAAVP0lEQVR4nO3df4wc533f8ffHpEVFciwX1AVwRDqkS8YI7biKeqUM1FaKKHYpBxHjhqypGKmAqlCNmqgD12hppBFkJQWioo3+sVpXBdUKtGPRpRvggjBhXChx2sBleLL1i5KZnlglulC1TyYrV3Zlmda3f+yo2Jz2eEPeLkU+er+Axc088+zzPHPP3efmZndmU1VIktr1uld7AJKkyTLoJalxBr0kNc6gl6TGGfSS1DiDXpIa1yvok2xLcizJXJI9I7avSbK/2344yYau/PVJ7kvyaJInknxivMOXJC1n9XIVkqwC7gbeC8wDR5LMVNXjQ9VuAU5V1aYku4A7gQ8CO4E1VfXjSS4DHk/yuap6aqn+rrzyytqwYcM575AkvRY9+OCDz1bV1KhtywY9sBWYq6rjAEnuB7YDw0G/Hbi9Wz4AfCpJgAIuT7Ia+AHgReBbZ+psw4YNzM7O9hiWJOllSf5sqW19Tt1cBTw9tD7flY2sU1WngeeAtQxC/9vAM8CfA/+qqk6OGOCtSWaTzC4sLPQYkiSprz5BnxFli++bsFSdrcD3gR8GNgL/JMlbX1Gx6p6qmq6q6ampkf95SJLOUZ+gnwfWD62vA04sVac7TXMFcBL4BeD3qup7VfUN4I+B6ZUOWpLUX5+gPwJsTrIxySXALmBmUZ0Z4OZueQfwQA3ulvbnwE9l4HLgXcDXxjN0SVIfywZ9d859N3AIeAL4fFUdTXJHkhu7anuBtUnmgI8BL78F827gDcBjDP5g/IeqemTM+yBJOoNcaLcpnp6eLt91I0lnJ8mDVTXy1LhXxkpS4wx6SWqcQS9JjetzZaz0mrRhz+/0qvfUr//MhEcirYxH9JLUOINekhpn0EtS4wx6SWqcQS9JjTPoJalxBr0kNc6gl6TGGfSS1DiDXpIaZ9BLUuO8141eM/rcu2Yl963x3ji6UHlEL0mNM+glqXG9gj7JtiTHkswl2TNi+5ok+7vth5Ns6Mo/lOShocdLSa4e7y5Iks5k2aBPsorBh3zfAGwBbkqyZVG1W4BTVbUJuAu4E6CqPltVV1fV1cAvAk9V1UPj3AFJ0pn1OaLfCsxV1fGqehG4H9i+qM524L5u+QBwfZIsqnMT8LmVDFaSdPb6BP1VwNND6/Nd2cg6VXUaeA5Yu6jOB1ki6JPcmmQ2yezCwkKfcUuSeuoT9IuPzAHqbOokuRb4TlU9NqqDqrqnqqaranpqaqrHkCRJffUJ+nlg/dD6OuDEUnWSrAauAE4Obd+Fp20k6VXRJ+iPAJuTbExyCYPQnllUZwa4uVveATxQVQWQ5HXATgbn9iVJ59myV8ZW1ekku4FDwCrg3qo6muQOYLaqZoC9wL4kcwyO5HcNNXEdMF9Vx8c/fEnScnrdAqGqDgIHF5XdNrT8AoOj9lHP/UPgXec+REnSSnhlrCQ1zqCXpMYZ9JLUOINekhpn0EtS4wx6SWqcQS9JjTPoJalxfmasLkotfD5rC/ugi4NH9JLUOINekhpn0EtS4wx6SWqcQS9JjTPoJalxBr0kNc6gl6TGGfSS1LheQZ9kW5JjSeaS7BmxfU2S/d32w0k2DG17Z5IvJzma5NEkl45v+JKk5Swb9ElWAXcDNwBbgJuSbFlU7RbgVFVtAu4C7uyeuxr4DPDhqno78LeA741t9JKkZfW5181WYK6qjgMkuR/YDjw+VGc7cHu3fAD4VJIA7wMeqaqHAarqm2MatxrjfV/66fN9eq1/j/RKfU7dXAU8PbQ+35WNrFNVp4HngLXAjwKV5FCSryT5p6M6SHJrktkkswsLC2e7D5KkM+gT9BlRVj3rrAbeDXyo+/qBJNe/omLVPVU1XVXTU1NTPYYkSeqrT9DPA+uH1tcBJ5aq052XvwI42ZV/qaqerarvAAeBa1Y6aElSf32C/giwOcnGJJcAu4CZRXVmgJu75R3AA1VVwCHgnUku6/4A/CR/+dy+JGnCln0xtqpOJ9nNILRXAfdW1dEkdwCzVTUD7AX2JZljcCS/q3vuqSS/weCPRQEHq6rfq26SpLHo9QlTVXWQwWmX4bLbhpZfAHYu8dzPMHiLpSTpVeCVsZLUOINekhpn0EtS4wx6SWqcQS9JjTPoJalxBr0kNc6gl6TGGfSS1DiDXpIaZ9BLUuMMeklqnEEvSY0z6CWpcb1uUyydLT/s+8LgPAg8opek5hn0ktQ4g16SGtcr6JNsS3IsyVySPSO2r0myv9t+OMmGrnxDkv+b5KHu8enxDl+StJxlX4xNsgq4G3gvMA8cSTJTVY8PVbsFOFVVm5LsAu4EPthte7Kqrh7zuCVJPfU5ot8KzFXV8ap6Ebgf2L6oznbgvm75AHB9koxvmJKkc9Un6K8Cnh5an+/KRtapqtPAc8DabtvGJF9N8qUk7xnVQZJbk8wmmV1YWDirHZAknVmfoB91ZF496zwDvKWqfgL4GPCbSd74iopV91TVdFVNT01N9RiSJKmvPkE/D6wfWl8HnFiqTpLVwBXAyar6blV9E6CqHgSeBH50pYOWJPXXJ+iPAJuTbExyCbALmFlUZwa4uVveATxQVZVkqnsxlyRvBTYDx8czdElSH8u+66aqTifZDRwCVgH3VtXRJHcAs1U1A+wF9iWZA04y+GMAcB1wR5LTwPeBD1fVyUnsiCRptF73uqmqg8DBRWW3DS2/AOwc8bwvAF9Y4Rj1KvN+Ka8dznWbvDJWkhpn0EtS4wx6SWqcQS9JjTPoJalxBr0kNc6gl6TGGfSS1DiDXpIaZ9BLUuMMeklqnEEvSY0z6CWpcQa9JDXOoJekxhn0ktQ4g16SGmfQS1LjegV9km1JjiWZS7JnxPY1SfZ32w8n2bBo+1uSPJ/k4+MZtiSpr2U/MzbJKuBu4L3APHAkyUxVPT5U7RbgVFVtSrILuBP44ND2u4DfHd+wtRJ+LqjGxZ+li0OfI/qtwFxVHa+qF4H7ge2L6mwH7uuWDwDXJwlAkp8DjgNHxzNkSdLZ6BP0VwFPD63Pd2Uj61TVaeA5YG2Sy4F/BnzyTB0kuTXJbJLZhYWFvmOXJPXQJ+gzoqx61vkkcFdVPX+mDqrqnqqarqrpqampHkOSJPW17Dl6Bkfw64fW1wEnlqgzn2Q1cAVwErgW2JHkXwJvAl5K8kJVfWrFI5ck9dIn6I8Am5NsBP4C2AX8wqI6M8DNwJeBHcADVVXAe16ukOR24HlDXpLOr2WDvqpOJ9kNHAJWAfdW1dEkdwCzVTUD7AX2JZljcCS/a5KDliT11+eInqo6CBxcVHbb0PILwM5l2rj9HMYnSVohr4yVpMYZ9JLUOINekhpn0EtS43q9GKsLm/cb0cXEn9fzzyN6SWqcQS9JjTPoJalxBr0kNc6gl6TGGfSS1DiDXpIaZ9BLUuMMeklqnEEvSY0z6CWpcQa9JDXOoJekxvUK+iTbkhxLMpdkz4jta5Ls77YfTrKhK9+a5KHu8XCSD4x3+JKk5Swb9ElWAXcDNwBbgJuSbFlU7RbgVFVtAu4C7uzKHwOmq+pqYBvw75J4a2RJOo/6HNFvBeaq6nhVvQjcD2xfVGc7cF+3fAC4Pkmq6jtVdborvxSocQxaktRfn6C/Cnh6aH2+KxtZpwv254C1AEmuTXIUeBT48FDw/39Jbk0ym2R2YWHh7PdCkrSkPkGfEWWLj8yXrFNVh6vq7cDfAD6R5NJXVKy6p6qmq2p6amqqx5AkSX31Cfp5YP3Q+jrgxFJ1unPwVwAnhytU1RPAt4F3nOtgJUlnr0/QHwE2J9mY5BJgFzCzqM4McHO3vAN4oKqqe85qgCQ/ArwNeGosI5ck9bLsO2Cq6nSS3cAhYBVwb1UdTXIHMFtVM8BeYF+SOQZH8ru6p78b2JPke8BLwD+qqmcnsSMt6fPhyX5wsl4r/DDxlev1VseqOggcXFR229DyC8DOEc/bB+xb4RglSSvglbGS1DiDXpIaZ9BLUuMMeklqnEEvSY0z6CWpcQa9JDXOoJekxhn0ktQ4g16SGuenPU2Y9+mQzi9/517JI3pJapxBL0mNM+glqXEGvSQ1zqCXpMYZ9JLUOINekhrXK+iTbEtyLMlckj0jtq9Jsr/bfjjJhq78vUkeTPJo9/Wnxjt8SdJylg36JKuAu4EbgC3ATUm2LKp2C3CqqjYBdwF3duXPAj9bVT8O3IyfHytJ512fI/qtwFxVHa+qF4H7ge2L6mwH7uuWDwDXJ0lVfbWqTnTlR4FLk6wZx8AlSf30CfqrgKeH1ue7spF1quo08BywdlGdnwe+WlXfXdxBkluTzCaZXVhY6Dt2SVIPfYI+I8rqbOokeTuD0zn/cFQHVXVPVU1X1fTU1FSPIUmS+uoT9PPA+qH1dcCJpeokWQ1cAZzs1tcBvwX8vap6cqUDliSdnT5BfwTYnGRjkkuAXcDMojozDF5sBdgBPFBVleRNwO8An6iqPx7XoCVJ/S0b9N05993AIeAJ4PNVdTTJHUlu7KrtBdYmmQM+Brz8FszdwCbgV5I81D1+aOx7IUlaUq/70VfVQeDgorLbhpZfAHaOeN6vAb+2wjFKklbAK2MlqXEGvSQ1zqCXpMb5mbFnyc+jlNrT5/f6Yv6d9ohekhpn0EtS4wx6SWqcQS9JjTPoJalxBr0kNc6gl6TGGfSS1DiDXpIaZ9BLUuMMeklq3Gv+Xjfeu0bS2brYcsMjeklqnEEvSY3rFfRJtiU5lmQuyZ4R29ck2d9tP5xkQ1e+NskfJHk+yafGO3RJUh/LBn2SVcDdwA3AFuCmJFsWVbsFOFVVm4C7gDu78heAXwE+PrYRS5LOSp8j+q3AXFUdr6oXgfuB7YvqbAfu65YPANcnSVV9u6r+G4PAlyS9CvoE/VXA00Pr813ZyDpVdRp4DljbdxBJbk0ym2R2YWGh79MkST30CfqMKKtzqLOkqrqnqqaranpqaqrv0yRJPfQJ+nlg/dD6OuDEUnWSrAauAE6OY4CSpJXpE/RHgM1JNia5BNgFzCyqMwPc3C3vAB6oqt5H9JKkyVn2ytiqOp1kN3AIWAXcW1VHk9wBzFbVDLAX2JdkjsGR/K6Xn5/kKeCNwCVJfg54X1U9Pv5dkSSN0usWCFV1EDi4qOy2oeUXgJ1LPHfDCsYnSVohr4yVpMYZ9JLUOINekhpn0EtS4wx6SWqcQS9JjTPoJalxBr0kNc6gl6TGNffh4H0+tPdC+cBeSa8Nr/aHiXtEL0mNM+glqXEGvSQ1zqCXpMYZ9JLUOINekhpn0EtS4wx6SWpcr6BPsi3JsSRzSfaM2L4myf5u++EkG4a2faIrP5bkb49v6JKkPpYN+iSrgLuBG4AtwE1Jtiyqdgtwqqo2AXcBd3bP3cLgg8LfDmwD/k3XniTpPOlzRL8VmKuq41X1InA/sH1Rne3Afd3yAeD6JOnK76+q71bV/wTmuvYkSedJqurMFZIdwLaq+gfd+i8C11bV7qE6j3V15rv1J4FrgduB/15Vn+nK9wK/W1UHFvVxK3Brt/o24NgZhnQl8GzfHTxHk+7Dfbgw+mhhH85HH+7DhdPHmfxIVU2N2tDnpmYZUbb4r8NSdfo8l6q6B7inx1hIMltV033qnqtJ9+E+XBh9tLAP56MP9+HC6eNc9Tl1Mw+sH1pfB5xYqk6S1cAVwMmez5UkTVCfoD8CbE6yMcklDF5cnVlUZwa4uVveATxQg3NCM8Cu7l05G4HNwJ+MZ+iSpD6WPXVTVaeT7AYOAauAe6vqaJI7gNmqmgH2AvuSzDE4kt/VPfdoks8DjwOngY9U1fdXOOZep3gu8D7chwujjxb24Xz04T5cOH2ck2VfjJUkXdy8MlaSGmfQS1LjLpqgT3Jvkm9079mfRPuXJvmTJA8nOZrkkxPq56kkjyZ5KMnsmNt+W9fuy49vJfmlcfbR9fPRJI9136extD9qfpPs7Pp4KcmK3ra2RPu/muSR7nv1+0l+eAJ93J7kL4bm5P1jbn//UNtPJXloAvvw15J8ufu5/e0kb1xB++uT/EGSJ7q5/WhXPs65XqqPscz3Gdof21yPXVVdFA/gOuAa4LEJtR/gDd3y64HDwLsm0M9TwJXn4fu1CvhfDC6iGGe77wAeAy5j8GL+fwE2T2J+gR9jcAHdHwLTE2j/jUPL/xj49AT6uB34+Ji+92f8HQD+NXDbBPbhCPCT3fLfB351Be2/GbimW/5B4E8Z3FplnHO9VB9jme8ztD+2uR7346I5oq+qP2Lwjp5JtV9V9Xy3+vrucTG/Un098GRV/dmY2/0xBlc7f6eqTgNfAj6w0kZHzW9VPVFVZ7pKeqXtf2to9XJWON/n4Wd0yfa7W478XeBzE+jjbcAfdctfBH5+Be0/U1Vf6Zb/D/AEcNWY53qpPsYy30u1v7JRT9ZFE/TnQ5JV3b++3wC+WFWHJ9BNAb+f5MHu1g+TsosV/tIv4THguiRrk1wGvJ+/fFHcRSXJv0jyNPAh4LYJdbO7O2Vwb5K/MqE+3gN8var+xwTafgy4sVveyZjmO4O73P4Eg/+eJ2JxH+Oe7xH7cD7m+qwZ9EOq6vtVdTWDK3i3JnnHBLr5m1V1DYO7gX4kyXXj7qC7sO1G4D+Nu+2qeoLB3Um/CPwe8DCDayQuSlX1y1W1HvgssHu5+ufg3wJ/FbgaeIbB6ZVJuInJ/GGHwemajyR5kMGpihdX2mCSNwBfAH5p0ZH22IzqY5zzPaL98zXXZ82gH6Gq/jeDc4XbJtD2ie7rN4DfYjJ387wB+EpVfX0CbVNVe6vqmqq6jsG/+ZM4ijzffpMVnJJYSlV9vTuAeAn490xgvrvbjvwdYP+42waoqq9V1fuq6q8z+GPy5EraS/J6BgH52ar6z+MY4zn0saL5HtX++Zjrc2XQd5JMJXlTt/wDwE8DXxtzH5cn+cGXl4H3Mfi3eNwmeXRHkh/qvr6FQcBMrK9JSrJ5aPVGxjzfXR9vHlr9AJOZ758Gvlbd3WPHbWi+Xwf8c+DTK2grDK6kf6KqfmM8I+zXx7jm+wztn4+5Pjev9qvBfR8MwuQZ4HsMbpZ2y5jbfyfwVeARBhO0oncvLNHHWxmc6ngYOAr88gT6uAz4JnDFBOfivzK4rcXDwPWTml8GvyzzwHeBrwOHxtz+F7q5fgT4bQYv2I17H/YBj3Z9zABvHmf7Xfl/BD48wXn4KIN3lvwp8Ot0V9SfY/vvZvA61SPAQ93j/WOe66X6GMt8n6H9sc31uB/eAkGSGuepG0lqnEEvSY0z6CWpcQa9JDXOoJekxhn0ktQ4g16SGvf/AHT+3avhBxxtAAAAAElFTkSuQmCC\n",
>>>>>>> 3215a40237855e6f99286eeb7aff9a04f5d19790
      "text/plain": [
       "<Figure size 432x288 with 1 Axes>"
      ]
     },
     "metadata": {
      "needs_background": "light"
     },
     "output_type": "display_data"
    }
   ],
   "source": [
    "## we can plot the probability mass function\n",
    "plt.bar(counter.keys(),pmf)\n",
    "\n",
    "plt.xticks(range(1,27,2))\n",
    "\n",
    "plt.show()"
   ]
  },
  {
   "cell_type": "markdown",
   "metadata": {},
   "source": [
    "### Cumulative Mass Function\n",
    "\n",
    "\n",
    "The CDF is a function of $x$ just like a PMF or a PDF, where $x$ is any value that can possibly appear in a given distribution. To calculate the $CDF(x)$ for any value of $x$, we compute the proportion of values in the distribution less than or equal to $x$ as follows:\n",
    "\n",
    "$$\\large F(x) = P(X \\leq x)$$\n",
    "\n",
    "> The Cumulative Distribution Function, CDF, gives the probability that the variable $X$ is less than or equal to a certain possible value $x$. \n",
    "\n"
   ]
  },
  {
   "cell_type": "code",
<<<<<<< HEAD
   "execution_count": 25,
=======
   "execution_count": 29,
>>>>>>> 3215a40237855e6f99286eeb7aff9a04f5d19790
   "metadata": {},
   "outputs": [
    {
     "data": {
      "image/png": "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\n",
      "text/plain": [
       "<Figure size 432x288 with 1 Axes>"
      ]
     },
     "metadata": {
      "needs_background": "light"
     },
     "output_type": "display_data"
    }
   ],
   "source": [
    "# %load -r 35-38 supplement.py\n",
    "x = np.unique(all_values, return_counts=True)[0]\n",
    "y = np.cumsum(np.unique(all_values, return_counts=True)[1])/len(all_values)\n",
    "plt.plot(x,y, marker = '.',linestyle = 'none')\n",
    "plt.show()"
   ]
  },
  {
   "cell_type": "markdown",
   "metadata": {},
   "source": [
    "### Further Discussions\n",
    "\n",
    "\n",
    "- Please read the corresponding material form learn.co. Especially the definitions of expected values and variance.\n",
    "\n",
    "- Note that one of the most important discrete distribution is Bernoulli and Binomial distributions. We will discuss these in more details but make sure that you read the corresponding material in learn.co."
   ]
  },
  {
   "cell_type": "markdown",
   "metadata": {},
   "source": [
    "## Probability Density Functions\n",
    "\n",
    "- First observation: For a cont. random variable the probability of getting an exact value is always zero. (Bummer!!)\n",
    "\n",
    "- In that sense, instead of exact probabilities we will talk about density of the random variables. \n",
    "\n",
    "\n",
    "- A Probability Density Function (PDF) helps identify the regions in the distribution where observations are more likely to occur, in other words, where the observation occurrence is more dense.\n",
    "\n",
    "\n",
    "<img src=\"img/probability_for_continuous_rv.png\" width=\"650\">\n",
    "\n",
    "- In this case, probability is found by the following formula: \n",
    "\n",
    "$$\\large P(82 \\leq X \\leq 85) = \\int_{82}^{85} f_x(x) dx \\geq 0 $$\n",
    "\n",
    "- Let's consider the example where the random variable is the exact measure of height of a randomly chosen person from Lafayatte Park.\n",
    "\n",
    "[Normal Distribution](https://www.mathsisfun.com/data/standard-normal-distribution.html)\n",
    "\n",
    "[Normal Distribution App](https://homepage.divms.uiowa.edu/~mbognar/applets/normal.html)\n",
    "\n",
    "[Standardization](https://www.intmath.com/counting-probability/normal-distribution-graph-interactive.php)\n",
    "\n",
    "[Chi-Square App](https://homepage.divms.uiowa.edu/~mbognar/applets/chisq.html)\n",
    "\n",
    "\n"
   ]
  },
  {
<<<<<<< HEAD
   "cell_type": "code",
   "execution_count": 27,
   "metadata": {},
   "outputs": [],
   "source": [
    "from scipy import stats\n",
    "dist = stats.norm(loc = 0, scale = 1)"
=======
   "cell_type": "markdown",
   "metadata": {},
   "source": [
    "## Exit Ticket\n",
    "\n",
    "[please finish this after the class](https://docs.google.com/forms/d/1-hbbovgCDHyeSTtKQSgEial7ZjOrpNvurqKMaQUbDnA/edit)"
   ]
  },
  {
   "cell_type": "code",
   "execution_count": 31,
   "metadata": {},
   "outputs": [],
   "source": [
    "from scipy import stats"
   ]
  },
  {
   "cell_type": "raw",
   "metadata": {},
   "source": []
  },
  {
   "cell_type": "code",
   "execution_count": 33,
   "metadata": {},
   "outputs": [],
   "source": [
    "dist = stats.norm(loc= 0, scale = 1)"
>>>>>>> 3215a40237855e6f99286eeb7aff9a04f5d19790
   ]
  },
  {
   "cell_type": "code",
<<<<<<< HEAD
   "execution_count": 30,
=======
   "execution_count": 36,
>>>>>>> 3215a40237855e6f99286eeb7aff9a04f5d19790
   "metadata": {},
   "outputs": [
    {
     "data": {
      "text/plain": [
       "0.15865525393145707"
      ]
     },
<<<<<<< HEAD
     "execution_count": 30,
=======
     "execution_count": 36,
>>>>>>> 3215a40237855e6f99286eeb7aff9a04f5d19790
     "metadata": {},
     "output_type": "execute_result"
    }
   ],
   "source": [
    "dist.cdf(-1)"
   ]
  },
  {
   "cell_type": "code",
   "execution_count": null,
   "metadata": {},
   "outputs": [],
   "source": []
  }
 ],
 "metadata": {
  "kernelspec": {
   "display_name": "Python 3",
   "language": "python",
   "name": "python3"
  },
  "language_info": {
   "codemirror_mode": {
    "name": "ipython",
    "version": 3
   },
   "file_extension": ".py",
   "mimetype": "text/x-python",
   "name": "python",
   "nbconvert_exporter": "python",
   "pygments_lexer": "ipython3",
   "version": "3.7.4"
  },
  "toc": {
   "base_numbering": 1,
   "nav_menu": {},
   "number_sections": true,
   "sideBar": true,
   "skip_h1_title": false,
   "title_cell": "Table of Contents",
   "title_sidebar": "Contents",
   "toc_cell": false,
   "toc_position": {
    "height": "calc(100% - 180px)",
    "left": "10px",
    "top": "150px",
    "width": "165px"
   },
   "toc_section_display": true,
   "toc_window_display": false
  }
 },
 "nbformat": 4,
 "nbformat_minor": 4
}
